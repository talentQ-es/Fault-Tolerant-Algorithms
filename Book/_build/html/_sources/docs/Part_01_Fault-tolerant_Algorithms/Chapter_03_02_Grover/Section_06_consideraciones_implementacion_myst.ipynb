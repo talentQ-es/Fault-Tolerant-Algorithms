{
 "cells": [
  {
   "cell_type": "markdown",
   "id": "0875c43f",
   "metadata": {},
   "source": [
    "> Apr 12, 2024 | {sub-ref}`wordcount-minutes` min read\n",
    "\n",
    "\n",
    "$ \\newcommand{\\bra}[1]{\\langle #1|} $\n",
    "$ \\newcommand{\\ket}[1]{|#1\\rangle} $\n",
    "$ \\newcommand{\\braket}[2]{\\langle #1|#2\\rangle} $\n",
    "$ \\newcommand{\\i}{{\\color{blue} i}} $ \n",
    "$ \\newcommand{\\Hil}{{\\cal H}} $\n",
    "$ \\newcommand{\\cg}[1]{{\\rm C}#1} $\n",
    "$ \\newcommand{\\lp}{\\left(} $\n",
    "$ \\newcommand{\\rp}{\\right)} $\n",
    "$ \\newcommand{\\lc}{\\left[} $\n",
    "$ \\newcommand{\\rc}{\\right]} $\n",
    "$ \\newcommand{\\lch}{\\left\\{} $\n",
    "$ \\newcommand{\\rch}{\\right\\}} $\n",
    "$ \\newcommand{\\Lp}{\\Bigl(} $\n",
    "$ \\newcommand{\\Rp}{\\Bigr)} $\n",
    "$ \\newcommand{\\Lc}{\\Bigl[} $\n",
    "$ \\newcommand{\\Rc}{\\Bigr]} $\n",
    "$ \\newcommand{\\Lch}{\\Bigl\\{} $\n",
    "$ \\newcommand{\\Rch}{\\Bigr\\}} $\n",
    "$ \\newcommand{\\rqa}{\\quad \\Rightarrow \\quad} $"
   ]
  },
  {
   "cell_type": "markdown",
   "id": "81b282ff",
   "metadata": {},
   "source": [
    "(sec_FTA_grover_cons_imple)= \n",
    "# 6. Consideraciones sobre la implementación"
   ]
  },
  {
   "cell_type": "markdown",
   "id": "104a7e33",
   "metadata": {},
   "source": [
    ":::{contents}\n",
    ":local:\n",
    ":depth: 1\n",
    ":::\n",
    "",
    "",
    "",
    "",
    "",
    ""
   ]
  },
  {
   "cell_type": "markdown",
   "id": "7ed61dac",
   "metadata": {},
   "source": [
    "(sec_FTA_grover_sub_U_s)= \n",
    "## Creación de un difusor $U_{\\Psi_0}$."
   ]
  },
  {
   "cell_type": "markdown",
   "id": "abee432d",
   "metadata": {},
   "source": [
    "Vamos a ver como podemos hacer para crear de forma genérica un difusor de la forma de la Ec. {eq}`ec_FTA_grover_t-sols_Uw_Us`. Refrescando un poco la memoria, el difusor es un operador realiza una reflexión respecto al estado inicial $| \\Psi_0 \\rangle$, es decir, **le cambia el signo a las componentes perpendiculares a** $| \\Psi_0 \\rangle$. Lo que vamos a hacer para construir el difusor es, en realidad, construir un operador que  **le cambia el signo a las componentes paralelas a** $| \\Psi_0 \\rangle$, es decir, vamos a implementar $-U_{\\Psi_0}$. "
   ]
  },
  {
   "cell_type": "markdown",
   "id": "ae403d0b",
   "metadata": {},
   "source": [
    "Empecemos definiendo la familia de **operadores de reflexión** $S_A$\n",
    "\n",
    "\n",
    "```{math}\n",
    ":label: ec_FTA_grover_consideraciones_S_a \n",
    "\\begin{equation} \n",
    "\\boxed{S_A | i \\rangle = \n",
    "\t\\lch\n",
    "\t\t\\begin{matrix}\n",
    "\t\t\t& | i \\rangle \\quad \\text{si } i \\not \\in A \\\\\n",
    "\t\t\t& - | i \\rangle \\quad \\text{si } i \\in A\n",
    "\t\t\\end{matrix}\n",
    "\t\\right.}\n",
    "\\end{equation} \n",
    "```"
   ]
  },
  {
   "cell_type": "markdown",
   "id": "a5bf410b",
   "metadata": {},
   "source": [
    "Es fácil ver que podemos escribir tanto el oráculo como el difusor en función de los operadores $S_A$\n",
    "\n",
    "\\begin{align}\n",
    "& U_\\omega = S_\\omega\n",
    "& \\boxed{U_{\\Psi_0} = - S_{\\Psi_0}}\n",
    "\\end{align}\n",
    "\n",
    "Nosotros lo que vamos a construir y implementar es $S_{\\Psi_0}$, no $U_{\\Psi_0}$"
   ]
  },
  {
   "cell_type": "markdown",
   "id": "a75a21f7",
   "metadata": {},
   "source": [
    "(sec_FTA_grover_sub_caso_N_eq_2n)= \n",
    "### Caso con $N = 2^n$."
   ]
  },
  {
   "cell_type": "markdown",
   "id": "45f55423",
   "metadata": {},
   "source": [
    "En el caso en el que el estado inicial es una superposición uniforme de la forma la Ec. {eq}`ec_FTA_grover_geo_phi_0_H` podemos construir el difusor teniendo en cuenta que\n",
    "\n",
    "\\begin{equation}\n",
    "|\\Psi_0 \\rangle = H^{\\otimes n} |0 \\rangle \\rqa H^{\\otimes n} |\\Psi_0 \\rangle = |0 \\rangle.\n",
    "\\end{equation}\n",
    "\n",
    "Viendo esta propiedad, podemos darnos cuenta de que si aplicamos el operador de Walsh-Hadamard $H^{\\otimes n}$ a la salida del oráculo lo que obtenemos es el estado $| 0 \\rangle$ más una serie de estado que corresponderán a los cambios respecto al estado inicial que ha realizado el oráculo. Lo que tenemos que hacer para aplicar el difusor es cambiarle el signo al estado $| 0 \\rangle$ (aplicar $S_0$) y volver a aplicar $H^{\\otimes n}$ para deshacer los cambios introducidos por la última aplicación el mismo."
   ]
  },
  {
   "cell_type": "markdown",
   "id": "92985957",
   "metadata": {},
   "source": [
    "Es decir, el difusor será de la forma\n",
    "\n",
    "\\begin{equation}\n",
    "U_{\\Psi_0} = - S_{\\Psi_0}= - H^{\\otimes n} S_0 H^{\\otimes n}\n",
    "\\end{equation}"
   ]
  },
  {
   "cell_type": "markdown",
   "id": "0264009d",
   "metadata": {},
   "source": [
    "Podemos construir $S_0$ a partir de la **puerta multicontrolada Z** ($MCZ$)\n",
    "\n",
    "\\begin{equation}\n",
    "MCZ = \n",
    "\t\\lp\n",
    "\t\t\\begin{matrix}\n",
    "\t\t\t& 1 & 0  & \\dots & 0 & 0 \\\\\n",
    "\t\t\t& 0 & 1  & \\dots & 0 & 0 \\\\\n",
    "\t\t\t& \\vdots  & \\vdots & \\ddots & \\vdots & \\vdots \\\\\n",
    "\t\t\t& 0 & 0 & \\dots & 1 & 0 \\\\\n",
    "\t\t\t& 0 & 0 & \\dots & 0 & -1 \\\\\n",
    "\t\t\\end{matrix}\n",
    "\t\\rp\n",
    "\\end{equation}\n",
    "\n",
    "que lo que hace es cambiarle el signo al estado $|2^n-1\\rangle= | 11 \\dots 1\\rangle$."
   ]
  },
  {
   "cell_type": "markdown",
   "id": "e6064caf",
   "metadata": {},
   "source": [
    "Tenemos pues\n",
    "\n",
    "\\begin{equation}\n",
    "S_0 = X^{\\otimes n} (MCZ) X^{\\otimes n}\n",
    "\\end{equation}"
   ]
  },
  {
   "cell_type": "markdown",
   "id": "60b40607",
   "metadata": {},
   "source": [
    "La puerta $X^{\\otimes n}$ (que consiste en aplicar puertas $X$ a todos los qubits) lo que hace es \n",
    "\n",
    "\\begin{align*}\n",
    "& |00 \\dots 0 \\rangle \\rightarrow |11 \\dots 1 \\rangle \\, \\, \\Lc |0 \\rangle \\rightarrow | 2^n-1 \\rangle \\Rc \\\\\n",
    "& |11 \\dots 1 \\rangle \\rightarrow |00 \\dots 0 \\rangle \\, \\, \\Lc |2^n-1 \\rangle \\rightarrow | 0 \\rangle \\Rc\n",
    "\\end{align*}"
   ]
  },
  {
   "cell_type": "markdown",
   "id": "58f68dd8",
   "metadata": {},
   "source": [
    "De esta forma, lo que hace $S_{0}$ es: \n",
    "\n",
    "- Aplicar la puerta $X^{\\otimes n}$ para cambiar el estado $|00 \\dots 0 \\rangle$ por el estado $|11 \\dots 1 \\rangle$. (Ver la Nota de abajo)\n",
    "\t\n",
    "- Aplicar la puerta $MCZ$ con la que cambiamos el signo a $|11 \\dots 1 \\rangle$ \n",
    "\t\n",
    "- Aplicar la puerta $X^{\\otimes n}$ para deshacer los cambios del primer paso. De esta forma, el único cambio real es el del signo del estado $|0\\rangle = |00 \\dots 0 \\rangle$."
   ]
  },
  {
   "cell_type": "markdown",
   "id": "24fa09ec",
   "metadata": {},
   "source": [
    "::::::{admonition} Nota\n",
    ":class: note\n",
    "\n",
    "\n",
    "     \n",
    "En realidad la puerta $X^{\\otimes n}$ afecta a todos los estados (no solo a $|00 \\dots 0 \\rangle $ y $|11 \\dots 1 \\rangle$).\n",
    "Sin embargo, como es su propia inversa ($X^{\\otimes n}X^{\\otimes n} = I$) y como entre la primera y la segunda \taplicación de $X^{\\otimes n}$ lo único que hacemos \tes cambiarle al signo a $|11 \\dots 1 \\rangle$, todos los \tcambios se deshacen menos este signo, que pasa a estar en el estado $|00 \\dots 0 \\rangle $. \n",
    "::::::\n",
    "\n",
    "\n"
   ]
  },
  {
   "cell_type": "markdown",
   "id": "d0a1b47a",
   "metadata": {},
   "source": [
    "Como ya comentamos, **el operador que se implementa es** $-U_{\\Psi_0}$, es decir\n",
    "\n",
    "\n",
    "```{math}\n",
    ":label: ec_FTA_grover_cons-imple_U_Psi0 \n",
    "\\begin{align} \n",
    "& \\boxed{-U_{\\Psi_0}  = S_{\\Psi_0}  = H^{\\otimes n} S_0 H^{\\otimes n} = H^{\\otimes n} X^{\\otimes n} (MCZ) X^{\\otimes n} H^{\\otimes n}} \\Rightarrow  \\\\ \n",
    "& \\boxed{G_{imple}  =  - U_{\\Psi_0} U_\\omega = - H^{\\otimes n} S_0 H^{\\otimes n} U_\\omega}\n",
    "\\end{align} \n",
    "```"
   ]
  },
  {
   "cell_type": "markdown",
   "id": "a96ed8e2",
   "metadata": {},
   "source": [
    "(sec_FTA_grover_sub_N-no-2^n)= \n",
    "(sec_FTA_grover_subsec-N_neq_2n)= \n",
    "### Caso con $N \\neq 2^n$."
   ]
  },
  {
   "cell_type": "markdown",
   "id": "296070bf",
   "metadata": {},
   "source": [
    "Las limitación que hemos impuesto hasta ahora diciendo que $N$ debía ser una potencia de $2$ viene de la transformación de Walsh-Hadammard \n",
    "\n",
    "\\begin{equation}\n",
    "H^{\\otimes n} |j \\rangle = \\frac{1}{\\sqrt{N}} \\sum^{N-1}_{i=0} (-1)^{i \\cdot j} | i \\rangle, \\qquad \\text{ (donde } i \\cdot j \\text{ denota el producto escalar binario)}\n",
    "\\end{equation}\n",
    "\n",
    "Esta transformación, que se usa para generar el estado inicial y se en el difusor, no está bien definida si no se cumple que $N=2^n$."
   ]
  },
  {
   "cell_type": "markdown",
   "id": "0f8d48c2",
   "metadata": {},
   "source": [
    "Esta condición puede ser relajada si **sustituimos la transformación de Walsh-Hadammard por cualquier otra transformación unitario $F$ que cumpla**\n",
    "\n",
    "\n",
    "```{math}\n",
    ":label: ec_FTA_grover_N-no-2n_T \n",
    "\\begin{equation} \n",
    "\\boxed{F |0 \\rangle = \\frac{1}{\\sqrt{N}} \\sum^{N-1}_{i=0} | i \\rangle}\n",
    "\\end{equation} \n",
    "```\n",
    "\n",
    "y seguiremos teniendo interaciones de Grover válidas aplicando "
   ]
  },
  {
   "cell_type": "markdown",
   "id": "07e271ab",
   "metadata": {},
   "source": [
    "\\begin{equation}\n",
    "F S_0 F^{-1} U_\\omega\n",
    "\\end{equation}\n",
    "\n",
    "De hecho, cuando estamos en el caso $N = 2^n$, la Walsh-Hadammard es simplemente la elección más sencilla de $F$. Para el caso en el que $N$ no es una potencia de dos, podemos usar la transformación de Fourier de Kitaev {cite}`bib_FTA_Grover_kitaev1995quantum`. Puede verse también {cite}`bib_FTA_Grover_PhysRevLett_80_4329`"
   ]
  },
  {
   "cell_type": "markdown",
   "id": "9ad4d754",
   "metadata": {},
   "source": [
    "---\n",
    "## Bibliografía \n",
    "```{bibliography} \n",
    ":style: plain\n",
    ":filter: docname in docnames\n",
    "```",
    "",
    "",
    "",
    "",
    ""
   ]
  },
  {
   "cell_type": "markdown",
   "id": "2a346042",
   "metadata": {},
   "source": [
    "---\n",
    "Autores:\n",
    "\n",
    "David Castaño ([UMA-SCBI](https://www.scbi.uma.es/site/)), Raul Fuentes ([BSC-CNS](https://www.bsc.es/es)), Daniel Talaván  ([COMPUTAEX](https://www.cenits.es/)), Francisco Matanza ([UNICAN](https://web.unican.es/))\n",
    "\n",
    "<img src=\"images/Logo_UMA.jpeg\"  width=\"170px\">\n",
    "<img src=\"images/BSC-blue-medium.png\" width=\"195px\">\n",
    "<img src=\"images/COMPUTAEX.jpg\" width=\"170px\">\n",
    "<img src=\"images/Logo_UNICAM.jpg\" width=\"210px\">\n",
    "\n",
    "\n",
    "---\n",
    "::::{figure} https://quantumspain-project.es/wp-content/uploads/2022/11/Logo_QS_EspanaDigital.png\n",
    ":width: 2000px\n",
    ":align: center\n",
    "::::\n",
    "\n",
    "<center>\n",
    "<a rel=\"license\" href=\"http://creativecommons.org/licenses/by-sa/4.0/\">\n",
    "<img aling=\"left\" alt=\"Licencia Creative Commons\" style=\"border-width:0\" src=\"https://i.creativecommons.org/l/by-sa/4.0/88x31.png\" /></a>\n",
    "</center>\n",
    "\n",
    "License: <a rel=\"license\" href=\"http://creativecommons.org/licenses/by-sa/4.0/\">Licencia Creative Commons Atribución-CompartirIgual 4.0 Internacional</a>.\n",
    "\n",
    "This work has been financially supported by the Ministry for Digital Transformation and of Civil Service of the Spanish Government through the QUANTUM ENIA project call - Quantum Spain project, and by the European Union through the Recovery, Transformation and Resilience Plan - NextGenerationEU within the framework of the Digital Spain 2026 Agenda.\n",
    "\n",
    "<center>\n",
    "<img align=\"left\" src=\"https://quantumspain-project.es/wp-content/uploads/2024/02/Banner-QS_GOB_v2.png\" width=\"1000px\" />\n",
    "</center>"
   ]
  },
  {
   "cell_type": "markdown",
   "id": "7f92e532",
   "metadata": {},
   "source": []
  }
 ],
 "metadata": {
  "kernelspec": {
   "display_name": "Python 3 (ipykernel)",
   "language": "python",
   "name": "python3"
  },
  "language_info": {
   "codemirror_mode": {
    "name": "ipython",
    "version": 3
   },
   "file_extension": ".py",
   "mimetype": "text/x-python",
   "name": "python",
   "nbconvert_exporter": "python",
   "pygments_lexer": "ipython3",
   "version": "3.11.7"
  },
  "toc": {
   "base_numbering": 1,
   "nav_menu": {},
   "number_sections": false,
   "sideBar": true,
   "skip_h1_title": true,
   "title_cell": "Table of Contents",
   "title_sidebar": "Contents",
   "toc_cell": false,
   "toc_position": {},
   "toc_section_display": true,
   "toc_window_display": false
  }
 },
 "nbformat": 4,
 "nbformat_minor": 5
}
