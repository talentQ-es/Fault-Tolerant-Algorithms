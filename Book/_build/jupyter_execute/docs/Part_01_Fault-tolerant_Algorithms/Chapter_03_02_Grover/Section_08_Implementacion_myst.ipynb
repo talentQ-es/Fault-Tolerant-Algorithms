{
 "cells": [
  {
   "cell_type": "markdown",
   "id": "0875c43f",
   "metadata": {},
   "source": [
    "> Apr 12, 2024 | {sub-ref}`wordcount-minutes` min read\n",
    "\n",
    "\n",
    "\n",
    "$ \\newcommand{\\bra}[1]{\\langle #1|} $\n",
    "$ \\newcommand{\\ket}[1]{|#1\\rangle} $\n",
    "$ \\newcommand{\\braket}[2]{\\langle #1|#2\\rangle} $\n",
    "$ \\newcommand{\\i}{{\\color{blue} i}} $ \n",
    "$ \\newcommand{\\Hil}{{\\cal H}} $\n",
    "$ \\newcommand{\\cg}[1]{{\\rm C}#1} $\n",
    "$ \\newcommand{\\lp}{\\left(} $\n",
    "$ \\newcommand{\\rp}{\\right)} $\n",
    "$ \\newcommand{\\lc}{\\left[} $\n",
    "$ \\newcommand{\\rc}{\\right]} $\n",
    "$ \\newcommand{\\lch}{\\left\\{} $\n",
    "$ \\newcommand{\\rch}{\\right\\}} $\n",
    "$ \\newcommand{\\Lp}{\\Bigl(} $\n",
    "$ \\newcommand{\\Rp}{\\Bigr)} $\n",
    "$ \\newcommand{\\Lc}{\\Bigl[} $\n",
    "$ \\newcommand{\\RC}{\\Bigr]} $\n",
    "$ \\newcommand{\\Lch}{\\Bigl\\{} $\n",
    "$ \\newcommand{\\Rch}{\\Bigr\\}} $\n",
    "$ \\newcommand{\\rqa}{\\quad \\Rightarrow \\quad} $"
   ]
  },
  {
   "cell_type": "markdown",
   "id": "81b282ff",
   "metadata": {},
   "source": [
    "# 8. Implementación"
   ]
  },
  {
   "cell_type": "markdown",
   "id": "104a7e33",
   "metadata": {},
   "source": [
    ":::{contents}\n",
    ":local:\n",
    ":depth: 1\n",
    ":::\n"
   ]
  },
  {
   "cell_type": "markdown",
   "id": "98ca9c13",
   "metadata": {},
   "source": [
    ":::::{tab-set}\n",
    "::::{tab-item} Qiskit\n",
    "```python\n",
    "import numpy as np\n",
    "from qiskit import QuantumCircuit, ClassicalRegister, QuantumRegister, transpile\n",
    "from qiskit.visualization import plot_histogram\n",
    "from qiskit_aer import AerSimulator\n",
    "```\n",
    "::::\n",
    "::::{tab-item} Qibo\n",
    "```python\n",
    "from qibo import Circuit, gates\n",
    "import numpy as np\n",
    "```\n",
    "::::\n",
    ":::::\n"
   ]
  },
  {
   "cell_type": "code",
   "execution_count": 1,
   "id": "113f8611",
   "metadata": {
    "tags": [
     "remove_input"
    ]
   },
   "outputs": [],
   "source": [
    "'''Qiskit_code_cell'''\n",
    "import numpy as np\n",
    "from qiskit import QuantumCircuit, ClassicalRegister, QuantumRegister, transpile\n",
    "from qiskit.visualization import plot_histogram\n",
    "from qiskit_aer import AerSimulator"
   ]
  },
  {
   "cell_type": "markdown",
   "id": "678af066",
   "metadata": {},
   "source": [
    "Esta sección se basa en {cite}`bib_FTA_Grover_Qiskit_textbook`."
   ]
  },
  {
   "cell_type": "markdown",
   "id": "29cd2ed7",
   "metadata": {},
   "source": [
    "(sec_FTA_grover_imple_MCZ)= \n",
    "## Puerta multicontrolada $Z$ (MCZ)."
   ]
  },
  {
   "cell_type": "markdown",
   "id": "49ef15e5",
   "metadata": {},
   "source": [
    "Vamos a empezar viendo la implementación de la puerta multicontrolada $Z$ (MCZ), pues la usaremos bastante el las siguientes secciones. Esta puerta podemos construir a partir de la puerta multicontrolada Toffoli (MCT) de forma muy sencilla. Para ello, recordemos que la MCT no es más que una CNOT (es decir, una puerta $X$) con varios controles y recordemos también la propiedad\n",
    "\n",
    "\n",
    "```{math}\n",
    ":label: ec_FTA_grover_Imple_HXH_Z \n",
    "\\begin{equation} \n",
    "HXH = Z .\n",
    "\\end{equation} \n",
    "```"
   ]
  },
  {
   "cell_type": "markdown",
   "id": "9c3aede1",
   "metadata": {},
   "source": [
    "Podemos pues construir la MCZ aplicando puertas de Hadammard en el qubit objetivo de la MCT antes y después de la misma."
   ]
  },
  {
   "cell_type": "markdown",
   "id": "eca54891",
   "metadata": {},
   "source": [
    ":::::{tab-set}\n",
    "::::{tab-item} Qiskit\n",
    "```python\n",
    "def mcz(circuit, control_qubits, target_qubit):\n",
    "    '''\n",
    "    This funntion implements a multicontroled Z-gate. If all the control_qubits\n",
    "    are in state |1>, a Z-gate is apply in the qubit called \"target_qubit\".\n",
    "\n",
    "    To build this gate we use a multicontrolled Toffoli (mct) gate. To do this, \n",
    "    let's first remember that the mct gate is nothing more than a multicontrolled \n",
    "    CNOT, which only applies on the target qubit if all the control qubits are 1.\n",
    "\n",
    "    So, we only need to use the property\n",
    "        Z = H X H \n",
    "    In this way we only have to apply Hadammard gates on the target_qubit before\n",
    "    and after the mct.\n",
    "\n",
    "    In summary, the mcz gate adds a pi phase (Z gate) to the |11...1> state.\n",
    "\n",
    "    Inputs:\n",
    "        - circuit: Quantum Circuit where we have the \"control_reg\" and the \n",
    "            \"target_qubit\".\n",
    "\n",
    "        - control_reg: Qubits that control the gate. It must be one Quantum \n",
    "            Register of the previus circuit.\n",
    "\n",
    "        - target_qubit: Qubit in which we apply the Z gate. It must be one qubit\n",
    "            of the previus circuit.\n",
    "    '''\n",
    "    circuit.h(target_qubit)\n",
    "    #circuit.mct(control_qubits, target_qubit)  # multi-controlled-toffoli (versiones antiguas de Qiskit)\n",
    "    circuit.mcx(control_qubits, target_qubit)  # multi-controlled-toffoli\n",
    "    circuit.h(target_qubit)\n",
    "```\n",
    "::::\n",
    "::::{tab-item} Qibo\n",
    "```python\n",
    "# On qibo there is a built-in MCZ gate\n",
    "\n",
    "```\n",
    "::::\n",
    ":::::\n"
   ]
  },
  {
   "cell_type": "code",
   "execution_count": 2,
   "id": "2cae998e",
   "metadata": {
    "tags": [
     "remove_input"
    ]
   },
   "outputs": [],
   "source": [
    "'''Qiskit_code_cell'''\n",
    "def mcz(circuit, control_qubits, target_qubit):\n",
    "    '''\n",
    "    This funntion implements a multicontroled Z-gate. If all the control_qubits\n",
    "    are in state |1>, a Z-gate is apply in the qubit called \"target_qubit\".\n",
    "\n",
    "    To build this gate we use a multicontrolled Toffoli (mct) gate. To do this, \n",
    "    let's first remember that the mct gate is nothing more than a multicontrolled \n",
    "    CNOT, which only applies on the target qubit if all the control qubits are 1.\n",
    "\n",
    "    So, we only need to use the property\n",
    "        Z = H X H \n",
    "    In this way we only have to apply Hadammard gates on the target_qubit before\n",
    "    and after the mct.\n",
    "\n",
    "    In summary, the mcz gate adds a pi phase (Z gate) to the |11...1> state.\n",
    "\n",
    "    Inputs:\n",
    "        - circuit: Quantum Circuit where we have the \"control_reg\" and the \n",
    "            \"target_qubit\".\n",
    "\n",
    "        - control_reg: Qubits that control the gate. It must be one Quantum \n",
    "            Register of the previus circuit.\n",
    "\n",
    "        - target_qubit: Qubit in which we apply the Z gate. It must be one qubit\n",
    "            of the previus circuit.\n",
    "    '''\n",
    "    circuit.h(target_qubit)\n",
    "    #circuit.mct(control_qubits, target_qubit)  # multi-controlled-toffoli (versiones antiguas de Qiskit)\n",
    "    circuit.mcx(control_qubits, target_qubit)  # multi-controlled-toffoli\n",
    "    circuit.h(target_qubit)"
   ]
  },
  {
   "cell_type": "markdown",
   "id": "70a63155",
   "metadata": {},
   "source": [
    "(sec_FTA_grover_imple_difursor)= \n",
    "## Difusor genérico."
   ]
  },
  {
   "cell_type": "markdown",
   "id": "a52092b2",
   "metadata": {},
   "source": [
    "Como ya comentamos en la sección {ref}`sec_FTA_grover_sub_U_s`, habitualmente en vez de implementar $U_{\\Psi_0}$ implementamos $-U_{\\Psi_0}$. Vimos además que podemos hacer la implementación mediante transformadas de Walsh-Hadamard $H^{\\otimes n}$, puertas $X^{\\otimes n}$ y la puerta $MCZ$ de la forma de la Ec. {eq}`ec_FTA_grover_cons-imple_U_Psi0`, es decir\n",
    "\n",
    "\n",
    "```{math}\n",
    ":label: ec_FTA_grover_qiskit_diff-gen_U_Psi0 \n",
    "\\begin{equation} \n",
    "\\boxed{-U_{\\Psi_0}  = S_{\\Psi_0}  = H^{\\otimes n} S_0 H^{\\otimes n} = H^{\\otimes n} X^{\\otimes n} (MCZ) X^{\\otimes n} H^{\\otimes n}} \n",
    "\\end{equation} \n",
    "``` "
   ]
  },
  {
   "cell_type": "markdown",
   "id": "28cdf0a8",
   "metadata": {},
   "source": [
    ":::::{tab-set}\n",
    "::::{tab-item} Qiskit\n",
    "```python\n",
    "def Grover_Diffuser(circuit, target_reg):\n",
    "    ''' \n",
    "    This function apply the Grover's diffuser to a quantum register.\n",
    "\n",
    "    Imputs:\n",
    "        - circuit: It is the Quantum Circuit in which we are going to insert \n",
    "            the diffuser gate. It must contain the Quantum Register target_reg.\n",
    "            It can be something like:\n",
    "            QuantumCircuit(target_reg, classic_reg)\n",
    "\n",
    "        - target_reg: Quantum Register in witch we are going to apply the \n",
    "            diffuser. \n",
    "\n",
    "        - n: Number of qubits in the Quantum Register target_reg\n",
    "\n",
    "    Output:\n",
    "        The function has no output. It modiffy the original circuit.\n",
    "    '''\n",
    "\n",
    "    n = target_reg.size\n",
    "\n",
    "    # Apply transformation |s> -> |00..0> (H-gates)\n",
    "    for i in range(n):\n",
    "        circuit.h(target_reg[i])\n",
    "\n",
    "    # Apply transformation |00..0> -> |11..1> (X-gates)\n",
    "    for i in range(n):\n",
    "        circuit.x(target_reg[i])\n",
    "\n",
    "    # Do multi-controlled-Z gate\n",
    "    mcz(circuit, target_reg[list(range(n-1))], target_reg[n-1])\n",
    "\n",
    "    # Apply transformation |11..1> -> |00..0>\n",
    "    for i in range(n):\n",
    "        circuit.x(target_reg[i])\n",
    "\n",
    "    # Apply transformation |00..0> -> |s>\n",
    "    for i in range(n):\n",
    "        circuit.h(target_reg[i])\n",
    "```\n",
    "::::\n",
    "::::{tab-item} Qibo\n",
    "```python\n",
    "def grover_diffuser_qibo(circuit_qibo,ancilla=0):\n",
    "    \"\"\"\n",
    "    This functions generates the Grover diffuser circuit for nqubits. \n",
    "\n",
    "    Inputs:\n",
    "    ------\n",
    "        - circuit_qibo: `Circuit`. A qibo circuit to add the Grover diffuser\n",
    "        - ancilla: `int`. Optional. Number of ancilla qubits, no gate is applied to them. \n",
    "    Outputs:\n",
    "    ------\n",
    "        - circuit_qibo: `Circuit`. A qibo circuit with the Grover diffuser added\n",
    "        \n",
    "    \"\"\"\n",
    "    nqubits=circuit_qibo.nqubits-ancilla\n",
    "    \n",
    "\n",
    "\n",
    "    #this function assumes the ancilla qubits will be the last in the circuit, should me changed otherwise\n",
    "    circuit_qibo.add([gates.H(i) for i in range(nqubits)])\n",
    "    circuit_qibo.add([gates.X(i) for i in range(nqubits)])\n",
    "    # added H and X gates to all qubits\n",
    "\n",
    "    circuit_qibo.add(gates.Z(nqubits - 1).controlled_by(*range(nqubits)[0 : len(range(nqubits - 1))]))\n",
    "    # CZ to all qubits. Target qubit election does not matter\n",
    "\n",
    "    circuit_qibo.add([gates.X(i) for i in range(nqubits)])\n",
    "    circuit_qibo.add([gates.H(i) for i in range(nqubits)])\n",
    "    # added X and H gates to all qubits\n",
    "\n",
    "    \n",
    "\n",
    "    return circuit_qibo\n",
    "```\n",
    "::::\n",
    ":::::\n"
   ]
  },
  {
   "cell_type": "code",
   "execution_count": 3,
   "id": "39901e1f",
   "metadata": {
    "tags": [
     "remove_input"
    ]
   },
   "outputs": [],
   "source": [
    "'''Qiskit_code_cell'''\n",
    "def Grover_Diffuser(circuit, target_reg):\n",
    "    ''' \n",
    "    This function apply the Grover's diffuser to a quantum register.\n",
    "\n",
    "    Imputs:\n",
    "        - circuit: It is the Quantum Circuit in which we are going to insert \n",
    "            the diffuser gate. It must contain the Quantum Register target_reg.\n",
    "            It can be something like:\n",
    "            QuantumCircuit(target_reg, classic_reg)\n",
    "\n",
    "        - target_reg: Quantum Register in witch we are going to apply the \n",
    "            diffuser. \n",
    "\n",
    "        - n: Number of qubits in the Quantum Register target_reg\n",
    "\n",
    "    Output:\n",
    "        The function has no output. It modiffy the original circuit.\n",
    "    '''\n",
    "\n",
    "    n = target_reg.size\n",
    "\n",
    "    # Apply transformation |s> -> |00..0> (H-gates)\n",
    "    for i in range(n):\n",
    "        circuit.h(target_reg[i])\n",
    "\n",
    "    # Apply transformation |00..0> -> |11..1> (X-gates)\n",
    "    for i in range(n):\n",
    "        circuit.x(target_reg[i])\n",
    "\n",
    "    # Do multi-controlled-Z gate\n",
    "    mcz(circuit, target_reg[list(range(n-1))], target_reg[n-1])\n",
    "\n",
    "    # Apply transformation |11..1> -> |00..0>\n",
    "    for i in range(n):\n",
    "        circuit.x(target_reg[i])\n",
    "\n",
    "    # Apply transformation |00..0> -> |s>\n",
    "    for i in range(n):\n",
    "        circuit.h(target_reg[i])"
   ]
  },
  {
   "cell_type": "markdown",
   "id": "c7c6c215",
   "metadata": {},
   "source": [
    "La función anterior es genérica: dado un circuito y un registro cuántico, esta función aplica un difusor de Grover en el registro. En la Fig. \\ref{Fig_Imple_diffuser} el resultado de aplicar la función anterior sobre un circuito."
   ]
  },
  {
   "cell_type": "markdown",
   "id": "cc32fce6",
   "metadata": {},
   "source": [
    "Veamos un ejemplo con esta función:"
   ]
  },
  {
   "cell_type": "markdown",
   "id": "973f3df7",
   "metadata": {},
   "source": [
    ":::::{tab-set}\n",
    "::::{tab-item} Qiskit\n",
    "```python\n",
    "n = 6\n",
    "\n",
    "quantum_reg = QuantumRegister(n)\n",
    "classic_reg = ClassicalRegister(n)\n",
    "\n",
    "circuit = QuantumCircuit(quantum_reg, classic_reg)\n",
    "\n",
    "Grover_Diffuser(circuit, quantum_reg)\n",
    "\n",
    "circuit.draw(output='mpl')\n",
    "```\n",
    "::::\n",
    "::::{tab-item} Qibo\n",
    "```python\n",
    "n=6\n",
    "circuit_qibo=Circuit(n)\n",
    "print(grover_diffuser_qibo(circuit_qibo).draw())\n",
    "```\n",
    "::::\n",
    ":::::\n"
   ]
  },
  {
   "cell_type": "code",
   "execution_count": 4,
   "id": "8a0f449c",
   "metadata": {
    "tags": [
     "remove_input"
    ]
   },
   "outputs": [
    {
     "name": "stderr",
     "output_type": "stream",
     "text": [
      "/home/dcb/Programs/miniconda/miniconda3/envs/qiskit_qibo_penny_2/lib/python3.11/site-packages/qiskit/visualization/circuit/matplotlib.py:266: FutureWarning: The default matplotlib drawer scheme will be changed to \"iqp\" in a following release. To silence this warning, specify the current default explicitly as style=\"clifford\", or the new default as style=\"iqp\".\n",
      "  self._style, def_font_ratio = load_style(self._style)\n"
     ]
    },
    {
     "data": {
      "image/png": "[encoded data removed]",
      "text/plain": [
       "<Figure size 723.783x618.722 with 1 Axes>"
      ]
     },
     "execution_count": 4,
     "metadata": {},
     "output_type": "execute_result"
    }
   ],
   "source": [
    "'''Qiskit_code_cell'''\n",
    "n = 6\n",
    "\n",
    "quantum_reg = QuantumRegister(n)\n",
    "classic_reg = ClassicalRegister(n)\n",
    "\n",
    "circuit = QuantumCircuit(quantum_reg, classic_reg)\n",
    "\n",
    "Grover_Diffuser(circuit, quantum_reg)\n",
    "\n",
    "circuit.draw(output='mpl')"
   ]
  },
  {
   "cell_type": "markdown",
   "id": "aaf49c7c",
   "metadata": {},
   "source": [
    "(sec_FTA_grover_imple_trivial_oracle)= \n",
    "## Oráculo \"trivial\"."
   ]
  },
  {
   "cell_type": "markdown",
   "id": "f40846ca",
   "metadata": {},
   "source": [
    "Vamos a presentar en esta sección un código de para construir un oráculo que cambie el signo de los estados que nosotros le digamos. Este es uno de esos ejemplo típicos que se plantean cuando se habla de Grover, esos en los que sabemos con antelación los estados concretos que queremos buscar. De esta forma, el oráculo que construimos está hecho \"ad hoc\" para marcar ciertos estado. Precisamente elegimos llamarle a este caso \"trivial\" porque no entraña ningún misterio, sino que como comentamos, es un caso académico. "
   ]
  },
  {
   "cell_type": "markdown",
   "id": "4bafd24e",
   "metadata": {},
   "source": [
    "El código que se presenta a continuación es muy simple. Partimos de una lista de cadenas binarias de n bits que llamamos `M_list_bin_qiskit`. Por ejemplo, para $n=5$\n",
    "\n",
    "\\begin{equation}\n",
    "\\text{M_list_bin_qiskit} = [\\text{'} 01101 \\text{'}, \\text{'} 11000 \\text{'}, ...]\n",
    "\\end{equation}"
   ]
  },
  {
   "cell_type": "markdown",
   "id": "2e3007ca",
   "metadata": {},
   "source": [
    "::::::{admonition} Nota\n",
    ":class: note\n",
    "\n",
    "\n",
    "     \n",
    "Recordemos que en qiskit el bit menos significativo es que va arriaba en el circuito, así que \tel \"qiskit\" en el nombre de la lista <code>M_list_bin_qiskit</code> hace referencia que estamos mandando las cadenas el revés. Es decir, para pasarlas a decimal las invertimos:\n",
    "\n",
    "$$\n",
    "01101 \\quad \\rightarrow \\quad 10110 = 22, \\qquad\n",
    "11000 \\quad \\rightarrow \\quad 00011 = 3\n",
    "$$\n",
    "    \n",
    "::::::\n"
   ]
  },
  {
   "cell_type": "markdown",
   "id": "dda68ee2",
   "metadata": {},
   "source": [
    "Para cambiar el signo de un estado lo que tenemos que hacer es aplicar una MCZ. Como esta solo aplica sobre el estado $|11\\dots 1 \\rangle$, lo que hay que hacer es aplicar puertas $X$ antes y después del la MCZ en los qubit correspondientes a las posiciones donde tenemos un 0 en las cadenas bits."
   ]
  },
  {
   "cell_type": "markdown",
   "id": "ddc38662",
   "metadata": {},
   "source": [
    ":::::{tab-set}\n",
    "::::{tab-item} Qiskit\n",
    "```python\n",
    "def Grover_Oracle_trivial(circuit, target_reg, M_list_bin_qiskit): # n, M_list_bin):\n",
    "    '''\n",
    "    This function implements a Grover oracle. We call it \"trivial\" because this\n",
    "    oracle change the sign of some given states. That is, we know the solution \n",
    "    in advance. (For example, we want to find the states |101> and |110> among \n",
    "    the 8 possible ones. We know from the begining the states we want to find.)\n",
    "\n",
    "    We can use the multicontrolled Z gate (mcz) we defined earlier to change the\n",
    "    sign of any M_list_bin[i] state. Simply apply X gates before and after the \n",
    "    mcz on the qubits that are worth zero in M_list_bin[i].\n",
    "\n",
    "    IMPORTANT !!!: Remember that if we deal with qiskit, the binary strings have\n",
    "    to \tcome upside\tdown (with the LEASTE SIGNIFICANT BIT AT THE BEGINNING !!!).\n",
    "\n",
    "    Inputs:\n",
    "        - circuit: Quantum Circuit\n",
    "\n",
    "        - target_reg: Quantum Register (with n qubits) in which we are going to \n",
    "            search and change the sign of some given states. It must be one \n",
    "            Quantum Register of the previus circuit.\n",
    "\n",
    "        - M_list_bin: Python List with the states that we want to find. The \n",
    "            states must be in binary and must have length n (that is, if our \n",
    "            \"targer_reg\" has 4 qubits and we want to find the state |2>, we have\n",
    "            to pass in this list the number \"0010\", not \"10\" !!!)\n",
    "\n",
    "    '''\n",
    "    n = target_reg.size\n",
    "\n",
    "    for m in M_list_bin_qiskit:\n",
    "        for i in range(len(m)):\n",
    "            if m[i] == '0':\n",
    "                circuit.x(target_reg[i])\n",
    "\n",
    "        mcz(circuit, target_reg[list(range(n-1))], target_reg[n-1])\n",
    "\n",
    "        for i in range(len(m)):\n",
    "            if m[i] == '0':\n",
    "                circuit.x(target_reg[i])\n",
    "```\n",
    "::::\n",
    "::::{tab-item} Qibo\n",
    "```python\n",
    "def Grover_oracle_trivial_qibo(circuit_qibo, M_list_bin_qibo):\n",
    "    \"\"\"\n",
    "    This functions generates a Grover oracle that phase-tags a list of binary numbers.\n",
    "    Each number get tagged by a CZ gate applied to all qubits and X gates applied before and after the CZ to the qubits corresponding with '0's in each binary number.\n",
    "\n",
    "    Inputs:\n",
    "    ------\n",
    "        - nqubits: `int`. Number of qubits of the circuit\n",
    "        - list_desired: `list` of `ints`. The binary form of each int must fit in nqubits bits\n",
    "\n",
    "    Outputs:\n",
    "    ------\n",
    "        - oracle: `circuit`, that phase-tags the desired states\n",
    "        \n",
    "    \"\"\"\n",
    "    nqubits=circuit_qibo.nqubits\n",
    "    oracle = Circuit(nqubits)  #starts an empty circuit of nqubits\n",
    "\n",
    "    for b in M_list_bin_qibo:\n",
    "        for j, i in enumerate(b): \n",
    "            #add a X gate to each qubit corresponding with '0' in the binary number\n",
    "            if i == \"0\": \n",
    "                oracle.add(gates.X(j))\n",
    "\n",
    "        oracle.add(gates.Z(nqubits - 1).controlled_by(*range(nqubits)[0 : len(range(nqubits - 1))]))  \n",
    "        # CZ to all qubits. Target qubit election does not matter\n",
    "\n",
    "        for j, i in enumerate(b): \n",
    "            #add a X gate to each qubit corresponding with '0' in the binary number\n",
    "            if i == \"0\":\n",
    "                oracle.add(gates.X(j))\n",
    "    circuit_qibo=circuit_qibo+oracle\n",
    "    return circuit_qibo\n",
    "```\n",
    "::::\n",
    ":::::\n"
   ]
  },
  {
   "cell_type": "code",
   "execution_count": 5,
   "id": "eaa08561",
   "metadata": {
    "tags": [
     "remove_input"
    ]
   },
   "outputs": [],
   "source": [
    "'''Qiskit_code_cell'''\n",
    "def Grover_Oracle_trivial(circuit, target_reg, M_list_bin_qiskit): # n, M_list_bin):\n",
    "    '''\n",
    "    This function implements a Grover oracle. We call it \"trivial\" because this\n",
    "    oracle change the sign of some given states. That is, we know the solution \n",
    "    in advance. (For example, we want to find the states |101> and |110> among \n",
    "    the 8 possible ones. We know from the begining the states we want to find.)\n",
    "\n",
    "    We can use the multicontrolled Z gate (mcz) we defined earlier to change the\n",
    "    sign of any M_list_bin[i] state. Simply apply X gates before and after the \n",
    "    mcz on the qubits that are worth zero in M_list_bin[i].\n",
    "\n",
    "    IMPORTANT !!!: Remember that if we deal with qiskit, the binary strings have\n",
    "    to \tcome upside\tdown (with the LEASTE SIGNIFICANT BIT AT THE BEGINNING !!!).\n",
    "\n",
    "    Inputs:\n",
    "        - circuit: Quantum Circuit\n",
    "\n",
    "        - target_reg: Quantum Register (with n qubits) in which we are going to \n",
    "            search and change the sign of some given states. It must be one \n",
    "            Quantum Register of the previus circuit.\n",
    "\n",
    "        - M_list_bin: Python List with the states that we want to find. The \n",
    "            states must be in binary and must have length n (that is, if our \n",
    "            \"targer_reg\" has 4 qubits and we want to find the state |2>, we have\n",
    "            to pass in this list the number \"0010\", not \"10\" !!!)\n",
    "\n",
    "    '''\n",
    "    n = target_reg.size\n",
    "\n",
    "    for m in M_list_bin_qiskit:\n",
    "        for i in range(len(m)):\n",
    "            if m[i] == '0':\n",
    "                circuit.x(target_reg[i])\n",
    "\n",
    "        mcz(circuit, target_reg[list(range(n-1))], target_reg[n-1])\n",
    "\n",
    "        for i in range(len(m)):\n",
    "            if m[i] == '0':\n",
    "                circuit.x(target_reg[i])"
   ]
  },
  {
   "cell_type": "markdown",
   "id": "bcedddb9",
   "metadata": {},
   "source": [
    "Veamos un ejemplo con este código:"
   ]
  },
  {
   "cell_type": "markdown",
   "id": "6b513d70",
   "metadata": {},
   "source": [
    ":::::{tab-set}\n",
    "::::{tab-item} Qiskit\n",
    "```python\n",
    "# We import functions from the scripts in ..\\..\\Code folder\n",
    "n = 5\n",
    "\n",
    "quantum_reg = QuantumRegister(n)\n",
    "classic_reg = ClassicalRegister(n)\n",
    "\n",
    "circuit = QuantumCircuit(quantum_reg, classic_reg)\n",
    "\n",
    "M_list_bin = [ '01101', '11000']\n",
    "\n",
    "\n",
    "Grover_Oracle_trivial(circuit, quantum_reg, M_list_bin)\n",
    "\n",
    "circuit.draw(output='mpl', filename = 'Fig_Imple_oracle_trivial')\n",
    "```\n",
    "::::\n",
    "::::{tab-item} Qibo\n",
    "```python\n",
    "\n",
    "M_list_bin = [ '01101', '11000']\n",
    "#To get the same result with Qibo as with Qiskit, we must flip the order of bits in the strings:\n",
    "M_list_bin_qibo=[i[::-1]for i in (M_list_bin)]\n",
    "\n",
    "\n",
    "n=5\n",
    "circuit_qibo=Circuit(n)\n",
    "print(Grover_oracle_trivial_qibo(circuit_qibo,M_list_bin_qibo).draw())\n",
    "```\n",
    "::::\n",
    ":::::\n"
   ]
  },
  {
   "cell_type": "code",
   "execution_count": 6,
   "id": "2cce603a",
   "metadata": {
    "tags": [
     "remove_input"
    ]
   },
   "outputs": [
    {
     "data": {
      "image/png": "[encoded data removed]",
      "text/plain": [
       "<Figure size 807.596x535.111 with 1 Axes>"
      ]
     },
     "execution_count": 6,
     "metadata": {},
     "output_type": "execute_result"
    }
   ],
   "source": [
    "'''Qiskit_code_cell'''\n",
    "# We import functions from the scripts in ..\\..\\Code folder\n",
    "n = 5\n",
    "\n",
    "quantum_reg = QuantumRegister(n)\n",
    "classic_reg = ClassicalRegister(n)\n",
    "\n",
    "circuit = QuantumCircuit(quantum_reg, classic_reg)\n",
    "\n",
    "M_list_bin = [ '01101', '11000']\n",
    "\n",
    "\n",
    "Grover_Oracle_trivial(circuit, quantum_reg, M_list_bin)\n",
    "\n",
    "circuit.draw(output='mpl', filename = 'Fig_Imple_oracle_trivial')"
   ]
  },
  {
   "cell_type": "markdown",
   "id": "01ff6625",
   "metadata": {},
   "source": [
    "(sec_FTA_grover_imple_oracle_condiciones)= \n",
    "## Oráculos que verifican condiciones."
   ]
  },
  {
   "cell_type": "markdown",
   "id": "12b6b39c",
   "metadata": {},
   "source": [
    "En esta sección vamos a ver como se puede usar el algoritmo de Grover para buscar cadenas de bits que satisfacen unas ciertas condiciones. En concreto vamos a ver dos caso: como solucionar un **sudoku 2x2** y como calcular todas las posibles permutaciones de $P$ números."
   ]
  },
  {
   "cell_type": "markdown",
   "id": "33826c6b",
   "metadata": {},
   "source": [
    "(sec_FTA_grover_imple_sub_sudoku2x2)= \n",
    "### Sudoku 2x2"
   ]
  },
  {
   "cell_type": "markdown",
   "id": "e9357567",
   "metadata": {},
   "source": [
    "#### El sudoku"
   ]
  },
  {
   "cell_type": "markdown",
   "id": "aa7f213f",
   "metadata": {},
   "source": [
    "Vamos a ver en esta sección como construir un oráculo que resuelva un sudoku 2x2 de la forma:\n",
    "\n",
    "\\begin{equation}\n",
    "\t\\lc\n",
    "\t\\begin{matrix}\n",
    "\tV_0 & V_1 \\\\\n",
    "\tV_2 & V_3\n",
    "\t\\end{matrix}\n",
    "\t\\rc\n",
    "\\end{equation}"
   ]
  },
  {
   "cell_type": "markdown",
   "id": "6cc8486e",
   "metadata": {},
   "source": [
    "#### Condiciones y puerta XOR"
   ]
  },
  {
   "cell_type": "markdown",
   "id": "2c1abc0f",
   "metadata": {},
   "source": [
    "En un sudoku tiene que cumplirse que no se repitan números en las filas ni en las columnas, así que las condiciones que tienen que verificar las variables de sudoku 2x2 son:\n",
    "\n",
    "\\begin{equation}\n",
    "V_0 \\neq V_1, \\qquad \n",
    "V_0 \\neq V_2, \\qquad\n",
    "V_2 \\neq V_3, \\qquad\n",
    "V_1 \\neq V_3.\n",
    "\\end{equation}"
   ]
  },
  {
   "cell_type": "markdown",
   "id": "ab166059",
   "metadata": {},
   "source": [
    "Por comodidad, podemos compilar este conjunto de comparaciones en una lista de cláusulas:"
   ]
  },
  {
   "cell_type": "code",
   "execution_count": 7,
   "id": "749d3d80",
   "metadata": {},
   "outputs": [],
   "source": [
    "clause_list = [ [0,1],  [0,2],  [1,3],  [2,3] ]"
   ]
  },
  {
   "cell_type": "markdown",
   "id": "2da60626",
   "metadata": {},
   "source": [
    "Para verificar estas condiciones podemos usar un qubit ancilla y usar la puerta XOR (se puede ver el código a continuación). Como el qubit ancilla parte del estado $|0\\rangle$, esta puerta lo que hace ponerlo a en el estado $|1\\rangle$ si la condición se verifica."
   ]
  },
  {
   "cell_type": "markdown",
   "id": "f58f66bb",
   "metadata": {},
   "source": [
    ":::::{tab-set}\n",
    "::::{tab-item} Qiskit\n",
    "```python\n",
    "def XOR_2qubits(qc, a, b, output):\n",
    "    qc.cx(a, output)\n",
    "    qc.cx(b, output)\n",
    "```\n",
    "::::\n",
    "::::{tab-item} Qibo\n",
    "```python\n",
    "def XOR_2qubits_qibo(circuit_qibo, a, b, output):\n",
    "    circuit_qibo.add(gates.X(output).controlled_by(a))\n",
    "    circuit_qibo.add(gates.X(output).controlled_by(b))\n",
    "    return circuit_qibo\n",
    "```\n",
    "::::\n",
    ":::::\n"
   ]
  },
  {
   "cell_type": "code",
   "execution_count": 8,
   "id": "a03446ea",
   "metadata": {
    "tags": [
     "remove_input"
    ]
   },
   "outputs": [],
   "source": [
    "'''Qiskit_code_cell'''\n",
    "def XOR_2qubits(qc, a, b, output):\n",
    "    qc.cx(a, output)\n",
    "    qc.cx(b, output)"
   ]
  },
  {
   "cell_type": "markdown",
   "id": "1e963dcc",
   "metadata": {},
   "source": [
    "Veamos un ejemplo de la XOR"
   ]
  },
  {
   "cell_type": "markdown",
   "id": "471a588d",
   "metadata": {},
   "source": [
    ":::::{tab-set}\n",
    "::::{tab-item} Qiskit\n",
    "```python\n",
    "in_qubits = QuantumRegister(2, name='input')\n",
    "out_qubit = QuantumRegister(1, name='output')\n",
    "qc = QuantumCircuit(in_qubits, out_qubit)\n",
    "XOR_2qubits(qc, in_qubits[0], in_qubits[1], out_qubit)\n",
    "qc.draw(output = 'mpl', filename = 'Fig_Imple_xor')\n",
    "```\n",
    "::::\n",
    "::::{tab-item} Qibo\n",
    "```python\n",
    "circuit_qibo=Circuit(3)\n",
    "print(XOR_2qubits_qibo(circuit_qibo, a=0, b=1, output=2).draw())\n",
    "\n",
    "```\n",
    "::::\n",
    ":::::\n"
   ]
  },
  {
   "cell_type": "code",
   "execution_count": 9,
   "id": "94924bcd",
   "metadata": {
    "tags": [
     "remove_input"
    ]
   },
   "outputs": [
    {
     "data": {
      "image/png": "[encoded data removed]",
      "text/plain": [
       "<Figure size 345.794x284.278 with 1 Axes>"
      ]
     },
     "execution_count": 9,
     "metadata": {},
     "output_type": "execute_result"
    }
   ],
   "source": [
    "'''Qiskit_code_cell'''\n",
    "in_qubits = QuantumRegister(2, name='input')\n",
    "out_qubit = QuantumRegister(1, name='output')\n",
    "qc = QuantumCircuit(in_qubits, out_qubit)\n",
    "XOR_2qubits(qc, in_qubits[0], in_qubits[1], out_qubit)\n",
    "qc.draw(output = 'mpl', filename = 'Fig_Imple_xor')"
   ]
  },
  {
   "cell_type": "markdown",
   "id": "11f1846c",
   "metadata": {},
   "source": [
    "Para generar el oráculo del sudoku podemos usar 4 qubits ancila (uno por condición a verificar) y usar la puerta XOR 4 veces. Pero con esto aún no tenemos el oráculo, pues nos falta verificar si todas las condiciones se cumplen y cambiar el signo del estado. Para ello, podemos usar una puerta MCT que tenga como controles los 4 cubits ancilla y que se aplique sobre un quinto qubit que esté en el estado $|-\\rangle$. De esta forma, la puerta MCT solo se aplicará si se cumplen las 4 condiciones. Por último, solo nos faltaría volver a aplicar las puertas XOR para limpiar los qubits ancilla. El resultado final sería el siguiente:"
   ]
  },
  {
   "cell_type": "markdown",
   "id": "ae7f92ed",
   "metadata": {},
   "source": [
    ":::::{tab-set}\n",
    "::::{tab-item} Qiskit\n",
    "```python\n",
    "def Grover_Oracle_Sudoku_2x2(circuit, conditions_list, ancilla_reg, \n",
    "                             output_qubit, print_oracle = 1):\n",
    "    '''\n",
    "    This oracle solves the problem of a Sudoku 2x2. \n",
    "    '''\n",
    "    # Compute clauses\n",
    "    i = 0\n",
    "    for clause in conditions_list:\n",
    "        XOR_2qubits(circuit, clause[0], clause[1], ancilla_reg[i])\n",
    "        i += 1\n",
    "\n",
    "    # Flip 'output' bit if all clauses are satisfied\n",
    "    #circuit.mct(ancilla_reg, output_qubit)\n",
    "    circuit.mcx(ancilla_reg, output_qubit)\n",
    "\n",
    "    # Uncompute clauses to reset clause-checking bits to 0\n",
    "    i = 0\n",
    "    for clause in conditions_list:\n",
    "        XOR_2qubits(circuit, clause[0], clause[1], ancilla_reg[i])\n",
    "        i += 1\n",
    "\n",
    "    if print_oracle == 0:\n",
    "        circuit.draw(output='mpl', fold = -1, filename = '3-Fig_Oracle_Sudoku_2x2')\n",
    "```\n",
    "::::\n",
    "::::{tab-item} Qibo\n",
    "```python\n",
    "def Grover_Oracle_Sudoku_2x2_qibo(circuit_qibo, conditions_list,n):\n",
    "\n",
    "    '''\n",
    "    This oracle solves the problem of a Sudoku 2x2. \n",
    "    '''\n",
    "    total_qubits=circuit_qibo.nqubits\n",
    "\n",
    "    ancilla_reg = len(conditions_list)\n",
    "    \n",
    "    var_reg = n\n",
    "\n",
    "    # Compute clauses, notice the inverse order to match qiskit's ordering\n",
    "    for j,clause in enumerate(conditions_list):\n",
    "        XOR_2qubits_qibo(circuit_qibo,clause[1], clause[0], var_reg+j)\n",
    "\n",
    "    # Flip 'output' bit if all clauses are satisfied\n",
    "    circuit_qibo.add(gates.X(total_qubits-1).controlled_by(*range(total_qubits)[n : len(range(total_qubits - 2))]))\n",
    "\n",
    "    # Uncompute clauses\n",
    "    for j,clause in enumerate(conditions_list):\n",
    "        XOR_2qubits_qibo(circuit_qibo,clause[1], clause[0], var_reg+j)\n",
    "\n",
    "    return circuit_qibo\n",
    "\n",
    "\n",
    "```\n",
    "::::\n",
    ":::::\n"
   ]
  },
  {
   "cell_type": "code",
   "execution_count": 10,
   "id": "1582a252",
   "metadata": {
    "tags": [
     "remove_input"
    ]
   },
   "outputs": [],
   "source": [
    "'''Qiskit_code_cell'''\n",
    "def Grover_Oracle_Sudoku_2x2(circuit, conditions_list, ancilla_reg, \n",
    "                             output_qubit, print_oracle = 1):\n",
    "    '''\n",
    "    This oracle solves the problem of a Sudoku 2x2. \n",
    "    '''\n",
    "    # Compute clauses\n",
    "    i = 0\n",
    "    for clause in conditions_list:\n",
    "        XOR_2qubits(circuit, clause[0], clause[1], ancilla_reg[i])\n",
    "        i += 1\n",
    "\n",
    "    # Flip 'output' bit if all clauses are satisfied\n",
    "    #circuit.mct(ancilla_reg, output_qubit)\n",
    "    circuit.mcx(ancilla_reg, output_qubit)\n",
    "\n",
    "    # Uncompute clauses to reset clause-checking bits to 0\n",
    "    i = 0\n",
    "    for clause in conditions_list:\n",
    "        XOR_2qubits(circuit, clause[0], clause[1], ancilla_reg[i])\n",
    "        i += 1\n",
    "\n",
    "    if print_oracle == 0:\n",
    "        circuit.draw(output='mpl', fold = -1, filename = '3-Fig_Oracle_Sudoku_2x2')"
   ]
  },
  {
   "cell_type": "markdown",
   "id": "4b05bb03",
   "metadata": {},
   "source": [
    "Veamos el circuito. Lo primero que tenemos que tener en cuenta es que el oráculo tiene que aplicarse un número concreto de veces:\n",
    "\n",
    "$$\n",
    "T = \\frac{\\pi}{4} \\sqrt{\\frac{N}{M}}\n",
    "$$\n",
    "\n",
    "Definamos pues la función que calcule este número:"
   ]
  },
  {
   "cell_type": "code",
   "execution_count": 11,
   "id": "1547d35a",
   "metadata": {},
   "outputs": [],
   "source": [
    "def Iterations_T(N, M):\n",
    "\n",
    "    return int(np.pi/4 * np.sqrt(N/M)) # rounding by truncation"
   ]
  },
  {
   "cell_type": "markdown",
   "id": "efb30e50",
   "metadata": {},
   "source": [
    "Veamos ahora el circuito:"
   ]
  },
  {
   "cell_type": "markdown",
   "id": "bee2aeae",
   "metadata": {},
   "source": [
    ":::::{tab-set}\n",
    "::::{tab-item} Qiskit\n",
    "```python\n",
    "n = 4\n",
    "N = 2**n # Total number of states\n",
    "M = 2    # Number of solutions\n",
    "\n",
    "\n",
    "var_reg = QuantumRegister(n, name='v')\n",
    "ancilla_reg = QuantumRegister(len(clause_list), name='c')\n",
    "output_qubit = QuantumRegister(1, name='out')\n",
    "classic_reg = ClassicalRegister(n, name='cbits')\n",
    "circuit = QuantumCircuit(var_reg, ancilla_reg, output_qubit, classic_reg)\n",
    "\n",
    "# Initialize 'out0' in state |->\n",
    "circuit.x(output_qubit)\n",
    "circuit.h(output_qubit)\n",
    "\n",
    "# Initialize qubits in state |s>\n",
    "circuit.h(var_reg)\n",
    "circuit.barrier()  # for visual separation\n",
    "\n",
    "T = Iterations_T(N,M)\n",
    "\n",
    "for i in range(T):\n",
    "    Grover_Oracle_Sudoku_2x2(circuit, clause_list, ancilla_reg, \n",
    "                             output_qubit, print_oracle = i)\n",
    "    if i == 0:\n",
    "        display(circuit.draw(output='mpl', fold = -1))  \n",
    "    circuit.barrier()  # for visual separation\n",
    "    Grover_Diffuser(circuit, var_reg)\n",
    "\n",
    "\n",
    "# Measure the variable qubits\n",
    "circuit.measure(var_reg, classic_reg)\n",
    "```\n",
    "::::\n",
    "::::{tab-item} Qibo\n",
    "```python\n",
    "\n",
    "n = 4\n",
    "N = 2**n # Total number of states\n",
    "M = 2    # Number of solutions\n",
    "total_qubits=n+1+len(clause_list)\n",
    "circuit_qibo=Circuit(total_qubits)\n",
    "\n",
    "# Initialize 'out0' in state |->\n",
    "\n",
    "circuit_qibo.add(gates.X(total_qubits-1))\n",
    "circuit_qibo.add(gates.H(total_qubits-1))\n",
    "\n",
    "# Initialize qubits in state |s>\n",
    "circuit_qibo.add([gates.H(i) for i in range(n)])\n",
    "\n",
    "T = Iterations_T(N,M)\n",
    "\n",
    "for i in range(T):\n",
    "    Grover_Oracle_Sudoku_2x2_qibo(circuit_qibo,clause_list,n) \n",
    "    grover_diffuser_qibo(circuit_qibo, ancilla=total_qubits-n)\n",
    "\n",
    "\n",
    "circuit_qibo.add([gates.M(i) for i in range(n)])\n",
    "print(circuit_qibo.draw())\n",
    "```\n",
    "::::\n",
    ":::::\n"
   ]
  },
  {
   "cell_type": "code",
   "execution_count": 12,
   "id": "3dd9b29a",
   "metadata": {
    "tags": [
     "remove_input"
    ]
   },
   "outputs": [
    {
     "data": {
      "image/png": "[encoded data removed]",
      "text/plain": [
       "<Figure size 1824.54x869.556 with 1 Axes>"
      ]
     },
     "metadata": {},
     "output_type": "display_data"
    },
    {
     "data": {
      "text/plain": [
       "<qiskit.circuit.instructionset.InstructionSet at 0x7f2a0c081900>"
      ]
     },
     "execution_count": 12,
     "metadata": {},
     "output_type": "execute_result"
    }
   ],
   "source": [
    "'''Qiskit_code_cell'''\n",
    "n = 4\n",
    "N = 2**n # Total number of states\n",
    "M = 2    # Number of solutions\n",
    "\n",
    "\n",
    "var_reg = QuantumRegister(n, name='v')\n",
    "ancilla_reg = QuantumRegister(len(clause_list), name='c')\n",
    "output_qubit = QuantumRegister(1, name='out')\n",
    "classic_reg = ClassicalRegister(n, name='cbits')\n",
    "circuit = QuantumCircuit(var_reg, ancilla_reg, output_qubit, classic_reg)\n",
    "\n",
    "# Initialize 'out0' in state |->\n",
    "circuit.x(output_qubit)\n",
    "circuit.h(output_qubit)\n",
    "\n",
    "# Initialize qubits in state |s>\n",
    "circuit.h(var_reg)\n",
    "circuit.barrier()  # for visual separation\n",
    "\n",
    "T = Iterations_T(N,M)\n",
    "\n",
    "for i in range(T):\n",
    "    Grover_Oracle_Sudoku_2x2(circuit, clause_list, ancilla_reg, \n",
    "                             output_qubit, print_oracle = i)\n",
    "    if i == 0:\n",
    "        display(circuit.draw(output='mpl', fold = -1))  \n",
    "    circuit.barrier()  # for visual separation\n",
    "    Grover_Diffuser(circuit, var_reg)\n",
    "\n",
    "\n",
    "# Measure the variable qubits\n",
    "circuit.measure(var_reg, classic_reg)"
   ]
  },
  {
   "cell_type": "markdown",
   "id": "53a34429",
   "metadata": {},
   "source": [
    "#### Simulación"
   ]
  },
  {
   "cell_type": "markdown",
   "id": "603d7fe0",
   "metadata": {},
   "source": [
    "Podemos ahora construir el circuito completo y ejecutar la simulación. (En realidad, ya se construyó en la celda anterior. Aquí solo lo dibujamos completo) "
   ]
  },
  {
   "cell_type": "markdown",
   "id": "5c0afc83",
   "metadata": {},
   "source": [
    ":::::{tab-set}\n",
    "::::{tab-item} Qiskit\n",
    "```python\n",
    "circuit.draw(output='mpl', fold = -1, filename = '3-Fig_Sudoku_2x2')\n",
    "```\n",
    "::::\n",
    "::::{tab-item} Qibo\n",
    "```python\n",
    "print(circuit_qibo.draw())\n",
    "```\n",
    "::::\n",
    ":::::\n"
   ]
  },
  {
   "cell_type": "code",
   "execution_count": 13,
   "id": "55f7c601",
   "metadata": {
    "tags": [
     "remove_input"
    ]
   },
   "outputs": [
    {
     "data": {
      "image/png": "[encoded data removed]",
      "text/plain": [
       "<Figure size 4918.16x869.556 with 1 Axes>"
      ]
     },
     "execution_count": 13,
     "metadata": {},
     "output_type": "execute_result"
    }
   ],
   "source": [
    "'''Qiskit_code_cell'''\n",
    "circuit.draw(output='mpl', fold = -1, filename = '3-Fig_Sudoku_2x2')"
   ]
  },
  {
   "cell_type": "markdown",
   "id": "03028698",
   "metadata": {},
   "source": [
    ":::::{tab-set}\n",
    "::::{tab-item} Qiskit\n",
    "```python\n",
    "sim = AerSimulator(method = 'statevector')\n",
    "tcircuit = transpile(circuit, sim)\n",
    "result = sim.run(tcircuit).result()\n",
    "\n",
    "counts = result.get_counts()\n",
    "\n",
    "keys_bin = list(counts.keys())\n",
    "\n",
    "\n",
    "values = list(counts.values())\n",
    "zip_list = zip(keys_bin,values)\n",
    "zip_sorted = list(sorted(zip_list, key = lambda x: -x[1]))\n",
    "keys_bin, values = zip(*list(zip_sorted))\n",
    "\n",
    "num_sols = len(list(zip_sorted))\n",
    "\n",
    "print_range = 2 + 2 \n",
    "if num_sols < print_range:\n",
    "    print_range = num_sols\n",
    "\n",
    "print('Solving the sudoku 2x2:')\n",
    "print('    v0  v1')\n",
    "print('    v2  v3')\n",
    "print('The results takes the form: v0v1v2v3')\n",
    "print(f'\\nThe algorithm found {num_sols} results.')\n",
    "print(f'The {print_range} results with more counts are:')\n",
    "print('\\n   Result | Counts')\n",
    "for i in range(print_range):\n",
    "    print('  ',list(zip_sorted)[i])\n",
    "```\n",
    "::::\n",
    "::::{tab-item} Qibo\n",
    "```python\n",
    "result_qibo= circuit_qibo(nshots=1000)\n",
    "\n",
    "keys_bin_qibo = list(result_qibo.frequencies(binary=True).keys())\n",
    "values_qibo = list(result_qibo.frequencies(binary=True).values())\n",
    "zip_list_qibo = zip(keys_bin_qibo,values_qibo)\n",
    "zip_sorted_qibo = list(sorted(zip_list_qibo, key = lambda x: -x[1]))\n",
    "keys_bin_qibo, values_qibo= zip(*list(zip_sorted_qibo))\n",
    "\n",
    "num_sols_qibo = len(list(zip_sorted_qibo))\n",
    "\n",
    "print_range_qibo = 2 + 2 \n",
    "if num_sols_qibo < print_range_qibo:\n",
    "    print_range_qibo = num_sols_qibo\n",
    "\n",
    "print('Solving the sudoku 2x2:')\n",
    "print('    v0  v1')\n",
    "print('    v2  v3')\n",
    "print('The results takes the form: v0v1v2v3')\n",
    "print(f'\\nThe algorithm found {num_sols_qibo} results.')\n",
    "print(f'The {print_range_qibo} results with more counts are:')\n",
    "print('\\n   Result | Counts')\n",
    "for i in range(print_range_qibo):\n",
    "    print('  ',list(zip_sorted_qibo)[i])\n",
    "```\n",
    "::::\n",
    ":::::\n"
   ]
  },
  {
   "cell_type": "code",
   "execution_count": 14,
   "id": "3aa5b5d3",
   "metadata": {
    "tags": [
     "remove_input"
    ]
   },
   "outputs": [
    {
     "name": "stdout",
     "output_type": "stream",
     "text": [
      "Solving the sudoku 2x2:\n",
      "    v0  v1\n",
      "    v2  v3\n",
      "The results takes the form: v0v1v2v3\n",
      "\n",
      "The algorithm found 16 results.\n",
      "The 4 results with more counts are:\n",
      "\n",
      "   Result | Counts\n",
      "   ('1001', 492)\n",
      "   ('0110', 481)\n",
      "   ('0011', 7)\n",
      "   ('1000', 6)\n"
     ]
    }
   ],
   "source": [
    "'''Qiskit_code_cell'''\n",
    "sim = AerSimulator(method = 'statevector')\n",
    "tcircuit = transpile(circuit, sim)\n",
    "result = sim.run(tcircuit).result()\n",
    "\n",
    "counts = result.get_counts()\n",
    "\n",
    "keys_bin = list(counts.keys())\n",
    "\n",
    "\n",
    "values = list(counts.values())\n",
    "zip_list = zip(keys_bin,values)\n",
    "zip_sorted = list(sorted(zip_list, key = lambda x: -x[1]))\n",
    "keys_bin, values = zip(*list(zip_sorted))\n",
    "\n",
    "num_sols = len(list(zip_sorted))\n",
    "\n",
    "print_range = 2 + 2 \n",
    "if num_sols < print_range:\n",
    "    print_range = num_sols\n",
    "\n",
    "print('Solving the sudoku 2x2:')\n",
    "print('    v0  v1')\n",
    "print('    v2  v3')\n",
    "print('The results takes the form: v0v1v2v3')\n",
    "print(f'\\nThe algorithm found {num_sols} results.')\n",
    "print(f'The {print_range} results with more counts are:')\n",
    "print('\\n   Result | Counts')\n",
    "for i in range(print_range):\n",
    "    print('  ',list(zip_sorted)[i])"
   ]
  },
  {
   "cell_type": "markdown",
   "id": "67623d88",
   "metadata": {},
   "source": [
    ":::::{tab-set}\n",
    "::::{tab-item} Qiskit\n",
    "```python\n",
    "fig = plot_histogram(result.get_counts())\n",
    "\n",
    "fig.tight_layout()\n",
    "\n",
    "fig\n",
    "```\n",
    "::::\n",
    "::::{tab-item} Qibo\n",
    "```python\n",
    "import matplotlib.pyplot as plt\n",
    "fig, ax = plt.subplots()\n",
    "plt.bar(sorted(keys_bin_qibo), [x for _,x in sorted(zip(keys_bin_qibo, values_qibo))])\n",
    "for i in range(len(sorted(keys_bin_qibo))):\n",
    "    plt.text(i,[x for _,x in sorted(zip(keys_bin_qibo, values_qibo))][i]+2,[x for _,x in sorted(zip(keys_bin_qibo, values_qibo))][i], ha='center')\n",
    "plt.xticks(rotation=45)\n",
    "plt.ylabel('Counts')\n",
    "plt.show()\n",
    "\n",
    "```\n",
    "::::\n",
    ":::::\n"
   ]
  },
  {
   "cell_type": "code",
   "execution_count": 15,
   "id": "395cabf0",
   "metadata": {
    "tags": [
     "remove_input"
    ]
   },
   "outputs": [
    {
     "data": {
      "image/png": "[encoded data removed]",
      "text/plain": [
       "<Figure size 700x500 with 1 Axes>"
      ]
     },
     "execution_count": 15,
     "metadata": {},
     "output_type": "execute_result"
    }
   ],
   "source": [
    "'''Qiskit_code_cell'''\n",
    "fig = plot_histogram(result.get_counts())\n",
    "\n",
    "fig.tight_layout()\n",
    "\n",
    "fig"
   ]
  },
  {
   "cell_type": "markdown",
   "id": "b1bb4f86",
   "metadata": {},
   "source": []
  },
  {
   "cell_type": "markdown",
   "id": "2a346042",
   "metadata": {},
   "source": [
    "---\n",
    "Autores:\n",
    "\n",
    "David Castaño ([UMA-SCBI](https://www.scbi.uma.es/site/)), Raul Fuentes ([BSC-CNS](https://www.bsc.es/es)), Daniel Talaván  ([COMPUTAEX](https://www.cenits.es/)), Francisco Matanza ([UNICAN](https://web.unican.es/))\n",
    "\n",
    "<img src=\"images/Logo_UMA.jpeg\"  width=\"170px\">\n",
    "<img src=\"images/BSC-blue-medium.png\" width=\"195px\">\n",
    "<img src=\"images/COMPUTAEX.jpg\" width=\"170px\">\n",
    "<img src=\"images/Logo_UNICAM.jpg\" width=\"210px\">\n",
    "\n",
    "\n",
    "---\n",
    "::::{figure} https://quantumspain-project.es/wp-content/uploads/2022/11/Logo_QS_EspanaDigital.png\n",
    ":width: 2000px\n",
    ":align: center\n",
    "::::\n",
    "\n",
    "<center>\n",
    "<a rel=\"license\" href=\"http://creativecommons.org/licenses/by-sa/4.0/\">\n",
    "<img aling=\"left\" alt=\"Licencia Creative Commons\" style=\"border-width:0\" src=\"https://i.creativecommons.org/l/by-sa/4.0/88x31.png\" /></a>\n",
    "</center>\n",
    "\n",
    "License: <a rel=\"license\" href=\"http://creativecommons.org/licenses/by-sa/4.0/\">Licencia Creative Commons Atribución-CompartirIgual 4.0 Internacional</a>.\n",
    "\n",
    "This work has been financially supported by the Ministry for Digital Transformation and of Civil Service of the Spanish Government through the QUANTUM ENIA project call - Quantum Spain project, and by the European Union through the Recovery, Transformation and Resilience Plan - NextGenerationEU within the framework of the Digital Spain 2026 Agenda.\n",
    "\n",
    "<center>\n",
    "<img align=\"left\" src=\"https://quantumspain-project.es/wp-content/uploads/2024/02/Banner-QS_GOB_v2.png\" width=\"1000px\" />\n",
    "</center>"
   ]
  },
  {
   "cell_type": "markdown",
   "id": "e5c9d652",
   "metadata": {},
   "source": []
  }
 ],
 "metadata": {
  "kernelspec": {
   "display_name": "Python 3 (ipykernel)",
   "language": "python",
   "name": "python3"
  },
  "language_info": {
   "codemirror_mode": {
    "name": "ipython",
    "version": 3
   },
   "file_extension": ".py",
   "mimetype": "text/x-python",
   "name": "python",
   "nbconvert_exporter": "python",
   "pygments_lexer": "ipython3",
   "version": "3.11.7"
  },
  "toc": {
   "base_numbering": 1,
   "nav_menu": {},
   "number_sections": false,
   "sideBar": true,
   "skip_h1_title": true,
   "title_cell": "Table of Contents",
   "title_sidebar": "Contents",
   "toc_cell": false,
   "toc_position": {},
   "toc_section_display": true,
   "toc_window_display": false
  }
 },
 "nbformat": 4,
 "nbformat_minor": 5
}