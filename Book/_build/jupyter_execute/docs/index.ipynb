{
 "cells": [
  {
   "cell_type": "markdown",
   "id": "4bc80b9c",
   "metadata": {},
   "source": [
    "# Fault-Tolerant Algoritms\n",
    "\n",
    "En estos notebooks veremos una serie de algortimos conocidos como \"Fault-Tolerant\". Este nombre hace referencia a que para que estos algortimos funcionen, necesitariamos ejecutarlos en un ordenador cuántico tolerante a fallos. Los algoritmos más conocidos de este estilo son el de Shor y el de Grover.\n",
    "\n",
    "Autores:\n",
    "- David Castaño ([UMA-SCBI](https://www.scbi.uma.es/site/))\n",
    "<figure><center>\n",
    "<img src=\"images/Logo_UMA.jpeg\" align=center width='200px'/>\n",
    "</center></figure>\n",
    "- Raul Fuentes ([BSC-CNS](https://www.bsc.es/es))\n",
    "<figure><center>\n",
    "<img src=\"images/BSC-blue-medium.png\" align=center width='200px'/>\n",
    "</center></figure>\n",
    "- Daniel Talaván  ([cenits](https://www.cenits.es/))\n",
    "<figure><center>\n",
    "<img src=\"images/xaniversario_rectangle.jpg\" align=center width='200px'/>\n",
    "</center></figure>\n",
    "- Francisco Matanza \n",
    "\n",
    "\n",
    "\n",
    "```{tableofcontents}\n",
    "```\n",
    "\n",
    "%```{toctree}\n",
    "%:caption: Table of Contents\n",
    "%:name: mastertoc\n",
    "%:glob:\n",
    "%*\n",
    "%```"
   ]
  }
 ],
 "metadata": {
  "kernelspec": {
   "display_name": "Python 3 (ipykernel)",
   "language": "python",
   "name": "python3"
  },
  "language_info": {
   "codemirror_mode": {
    "name": "ipython",
    "version": 3
   },
   "file_extension": ".py",
   "mimetype": "text/x-python",
   "name": "python",
   "nbconvert_exporter": "python",
   "pygments_lexer": "ipython3",
   "version": "3.11.7"
  },
  "toc": {
   "base_numbering": 1,
   "nav_menu": {},
   "number_sections": false,
   "sideBar": true,
   "skip_h1_title": true,
   "title_cell": "Table of Contents",
   "title_sidebar": "Contents",
   "toc_cell": false,
   "toc_position": {},
   "toc_section_display": true,
   "toc_window_display": false
  }
 },
 "nbformat": 4,
 "nbformat_minor": 5
}