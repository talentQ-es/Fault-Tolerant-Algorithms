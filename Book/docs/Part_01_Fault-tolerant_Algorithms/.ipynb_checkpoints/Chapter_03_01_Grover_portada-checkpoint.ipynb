{
 "cells": [
  {
   "cell_type": "markdown",
   "id": "6723f3a7",
   "metadata": {},
   "source": [
    "<figure><center>\n",
    "<img   src=\"https://quantumspain-project.es/wp-content/uploads/2022/11/Logo_QS_EspanaDigital.png\" align=center  width=\"2000px\"/>\n",
    "</center></figure>"
   ]
  },
  {
   "cell_type": "markdown",
   "id": "9760ba1a",
   "metadata": {},
   "source": [
    "<a id='sec_FTA_grover_portada'></a>\n",
    "# Algoritmo de Grover\n",
    "\n",
    "En este capítulo vamos a estudiar en detalle el algoritmo de Grover.\n",
    "\n",
    "```{tableofcontents}\n",
    "```"
   ]
  }
 ],
 "metadata": {
  "kernelspec": {
   "display_name": "Python 3 (ipykernel)",
   "language": "python",
   "name": "python3"
  },
  "language_info": {
   "codemirror_mode": {
    "name": "ipython",
    "version": 3
   },
   "file_extension": ".py",
   "mimetype": "text/x-python",
   "name": "python",
   "nbconvert_exporter": "python",
   "pygments_lexer": "ipython3",
   "version": "3.11.7"
  },
  "toc": {
   "base_numbering": 1,
   "nav_menu": {},
   "number_sections": false,
   "sideBar": true,
   "skip_h1_title": true,
   "title_cell": "Table of Contents",
   "title_sidebar": "Contents",
   "toc_cell": false,
   "toc_position": {},
   "toc_section_display": true,
   "toc_window_display": false
  }
 },
 "nbformat": 4,
 "nbformat_minor": 5
}
