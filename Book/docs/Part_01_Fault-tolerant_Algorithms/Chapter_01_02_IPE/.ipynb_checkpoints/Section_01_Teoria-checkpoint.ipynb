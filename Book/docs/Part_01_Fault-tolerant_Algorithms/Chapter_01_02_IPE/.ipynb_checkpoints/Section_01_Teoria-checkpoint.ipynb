{
 "cells": [
  {
   "cell_type": "markdown",
   "id": "0a0110f8",
   "metadata": {},
   "source": [
    "<figure><center>\n",
    "<img   src=\"https://quantumspain-project.es/wp-content/uploads/2022/11/Logo_QS_EspanaDigital.png\" align=center  width=\"2000px\"/>\n",
    "</center></figure>\n",
    "\n",
    "<a id='Notebook_Date'></a> Created: 2024/04/09\n",
    "\n",
    "Authors:\n",
    "* David Castaño ([Scbi-UMA](https://www.scbi.uma.es/site/))\n",
    "$ \\newcommand{\\bra}[1]{\\langle #1|} $\n",
    "$ \\newcommand{\\ket}[1]{|#1\\rangle} $\n",
    "$ \\newcommand{\\braket}[2]{\\langle #1|#2\\rangle} $\n",
    "$ \\newcommand{\\i}{{\\color{blue} i}} $ \n",
    "$ \\newcommand{\\Hil}{{\\cal H}} $\n",
    "$ \\newcommand{\\cg}[1]{{\\rm C}#1} $\n",
    "$ \\newcommand{\\lp}{\\left(} $\n",
    "$ \\newcommand{\\rp}{\\right)} $\n",
    "$ \\newcommand{\\lc}{\\left[} $\n",
    "$ \\newcommand{\\rc}{\\right]} $\n",
    "$ \\newcommand{\\lch}{\\left\\{} $\n",
    "$ \\newcommand{\\rch}{\\right\\}} $\n",
    "$ \\newcommand{\\Lp}{\\Bigl(} $\n",
    "$ \\newcommand{\\Rp}{\\Bigr)} $\n",
    "$ \\newcommand{\\Lc}{\\Bigl[} $\n",
    "$ \\newcommand{\\Rc}{\\Bigr]} $\n",
    "$ \\newcommand{\\Lch}{\\Bigl\\{} $\n",
    "$ \\newcommand{\\Rch}{\\Bigr\\}} $\n",
    "$ \\newcommand{\\rqa}{\\quad \\Rightarrow \\quad} $"
   ]
  },
  {
   "cell_type": "markdown",
   "id": "ed7a2cda",
   "metadata": {},
   "source": [
    "# 1. Teoría"
   ]
  },
  {
   "cell_type": "markdown",
   "id": "c14a030b",
   "metadata": {},
   "source": [
    "## Explicación simplificada"
   ]
  },
  {
   "cell_type": "markdown",
   "id": "ad491282",
   "metadata": {},
   "source": [
    "Si se conoce la QPE (ver [[1]](#bib_FTA_IPE_QSS_CICC_QPE) y [[6]](#bib_FTA_IPE_QSS_Qiskit_QPE)), explicar la IPE es simple. Recordemos que el objetivo de la QPE es estimar el valor de la fase que aplica un operador unitario $U$ sobre uno de sus autovectores $\\ket{\\psi}$. Es decir, queremos calcular $\\theta$ en la expresión \n",
    "\n",
    "$$\n",
    "U \\ket{\\psi} = e^{2 \\pi i \\theta} \\ket{\\psi}\n",
    "$$\n",
    "\n",
    "Recordemos que el circuito para el cálculo de la QPE es de la forma \n",
    "<figure><center>\n",
    "<img src=\"Figuras/Fig-1-QPE.png\" align=center width=\"800\"/>\n",
    "</center></figure>"
   ]
  },
  {
   "cell_type": "markdown",
   "id": "db3897a3",
   "metadata": {},
   "source": [
    "Veamos la explicación del paso de QPE a IPE con un ejemplo. En el siguiente circuito se presenta el algoritmo de QPE con 4 qubits en el **registro de control** (los 4 qubits a cero de arriba). \n",
    "\n",
    "<figure><center>\n",
    "<img src=\"Figuras/Fig_IPE_1.png\" align=center width=1000/>\n",
    "</center></figure>\n",
    "\n",
    "Las puertas de colores del final no son más que la transformada de Fourier inversa."
   ]
  },
  {
   "cell_type": "markdown",
   "id": "aba6f225",
   "metadata": {},
   "source": [
    "Si nos fijamos, vemos que una vez que un qubit controla su respectiva puerta $U_{a^{2^k}}$ sobre este ya no aplican (ni controla) más puertas hasta llegar a las de la $QFT^{-1}$.  Podemos pues llevar a cabo sin ningún problema la reordenación de las puertas coloreadas:\n",
    "\n",
    "<figure><center>\n",
    "<img src=\"Figuras/Fig_IPE_3.png\" align=center width=1000/>\n",
    "</center></figure>\n",
    "\n",
    "Vemos que hay otros dos cambios significativos:\n",
    "\n",
    " - En lugar de colocar los 4 bits clásicos (que almacenan las medidas) en una línea separada, ahora se han situado adyacentes al medidor. Esto se hace simplemente para evitar agregar 4 líneas más al circuito.\n",
    " - La modificación principal que hemos introducido en este circuito es la capacidad de controlar puertas utilizando bits clásicos.\n",
    "\n",
    "En el circuito previo, hemos dispuesto las puertas de manera que sea evidente que se pueden aplicar de manera secuencial qubit por qubit. Es decir, primero se aplican las puertas al qubit más bajo (en el registro de control) y se realiza una medición. Luego se procede con el siguiente qubit, y así sucesivamente. La clave aquí es que, una vez que se mide un qubit, el valor de esa medida se emplea para controlar las puertas aplicadas a los qubits siguientes. \n",
    "\n",
    "Justamente, dado que la única función de un qubit después de ser medido es emplear el valor de su medición para controlar puertas en la QFT, lo que podemos hacer es eliminar el qubit y conservar únicamente el valor medido en el bit clásico. "
   ]
  },
  {
   "cell_type": "markdown",
   "id": "fcbf7453",
   "metadata": {},
   "source": [
    "Siguiendo estos argumentos, podemos ver que en realidad, solo nos hace falta **un qubit** en el registro de control. Esto es lo que podemos ver en siguiente figura \n",
    "\n",
    "\n",
    "<figure><center>\n",
    "<img src=\"Figuras/Fig_IPE_4.png\" align=center width=700/>\n",
    "</center></figure>\n",
    "\n",
    "Como observamos, hay solo un qubit en el registro de conteo. El procedimiento consiste en primer lugar en aplicar sobre este qubit las mismas puertas que aplicaríamos sobre el último qubit del registro de control, seguido de una medición. La medida resultante se guarda en un bit clásico. Una vez obtenida la medida, podemos emplear el valor del bit clásico para controlar una puerta $X$. De esta manera, restablecemos el qubit a su estado inicial (es decir, el estado $| 0 \\rangle$). \n",
    "\n",
    "Una vez que hemos restablecido el qubit a su estado inicial y hemos guardado con seguridad su medida, podemos proceder a aplicar sobre este qubit las mismas puertas que aplicaríamos sobre el siguiente qubit del registro de control (siendo una de ellas controlada por el bit clásico anterior) y medirlo, almacenando su valor en un segundo bit clásico. Nuevamente, utilizamos una puerta $X$ controlada por este segundo bit clásico para devolver el qubit al estado inicial. Este proceso se repite sucesivamente. \n",
    "\n",
    "Para más detalles, pueden verse las referencias [[3]](#bib_FTA_IPE_QSS_Mosca), [[4]](#bib_FTA_IPE_QSS_Zalka) y [[5]](#bib_FTA_IPE_QSS_Parker)."
   ]
  },
  {
   "cell_type": "markdown",
   "id": "357e00de",
   "metadata": {},
   "source": [
    "## Explicación formal"
   ]
  },
  {
   "cell_type": "markdown",
   "id": "994cd2f0",
   "metadata": {},
   "source": [
    "Para ver una explicación más formal del algoritmo, puede verse la sección **Antecedentes** de [[2]](#bib_FTA_IPE_QSS_Spring_2023_lab3)."
   ]
  },
  {
   "cell_type": "markdown",
   "id": "b33a7bdc",
   "metadata": {},
   "source": [
    "<a id='sec_FTA_IPE_teoria_Bibliografía'></a>\n",
    "## Bibliografía\n",
    "\n",
    "[1]. [Curso básico de computación cuántica](https://talentq-es.github.io/TalentQ-CICC/docs/index.html) de [TalentQ], (https://www.talentq.es/es_es/), [Sección QPE](https://talentq-es.github.io/TalentQ-CICC/docs/Part_03_Algoritmos/Chapter_043_QPE_myst.html) <a id='bib_FTA_IPE_QSS_CICC_QPE'></a>\n",
    "\n",
    "[2]. [Laboratorio 3 del Quantum Challange Spring 2023 de Qiskit](https://github.com/qiskit-community/ibm-quantum-challenge-spring-2023/blob/main/content/lab_3/lab3-es.ipynb). <a id='bib_FTA_IPE_QSS_Spring_2023_lab3'></a>\n",
    "\n",
    "[3]. Mosca, M., & Ekert, A. (1998, February). The hidden subgroup problem and eigenvalue estimation on a quantum computer. In NASA International Conference on Quantum Computing and Quantum Communications (pp. 174-188). Springer, Berlin, Heidelberg. [quant-ph/9903071](http://arxiv.org/abs/quant-ph/9903071) <a id='bib_FTA_IPE_QSS_Mosca'></a>\n",
    "\n",
    "[4]. Zalka, C. (1998). Fast versions of Shor's quantum factoring algorithm.  [quant-ph/9806084](https://arxiv.org/abs/quant-ph/9806084). <a id='bib_FTA_IPE_QSS_Zalka'></a>\n",
    "\n",
    "[5]. Parker, S., & Plenio, M. B. (2000). Efficient factorization with a single pure qubit and log N mixed qubits. Physical Review Letters, 85(14), 3049. [quant-ph/0001066](https://arxiv.org/abs/quant-ph/0001066) <a id='bib_FTA_IPE_QSS_Parker'></a>\n",
    "\n",
    "[6]. [Quantum Phase Estimation (textbook Qiskit)](https://github.com/Qiskit/textbook/blob/main/notebooks/ch-algorithms/quantum-phase-estimation.ipynb) <a id='bib_FTA_IPE_QSS_Qiskit_QPE'></a>"
   ]
  },
  {
   "cell_type": "markdown",
   "id": "76cdb4b2",
   "metadata": {},
   "source": [
    "---\n",
    "<center>\n",
    "<a rel=\"license\" href=\"http://creativecommons.org/licenses/by-sa/4.0/\">\n",
    "<img aling=\"left\" alt=\"Licencia Creative Commons\" style=\"border-width:0\" src=\"https://i.creativecommons.org/l/by-sa/4.0/88x31.png\" /></a>\n",
    "</center>\n",
    "\n",
    "License: <a rel=\"license\" href=\"http://creativecommons.org/licenses/by-sa/4.0/\">Licencia Creative Commons Atribución-CompartirIgual 4.0 Internacional</a>.\n",
    "\n",
    "This work has been financially supported by the Ministry for Digital Transformation and of Civil Service of the Spanish Government through the QUANTUM ENIA project call - Quantum Spain project, and by the European Union through the Recovery, Transformation and Resilience Plan - NextGenerationEU within the framework of the Digital Spain 2026 Agenda.\n",
    "\n",
    "<center>\n",
    "<img align=\"left\" src=\"https://quantumspain-project.es/wp-content/uploads/2024/02/Banner-QS_GOB_v2.png\" width=\"1000px\" />\n",
    "</center>"
   ]
  }
 ],
 "metadata": {
  "kernelspec": {
   "display_name": "Python 3 (ipykernel)",
   "language": "python",
   "name": "python3"
  },
  "language_info": {
   "codemirror_mode": {
    "name": "ipython",
    "version": 3
   },
   "file_extension": ".py",
   "mimetype": "text/x-python",
   "name": "python",
   "nbconvert_exporter": "python",
   "pygments_lexer": "ipython3",
   "version": "3.11.7"
  },
  "toc": {
   "base_numbering": 1,
   "nav_menu": {},
   "number_sections": false,
   "sideBar": true,
   "skip_h1_title": true,
   "title_cell": "Table of Contents",
   "title_sidebar": "Contents",
   "toc_cell": false,
   "toc_position": {},
   "toc_section_display": true,
   "toc_window_display": false
  }
 },
 "nbformat": 4,
 "nbformat_minor": 5
}
