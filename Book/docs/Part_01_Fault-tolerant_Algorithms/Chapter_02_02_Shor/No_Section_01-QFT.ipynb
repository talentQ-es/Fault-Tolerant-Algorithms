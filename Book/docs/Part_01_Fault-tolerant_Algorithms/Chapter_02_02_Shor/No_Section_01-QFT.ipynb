{
 "cells": [
  {
   "cell_type": "markdown",
   "id": "5d20c685",
   "metadata": {},
   "source": [
    "<img align=\"left\" src=\"https://quantumspain-project.es/wp-content/uploads/2022/11/Logo_QS_EspanaDigital.png\" width=\"1000px\"/><br><br><br><br>\n",
    "\n",
    "\n",
    "\n",
    "# Fault-tolerant Algorithms\n",
    "\n",
    "Created: 16/06/2023\n",
    "\n",
    "<a rel=\"license\" href=\"http://creativecommons.org/licenses/by-sa/4.0/\"><img aling=\"left\" alt=\"Licencia Creative Commons\" style=\"border-width:0\" src=\"https://i.creativecommons.org/l/by-sa/4.0/88x31.png\" /></a><br />License: <a rel=\"license\" href=\"http://creativecommons.org/licenses/by-sa/4.0/\">Licencia Creative Commons Atribución-CompartirIgual 4.0 Internacional</a>.\n",
    "\n",
    "Internal Reviewers: \n",
    "* Alba Cervera Lierta ([BSC-CNS](https://www.bsc.es/))\n",
    "* Andrés Gómez Tato ([CESGA](http://www.cesga.es))\n",
    "\n",
    "Authors:\n",
    "* David Castaño ([Scbi-UMA](https://www.scbi.uma.es/site/))\n",
    "* Alejandro Cano ([UNICAN](https://web.unican.es/))\n",
    "* Javier Sánchez ([Cénits](https://www.cenits.es/))\n",
    "* Raúl Fuentes ([BSC-CNS](https://www.bsc.es/))\n"
   ]
  },
  {
   "cell_type": "code",
   "execution_count": 28,
   "id": "96035505",
   "metadata": {},
   "outputs": [],
   "source": [
    "import matplotlib.pyplot as plt\n",
    "import numpy as np\n",
    "from qiskit import QuantumCircuit, Aer, transpile, assemble, ClassicalRegister, QuantumRegister\n",
    "from qiskit.visualization import plot_histogram\n",
    "import qiskit.tools.jupyter\n",
    "import math\n",
    "%matplotlib inline"
   ]
  },
  {
   "cell_type": "markdown",
   "id": "aec33f54",
   "metadata": {},
   "source": [
    "<table width=\"100%\">\n",
    "    <td style=\"font-size:40px;font-family:Helvetica;text-align:left;background-color:rgba(12, 43, 337, 0.3);\">\n",
    "<b>Quantum Fourier Transform </b>\n",
    "</table>"
   ]
  },
  {
   "cell_type": "markdown",
   "id": "72d7e936",
   "metadata": {},
   "source": [
    "<table width=\"100%\">\n",
    "    <td style=\"font-size:30px;font-family:Helvetica;text-align:left;background-color:rgba(12, 43, 337, 0.3);\">\n",
    "<b>Tabla de Contenido</b>\n",
    "</table>  <a id=\"Seccion_2.1\"></a>"
   ]
  },
  {
   "cell_type": "markdown",
   "id": "5ac22bb8",
   "metadata": {},
   "source": [
    "- **[1 - Introduction to the the Fourier Transform](#Seccion_1)**\n",
    "- **[2 - Quantum Fourier Transform](#Seccion_2)**\n",
    "- **[3 - Applications](#Seccion_3)**\n",
    "- **[4 - Bibliography](#Bibliography)**\n"
   ]
  },
  {
   "cell_type": "markdown",
   "id": "f8f5df6d",
   "metadata": {},
   "source": [
    "<a id=\"Seccion_1\"></a>\n",
    "<table width=\"100%\">\n",
    "    <td style=\"font-size:25px;font-family:Helvetica;text-align:left;background-color:rgba(12, 43, 337, 0.3);\">\n",
    "<b>1 - Introduction to Fourier Transform </b>\n",
    "</table>"
   ]
  },
  {
   "cell_type": "markdown",
   "id": "fabfcf18",
   "metadata": {},
   "source": [
    "The Fourier Transform is an operation which maps a function into its frequencies. The transform provides a frequency-domain representation of the original signal, which is useful for analyzing and manipulating signals in various applications such as image processing, audio signal processing, and telecommunications."
   ]
  },
  {
   "cell_type": "markdown",
   "id": "1451a469",
   "metadata": {},
   "source": [
    "<div style=\"text-align:center\">\n",
    "<img src=\"images/\" width=\"1000\"/>\n",
    "</div>"
   ]
  },
  {
   "cell_type": "markdown",
   "id": "ab5d349d",
   "metadata": {},
   "source": []
  },
  {
   "cell_type": "markdown",
   "id": "fd8f80f4",
   "metadata": {},
   "source": [
    "<a id=\"Seccion_2\"></a>\n",
    "<table width=\"100%\">\n",
    "    <td style=\"font-size:25px;font-family:Helvetica;text-align:left;background-color:rgba(12, 43, 337, 0.3);\">\n",
    "<b>2 - Quantum Fourier Transform</b>\n",
    "</table>"
   ]
  },
  {
   "cell_type": "markdown",
   "id": "03068244",
   "metadata": {},
   "source": [
    "<a id=\"Seccion_2.1\"></a>\n",
    "## 2.1 - Quantum state Basis"
   ]
  },
  {
   "cell_type": "markdown",
   "id": "c2f8dbd5",
   "metadata": {},
   "source": [
    "The state of a quantum computer is represented by a vector in the Hilbert space. This vector can be expressed in terms of different basis states, and the choice of basis affects how the quantum state is represented and measured. In quantum computing, three commonly used basis sets are:\n",
    "\n",
    "- Z-basis: The Z-basis is constituted by the vectors $\\{|0\\rangle, |1\\rangle\\}$ or $\\{(1,0), (0,1)\\}$, often referred to as the computational basis states. These states represent definite values of 0 and 1, respectively. Measurements in the Z-basis provide information about the probability of finding the qubit in one of these states.\n",
    "\n",
    "\n",
    "- X-basis: The X-basis is constituted by the vectors $\\{|+\\rangle, |-\\rangle\\}$ or $\\{ \\frac{|0\\rangle + |1\\rangle\\ }{\\sqrt 2}, \\frac{|0\\rangle - |1\\rangle\\ }{\\sqrt 2}\\}$. These basis states are created by applying the Hadamard gate to the computational basis states. They represent superpositions of the 0 and 1 states. Measurements in the X-basis provide information about the probability of finding the qubit in either the $|+\\rangle$ or $|-\\rangle$ state.\n",
    "\n",
    "\n",
    "- Y-basis: The Y-basis is constituted by the vectors $\\{|i\\rangle, |-i\\rangle\\}$.These basis states are related to the Z-basis states through a relative phase shift of $\\pm\\frac{\\pi}{2}$. They also represent superpositions of the 0 and 1 states with phase differences. Measurements in the Y-basis provide information about the probability of finding the qubit in either the $|i\\rangle$ or $|-i\\rangle$ state.\n",
    "\n",
    "These different bases allow for different perspectives and measurements of the quantum state. By selecting a specific basis, one can extract specific information about the quantum system during measurement."
   ]
  },
  {
   "cell_type": "markdown",
   "id": "262ec090",
   "metadata": {},
   "source": [
    "<a id=\"Seccion_2.1\"></a>\n",
    "## 2.2 - Quantum Fourier Transform\n",
    "\n",
    "The Quantum Fourier Transform (QFT) is the quantum version of the Fourier Transform. It consist in changing the basis of a vector represented in any quantum computational basis to a Fourier Basis, where each element of the basis represents a frequency. Therefore, the QFT over $n$ qbits, which is represented with a vector state of $N=2^n$ components is a unitary transformation which can be expressed as a $ N \\times N $ matrix where each column represents a vector of the Fourier basis. The matrix is defined as:\n",
    "\n",
    "$$\n",
    "\\text{QFT} = \\frac{1}{\\sqrt{2^n}} \\begin{bmatrix}\n",
    "1 & 1 & 1 & \\ldots & 1 \\\\\n",
    "1 & \\omega & \\omega^2 & \\ldots & \\omega^{N-1} \\\\\n",
    "1 & \\omega^2 & \\omega^4 & \\ldots & \\omega^{2(N-1)} \\\\\n",
    "\\vdots & \\vdots & \\vdots & \\ddots & \\vdots \\\\\n",
    "1 & \\omega^{N-1} & \\omega^{2(N-1)} & \\ldots & \\omega^{(N-1)(N-1)}\n",
    "\\end{bmatrix}\n",
    "$$\n",
    "\n",
    "\n",
    "where $\\omega = e^{2\\pi i / N}$ is the N-th root of unity. If we multiply a vector $|x\\rangle$ by the QFT matrix, each element $y_k$ of the result vector will be mapped following the next expression:\n",
    "$$\n",
    "y_k \\rightarrow \\frac{1}{\\sqrt{2^N}} \\sum_{j=0}^{N-1} \\omega^{jk} x_j\n",
    "$$\n",
    "\n",
    "In general terms, the transformation can be expressed as the map of the $|x\\rangle$ state:\n",
    "\n",
    "$$\n",
    "\\text{QFT} |x\\rangle = \\frac{1}{\\sqrt{2^N}} \\sum_{k=0}^{N-1} \\omega^{xk} |k\\rangle\n",
    "$$\n",
    "\n",
    "\n",
    "Also, theres the inverse Quantum fourier transformation, which is defined as:\n",
    "$$\n",
    "\\text{QFT}^{-1} |x\\rangle = \\frac{1}{\\sqrt{2^n}} \\sum_{k=0}^{N-1} \\omega^{-xk} |k\\rangle\n",
    "$$\n",
    "\n"
   ]
  },
  {
   "cell_type": "markdown",
   "id": "e1deea16",
   "metadata": {},
   "source": [
    "<a id=\"Seccion_2.3\"></a>\n",
    "## 2.3 - Quantum Fourier Transform Implementation"
   ]
  },
  {
   "cell_type": "markdown",
   "id": "9998618b",
   "metadata": {},
   "source": [
    "The QFT can be implemented in a quantum computer using a circuit composed of Hadamard gates and controlled phase gates. The previous expression can be decomposed in the following:\n",
    "\n",
    "\\begin{align}\n",
    "QFT \\left| x \\right\\rangle & = \\frac{1}{2^{n/2}} \\sum_{y=0}^{2^n-1} e^{2 \\pi i xy /2^n} \\left| y \\right\\rangle \\qquad\n",
    "\\\\\n",
    "& = \\frac{1}{2^{n/2}} \\left( \\left| 0 \\right\\rangle + e^{\\frac{2\\pi i}{2}x} \\left| 1 \\right\\rangle \\right) \\otimes \\left( \\left| 0 \\right\\rangle + e^{\\frac{2\\pi i}{2^2}x} \\left| 1 \\right\\rangle \\right) \\otimes \\dots \\otimes \\left( \\left| 0 \\right\\rangle + e^{\\frac{2\\pi i}{2^{n-1}}x} \\left| 1 \\right\\rangle \\right) \\otimes \\left( \\left| 0 \\right\\rangle + e^{\\frac{2\\pi i}{2^n}x} \\left| 1 \\right\\rangle \\right)\n",
    "\\end{align}\n",
    "\n",
    "where $\\displaystyle\\left|y \\right\\rangle = \\left| y_1 y_2 \\dots \\right\\rangle, \\, \\, \\dfrac{y}{2^n} = \\sum_{k=1}^n \\dfrac{y_k}{2^k}$\n",
    "\n",
    "This expresion is nearer to build a quantum circuit. Each term in the tensor product can be implemented using a Hadamard gate and a controlled phase gate to each qbit in the superposition state:\n",
    "<br>\n",
    "\n",
    "\n",
    "<div style=\"text-align:center\">\n",
    "<img src=\"../5-Shor's_Algorithm_2n+3_implementation/Theory/Figuras_Shor/Fig-QFT-1.png\" width=\"1000\"/>\n",
    "</div>\n",
    "<br>\n",
    "\n",
    "Two kind of gates are applied in QFT, Hadamard gates and $UROT_k$ gates. The controlled version of the later ones are $CROT_k$:\n",
    "\n",
    "$$\n",
    "CROT_k = \\left[ \\begin{matrix}\n",
    "I & 0 \\\\\n",
    "0 & UROT_k\n",
    "\\end{matrix} \\right]\n",
    "$$\n",
    "\n",
    "$UROT_k$ is a rotation gate:\n",
    "\n",
    "$$\n",
    "UROT_k = \\left[ \\begin{matrix}\n",
    "1 & 0 \\\\\n",
    "0 & \\exp \\left( \\frac{2 \\pi i}{2^k} \\right)\n",
    "\\end{matrix} \\right]\n",
    "$$\n",
    "\n",
    "Matrix associated with $CROT_k$ is:\n",
    "\n",
    "$$\n",
    "CROT_k = \\left[ \\begin{matrix}\n",
    "1 & 0 & 0 & 0 \\\\\n",
    "0 & 1 & 0 & 0 \\\\\n",
    "0 & 0 & 1 & 0 \\\\\n",
    "0 & 0 & 0 & \\exp \\left( \\frac{2 \\pi i}{2^k} \\right)\n",
    "\\end{matrix} \\right]\n",
    "$$"
   ]
  },
  {
   "cell_type": "markdown",
   "id": "b857fa6e",
   "metadata": {},
   "source": [
    "<a id=\"Seccion_2.4\"></a>\n",
    "## 2.4 - Quantum Fourier Transform Qiskit implementation"
   ]
  },
  {
   "cell_type": "markdown",
   "id": "22e6a55e",
   "metadata": {},
   "source": [
    "The previous expression can be translated into Qiskit code as follows:"
   ]
  },
  {
   "cell_type": "code",
   "execution_count": 29,
   "id": "c0a7eab3",
   "metadata": {},
   "outputs": [],
   "source": [
    "def create_QFT(circuit,up_reg,n,with_swaps):\n",
    "    \"\"\" Creates a circuit for the quantum fourier transform of up_reg \"\"\"\n",
    "    i=n-1\n",
    "    \"\"\" Apply the H gates and Cphases\"\"\"\n",
    "    \"\"\" The Cphases with |angle| < threshold are not created because they do\n",
    "    nothing. The threshold is put as being 0 so all CPhases are created,\n",
    "    but the clause is there so if wanted just need to change the 0 of the\n",
    "    if-clause to the desired value \"\"\"\n",
    "    while i>=0:\n",
    "        circuit.h(up_reg[i]) # Apply the H-gate to each qubit\n",
    "        j=i-1\n",
    "        while j>=0: # Do the controlled rotations\n",
    "            if (np.pi)/(pow(2,(i-j))) > 0:\n",
    "                circuit.cp( (np.pi)/(pow(2,(i-j))) , up_reg[i] , up_reg[j] )\n",
    "                j=j-1\n",
    "        i=i-1\n",
    "\n",
    "    \"\"\" If specified, apply the Swaps at the end \"\"\"\n",
    "    if with_swaps==1:\n",
    "        i=0\n",
    "        while i < ((n-1)/2):\n",
    "            circuit.swap(up_reg[i], up_reg[n-1-i])\n",
    "            i=i+1\n",
    "\n",
    "\n",
    "print('============================')\n",
    "#print('Example with the QFT defined in the script gates_and_function (depleted)')"
   ]
  },
  {
   "cell_type": "markdown",
   "source": [
    "Now we can add the QFT to a circuit and see the result:"
   ],
   "metadata": {
    "collapsed": false
   }
  },
  {
   "cell_type": "code",
   "execution_count": 30,
   "outputs": [],
   "source": [
    "reg = QuantumRegister(4)\n",
    "qc = QuantumCircuit(reg)\n",
    "create_QFT(qc, reg, 4, False)\n",
    "\n",
    "print(qc.draw(output = 'text'))"
   ],
   "metadata": {
    "collapsed": false
   }
  },
  {
   "cell_type": "markdown",
   "id": "1c0d8abe",
   "metadata": {},
   "source": [
    "<a id=\"Seccion_3\"></a>\n",
    "<table width=\"100%\">\n",
    "    <td style=\"font-size:25px;font-family:Helvetica;text-align:left;background-color:rgba(12, 43, 337, 0.3);\">\n",
    "<b>3 - Applications</b>\n",
    "</table>"
   ]
  },
  {
   "cell_type": "markdown",
   "id": "affe5dfa",
   "metadata": {},
   "source": [
    "The Quantum Fourier Transform (QFT) is a fundamental operation in quantum computing with various important and relevant applications. Some algorithms that use QFT are:\n",
    "- Shor's algorithm\n",
    "- Quantum Phase Estimation\n",
    "- The Hidden Subgroup Problem\n",
    "- Quantum Counting\n",
    "- ..."
   ]
  },
  {
   "cell_type": "markdown",
   "id": "e679edf6",
   "metadata": {},
   "source": [
    "<div class=\"warning\" style='padding:0.1em; background-color:#E0FFFF; color:#69337A'>\n",
    "<span>\n",
    "<p style='margin-left:1em;'>\n",
    "\n",
    "<span style=\"color:red\"><b>Nota<b></span>: Ejemplo de cuadro de notas\n",
    "    \n",
    "    \n",
    "</p>\n",
    "</span>\n",
    "</div>"
   ]
  },
  {
   "cell_type": "code",
   "execution_count": 31,
   "id": "8728f3b0",
   "metadata": {},
   "outputs": [],
   "source": [
    "# Esto sería para añadir figuras (como cuadro markdown, no python)\n",
    "\n",
    "# <div style=\"text-align:center\">\n",
    "# <img src=\"Figuras_Shor/Fig-QFT-1.png\" width=\"1000\"/>\n",
    "# </div>"
   ]
  },
  {
   "cell_type": "markdown",
   "id": "6671c86c",
   "metadata": {},
   "source": [
    "<a id=\"Bibliografía\"></a>\n",
    "## Bibliografía"
   ]
  },
  {
   "cell_type": "markdown",
   "id": "6d385dab",
   "metadata": {},
   "source": [
    "1. Beauregard, S. (2002). Circuit for Shor's algorithm using 2n+ 3 qubits, [quant-ph/0205095](https://arxiv.org/abs/quant-ph/0205095).\n",
    "\n",
    "2. [Quantum Fourier Transform (textbook Qiskit)](https://learn.qiskit.org/course/ch-algorithms/quantum-fourier-transform)"
   ]
  },
  {
   "cell_type": "code",
   "execution_count": 32,
   "id": "f3b812e3",
   "metadata": {},
   "outputs": [],
   "source": [
    "%qiskit_version_table"
   ]
  },
  {
   "cell_type": "markdown",
   "id": "ae269433",
   "metadata": {},
   "source": [
    "This work has been financially supported by the Ministry of Economic Affairs and Digital Transformation of the Spanish Government through the QUANTUM ENIA project call - Quantum Spain project, and by the European Union through the Recovery, Transformation and Resilience Plan - NextGenerationEU within the framework of the Digital Spain 2025 Agenda.\n",
    "\n",
    "\n",
    "<img align=\"left\" src=\"https://quantumspain-project.es/wp-content/uploads/2022/11/LOGOS-GOB_QS.png\" width=\"1000px\" />"
   ]
  }
 ],
 "metadata": {
  "kernelspec": {
   "display_name": "Python 3 (ipykernel)",
   "language": "python",
   "name": "python3"
  },
  "language_info": {
   "codemirror_mode": {
    "name": "ipython",
    "version": 3
   },
   "file_extension": ".py",
   "mimetype": "text/x-python",
   "name": "python",
   "nbconvert_exporter": "python",
   "pygments_lexer": "ipython3",
   "version": "3.10.6"
  },
  "toc": {
   "base_numbering": 1,
   "nav_menu": {},
   "number_sections": false,
   "sideBar": true,
   "skip_h1_title": false,
   "title_cell": "Table of Contents",
   "title_sidebar": "Contents",
   "toc_cell": false,
   "toc_position": {},
   "toc_section_display": true,
   "toc_window_display": false
  }
 },
 "nbformat": 4,
 "nbformat_minor": 5
}
