{
 "cells": [
  {
   "cell_type": "markdown",
   "id": "0875c43f",
   "metadata": {},
   "source": [
    "<a id='Notebook_Date'></a> Created: 2024/04/12\n",
    "\n",
    "$ \\newcommand{\\bra}[1]{\\langle #1|} $\n",
    "$ \\newcommand{\\ket}[1]{|#1\\rangle} $\n",
    "$ \\newcommand{\\braket}[2]{\\langle #1|#2\\rangle} $\n",
    "$ \\newcommand{\\i}{{\\color{blue} i}} $ \n",
    "$ \\newcommand{\\Hil}{{\\cal H}} $\n",
    "$ \\newcommand{\\cg}[1]{{\\rm C}#1} $\n",
    "$ \\newcommand{\\lp}{\\left(} $\n",
    "$ \\newcommand{\\rp}{\\right)} $\n",
    "$ \\newcommand{\\lc}{\\left[} $\n",
    "$ \\newcommand{\\rc}{\\right]} $\n",
    "$ \\newcommand{\\lch}{\\left\\{} $\n",
    "$ \\newcommand{\\rch}{\\right\\}} $\n",
    "$ \\newcommand{\\Lp}{\\Bigl(} $\n",
    "$ \\newcommand{\\Rp}{\\Bigr)} $\n",
    "$ \\newcommand{\\Lc}{\\Bigl[} $\n",
    "$ \\newcommand{\\Rc}{\\Bigr]} $\n",
    "$ \\newcommand{\\Lch}{\\Bigl\\{} $\n",
    "$ \\newcommand{\\Rch}{\\Bigr\\}} $\n",
    "$ \\newcommand{\\rqa}{\\quad \\Rightarrow \\quad} $"
   ]
  },
  {
   "cell_type": "markdown",
   "id": "81b282ff",
   "metadata": {},
   "source": [
    "<a id='sec_FTA_grover_t-sols'></a>\n",
    "# 3. Número conocido de soluciones"
   ]
  },
  {
   "cell_type": "markdown",
   "id": "104a7e33",
   "metadata": {},
   "source": [
    "<a id='sec_FTA_indice_grover_t_conocido'></a>\n",
    "## Índice\n",
    "\n",
    "- **[Generalización de las expresiones de la sección anterior para $M$ soluciones.](#sec_FTA_grover_t_conocido_expresiones)**\n",
    "- **[Número de iteraciones.](#sec_FTA_grover_t_conocido_iteraciones)**\n",
    "- **[Extra: Formulación recursiva de $k(t)$ y $l(t)$.](#sec_FTA_grover_t_conocido_extra)**\n",
    "- **[Bibliografía](#sec_FTA_grover_t_conocido_biblio)**"
   ]
  },
  {
   "cell_type": "markdown",
   "id": "5afe7da9",
   "metadata": {},
   "source": [
    "Vamos a empezar el análisis formal tratando el caso en el que **conocemos el número $M$ de soluciones** que hay en nuestro dataset. Es decir, tenemos $M$ valores diferentes $i$ que cumplen $L_i=x$. Denominemos $\\omega$ al conjunto de los $M$ valores $i$ que son solución, y denominemos $\\omega^\\perp$ al conjunto de los $N-M$ valores $i$ que no son solución\n",
    "\\begin{align}\n",
    "& \\boxed{\\omega = \\lch i | L_{i} = x \\rch }\n",
    "& \\boxed{\\omega^{\\perp} = \\lch i | L_{i} \\neq x \\rch}.\n",
    "\\end{align}"
   ]
  },
  {
   "cell_type": "markdown",
   "id": "684125f2",
   "metadata": {},
   "source": [
    "Supondremos también que **estamos en el caso en el que** $N = 2^n$ y que además partimos del estado de la [Ecuación](./Section_02_explicacion_geometrica.ipynb#ec_FTA_grover_geo_phi-0_1), es decir, de una **superposición uniforme**.\n",
    "\n",
    "<div class=\"alert alert-block alert-danger\">\n",
    "<b>Nota</b>: <i>Importante</i>\n",
    "<br>\n",
    "Uno de los pasos del algoritmo de Grover es una reflexión de las amplitudes respecto a la media. Esto implica que podemos tener los siguientes casos:\n",
    "    \n",
    "- $M < N/2$: El algoritmo funciona normal.\n",
    "- $M = N/2$: El algoritmo no funciona.\n",
    "- $M > N/2$: El algoritmo amplifica las soluciones incorrectas.\n",
    "</div>"
   ]
  },
  {
   "cell_type": "markdown",
   "id": "a1a3d31f",
   "metadata": {},
   "source": [
    "En esta sección vamos a seguir el artículo [[1]](#bib_FTA_Grover_Boyer_1998)."
   ]
  },
  {
   "cell_type": "markdown",
   "id": "b9d9087e",
   "metadata": {},
   "source": [
    "<a id='sec_FTA_grover_t_conocido_expresiones'></a>\n",
    "## Generalización de las expresiones de la sección anterior para $M$ soluciones."
   ]
  },
  {
   "cell_type": "markdown",
   "id": "1207e3d0",
   "metadata": {},
   "source": [
    "Vemos a reescribir las ecuaciones enmarcadas de la sección [anterior](./Section_02_explicacion_geometrica.ipynb#sec_FTA_grover_geo) para el caso de $M$ soluciones. Empecemos reescribiendo las expresiones del estado inicial de la [Ecuación](./Section_02_explicacion_geometrica.ipynb#ec_FTA_grover_geo_phi-0_2) y del estado $|\\Psi_j \\rangle $ de la [Ecuación](./Section_02_explicacion_geometrica.ipynb#ec_FTA_grover_geo_phi-j)\n",
    "\n",
    "<a id='ec_FTA_grover_t-sols_phi-0'></a>\n",
    "\\begin{equation} \\label{ec_FTA_grover_t-sols_phi-0}\n",
    "\\boxed{|\\Psi_0 \\rangle = | \\Psi (k(0),l(0)) \\rangle = \\sum_{i \\in \\omega} k(0) |i \\rangle + \\sum_{i  \\in \\omega^{\\perp}}  l(0)  |i \\rangle}, \\quad \\text{donde} \\quad \\boxed{k(0) = l(0) = \\frac{1}{\\sqrt{N}}}.\n",
    "\\end{equation}\n",
    "\n",
    "<a id='ec_FTA_grover_t-sols_phi-j'></a>\n",
    "\\begin{equation} \\label{ec_FTA_grover_t-sols_phi-j}\n",
    "\\boxed{|\\Psi(t) \\rangle = | \\Psi (k(t),l(t)) \\rangle = \\sum_{i \\in \\omega} k(t) |i \\rangle + \\sum_{i  \\in \\omega^{\\perp}} l(t) |i \\rangle }.\n",
    "\\end{equation}\n"
   ]
  },
  {
   "cell_type": "markdown",
   "id": "6cf8a54e",
   "metadata": {},
   "source": [
    "Vemos que ahora el primer sumatorio tiene $M$ elementos, mientras que el segundo tiene $N-M$. Por supuesto, se cumple que $|\\Psi(t) \\rangle$ tiene módulo 1, es decir\n",
    "\n",
    "<a id='ec_FTA_grover_t-sols_mod_1'></a>\n",
    "\\begin{equation} \\label{ec_FTA_grover_t-sols_mod_1}\n",
    "\\langle \\Psi(t) |\\Psi(t) \\rangle = \\boxed{ M k(t)^2 + (N-M) l(t)^2 = 1 \\, \\, \\forall t}.\n",
    "\\end{equation}\n"
   ]
  },
  {
   "cell_type": "markdown",
   "id": "2496744e",
   "metadata": {},
   "source": [
    "Podemos ahora también redefinir el estado $|\\omega^{\\perp} \\rangle$ de la [Ecuación](./Section_02_explicacion_geometrica.ipynb#ec_FTA_grover_geo_phi-j-s) y definir $| \\omega \\rangle$\n",
    "\n",
    "<a id='ec_FTA_grover_t-sols_omega_omega-perp'></a>\n",
    "\\begin{align} \\label{ec_FTA_grover_t-sols_omega_omega-perp}\n",
    "& \\boxed{| \\omega^{\\perp}  \\rangle = \\frac{1}{\\sqrt{N-M}}\\sum_{i \\in \\omega^{\\perp}}  |i \\rangle}\n",
    "& \\boxed{| \\omega  \\rangle = \\frac{1}{\\sqrt{M}}\\sum_{i \\in \\omega} | i \\rangle}\n",
    "\\end{align}\n",
    "de forma que\n",
    "\n",
    "<a id='ec_FTA_grover_t-sols_phi-j-s'></a>\n",
    "\\begin{equation} \\label{ec_FTA_grover_t-sols_phi-j-s}\n",
    "\\boxed{|\\Psi(t) \\rangle =  k(t) \\sqrt{M} |\\omega \\rangle + l(t) \\sqrt{N-M} | \\omega^{\\perp}  \\rangle}.\n",
    "\\end{equation}"
   ]
  },
  {
   "cell_type": "markdown",
   "id": "ecf29661",
   "metadata": {},
   "source": [
    "<div class=\"alert alert-block alert-danger\">\n",
    "<b>Nota</b>: \n",
    "<br>\n",
    "Nuevamente, los factores $\\sqrt{N-M}$ y $\\sqrt{M}$ en las definiciones de $| \\omega^{\\perp} \\rangle$ y $| \\omega \\rangle$ son para hacerlos vectores unitarios\n",
    "    \n",
    "\\begin{align}\n",
    "& \\langle \\omega^{\\perp} | \\omega^{\\perp} \\rangle = 1 \n",
    "& \\langle \\omega | \\omega \\rangle = 1 .\n",
    "\\end{align}\n",
    "</div>"
   ]
  },
  {
   "cell_type": "markdown",
   "id": "3a134042",
   "metadata": {},
   "source": [
    "Veamos ahora la expresión del esto inicial en función del ángulo $\\theta$ de la [Ecuación](./Section_02_explicacion_geometrica.ipynb#ec_FTA_grover_geo_theta)\n",
    "\n",
    "<a id='ec_FTA_grover_t-sols_theta'></a>\n",
    "\\begin{equation} \\label{ec_FTA_grover_t-sols_theta}\n",
    "| \\Psi_0 \\rangle = \\sin \\theta \\, |\\omega \\rangle + \\cos \\theta \\, | \\omega^{\\perp} \\rangle, \\qquad \\text{donde} \\qquad  \\boxed{\\sin \\theta = \\sqrt{\\frac{M}{N}}}.\n",
    "\\end{equation}"
   ]
  },
  {
   "cell_type": "markdown",
   "id": "85b47dfa",
   "metadata": {},
   "source": [
    "Nuevamente, comparando la [Ecuacion](#ec_FTA_grover_t-sols_theta) y la [Ecuación](#ec_FTA_grover_t-sols_phi-j-s) obtenemos las expresiones de $k(t)$ y $l(t)$ en función del ángulo $\\theta$\n",
    "\n",
    "<a id='ec_FTA_grover_t-sols_sin-cos'></a>\n",
    "\\begin{align} \\label{ec_FTA_grover_t-sols_sin-cos}\n",
    "& \\boxed{k(t) = \\frac{1}{\\sqrt{M}} \\sin \\Lc (2t+1) \\theta \\Rc}\n",
    "& \\boxed{l(t) = \\frac{1}{\\sqrt{N-M}}\\cos \\Lc (2t+1) \\theta \\Rc}.\n",
    "\\end{align}"
   ]
  },
  {
   "cell_type": "markdown",
   "id": "cb19c55d",
   "metadata": {},
   "source": [
    "Vemos que estas expresiones cumplen la [Ecuación](#ec_FTA_grover_t-sols_mod_1). \n",
    "Finalmente, por ser rigurosos (y por recopilar todas las ecuaciones juntas), tenemos que el oráculo ([Ecuación](./Section_02_explicacion_geometrica.ipynb#ec_FTA_grover_geo_Uw)), el difusor ([Ecuación](./Section_02_explicacion_geometrica.ipynb#ec_FTA_grover_geo_Us)) nos quedan:\n",
    "\n",
    "<a id='ec_FTA_grover_t-sols_Uw_Us'></a>\n",
    "\\begin{align} \\label{ec_FTA_grover_t-sols_Uw_Us}\n",
    "& \\boxed{U_\\omega | i \\rangle = \n",
    "\t\\lch\n",
    "\t\t\\begin{matrix}\n",
    "\t\t\t& | i \\rangle \\quad \\text{si } i \\not \\in \\omega \\\\\n",
    "\t\t\t& - | i \\rangle \\quad \\text{si } i \\in \\omega\n",
    "\t\t\\end{matrix}\n",
    "\t\\right.}\n",
    "& \\boxed{U_{\\Psi_0} = 2 |\\Psi_0 \\rangle \\langle \\Psi_0 | - I}.\n",
    "\\end{align}"
   ]
  },
  {
   "cell_type": "markdown",
   "id": "28fa546f",
   "metadata": {},
   "source": [
    "donde recordemos que denominamos operador de Grover a\n",
    "\n",
    "<a id='ec_FTA_grover_t-sols_G'></a>\n",
    "\\begin{equation} \\label{ec_FTA_grover_t-sols_G}\n",
    "\\boxed{G = U_{\\Psi_0} U_\\omega} \\rqa |\\Psi(t) \\rangle =  G^t | \\Psi_0 \\rangle.\n",
    "\\end{equation}\n",
    "\n",
    "Véase que el caso particular de una solución es, efectivamente, aquel con $M=1$."
   ]
  },
  {
   "cell_type": "markdown",
   "id": "9899834d",
   "metadata": {},
   "source": [
    "<a id='sec_FTA_grover_t_conocido_iteraciones'></a>\n",
    "## Número de iteraciones."
   ]
  },
  {
   "cell_type": "markdown",
   "id": "4521229d",
   "metadata": {},
   "source": [
    "Denominemos $T$ al **número de iteraciones para el cual la probabilidad de medir la solución correcta se maximiza**. Es decir, $l(T) \\approx 0$ y $k(T) \\approx 1$. Sabemos que $l(\\tilde{T}) =0$ cuando el coseno es igual cero, es decir:\n",
    "\n",
    "\\begin{equation}\n",
    "l(\\tilde{T}) = 0 \\rqa (2\\tilde{T}+1) \\theta = \\frac{\\pi}{2} \\rqa \\tilde{T} = \\frac{\\pi}{4 \\theta} - \\frac{1}{2}.\n",
    "\\end{equation}"
   ]
  },
  {
   "cell_type": "markdown",
   "id": "0ac3709c",
   "metadata": {},
   "source": [
    "Por regla general, este valor $\\tilde{T}$ no será un entero. Tomemos \n",
    "\n",
    "\\begin{equation} \n",
    "T = \\lfloor \\pi / 4 \\theta \\rfloor\n",
    "\\end{equation}\n",
    "\n",
    "donde la notación $\\lfloor \\alpha \\rfloor$ quiere decir que **redondeamos a un entero por truncamiento**. Véase que $|m-\\tilde{m}| \\leq 1/2$. Se sigue que $|(2T+1)\\theta - (2\\tilde{T}+1)\\theta | \\leq \\theta $. Pero $(2 \\tilde{T}+1) \\theta = \\pi/2$ por definición de $\\tilde{T}$. Con lo cual $\\left| \\cos \\Lp (2T+1) \\theta \\Rp \\right| \\leq | \\sin \\theta |$. Concluimos entonces que la probabilidad de fallo después de $T = \\lfloor \\pi / 4 \\theta \\rfloor$ es \n",
    "\n",
    "\\begin{equation}\n",
    "(N-M)l^2(T) = \\cos^2 \\Lp (2T+1) \\theta \\Rp \\leq \\sin^2 \\theta = \\frac{M}{N}\n",
    "\\end{equation}\n",
    "\n",
    "que es despreciable si $M \\ll N$. Véase que el $(N-M)$ de la expresión anterior es porque hay $(N-M)$ estados incorrectos que podemos medir, cada uno de ellos con probabilidad $l^2(T)$."
   ]
  },
  {
   "cell_type": "markdown",
   "id": "cc445c38",
   "metadata": {},
   "source": [
    "Véase que el algoritmo corre en un tiempo del orden de $\\mathcal{O}(\\sqrt{N/M})$ ya que\n",
    "\n",
    "<a id='ec_FTA_grover_t-sols_m'></a>\n",
    "\\begin{equation} \\label{ec_FTA_grover_t-sols_m}\n",
    "T \\leq \\frac{\\pi}{4 \\theta} \\approx \\frac{\\pi}{4 \\sin \\theta} \\approx \\frac{\\pi}{4} \\sqrt{\\frac{N}{M}} \\rqa \\boxed{T = \\left\\lfloor \\frac{\\pi}{4} \\sqrt{\\frac{N}{M}} \\right\\rfloor}.\n",
    "\\end{equation}"
   ]
  },
  {
   "cell_type": "markdown",
   "id": "a5dd0e55",
   "metadata": {},
   "source": [
    "<a id='sec_FTA_grover_t_conocido_extra'></a>\n",
    "## Extra: Formulación recursiva de $k(t)$ y $l(t)$."
   ]
  },
  {
   "cell_type": "markdown",
   "id": "2ff867c0",
   "metadata": {},
   "source": [
    "Ya hemos comentado en cada iteración se aplican lo dos operadores de la [Ecuación](#ec_FTA_grover_t-sols_Uw_Us), es decir\n",
    "\n",
    "<a id='ec_FTA_grover_t-sols_Psi_j+1_j'></a>\n",
    "\\begin{equation} \\label{ec_FTA_grover_t-sols_Psi_j+1_j}\n",
    "|\\Psi{(t+1)} \\rangle = U_{\\Psi_0} U_\\omega |\\Psi(t) \\rangle.\n",
    "\\end{equation}"
   ]
  },
  {
   "cell_type": "markdown",
   "id": "0a774924",
   "metadata": {},
   "source": [
    "Desarrollemos esta expresión para ver la relación de recursivida de los coeficientes, es decir, para ver la expresión de $k(t+1)$ y $l(t+1)$ en función de $k(t)$ y $l(t)$. Primero vamos el término $U_\\omega |\\Psi(t) \\rangle$ usando la expresión de $U_\\omega$ de la [Ecuación](#ec_FTA_grover_t-sols_Uw_Us):\n",
    "\n",
    "<a id='ec_FTA_grover_t-sols_aux_1'></a>\n",
    "\\begin{equation} \\label{ec_FTA_grover_t-sols_aux_1}\n",
    "U_\\omega |\\Psi(t) \\rangle =  - k(t)  \\sqrt{M}|\\omega \\rangle + l(t) \\sqrt{N-M} | \\omega^{\\perp} \\rangle.\n",
    "\\end{equation}"
   ]
  },
  {
   "cell_type": "markdown",
   "id": "bd12686f",
   "metadata": {},
   "source": [
    "Desarrollemos un poco la [Ecuación](#ec_FTA_grover_t-sols_Psi_j+1_j) y usando la expresión de $U_{\\Psi_0}$ de la  [Ecuación](#ec_FTA_grover_t-sols_Uw_Us):\n",
    "\n",
    "<a id='ec_FTA_grover_t-sols_aux_2'></a>\n",
    "\\begin{equation} \\label{ec_FTA_grover_t-sols_aux_2}\n",
    "\\begin{split}\n",
    "|\\Psi(t+1) \\rangle & =  U_{\\Psi_0} U_\\omega |\\Psi(t) \\rangle  \\\\\n",
    "& =  \\Bigl( 2 |\\Psi_0 \\rangle \\langle \\Psi_0 | - I \\Bigr) U_\\omega |\\Psi(t) \\rangle  \\\\ \n",
    "& =  2 |\\Psi_0 \\rangle \\langle \\Psi_0 |  U_\\omega |\\Psi(t) \\rangle  - U_\\omega |\\Psi(t) \\rangle .\n",
    "\\end{split}\n",
    "\\end{equation}"
   ]
  },
  {
   "cell_type": "markdown",
   "id": "359f0116",
   "metadata": {},
   "source": [
    "Usando la [Ecuación](#ec_FTA_grover_t-sols_aux_1) el término $\\langle \\Psi_0 |  U_\\omega |\\Psi(t) \\rangle$ nos queda\n",
    "\n",
    "<a id='ec_FTA_grover_t-sols_aux_3'></a>\n",
    "\\begin{equation} \\label{ec_FTA_grover_t-sols_aux_3}\n",
    "\\langle \\Psi_0 | U_\\omega |\\Psi(t) \\rangle = \\frac{1}{\\sqrt{N}} \\Lp -k(t) M + (N-M) l(t) \\Rp.\n",
    "\\end{equation}"
   ]
  },
  {
   "cell_type": "markdown",
   "id": "74cf62d1",
   "metadata": {},
   "source": [
    "<details><summary><p style=\"color:blue\" > >> <i>Cálculo de $\\langle \\Psi_0 |  U_\\omega |\\Psi (t) \\rangle$</i> </p></summary>\n",
    "<div class=\"alert alert-block alert-success\">\n",
    "<b>Cálculo</b>: \n",
    "<br>\n",
    "    \n",
    "Hacemos ahora el producto $ \\langle \\Psi_0 |  U_\\omega |\\Psi(t) \\rangle  =  \\langle \\Psi_0 | \\Lp U_\\omega |\\Psi(t) \\rangle \\Rp $ usando la [Ecuación](#ec_FTA_grover_t-sols_aux_1) \n",
    "\n",
    "\\begin{equation*}\n",
    "\\begin{split}\n",
    "\\langle \\Psi_0 | U_\\omega |\\Psi(t) \\rangle \n",
    "& = \\langle \\Psi_0 | \\Lp -k(t) \\sqrt{M} |\\omega \\rangle + l(t) \\, \\sqrt{N-M} | \\omega^{\\perp} \\rangle \\Rp \\\\\n",
    "& = \\Lp k(0) \\sqrt{M} \\langle \\omega| + l(0) \\, \\sqrt{N-M} \\langle \\omega^{\\perp} | \\Rp\n",
    "\\Lp -k(t) \\sqrt{M} |\\omega \\rangle + l(t) \\, \\sqrt{N-M} | \\omega^{\\perp} \\rangle \\Rp .\n",
    "\\end{split}\n",
    "\\end{equation*}\n",
    "\n",
    "Debido a la ortogonalidad de los estado (esto es, $\\langle i | j \\rangle =0$ si $j\\neq i$), y teniendo en cuanta que $k(0) = l(0) = 1/\\sqrt{N}$ tenemos\n",
    "\n",
    "\\begin{equation*} \n",
    "\\langle \\Psi_0 | U_\\omega |\\Psi(t) \\rangle = - k(0) k(t) M + (N-M) l(0) l(t) = \n",
    "\\frac{1}{\\sqrt{N}} \\Lp -k(t) M + (N-M) l(t) \\Rp.\n",
    "\\end{equation*}\n",
    "\n",
    "</div>\n",
    "</details>"
   ]
  },
  {
   "cell_type": "markdown",
   "id": "209f7042",
   "metadata": {},
   "source": [
    "Sustituyendo la [Ecuación](#ec_FTA_grover_t-sols_aux_1) y la [Ecuación](#ec_FTA_grover_t-sols_aux_3) en la [Ecuación](#ec_FTA_grover_t-sols_aux_2) tenemos:\n",
    "\n",
    "<a id='ec_FTA_grover_t-sols_aux_4'></a>\n",
    "\\begin{equation} \\label{ec_FTA_grover_t-sols_aux_4}\n",
    "|\\Psi(t+1) \\rangle  = \\lp \\frac{N-2M}{N} k(t) + \\frac{2(N-M)}{N} l(t) \\rp \\sum_{i \\in \\omega} | i \\rangle + \\lp \\frac{N-2M}{N} l(t) - \\frac{2M}{N} k(t) \\rp \\sum_{i \\in \\omega^{\\perp}} | i \\rangle.\n",
    "\\end{equation}"
   ]
  },
  {
   "cell_type": "markdown",
   "id": "e2468be8",
   "metadata": {},
   "source": [
    "<details><summary><p style=\"color:blue\" > >> <i>Cálculo de la ecuación anterior</i> </p></summary>\n",
    "<div class=\"alert alert-block alert-success\">\n",
    "<b>Cálculo</b>: \n",
    "<br>\n",
    "\n",
    "\\begin{align*}\n",
    "|\\Psi (t+1) \\rangle & = \n",
    "\\, 2  \\frac{1}{\\sqrt{N}} \\Lp -k(t) M + (N-M) l(t) \\Rp | \\Psi_0 \\rangle \n",
    "- k(t) \\sqrt{M} |\\omega \\rangle +  l(t) \\, \\sqrt{N-M} | \\omega^{\\perp} \\rangle  = \\\\\n",
    "& =  \\, \\frac{2}{\\sqrt{N}} \\Lp -k(t) M + (N-M) l(t) \\Rp  \\frac{1}{\\sqrt{N}} \\Lp \\sqrt{M} | \\omega \\rangle + \\sqrt{N-M} |\\omega^{\\perp} \\rangle \\Rp \\\\ \n",
    "& \\qquad + k(t) \\sqrt{M} |\\omega \\rangle  +   l(t) \\, \\sqrt{N-M} | \\omega^{\\perp} \\rangle = \\\\\n",
    "& =  \\, \\lc \\frac{2}{N} \\Lp -k(t) M + (N-M) l(t) \\Rp + k(t) \\rc \\sqrt{M}  | \\omega \\rangle   \\\\\n",
    "& \\qquad + \\lc \\frac{2}{N}  \\Lp -k(t) M + (N-M) l(t) \\Rp - l(t)  \\rc \\sqrt{N-M} | \\omega^{\\perp} \\rangle.\n",
    "\\end{align*}\n",
    "    \n",
    "Simplificando y teniendo en cuenta que las expresión de $| \\omega \\rangle$ y $|\\omega^{\\perp} \\rangle$ en la [Ecuación](#ec_FTA_grover_t-sols_omega_omega-perp), llegamos a la [Ecuación](#ec_FTA_grover_t-sols_aux_4).\n",
    "</div>\n",
    "</details>"
   ]
  },
  {
   "cell_type": "markdown",
   "id": "40035ff1",
   "metadata": {},
   "source": [
    "Finalmente llegamos a las relaciones:\n",
    "\n",
    "<a id='ec_FTA_grover_t-sols_k-l_j+1'></a>\n",
    "\\begin{align} \\label{ec_FTA_grover_t-sols_k-l_j+1}\n",
    "& \\boxed{k(t+1) = \\frac{N-2M}{N} k(t) + \\frac{2(N-M)}{N} l(t)},\n",
    "& \\boxed{l(t+1) = \\frac{N-2M}{N} l(t) - \\frac{2M}{N}k(t)}.\n",
    "\\end{align}"
   ]
  },
  {
   "cell_type": "markdown",
   "id": "5f58c004",
   "metadata": {},
   "source": [
    "<a id='sec_FTA_grover_t_conocido_biblio'></a>\n",
    "## Bibliografía\n",
    "\n",
    "[1]. Boyer, M., Brassard, G., Høyer, P., & Tapp, A. (1998). Tight bounds on quantum searching. [Fortschritte der Physik: Progress of Physics, 46(4‐5), 493-505.](https://doi.org/10.1002%2F%28sici%291521-3978%28199806%2946%3A4%2F5%3C493%3A%3Aaid-prop493%3E3.0.co%3B2-p) <a id='bib_FTA_Grover_Boyer_1998'></a>"
   ]
  },
  {
   "cell_type": "markdown",
   "id": "2a346042",
   "metadata": {},
   "source": [
    "---\n",
    "Autores:\n",
    "\n",
    "David Castaño ([UMA-SCBI](https://www.scbi.uma.es/site/)), Raul Fuentes ([BSC-CNS](https://www.bsc.es/es)), Daniel Talaván  ([Cenits](https://www.cenits.es/)), Francisco Matanza ([UNICAN](https://web.unican.es/))\n",
    "\n",
    "<img src=\"images/Logo_UMA.jpeg\"  width=\"170px\">\n",
    "<img src=\"images/BSC-blue-medium.png\" width=\"195px\">\n",
    "<img src=\"images/COMPUTAEX.jpg\" width=\"170px\">\n",
    "<img src=\"images/Logo_UNICAM.jpg\" width=\"210px\">\n",
    "\n",
    "\n",
    "---\n",
    "<figure><center>\n",
    "<img   src=\"https://quantumspain-project.es/wp-content/uploads/2022/11/Logo_QS_EspanaDigital.png\" align=center  width=\"2000px\"/>\n",
    "</center></figure>\n",
    "\n",
    "<center>\n",
    "<a rel=\"license\" href=\"http://creativecommons.org/licenses/by-sa/4.0/\">\n",
    "<img aling=\"left\" alt=\"Licencia Creative Commons\" style=\"border-width:0\" src=\"https://i.creativecommons.org/l/by-sa/4.0/88x31.png\" /></a>\n",
    "</center>\n",
    "\n",
    "License: <a rel=\"license\" href=\"http://creativecommons.org/licenses/by-sa/4.0/\">Licencia Creative Commons Atribución-CompartirIgual 4.0 Internacional</a>.\n",
    "\n",
    "This work has been financially supported by the Ministry for Digital Transformation and of Civil Service of the Spanish Government through the QUANTUM ENIA project call - Quantum Spain project, and by the European Union through the Recovery, Transformation and Resilience Plan - NextGenerationEU within the framework of the Digital Spain 2026 Agenda.\n",
    "\n",
    "<center>\n",
    "<img align=\"left\" src=\"https://quantumspain-project.es/wp-content/uploads/2024/02/Banner-QS_GOB_v2.png\" width=\"1000px\" />\n",
    "</center>"
   ]
  }
 ],
 "metadata": {
  "kernelspec": {
   "display_name": "Python 3 (ipykernel)",
   "language": "python",
   "name": "python3"
  },
  "language_info": {
   "codemirror_mode": {
    "name": "ipython",
    "version": 3
   },
   "file_extension": ".py",
   "mimetype": "text/x-python",
   "name": "python",
   "nbconvert_exporter": "python",
   "pygments_lexer": "ipython3",
   "version": "3.11.7"
  },
  "toc": {
   "base_numbering": 1,
   "nav_menu": {},
   "number_sections": false,
   "sideBar": true,
   "skip_h1_title": true,
   "title_cell": "Table of Contents",
   "title_sidebar": "Contents",
   "toc_cell": false,
   "toc_position": {},
   "toc_section_display": true,
   "toc_window_display": false
  }
 },
 "nbformat": 4,
 "nbformat_minor": 5
}
