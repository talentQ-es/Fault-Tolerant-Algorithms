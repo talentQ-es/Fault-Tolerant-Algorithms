{
 "cells": [
  {
   "cell_type": "code",
   "execution_count": 1,
   "metadata": {},
   "outputs": [],
   "source": [
    "import numpy as np\n",
    "from qibo import Circuit, gates"
   ]
  },
  {
   "cell_type": "code",
   "execution_count": 7,
   "metadata": {},
   "outputs": [
    {
     "name": "stdout",
     "output_type": "stream",
     "text": [
      "q0: ─\n",
      "q1: ─\n",
      "q2: ─\n",
      "q3: ─\n",
      "q4: ─\n"
     ]
    }
   ],
   "source": [
    "# generate an empty quantum circuit with 5 qubits\n",
    "nqubits = 5\n",
    "circ = Circuit(nqubits)\n",
    "print(circ.draw())"
   ]
  },
  {
   "cell_type": "code",
   "execution_count": 8,
   "metadata": {},
   "outputs": [],
   "source": [
    "def initialize_uniform_dist_Hadammads(nqubits,ancilla=0):\n",
    "    \"\"\"\n",
    "    This function adds Hadammard gates to all the qubits in a circuit.\n",
    "\n",
    "    Inputs:\n",
    "    ------\n",
    "        - nqubits: `int`. Number of qubits of the circuit\n",
    "        - ancilla: `int`. Number of ancilla qubits. No H gate is applied to them.\n",
    "    Outputs:\n",
    "    ------\n",
    "        -circuit_init: `circuit` with a Hadamard gate applied to each qubit\n",
    "        \n",
    "    \"\"\"\n",
    "\n",
    "    circuit_init = Circuit(nqubits+ancilla)  # start an empty circuit of nqubits\n",
    "    circuit_init.add([gates.H(i) for i in range(nqubits)])  # add a H to each qubit, inline loop\n",
    "\n",
    "    return circuit_init"
   ]
  },
  {
   "cell_type": "code",
   "execution_count": 9,
   "metadata": {},
   "outputs": [
    {
     "name": "stdout",
     "output_type": "stream",
     "text": [
      "q0: ─H─\n",
      "q1: ─H─\n",
      "q2: ─H─\n",
      "q3: ─H─\n",
      "q4: ─H─\n"
     ]
    }
   ],
   "source": [
    "circ = circ + initialize_uniform_dist_Hadammads(nqubits) #adding circuits\n",
    "print(circ.draw())"
   ]
  },
  {
   "cell_type": "code",
   "execution_count": 10,
   "metadata": {},
   "outputs": [],
   "source": [
    "list_desired = [30, 15, 1]  # list of ints to amplify"
   ]
  },
  {
   "cell_type": "code",
   "execution_count": 11,
   "metadata": {},
   "outputs": [],
   "source": [
    "def list_to_binary(nqubits, list_desired):\n",
    "    \"\"\"\n",
    "    This functions translates a list of ints to binary.\n",
    "    These ints are the numbers that will get amplified by the Grover's algorithm when using the trivial oracle.\n",
    "\n",
    "    Inputs:\n",
    "    ------\n",
    "        - nqubits: `int`. Number of qubits of the circuit\n",
    "        - list_desired: `list` of `ints`. The binary form of each int must fit in nqubits bits\n",
    "        \n",
    "    Outputs:\n",
    "    ------\n",
    "        - binary_list: `list` of `str` with the binary form of the ints in list_desired\n",
    "        \n",
    "    \"\"\"\n",
    "\n",
    "    binary_list = [] #empty lsit\n",
    "    for b in list_desired:\n",
    "        if len(bin(b))-2 > nqubits: #looks if each number in list_desired can fit in nqubits\n",
    "            raise ValueError(\"list_desired does not fit in the number of qubits\")\n",
    "        else: #generates a list of strings with the binary form of each int in list_desired\n",
    "            binary_list.append(bin(b)[2:].zfill(nqubits))\n",
    "\n",
    "    return binary_list"
   ]
  },
  {
   "cell_type": "code",
   "execution_count": 12,
   "metadata": {},
   "outputs": [
    {
     "name": "stdout",
     "output_type": "stream",
     "text": [
      "['11110', '01111', '00001']\n"
     ]
    }
   ],
   "source": [
    "list_binary = list_to_binary(nqubits,list_desired)\n",
    "print(list_binary)"
   ]
  },
  {
   "cell_type": "code",
   "execution_count": 13,
   "metadata": {},
   "outputs": [],
   "source": [
    "def oracle_trivial(nqubits, list_desired):\n",
    "    \"\"\"\n",
    "    This functions generates a Grover oracle that phase-tags a list of binary numbers.\n",
    "    Each number get tagged by a CZ gate applied to all qubits and X gates applied before and after the CZ to the qubits corresponding with '0's in each binary number.\n",
    "\n",
    "    Inputs:\n",
    "    ------\n",
    "        - nqubits: `int`. Number of qubits of the circuit\n",
    "        - list_desired: `list` of `ints`. The binary form of each int must fit in nqubits bits\n",
    "\n",
    "    Outputs:\n",
    "    ------\n",
    "        - oracle: `circuit`, that phase-tags the desired states\n",
    "        \n",
    "    \"\"\"\n",
    "    binary_list=list_to_binary(nqubits,list_desired)\n",
    "    oracle = Circuit(nqubits)  #starts an empty circuit of nqubits\n",
    "\n",
    "    for b in binary_list:\n",
    "        for j, i in enumerate(b): \n",
    "            #add a X gate to each qubit corresponding with '0' in the binary number\n",
    "            if i == \"0\": \n",
    "                oracle.add(gates.X(j))\n",
    "\n",
    "        oracle.add(gates.Z(nqubits - 1).controlled_by(*range(nqubits)[0 : len(range(nqubits - 1))]))  \n",
    "        # CZ to all qubits. Target qubit election does not matter\n",
    "\n",
    "        for j, i in enumerate(b): \n",
    "            #add a X gate to each qubit corresponding with '0' in the binary number\n",
    "            if i == \"0\":\n",
    "                oracle.add(gates.X(j))\n",
    "\n",
    "    return oracle"
   ]
  },
  {
   "cell_type": "code",
   "execution_count": 14,
   "metadata": {},
   "outputs": [
    {
     "name": "stdout",
     "output_type": "stream",
     "text": [
      "q0: ───o─X─o─X─X─o─X─\n",
      "q1: ───o───o─X───o─X─\n",
      "q2: ───o───o─X───o─X─\n",
      "q3: ───o───o─X───o─X─\n",
      "q4: ─X─Z─X─Z─────Z───\n"
     ]
    }
   ],
   "source": [
    "oracle = oracle_trivial(nqubits, list_desired)\n",
    "print(oracle.draw())"
   ]
  },
  {
   "cell_type": "code",
   "execution_count": 15,
   "metadata": {},
   "outputs": [],
   "source": [
    "def grover_diffuser(nqubits,ancilla=0):\n",
    "    \"\"\"\n",
    "    This functions generates the Grover diffuser circuit for nqubits. \n",
    "\n",
    "    Inputs:\n",
    "    ------\n",
    "        - nqubits: `int`. Number of qubits of the circuit\n",
    "        - ancilla: `int`. Optional. Number of ancilla qubits, no gate is applied to them. \n",
    "    Outputs:\n",
    "    ------\n",
    "        - diffuser: `Circuit`. A qibo implementation of the Grover diffuser\n",
    "        \n",
    "    \"\"\"\n",
    "    diffuser = Circuit(nqubits+ancilla)  # empty circuit of nqubits+ancilla\n",
    "\n",
    "\n",
    "    #this function assumes the ancilla qubits will be the last in the circuit, should me changed otherwise\n",
    "    diffuser.add([gates.H(i) for i in range(nqubits)])\n",
    "    diffuser.add([gates.X(i) for i in range(nqubits)])\n",
    "    # added H and X gates to all qubits\n",
    "\n",
    "    diffuser.add(gates.Z(nqubits - 1).controlled_by(*range(nqubits)[0 : len(range(nqubits - 1))]))\n",
    "    # CZ to all qubits. Target qubit election does not matter\n",
    "\n",
    "    diffuser.add([gates.X(i) for i in range(nqubits)])\n",
    "    diffuser.add([gates.H(i) for i in range(nqubits)])\n",
    "    # added X and H gates to all qubits\n",
    "\n",
    "    return diffuser"
   ]
  },
  {
   "cell_type": "code",
   "execution_count": 16,
   "metadata": {},
   "outputs": [
    {
     "name": "stdout",
     "output_type": "stream",
     "text": [
      "q0: ─H─X─o─X─H─\n",
      "q1: ─H─X─o─X─H─\n",
      "q2: ─H─X─o─X─H─\n",
      "q3: ─H─X─o─X─H─\n",
      "q4: ─H─X─Z─X─H─\n"
     ]
    },
    {
     "data": {
      "text/plain": [
       "qibo.models.circuit.Circuit"
      ]
     },
     "execution_count": 16,
     "metadata": {},
     "output_type": "execute_result"
    }
   ],
   "source": [
    "print(grover_diffuser(nqubits).draw())\n",
    "type(grover_diffuser(5))"
   ]
  },
  {
   "cell_type": "code",
   "execution_count": 17,
   "metadata": {},
   "outputs": [],
   "source": [
    "def Iterations_T(N, M):\n",
    "    \"\"\"\n",
    "    This functions calculates the number of iterations of Oracle+Diffuser required to amplify the desired states\n",
    "\n",
    "    Inputs\n",
    "    ------\n",
    "        - N: `int`. It is the total number of states, usually, N=2**nqubits\n",
    "        - M: `int`. It is the number of states to amplify. In this case, M=len(list_desired)\n",
    "        \n",
    "    Outputs:\n",
    "    ------\n",
    "        - num_int: `int`. The required number of repetitions of the pair Oracle+Diffuser needed to reach maximun amplification\n",
    "    \"\"\"\n",
    "\n",
    "    num_it=int(np.pi / 4 * np.sqrt(N / M))  # rounding by truncation\n",
    "\n",
    "    return num_it"
   ]
  },
  {
   "cell_type": "code",
   "execution_count": 18,
   "metadata": {},
   "outputs": [
    {
     "name": "stdout",
     "output_type": "stream",
     "text": [
      "2\n"
     ]
    }
   ],
   "source": [
    "num_it = Iterations_T(N=2**nqubits, M=len(list_desired))\n",
    "print(num_it)"
   ]
  },
  {
   "cell_type": "code",
   "execution_count": 20,
   "metadata": {},
   "outputs": [],
   "source": [
    "def grover_iterator(num_it, oracle, diffuser):\n",
    "    \"\"\"'\n",
    "    This functions returns a circuit whith the correct number of iteratios of the pair oracle+diffuser.\n",
    "    The number of qubits of the oracle and the diffuser must be the same.\n",
    "\n",
    "    Inputs:\n",
    "    ------\n",
    "        - num_it: `int`. Output of Iterations_T(N,M)\n",
    "        - oracle: `circuit`. Grover oracle that phase-tags desired states\n",
    "        - diffuser: `circuit`. Grover diffuser\n",
    "\n",
    "    Outputs:\n",
    "    ------\n",
    "        - grover: `circuit` with the required repetitions of oracle+diffuser\n",
    "\n",
    "    \"\"\"\n",
    "    if oracle.nqubits == diffuser.nqubits: #check if the number of qubits of the oracle and the diffuser is the same\n",
    "        grover = Circuit(oracle.nqubits) #creates an empty circuit of nqubits\n",
    "    else: #raises an error if the number of qubits of the oracle and the diffuser is not the same\n",
    "        raise ValueError(\"Error: not the same number of qubits in oracle and diffuser\")\n",
    "    \n",
    "    for i in range(num_it): #repeats the oracle+diffuser the required amount of times\n",
    "        grover = grover + oracle + diffuser\n",
    "    return grover"
   ]
  },
  {
   "cell_type": "code",
   "execution_count": 21,
   "metadata": {},
   "outputs": [],
   "source": [
    "### a complete example of this Grover's algorithm implementation\n",
    "\n",
    "nqubits = 6 #number of qubits\n",
    "list_desired = [*range(0,int(2**nqubits/4),1)] #states to amplify\n",
    "\n",
    "circ_complete = initialize_uniform_dist_Hadammads(nqubits) + grover_iterator(\n",
    "    num_it=Iterations_T(N=2**nqubits, M=len(list_desired)),\n",
    "    oracle=oracle_trivial(nqubits, list_desired),\n",
    "    diffuser=grover_diffuser(nqubits),\n",
    ") #circuit with inizialization and the correct number of repetitions of oracle+diffuser\n",
    "\n",
    "# add measures\n",
    "circ_complete.add([gates.M(i) for i in range(nqubits)])\n",
    "\n",
    "#print(circ_complete.draw())"
   ]
  },
  {
   "cell_type": "code",
   "execution_count": 24,
   "metadata": {},
   "outputs": [
    {
     "name": "stdout",
     "output_type": "stream",
     "text": [
      "Counter({2: 127611, 11: 127248, 5: 126545, 8: 126304, 1: 125498, 7: 125354, 12: 125163, 0: 125007, 4: 124541, 9: 124483, 14: 124114, 6: 124112, 10: 124106, 3: 123499, 13: 123482, 15: 122933})\n"
     ]
    }
   ],
   "source": [
    "# run the simulation\n",
    "result = circ_complete(nshots=2000000)\n",
    "print(result.frequencies(binary=False))"
   ]
  },
  {
   "cell_type": "code",
   "execution_count": 25,
   "metadata": {},
   "outputs": [],
   "source": [
    "#### now, with the qibo functions for the grover's algorithm"
   ]
  },
  {
   "cell_type": "code",
   "execution_count": 26,
   "metadata": {},
   "outputs": [],
   "source": [
    "def matrix_unitary(nqubits, list_desired):\n",
    "    \"\"\"\n",
    "    This function generates an unitary matrix which phase-tags the desired quantum states.\n",
    "    This matrix is the mathematical representation of a Grover oracle.\n",
    "    The output matrix is square with dimensions of (2**nqubits, 2**nqubits)\n",
    "\n",
    "    Inputs:\n",
    "    ------\n",
    "        - nqubits: `int`. Number of qubits.\n",
    "        - list_desired: `list` of `ints`. The max value must be <2**nqubits\n",
    "\n",
    "    Outputs:\n",
    "    ------\n",
    "        - matrix: `numpy.ndarray`. The unitary matrix generated\n",
    "\n",
    "    \"\"\"\n",
    "\n",
    "    N = 2**nqubits \n",
    "\n",
    "    v = [1] * N\n",
    "\n",
    "    if max(list_desired) >= N:\n",
    "\n",
    "        raise ValueError(\n",
    "            \"Error: some desired value does not fit in the number of qubits selected\"\n",
    "        )\n",
    "\n",
    "    for i in range(N):\n",
    "\n",
    "        if i in list_desired:\n",
    "\n",
    "            v[i] = -1  # pi-phase marking\n",
    "\n",
    "    matrix = np.diag(v)\n",
    "\n",
    "    return matrix"
   ]
  },
  {
   "cell_type": "code",
   "execution_count": 27,
   "metadata": {},
   "outputs": [],
   "source": [
    "def oracle_unitary(nqubits, list_desired):\n",
    "    \"\"\"\n",
    "    This function generates a Grover oracle that phase-tags the desired values.\n",
    "    It uses the `gates.Unitary()` method. To do so, an unitary matrix is generated by `matrix_unitary` `function`.\n",
    "    An ancilla qubit is added as the qibo function Grover() needs the oracle to have 1 ancilla qubit. No gate is applied to this qubit.\n",
    "\n",
    "    Inputs:\n",
    "    ------\n",
    "        - nqubits: `int`. Number of qubits.\n",
    "        - list_desired: `list` of `ints`. The max value must be <2**nqubits\n",
    "\n",
    "    Outputs:\n",
    "    ------\n",
    "        - orace: `circuit`, that phase-tags the desired states\n",
    "\n",
    "    \"\"\"\n",
    "\n",
    "    matrix = matrix_unitary(nqubits, list_desired)\n",
    "    oracle = Circuit(nqubits + 1) #this +1 is needed to use Grover() later\n",
    "\n",
    "    oracle.add([gates.Unitary(matrix, *range(nqubits))])\n",
    "    return oracle"
   ]
  },
  {
   "cell_type": "code",
   "execution_count": 28,
   "metadata": {},
   "outputs": [],
   "source": [
    "from qibo.models import Grover"
   ]
  },
  {
   "cell_type": "code",
   "execution_count": 29,
   "metadata": {},
   "outputs": [
    {
     "name": "stdout",
     "output_type": "stream",
     "text": [
      "(['0000010', '0001001', '0000110'], 5)\n"
     ]
    }
   ],
   "source": [
    "#example of the Grover's algorithm completely automated by using the qibo functions\n",
    "nqubits=7\n",
    "list_desired=[2,9,6] \n",
    "oracle_1=oracle_unitary(nqubits,list_desired)\n",
    "grover = Grover(oracle_1, superposition_circuit=initialize_uniform_dist_Hadammads(nqubits), number_solutions=len(list_desired))\n",
    "result_grover=grover.execute(nshots=20000,freq=True)\n",
    "print(result_grover)\n"
   ]
  },
  {
   "cell_type": "code",
   "execution_count": 33,
   "metadata": {},
   "outputs": [],
   "source": [
    "# Grover's algorithm to solve the 2x2 sudoku:"
   ]
  },
  {
   "cell_type": "code",
   "execution_count": 34,
   "metadata": {},
   "outputs": [],
   "source": [
    "def Xor_2qubits(circuit,q1,q2,ancilla):\n",
    "    \"\"\"\n",
    "    This function add gates to a circuit equivalent to a XOR. \n",
    "    Two CX gates are added to the circuit controlled by q1 and q2, both targeting the ancilla qubit\n",
    "\n",
    "    Inputs:\n",
    "    ------\n",
    "        - circuit: `circuit` to add the gates\n",
    "        - q1: `int`, number of the first control qubit\n",
    "        - q2: `int`, number of the second control qubit\n",
    "        - ancilla: `int`, number of the target qubit\n",
    "\n",
    "    Outputs:\n",
    "    ------\n",
    "        - circuit: `circuit`with the XOR equivalent gates added\n",
    "\n",
    "    \"\"\"\n",
    "    circuit.add(gates.X(ancilla).controlled_by(q1))\n",
    "    circuit.add(gates.X(ancilla).controlled_by(q2))\n",
    "    return circuit"
   ]
  },
  {
   "cell_type": "code",
   "execution_count": 35,
   "metadata": {},
   "outputs": [
    {
     "name": "stdout",
     "output_type": "stream",
     "text": [
      "q0: ─o───\n",
      "q1: ─|─o─\n",
      "q2: ─X─X─\n"
     ]
    }
   ],
   "source": [
    "test=Circuit(3)\n",
    "circuit=Xor_2qubits(test,0,1,2)\n",
    "print(circuit.draw())"
   ]
  },
  {
   "cell_type": "code",
   "execution_count": 36,
   "metadata": {},
   "outputs": [],
   "source": [
    "def sudoku_oracle(nqubits,clause_list):\n",
    "    \"\"\"\n",
    "    This function creates a Grover oracle that phase-tags the solutions to the sudoku.\n",
    "\n",
    "    Inputs:\n",
    "    ------\n",
    "        - nqubits: `int`\n",
    "        - clause_list: `list` of `tuple`\n",
    "\n",
    "    Outputs:\n",
    "    ------\n",
    "        - oracle: `circuit` that phase-tags the desired states\n",
    "\n",
    "    \"\"\"\n",
    "\n",
    "    nancilla = len(clause_list)\n",
    "    total_qubits = nqubits+nancilla\n",
    "    if nqubits != nancilla:\n",
    "            raise ValueError(\"Error: the number of qubits must be equal than the number of clauses\")\n",
    "    \n",
    "    \n",
    "    oracle = Circuit(nqubits+nancilla)\n",
    "\n",
    "    for j,clause in enumerate(clause_list):\n",
    "        Xor_2qubits(oracle,clause[0], clause[1], nqubits+j)\n",
    "    \n",
    "    oracle.add(gates.Z(total_qubits - 1).controlled_by(*range(total_qubits)[nqubits : len(range(total_qubits - 1))]))\n",
    "        \n",
    "    for j,clause in enumerate(clause_list):\n",
    "        Xor_2qubits(oracle,clause[0], clause[1], nqubits+j)\n",
    "\n",
    "    return oracle"
   ]
  },
  {
   "cell_type": "code",
   "execution_count": 37,
   "metadata": {},
   "outputs": [
    {
     "name": "stdout",
     "output_type": "stream",
     "text": [
      "q0: ─o───o─────────────o───o───────────\n",
      "q1: ─|─o─|───o─────────|─o─|───o───────\n",
      "q2: ─|─|─|─o─|───o─────|─|─|─o─|───o───\n",
      "q3: ─|─|─|─|─|─o─|─o───|─|─|─|─|─o─|─o─\n",
      "q4: ─X─X─|─|─|─|─|─|─o─X─X─|─|─|─|─|─|─\n",
      "q5: ─────X─X─|─|─|─|─o─────X─X─|─|─|─|─\n",
      "q6: ─────────X─X─|─|─o─────────X─X─|─|─\n",
      "q7: ─────────────X─X─Z─────────────X─X─\n"
     ]
    }
   ],
   "source": [
    "clause_list = [ (0,1), (0,2), (1,3), (2,3)]\n",
    "print(sudoku_oracle(4,clause_list).draw())"
   ]
  },
  {
   "cell_type": "code",
   "execution_count": 38,
   "metadata": {},
   "outputs": [
    {
     "name": "stdout",
     "output_type": "stream",
     "text": [
      "q0:     ─H─o───o─────────────o───o───────────H─X─o─X─H─o───o─────────────o───o ...\n",
      "q1:     ─H─|─o─|───o─────────|─o─|───o───────H─X─o─X─H─|─o─|───o─────────|─o─| ...\n",
      "q2:     ─H─|─|─|─o─|───o─────|─|─|─o─|───o───H─X─o─X─H─|─|─|─o─|───o─────|─|─| ...\n",
      "q3:     ─H─|─|─|─|─|─o─|─o───|─|─|─|─|─o─|─o─H─X─Z─X─H─|─|─|─|─|─o─|─o───|─|─| ...\n",
      "q4:     ───X─X─|─|─|─|─|─|─o─X─X─|─|─|─|─|─|───────────X─X─|─|─|─|─|─|─o─X─X─| ...\n",
      "q5:     ───────X─X─|─|─|─|─o─────X─X─|─|─|─|───────────────X─X─|─|─|─|─o─────X ...\n",
      "q6:     ───────────X─X─|─|─o─────────X─X─|─|───────────────────X─X─|─|─o────── ...\n",
      "q7:     ───────────────X─X─Z─────────────X─X───────────────────────X─X─Z────── ...\n",
      "\n",
      "q0: ... ───────────H─X─o─X─H─o───o─────────────o───o───────────H─X─o─X─H─M─\n",
      "q1: ... ───o───────H─X─o─X─H─|─o─|───o─────────|─o─|───o───────H─X─o─X─H─M─\n",
      "q2: ... ─o─|───o───H─X─o─X─H─|─|─|─o─|───o─────|─|─|─o─|───o───H─X─o─X─H─M─\n",
      "q3: ... ─|─|─o─|─o─H─X─Z─X─H─|─|─|─|─|─o─|─o───|─|─|─|─|─o─|─o─H─X─Z─X─H─M─\n",
      "q4: ... ─|─|─|─|─|───────────X─X─|─|─|─|─|─|─o─X─X─|─|─|─|─|─|─────────────\n",
      "q5: ... ─X─|─|─|─|───────────────X─X─|─|─|─|─o─────X─X─|─|─|─|─────────────\n",
      "q6: ... ───X─X─|─|───────────────────X─X─|─|─o─────────X─X─|─|─────────────\n",
      "q7: ... ───────X─X───────────────────────X─X─Z─────────────X─X─────────────\n"
     ]
    }
   ],
   "source": [
    "#example of grover's algorithm for the sudoku problem\n",
    "nqubits = 4 #number of qubits\n",
    "\n",
    "\n",
    "circ_complete = initialize_uniform_dist_Hadammads(nqubits,ancilla=len(clause_list)) + grover_iterator(\n",
    "    num_it=Iterations_T(N=2**nqubits, M=1),\n",
    "    oracle=sudoku_oracle(nqubits,clause_list),\n",
    "    diffuser=grover_diffuser(nqubits,ancilla=len(clause_list)),\n",
    ") #circuit with inizialization and the correct number of repetitions of oracle+diffuser\n",
    "\n",
    "# add measures\n",
    "circ_complete.add([gates.M(i) for i in range(nqubits)])\n",
    "print(circ_complete.draw())"
   ]
  },
  {
   "cell_type": "code",
   "execution_count": 39,
   "metadata": {},
   "outputs": [
    {
     "name": "stdout",
     "output_type": "stream",
     "text": [
      "Counter({6: 330211, 9: 329597, 12: 96248, 2: 96125, 13: 96104, 1: 95978, 11: 95885, 8: 95742, 7: 95703, 5: 95659, 14: 95632, 4: 95574, 0: 95550, 3: 95531, 10: 95510, 15: 94951})\n"
     ]
    }
   ],
   "source": [
    "result = circ_complete(nshots=2000000)\n",
    "print(result.frequencies(binary=False))"
   ]
  },
  {
   "cell_type": "code",
   "execution_count": null,
   "metadata": {},
   "outputs": [],
   "source": []
  },
  {
   "cell_type": "code",
   "execution_count": null,
   "metadata": {},
   "outputs": [],
   "source": []
  }
 ],
 "metadata": {
  "kernelspec": {
   "display_name": "qibo_env",
   "language": "python",
   "name": "python3"
  },
  "language_info": {
   "codemirror_mode": {
    "name": "ipython",
    "version": 3
   },
   "file_extension": ".py",
   "mimetype": "text/x-python",
   "name": "python",
   "nbconvert_exporter": "python",
   "pygments_lexer": "ipython3",
   "version": "3.11.7"
  }
 },
 "nbformat": 4,
 "nbformat_minor": 2
}
