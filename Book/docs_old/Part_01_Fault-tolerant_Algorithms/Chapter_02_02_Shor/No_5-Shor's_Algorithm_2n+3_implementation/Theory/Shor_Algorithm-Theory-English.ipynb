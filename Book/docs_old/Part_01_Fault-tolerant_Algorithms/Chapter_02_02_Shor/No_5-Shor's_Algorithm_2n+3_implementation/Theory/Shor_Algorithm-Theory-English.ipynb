{
 "cells": [
  {
   "cell_type": "markdown",
   "id": "168c0c1b",
   "metadata": {},
   "source": [
    "<img align=\"left\" src=\"https://quantumspain-project.es/wp-content/uploads/2022/11/Logo_QS_EspanaDigital.png\" width=\"1000px\"/><br><br><br><br>\n",
    "\n",
    "\n",
    "\n",
    "# Fault-tolerant Algorithms\n",
    "\n",
    "Created: 16/06/2023\n",
    "\n",
    "<a rel=\"license\" href=\"http://creativecommons.org/licenses/by-sa/4.0/\"><img aling=\"left\" alt=\"Licencia Creative Commons\" style=\"border-width:0\" src=\"https://i.creativecommons.org/l/by-sa/4.0/88x31.png\" /></a><br />License: <a rel=\"license\" href=\"http://creativecommons.org/licenses/by-sa/4.0/\">License Creative Commons Atribución-CompartirIgual 4.0 Internacional</a>.\n",
    "\n",
    "Internal Reviewers: \n",
    "* Alba Cervera ([BSC-CNS](https://www.bsc.es/))\n",
    "* Andrés Gómez ([CESGA](http://www.cesga.es))\n",
    "\n",
    "Authors:\n",
    "* David Castaño ([Scbi-UMA](https://www.scbi.uma.es/site/))\n",
    "* Javier Sánchez ([Cénits](https://www.cenits.es/))\n",
    "* Alejandro Cano ([UNICAN](https://web.unican.es/))\n",
    "* Raúl Fuentes ([BSC-CNS](https://www.bsc.es/))\n"
   ]
  },
  {
   "cell_type": "code",
   "execution_count": 1,
   "id": "d65ac7ad",
   "metadata": {},
   "outputs": [],
   "source": [
    "import matplotlib.pyplot as plt\n",
    "import numpy as np\n",
    "from qiskit import QuantumCircuit, Aer, transpile, assemble\n",
    "from qiskit.visualization import plot_histogram\n",
    "import qiskit.tools.jupyter\n",
    "import math\n",
    "from math import gcd\n",
    "from numpy.random import randint\n",
    "import pandas as pd\n",
    "from fractions import Fraction\n",
    "%matplotlib inline"
   ]
  },
  {
   "cell_type": "markdown",
   "id": "d43ec867",
   "metadata": {},
   "source": [
    "<table width=\"100%\">\n",
    "    <td style=\"font-size:40px;font-family:Helvetica;text-align:left;background-color:rgba(12, 43, 337, 0.3);\">\n",
    "<b>Shor Algorithm (Qiskit) </b>\n",
    "</table>  "
   ]
  },
  {
   "cell_type": "markdown",
   "id": "1918f55f",
   "metadata": {},
   "source": [
    "<table width=\"100%\">\n",
    "    <td style=\"font-size:30px;font-family:Helvetica;text-align:left;background-color:rgba(12, 43, 337, 0.3);\">\n",
    "<b>Table of Contents</b>\n",
    "</table>  "
   ]
  },
  {
   "cell_type": "markdown",
   "id": "3783a820",
   "metadata": {},
   "source": [
    "- **[1 - Introduction](#Introduction)**\n",
    "    - **[1.1 - Cryptography and factorization](#Cryptography-and-factorization)**\n",
    "    - **[1.2 - Factorization algorithm](#Factorization-algorithm)**\n",
    "    - **[1.3 - Qualitative Explanation](#Qualitative-Explanation)**\n",
    "    - **[1.4 - Mathematical Formalism](#Formalism)**\n",
    "        - **[1.4.1 - Periodicity of $f(x)$](#Periodicity)**\n",
    "        - **[1.4.2 - Factors of $N$ from period $r$](#Factors-N)**\n",
    "    - **[1.5 - Period finding by quantum computer](#Period-finding-by-quantum-computer)**\n"
   ]
  },
  {
   "cell_type": "markdown",
   "id": "ce48485d",
   "metadata": {},
   "source": [
    "- **[2 - Quantum Fourier Transform (QFT)](#Quantum-Fourier-Transform)**\n",
    "    - **[2.1 - Formula](#QFT-Formula)**\n",
    "    - **[2.2 - Circuit](#QFT-Circuit)**"
   ]
  },
  {
   "cell_type": "markdown",
   "id": "54f92931",
   "metadata": {},
   "source": [
    "- **[3 - Quantum Phase Estimation](#Quantum-Phase-Estimation)**\n",
    "    - **[3.1 - Circuit](#Circuit)**\n",
    "    - **[3.2 - Mathematical Formulation](#Mathematical-Formulation-QPE)**"
   ]
  },
  {
   "cell_type": "markdown",
   "id": "7e8d5675",
   "metadata": {},
   "source": [
    "- **[4 - Shor Algorithm](#Shor-Algorithm)**\n",
    "    - **[4.1 - Period Finding of a function](#Period-Finding)**\n",
    "        - **[4.1.1 - The function](#The-function)**\n",
    "        - **[4.1.2 - Solution: Phase estimation of an operator U](#Solution)**\n",
    "    - **[4.2 - Implementation (ad hoc) in Qiskit for $N=15$](#Implementation-(ad-hoc)-in-Qiskit)**\n",
    "       - **[4.2.1 - Case with many shots (inefficient but didactic)](#multishot)**\n",
    "\n",
    "       - **[4.2.2 - Shot-by-shot case (optimal)](#shot-by-shot)**"
   ]
  },
  {
   "cell_type": "markdown",
   "id": "98f17166",
   "metadata": {},
   "source": [
    "- **[5 - Implementation with 2n+3 qubit](#Implementation-2n+3)**\n",
    "    - **[5.1 - Main idea](#2n+3-Main-idea)**\n",
    "    - **[5.2 - Explanation in detail](#2n+3-Explanation-in-detail)**\n",
    "        - **[5.2.1 - Quantum addition algorithm](#2n+3-Addition)**\n",
    "        - **[5.2.2 - Classical value + quantum log (gate $\\phi ADD(a)$)](#2n+3-Gate-phiADD(a))**\n",
    "        - **[5.2.3 - Modular sum (gate $\\phi ADD(a)MOD(N)$)](#2n+3-Gate-phiADD(a)MOD(N))**\n",
    "        - **[5.2.4 - Modular multiplication (gate $CMULT(a)MOD(N)$)](#2n+3-Gate-CMULT(a)MOD(N))**\n",
    "        - **[5.2.5 - Controlled gate $C\\text{-}U_a$](#2n+3-Gate-C-U_a)**\n",
    "        - **[5.2.6 - Modular exponentiation (gate $C\\text{-}U_{a^{s}}$)](#2n+3-Gate-C-U_a^s)**\n",
    "        - **[5.2.7 - Final circuit with $4n+2$ qubits (without the simplification of the count register)](#2n+3-Final-circuit-no-simplification)**\n",
    "        - **[5.2.8 - Final circuit with $2n+3$. The trick of a control qubit)](#2n+3-Simplified-final-circuit)**\n",
    "    - **[5.3 - Approximate implementation of QFT.](#2n+3-QFT)**\n",
    "    - **[5.4 - Implementation of controlled SWAPs](#2n+3-SWAP)**"
   ]
  },
  {
   "cell_type": "markdown",
   "id": "d8ed7ca7",
   "metadata": {},
   "source": [
    "- **[References](#References)**"
   ]
  },
  {
   "cell_type": "markdown",
   "id": "213e2606",
   "metadata": {},
   "source": [
    "<a id=\"Introduction\"></a>\n",
    "<table width=\"100%\">\n",
    "    <td style=\"font-size:25px;font-family:Helvetica;text-align:left;background-color:rgba(12, 43, 337, 0.3);\">\n",
    "<b>1 - Introduction </b>\n",
    "</table>  "
   ]
  },
  {
   "cell_type": "markdown",
   "id": "dcdc7aa6",
   "metadata": {},
   "source": [
    "<a id=\"Cryptography-and-factorization\"></a>\n",
    "## 1.1 - Cryptography and factorization"
   ]
  },
  {
   "cell_type": "markdown",
   "id": "4fab6606",
   "metadata": {},
   "source": [
    "Shor's algorithm is one of the most widely known quantum computing algorithms. It solves a critial problem: factoring an integer number. It provides a great improvement to such task in comparison to the best classical algorithm known to date.\n",
    "\n",
    "To understand why this algorithm is so important, we must first talk about cryptography. Specifically, the encryption of transmissions over the Internet using the public key and private key method (**asymmetric cryptography**). The conceptual explanation of this way of encrypting is rather simple using an example. When someone wants to access their bank's application, the access codes have to be input (ID and pin). These are sent over the Internet to the headquarters of the bank, which verifies that they are correct and provides access. The core of the problem lies precisely in that connection made through the Internet, where the message containing the access codes can be intercepted. The solution to this problem is encrypting the message such that only the bank can decrypt the message.\n",
    "\n",
    "The most commonly used encryption method on the Internet is the aforementioned asymmetric cryptography. In this type of encryption, the receiver of the message (in the example, the bank) generates two mutually dependent keys, one of which is published to the outside world (public key) and the other one is known only to him (private key). If someone wants to receive an encrypted message, it would be enough for them to publish the public key so that anyone who wants to send him a message can use it to encrypt it. On the other hand, the private key is only known to the receiver of the message, and is used for decryption. The public key may be thought as a lock and the private key as the key. Anyone can close the lock, but only someone with the key can open it.\n",
    "\n",
    "The way this implementation is carried out technically is the following: the private key is composed by two prime numbers (of large size, hundreds of digits), and the public key is the product of these two numbers. The strength of this encryption method (RSA) lies in the fact that if we have two prime numbers finding the product is computationally very easy and not demanding. However, the opposite is not that easy at all. In case the multiplication is known (public key) finding the two numbers whose product is the public key (factoring the number into its prime elements) is extremely difficult. As expected, the longer the key is, the longer it takes to factor it. The complexity of the problem lies specifically in the fact that the time required to factor the number grows **exponentially** with the number of bits. Finding the factors of the actual keys given the lengths currently handled would take hundreds or thousands of years even with the best supercomputers.\n",
    "\n",
    "The tremendous power and applicability of Shor's algorithm is that it converts this problem of exponential complexity for a classical computer into a problem of polynomial complexity for a quantum computer. That is, with Shor's algorithm the time required (time complexity) to factor a number grows **polynomially** with the number of digits in the number. Thus, if there were an available quantum computer with enough qubits to apply this algorithm to numbers of the key length currently used, it would be possible to find the private key in a reasonable time for the human scale. Shor's algorithm has the potential to break asymmetric cryptography and make network communications vulnerable. However, current quantum computers are far from having the capacity of implementing it on the scale required. It is estimated that it would take on the order of a million qubits, whereas the largest quantum computers are currently (year 2022) on the order of hundreds of qubits."
   ]
  },
  {
   "cell_type": "markdown",
   "id": "3c8e2f0b",
   "metadata": {},
   "source": [
    "<a id=\"Factorization-algorithm\"></a>\n",
    "## 1.2 - Factorization algorithm"
   ]
  },
  {
   "cell_type": "markdown",
   "id": "7fc949b5",
   "metadata": {},
   "source": [
    "Shor's algorithm is based on the result that holds that a factorization problem can be reduced to a **period (or order) finding problem**. Before talking about quantum, an explanation on the general structure of a factorization algorithm of this form is shown, as described in the [Nielsen-Chuang](#Bibliography), commenting on where quantum computation comes in to speed it up.\n",
    "\n",
    "Firstly, the notion of **coprime numbers** is introduced: two numbers $a$ and $b$ are coprime if their greatest common divisor is 1, i.e., gcd$(a,b) = 1$. That is, two coprime numbers share only 1 as common divisor. \n",
    "\n",
    "The steps to reduce a factorization problem into a period finding problem are the following. Let $N$ be the number to factorize.\n",
    "\n",
    "- 1. If $N$ is even, return the factor 2.\n",
    "\n",
    "- 2. Determine whether $N=p^b$ for the integers $p \\geq 1$ and $b \\geq 2$. If so, return the factor $p$ (this can be done in polynomial time).\n",
    "\n",
    "- 3. Choose a random integer $a$ such that $1 < a \\leq N-1$. Using Euclid's algorithm, determine if gcd$(a,N) > 1$. If it is, return the factor gcd$(a,N)$.\n",
    "\n",
    "- 4. If gcd$(a,N) = 1$, calculate the period $r$ of the function $f(x) = a^x \\text{ mod} N$.\n",
    "\n",
    "- 5. If $r$ is odd or $r$ is even and $a^{r/2} \\text{ mod} N =-1$, we go back to step 3. Otherwise, if $r$ is even and $a^{r/2} \\text{ mod} N \\neq-1$,  we calculate gcd$(a^{r/2}-1,N)$ and gcd$(a^{r/2}+1,N)$. We test whether one of these is a non-trivial factor of $N$, and return that factor if so.\n",
    "\n",
    "Every step of this algorithm, except **step 4**, can be implemented on a classical computer and solved in polynomial time. This is because to compute the greatest common divisor you can use the [Euclid Algorithm](https://en.wikipedia.org/wiki/Euclidean_algorithm#Algorithmic_efficiency), which solves the problem in **polynomial time** (it can be computed in a reasonable time).\n",
    "\n",
    "The complicated step is **step 4**, finding the period of the function. To date there is no way to implement it in polynomial time (it is implemented in **exponential time**) on a classical computer. However, this step can be implemented on a quantum computer in polynomial time. So the optimal way to factor a number is to implement steps 1, 2, 3 and 5 on a classical computer, and step 4 on a quantum computer."
   ]
  },
  {
   "cell_type": "markdown",
   "id": "332c3fbe",
   "metadata": {},
   "source": [
    "No further comments will be provided regarding steps 1, 2 and 3 in this document, as they are not very complex. The focus will be on the mathematical formalism of steps 4 and 5, and the implementation of step 4 on a quantum computer."
   ]
  },
  {
   "cell_type": "markdown",
   "id": "cdaecb58",
   "metadata": {},
   "source": [
    "<a id=\"Qualitative-Explanation\"></a>\n",
    "## 1.3 - Qualitative Explanation"
   ]
  },
  {
   "cell_type": "markdown",
   "id": "5c9e27ac",
   "metadata": {},
   "source": [
    "In this section we provide a qualitative explanation on the way of finding the factors of a number by calculating the period of a function. In section [1.4 - Mathematical Formalism](#Formalism) further details will be provided to the statements made in this section.\n",
    "\n",
    "The function we are interested in is the following:\n",
    "\n",
    "\\begin{equation}\n",
    "f(x) = a^x \\text{ mod} N\n",
    "\\end{equation}\n",
    "\n",
    "where $a$ and $N$ are positive integers greater than 1, with $a$ < $N$ and having no common factors (i.e., $\\gcd(a,N) = 1$). The operation ($z$ mod$N$) is modular $N$, and it returns the **remainder** of dividing $z$ by $N$. The function $f(x) = a^x \\text{ mod} N$ is called **modular exponentials** (it calculates an exponential and applies a modular operation). It belongs to the **modular arithmetic** and if the conditions on $a$ and $N$ are satisfied the function is periodic. The value of the period of the function $f(x)$ will be denoted $r$, i.e. the minimum integer value for which the following is satisfied:\n",
    "    \n",
    "$$\n",
    "f(x+r) = f(x).\n",
    "$$  \n",
    "\n",
    "This can be calculated in polynomial time by means of a quantum circuit."
   ]
  },
  {
   "cell_type": "markdown",
   "id": "69d62b08",
   "metadata": {},
   "source": [
    "Once $r$ is known, if is even (otherwise the algorithm needs to be repeated with a different $a$), factors of $N$ can be calculated. That is because\n",
    "$$\n",
    "a^r \\text{ mod} N = 1\n",
    "$$\n",
    "so\n",
    "$$\n",
    "(a^r-1) \\text{ mod} N = 0\n",
    "$$\n",
    "Hence, $N$ is a divisor of $a^r-1$. If $r$ is even (otherwise repeat with a different $a$), the following decomposition can be made:\n",
    "$$\n",
    "a^r-1 = (a^{r/2}-1)(a^{r/2}+1)\n",
    "$$\n",
    "Then, with a notable probability (which depends on the number of different factors of $N$), the **greatest common factor** of $N$ and $a^{\\,r/2}-1$, $\\gcd(N, a^{\\,r/2}-1)$, or the **greatest common factor** of $N$ and $a^{\\,r/2}+1$, $\\gcd(N, a^{\\,r/2}+1)$, is a non-trivial factor of $N$."
   ]
  },
  {
   "cell_type": "markdown",
   "id": "25b67f69",
   "metadata": {},
   "source": [
    "<a id=\"Formalism\"></a>\n",
    "## 1.4 - Mathematical Formalism"
   ]
  },
  {
   "cell_type": "markdown",
   "id": "64e4ddef",
   "metadata": {},
   "source": [
    "Let us expand on the mathematical formalism on which the previous statements are based."
   ]
  },
  {
   "cell_type": "markdown",
   "id": "e3fff741",
   "metadata": {},
   "source": [
    "<a id=\"Periodicity\"></a>\n",
    "### 1.4.1 - Periodicity of $f(x)$."
   ]
  },
  {
   "cell_type": "markdown",
   "id": "66ce8287",
   "metadata": {},
   "source": [
    "To prove that, given the condition $\\gcd(a,N) = 1$, the function $f(x) = a^x \\text{mod} N$ is periodic is not a trivial task. Several theorems need to be stated and the explanation might become tedious for a reader not very well versed on number theory (refer to Appendix 4 of [Nielsen-Chuang](#Bibliography) for the full proof). In this section a simpler and clarifying explanation is provided starting from the following result (without proving it): \n",
    "\n",
    " - Given the function $f(x) = a^x \\text{ mod } N$, if $\\gcd(a,N) = 1$, for some integer value $z>0$ it holds that $f(z) = a^z \\text{ mod } N = 1$. \n",
    "\n",
    "We see now that the smallest value $z>0$ for which $f(z) = a^z \\text{mod} N = 1$ is satisfied will be the period of the function, denoted by $r$. It is the first value (greater than zero) for which $f(r) = 1$ is satisfied. We have that \n",
    "\n",
    "$$\n",
    "a^0 =1 \\Rightarrow f(0) = a^0 \\text{ mod} N = 1 = f(r).\n",
    "$$ \n",
    "\n",
    "Starting from 1, the moment an exponent $r$ such that $a^r \\text{ mod } N = 1$ is reached we can therefore write\n",
    "\n",
    "$$\n",
    "a^r = \\alpha N + 1, \\ \\alpha\\in \\mathbb{N}\n",
    "$$\n",
    "\n",
    "with which\n",
    "\n",
    "\\begin{align}\n",
    "f(r+z) & = a^{r+z} \\text{ mod} N \\\\\n",
    "&= a^r a^z \\text{ mod} N  \\\\\n",
    "&= (\\alpha N + 1)\\,a^z \\text{ mod} N  \\\\\n",
    "&= (\\alpha N + 1)\\,a^z \\text{ mod} N \\\\ \n",
    "& = \\alpha N a^z \\text{ mod} N + a^z \\text{ mod} N  \\\\\n",
    "&= a^z \\text{ mod} N  \\\\\n",
    "&= f(z)\n",
    "\\end{align}\n",
    "\n",
    "We have thus seen that $f(x)$ is periodic."
   ]
  },
  {
   "cell_type": "markdown",
   "id": "d74b7d95",
   "metadata": {},
   "source": [
    "<a id=\"Factors-N\"></a>\n",
    "### 1.4.2 - Factors of $N$ from period $r$"
   ]
  },
  {
   "cell_type": "markdown",
   "id": "ea1c1262",
   "metadata": {},
   "source": [
    "To understand how to obtain the factors of $N$ from the period $r$ of the function $f(x)$ the following theorems are needed, present in [Nielsen-Chuang](#Bibliography).\n",
    "\n",
    "**Nielsen-Chuang Theorem 5.2**: Suppose $N$ is a composite number of $L$ bits, and $x$ is a nontrivial solution of the equation $a^2 = 1 \\text{ mod } N$ in the range $1 \\leq a \\leq N$, that is, neither $x = 1 \\text{ mod } N$ nor $x = N-1 = -1 \\text{ mod } N$, hence $1<x<N-1$. Then, one of gcd$(x-1,N)$ and gcd$(x+1,N)$ is a nontrivial factor of $N$ that can be computed using $\\mathcal{O}(L^3)$ operations.\n",
    "\n",
    "- Proof: Since $x^2 = 1 \\text{ mod } N \\Rightarrow (x^2 -1) = 0 \\text{ mod } N$, it must hold that $N$ divides $(x^2-1) = (x+1)(x-1)$, so $N$ must have a common factor with $(x+1)$ or with $(x-1)$. By assumption $1 < x < N-1$, so $0 < x-1 < x+1 < N$, from which we can see that the common factor cannot be $N$ itself. Using [Euclid's Algorithm](https://en.wikipedia.org/wiki/Euclidean_algorithm#Algorithmic_efficiency) we can compute $\\gcd(x-1, N)$ and $\\gcd(x+1, N)$, and thereby obtain a nontrivial factor of $N$, using $\\mathcal{O}(L^3)$ operations.\n",
    "  \n",
    "**Nielsen-Chuang Theorem 5.3**: Suppose $N = p^{\\alpha_1}_1 \\dots p^{\\alpha_m}_m $ is the prime factor decomposition of an odd composite positive integer. Let $x$ be an integer chosen uniformly at random, subject to the requirements $1 \\leq x \\leq N-1$ and $x$ is coprime to $N$. Let $r$ be the order of $x \\text{ mod } N$. Then\n",
    "\n",
    "$$\n",
    "\\mathbb{P}\\Big(\\{r \\text{ is even}\\} \\cap \\{x^{r/2} \\neq - 1 \\text{ mod} N\\}\\Big) \\geq 1 - \\frac{1}{2^m}\n",
    "$$\n",
    "\n",
    "i.e., the probability of finding an even $r$ and that it satisfies $x^{r/2} \\neq - 1 \\text{ mod } N$ is greater than 1 - 1/$2^m$."
   ]
  },
  {
   "cell_type": "markdown",
   "id": "63a0e5fb",
   "metadata": {},
   "source": [
    "<div class=\"warning\" style='padding:0.1em; background-color:#E0FFFF; color:#69337A'>\n",
    "<span>\n",
    "<p style='margin-left:1em;'>\n",
    "\n",
    "<span style=\"color:red\"><b>Note<b></span>: In our case theorem 5.2 applies with $x = a^r$ and theorem 5.3 with $x = a$.\n",
    "    \n",
    "    \n",
    "</p>\n",
    "</span>\n",
    "</div>"
   ]
  },
  {
   "cell_type": "markdown",
   "id": "6cafbd86",
   "metadata": {},
   "source": [
    "Theorems 5.2 and 5.3 can be combined to produce an algorithm that, with high probability, returns a non-trivial factor of any composite integer $N$. Every step of the algorithm can be realized efficiently with a classical computer, with the exception (until today's knowledge) of a \"subroutine\" of period finding. Repeating the procedure a complete prime factorization of $N$ can be found."
   ]
  },
  {
   "cell_type": "markdown",
   "id": "8b392176",
   "metadata": {},
   "source": [
    "<a id=\"Period-finding-by-quantum-computer\"></a>\n",
    "## 1.5 - Period finding by quantum computer"
   ]
  },
  {
   "cell_type": "markdown",
   "id": "711b0258",
   "metadata": {},
   "source": [
    "As mentioned above, step 4 described in section [1.2](#Factorization-algorithm) (period finding of $f(x)$) can be implemented efficiently on a quantum computer. This is done by reducing the period search problem to a **Quantum Phase Estimation** problem, which in turn uses the **Quantum Fourier Transform**.\n",
    "\n",
    "In section [2](#Quantum-Fourier-Transform) we will discuss the Quantum Fourier Transform, in section [3](#Quantum-Phase-Estimation) we will discuss the Quantum Phase Estimation algorithm and in the following sections we will see implementations of Shor's algorithm."
   ]
  },
  {
   "cell_type": "markdown",
   "id": "867134cf",
   "metadata": {},
   "source": [
    "<a id=\"Quantum-Fourier-Transform\"></a>\n",
    "\n",
    "\n",
    "<table width=\"100%\">\n",
    "    <td style=\"font-size:25px;font-family:Helvetica;text-align:left;background-color:rgba(12, 43, 337, 0.3);\">\n",
    "<b>2 - Quantum Fourier Transform </b>\n",
    "</table>"
   ]
  },
  {
   "cell_type": "markdown",
   "id": "833f21fc",
   "metadata": {},
   "source": [
    "Quantum Fourier Transform is explained in this section, the way it is applied and which circuit implements it. Further information on QFT can be found in [Qiskit textbook](https://learn.qiskit.org/course/ch-algorithms/quantum-fourier-transform)."
   ]
  },
  {
   "cell_type": "markdown",
   "id": "dac26fe4",
   "metadata": {},
   "source": [
    "<a id=\"QFT-Formula\"></a>\n",
    "## 2.1 - Formula"
   ]
  },
  {
   "cell_type": "markdown",
   "id": "f3146b8b",
   "metadata": {},
   "source": [
    "Let $n$ be the number of qubits and a state $\\left| x \\right\\rangle = \\left| x_1 x_2 \\dots x_n \\right\\rangle$ where $x_1$ is the most significant bit, Quantum Fourier Transform $QFT$ is: "
   ]
  },
  {
   "cell_type": "markdown",
   "id": "f3c0beeb",
   "metadata": {},
   "source": [
    "\\begin{align}\n",
    "QFT \\left| x \\right\\rangle & = \\frac{1}{2^{n/2}} \\sum_{y=0}^{2^n-1} e^{2 \\pi i xy /2^n} \\left| y \\right\\rangle \\qquad \n",
    "\\\\ \n",
    "& = \\frac{1}{2^{n/2}} \\left( \\left| 0 \\right\\rangle + e^{\\frac{2\\pi i}{2}x} \\left| 1 \\right\\rangle \\right) \\otimes \\left( \\left| 0 \\right\\rangle + e^{\\frac{2\\pi i}{2^2}x} \\left| 1 \\right\\rangle \\right) \\otimes \\dots \\otimes \\left( \\left| 0 \\right\\rangle + e^{\\frac{2\\pi i}{2^{n-1}}x} \\left| 1 \\right\\rangle \\right) \\otimes \\left( \\left| 0 \\right\\rangle + e^{\\frac{2\\pi i}{2^n}x} \\left| 1 \\right\\rangle \\right) \n",
    "\\end{align}\n",
    "\n",
    "where $\\displaystyle\\left|y \\right\\rangle = \\left| y_1 y_2 \\dots \\right\\rangle, \\, \\, \\dfrac{y}{2^n} = \\sum_{k=1}^n \\dfrac{y_k}{2^k}$"
   ]
  },
  {
   "cell_type": "markdown",
   "id": "8e877377",
   "metadata": {},
   "source": [
    "Inverse Quantum Fourier Transform of an n-qubit state $|y\\rangle $ only differs from the direct transformation on the sign of the exponential:\n",
    "$$\n",
    "QFT^{-1} \\left| y \\right\\rangle  = \\frac{1}{2^{n/2}} \\sum_{x=0}^{2^n-1} e^{-2 \\pi i yx /2^n} \\left| x \\right\\rangle \n",
    "$$"
   ]
  },
  {
   "cell_type": "markdown",
   "id": "1ff356df",
   "metadata": {},
   "source": [
    "<a id=\"QFT-Circuit\"></a>\n",
    "## 2.2 - Circuit"
   ]
  },
  {
   "cell_type": "markdown",
   "id": "03f80ebb",
   "metadata": {},
   "source": [
    "Next figure displays the circuit which implements QFT:"
   ]
  },
  {
   "cell_type": "markdown",
   "id": "7675a15b",
   "metadata": {},
   "source": [
    "\n",
    "\n",
    "<div style=\"text-align:center\">\n",
    "<img src=\"Figuras_Shor/Fig-QFT-1.png\" width=\"1000\"/>\n",
    "</div>"
   ]
  },
  {
   "cell_type": "markdown",
   "id": "f2ff8748",
   "metadata": {},
   "source": [
    "Two kind of gates are applied in QFT, Hadamard gates and $UROT_k$ gates. The controlled version of the later ones are $CROT_k$:\n",
    "\n",
    "$$\n",
    "CROT_k = \\left[ \\begin{matrix}\n",
    "I & 0 \\\\\n",
    "0 & UROT_k\n",
    "\\end{matrix} \\right]\n",
    "$$\n",
    "\n",
    "$UROT_k$ is a rotation gate:\n",
    "\n",
    "$$\n",
    "UROT_k = \\left[ \\begin{matrix}\n",
    "1 & 0 \\\\\n",
    "0 & \\exp \\left( \\frac{2 \\pi i}{2^k} \\right)\n",
    "\\end{matrix} \\right]\n",
    "$$\n",
    "\n",
    "Matrix associated with $CROT_k$ is:\n",
    "\n",
    "$$\n",
    "CROT_k = \\left[ \\begin{matrix}\n",
    "1 & 0 & 0 & 0 \\\\\n",
    "0 & 1 & 0 & 0 \\\\\n",
    "0 & 0 & 1 & 0 \\\\\n",
    "0 & 0 & 0 & \\exp \\left( \\frac{2 \\pi i}{2^k} \\right)\n",
    "\\end{matrix} \\right]\n",
    "$$"
   ]
  },
  {
   "cell_type": "markdown",
   "id": "91dcc6a8",
   "metadata": {},
   "source": [
    "<div class=\"warning\" style='padding:0.1em; background-color:#E0FFFF; color:#69337A'>\n",
    "<span>\n",
    "<p style='margin-left:1em;'>\n",
    "\n",
    "<span style=\"color:red\">**Important remark**: Note that this circuit follows the convention most widely used in the literature, i.e., **the most significant bit is the one at the top** and the least significant bit is the one at the bottom. **Qiskit follows the opposite convention**.</span> Given a state\n",
    "\n",
    "$$\n",
    "\\left| x \\right\\rangle = \\left| a_{n-1} a_{n-2} \\dots a_1 a_0 \\right\\rangle\n",
    "$$\n",
    "\n",
    "which can be written in decimal base as:\n",
    "\n",
    "$$\n",
    "x = a_{n-1} 2^{n-1} + a_{n-2} 2^{n-2} + \\dots + a_0 2^{0}\n",
    "$$\n",
    "    \n",
    "the circuits follow opposite ordering in the qubits:\n",
    "    \n",
    "<div style=\"text-align:center\">\n",
    "<img src=\"Figuras_Shor/Fig-2_conventions_English.png\" width=\"300\"/>\n",
    "</div>\n",
    "    \n",
    "\n",
    "In this case, to write the circuit using qiskit convention it is needed to invert the qubits controlling the $U$ gates, i.e., apply $U^{2^{t-1}}$ controlled by the last qubit, $U^{2^{t-2}}$ controlled by the second-to-last qubit, ..., and $U^{2^{0}}$ controlled by the first qubit.\n",
    "    \n",
    "    \n",
    "</p>\n",
    "</span>\n",
    "</div>"
   ]
  },
  {
   "cell_type": "markdown",
   "id": "fc16e6b9",
   "metadata": {},
   "source": [
    "<a id=\"Quantum-Phase-Estimation\"></a>\n",
    "\n",
    "<table width=\"100%\">\n",
    "    <td style=\"font-size:25px;font-family:Helvetica;text-align:left;background-color:rgba(12, 43, 337, 0.3);\">\n",
    "<b>3 - Quantum Phase Estimation</b>\n",
    "</table>"
   ]
  },
  {
   "cell_type": "markdown",
   "id": "e9c7fbc2",
   "metadata": {},
   "source": [
    "Quantum phase estimation is a fundamental part of more complex algorithms (as is the case we are looking at Shor's algorithm). \n",
    "\n",
    "This algorithm is used to calculate the eigenvalues of a **unitary operator**. As we know, the unitary operators are the only ones which can be applied to a quantum state (they are the gates in the circuits), since they are the only ones that preserve the normalization of the quantum states, that is, the probabilities add up to unity. This is manifested in the eigenvalues of the unitary operators, whose modulus is always 1, i.e., they are **phases**. Given a unitary operator $U$ and and an eigenvector $\\left| \\psi \\right\\rangle$ of $U$, we have:\n",
    "\n",
    "$$\n",
    "U \\left| \\psi \\right\\rangle = e^{2 \\pi i \\theta} \\left| \\psi \\right\\rangle\n",
    "$$\n",
    "\n",
    "\n",
    "The algorithm estimates the value of $\\theta$."
   ]
  },
  {
   "cell_type": "markdown",
   "id": "b15f2605",
   "metadata": {},
   "source": [
    "<a id=\"Circuit\"></a>\n",
    "## 3.1 - Circuit"
   ]
  },
  {
   "cell_type": "markdown",
   "id": "255048c2",
   "metadata": {},
   "source": [
    "Next figure displays the circuit which implements Quantum Phase Estimation. The circuit consists of three main parts (excluding measures):"
   ]
  },
  {
   "cell_type": "markdown",
   "id": "bb6020cd",
   "metadata": {},
   "source": [
    "<div style=\"text-align:center\">\n",
    "<img src=\"Figuras_Shor/Fig-1-QPE.png\" width=\"800\"/>\n",
    "</div>"
   ]
  },
  {
   "cell_type": "markdown",
   "id": "a618ef3e",
   "metadata": {},
   "source": [
    "<a id=\"Mathematical-Formulation-QPE\"></a>\n",
    "## 3.2 - Mathematical Formulation"
   ]
  },
  {
   "cell_type": "markdown",
   "id": "d42afe2f",
   "metadata": {},
   "source": [
    "Let study the previous circuit step by step to estimate phase $\\theta$."
   ]
  },
  {
   "cell_type": "markdown",
   "id": "d72375f4",
   "metadata": {},
   "source": [
    "1- **Initialization**: On one side we have a register of qubits that form an eigenstate $\\left| \\psi \\right\\rangle$ of the operator $U$. On the other hand, we have a set of $\\boldsymbol{t}$ **qubits** that form a **count register** where the value $2^t \\theta$ will be stored at the end of the circuit:\n",
    "\n",
    "$$\n",
    "\\left| \\psi_0 \\right\\rangle = \\left| 0 \\right\\rangle^{\\otimes t} \\left| \\psi \\right\\rangle\n",
    "$$"
   ]
  },
  {
   "cell_type": "markdown",
   "id": "33eeef8c",
   "metadata": {},
   "source": [
    "2- **Superposition**: Apply gate Hadamard n-bit to the count register:\n",
    "\n",
    "$$\n",
    "\\left| \\psi_1 \\right\\rangle = \\frac{1}{2^{t/2}}  \\left( \\left| 0 \\right\\rangle + \\left| 1 \\right\\rangle \\right)^{\\otimes t} \\left| \\psi \\right\\rangle\n",
    "$$"
   ]
  },
  {
   "cell_type": "markdown",
   "id": "312b91b7",
   "metadata": {},
   "source": [
    "3- **Unitary Controlled Operations**: THe controlled operator $CU$ is applied successively, i.e. apply $U$ in the target register only if the controlling qubit is in the $\\left| 1 \\right\\rangle$ state. Specifically, $U$ is applied $2^{j}$ times in the $\\left| \\psi \\right\\rangle$ register controlled by the qubits in the count register. The number of times $2^{j}$ $U$ is applied depends on which qubit is the controller (if it is the most significant bit we have $j = t-1$, for the next $j = t-2$, ..., until we reach the least significant bit in which $j=0$).\n",
    "\n",
    "As $U$ is unitary and $\\left| \\psi \\right\\rangle$ is an eigenvector of $U$, applying $U$ $2^{j}$ times is:\n",
    "\n",
    "$$\n",
    "U^{2^{j}} \\left| \\psi \\right\\rangle = U^{2^{j}-1} U \\left| \\psi \\right\\rangle = U^{2^{j}-1} e^{2 \\pi i \\theta} \\left| \\psi \\right\\rangle = \\dots = e^{2 \\pi i 2^j \\theta} \\left| \\psi \\right\\rangle\n",
    "$$\n",
    "\n",
    "Using the relation\n",
    "\n",
    "$$\n",
    "CU \\left[ \\left( \\left| 0 \\right\\rangle + \\left| 1 \\right\\rangle \\right) \\otimes \\left| \\psi \\right\\rangle \\right] = \n",
    "\\left| 0 \\right\\rangle \\otimes \\left | \\psi \\right\\rangle + \\left| 1 \\right\\rangle \\otimes e^{2 \\pi i \\theta} \\left | \\psi \\right\\rangle =\n",
    "\\left( \\left| 0 \\right\\rangle + e^{2 \\pi i \\theta} \\left| 1 \\right\\rangle \\right) \\otimes \\left| \\psi \\right\\rangle\n",
    "$$ \n",
    "\n",
    "we obtain\n",
    "\n",
    "\\begin{align} \n",
    "|\\psi_{2}\\rangle & =\\frac {1}{2^{t/2}} \\left(|0\\rangle+{e^{\\boldsymbol{2\\pi i} \\theta 2^{t-1}}}|1\\rangle \\right) \\otimes \\cdots \\otimes \\left(|0\\rangle+{e^{\\boldsymbol{2\\pi i} \\theta 2^{1}}}\\vert1\\rangle \\right) \\otimes \\left(|0\\rangle+{e^{\\boldsymbol{2\\pi i} \\theta 2^{0}}}\\vert1\\rangle \\right) \\otimes |\\psi\\rangle \\\\ \n",
    "& = \\frac{1}{2^{n/2}}\\sum_{y=0}^{2^{t}-1}e^{\\boldsymbol{2\\pi i} \\theta y}|y\\rangle \\otimes \\vert\\psi\\rangle \n",
    "\\end{align}"
   ]
  },
  {
   "cell_type": "markdown",
   "id": "2fcd8cd2",
   "metadata": {},
   "source": [
    "4- **Inverse Quantum Fourier Transform**: The previous expression is equal to the result obtained after applying QFT to a state of $t$ bits $|t\\rangle$:\n",
    "\n",
    "$$\n",
    "\\left( QFT \\left| x \\right\\rangle \\right) \\otimes \\left| \\psi \\right\\rangle = \\frac{1}{2^{t/2}} \\sum_{y=0}^{2^t-1} e^{2 \\pi i xy /2^t} \\left| y \\right\\rangle \\otimes \\left| \\psi \\right\\rangle \n",
    "$$\n",
    "\n",
    "taking $x = 2^t \\theta$. \n",
    "\n",
    "Applying inverse QFT to the count register let us obtain the value $2^t \\theta$\n",
    "\n",
    "$$\n",
    "|\\psi_{2}\\rangle  = \\frac{1}{2^{t/2}}\\sum_{y=0}^{2^{t}-1}e^{\\boldsymbol{2\\pi i} \\theta y}|y\\rangle \\otimes \\vert\\psi\\rangle  \\xrightarrow{QFT^{-1}_t} \\frac{1}{2^{t/2}}\\sum_{y=0}^{2^{t}-1}e^{\\boldsymbol{2\\pi i} \\theta y} \\left( QFT^{-1}|y\\rangle \\right) \\otimes \\vert\\psi\\rangle \\Rightarrow\n",
    "$$\n",
    "\n",
    "$$\n",
    "|\\psi_{3}\\rangle = \\frac{1}{2^{t}} \\sum_{x=0}^{2^t-1} \\sum_{y=0}^{2^{t}-1}e^{-\\frac{2 \\pi i k}{2^t} (x-2^t \\theta)} |x\\rangle  \\otimes \\vert\\psi\\rangle\n",
    "$$"
   ]
  },
  {
   "cell_type": "markdown",
   "id": "f0f39eeb",
   "metadata": {},
   "source": [
    "<div class=\"warning\" style='padding:0.1em; background-color:#E0FFFF; color:#69337A'>\n",
    "<span>\n",
    "<p style='margin-left:1em;'>\n",
    "\n",
    "<span style=\"color:red\"><b>Note<b></span>: It can be noticed that the if count register receives a state $|z \\rangle = | z_{n-1}, z_{n-2}, \\dots, z_0 \\rangle$ at the beginning, the output before applying QFT$^{-1}$ is:\n",
    "\n",
    "$$\n",
    "|z \\rangle |\\psi \\rangle \\rightarrow |z \\rangle U^{z_{t-1} 2^{t-1}} U^{z_{t-2}2^{t-2}} \\dots U^{z_0 2^0} |\\psi \\rangle = | z \\rangle U^{z}  |\\psi \\rangle\n",
    "$$\n",
    "\n",
    "This is, actually it is the operator $U$ applied $z$ times on the state $|\\psi \\rangle$.\n",
    "    \n",
    "    \n",
    "</p>\n",
    "</span>\n",
    "</div>"
   ]
  },
  {
   "cell_type": "markdown",
   "id": "352e738b",
   "metadata": {},
   "source": [
    "5- **Measure**: Previous expression is around $x = 2^t \\theta$. For the case $2^t\\theta$ is an integer, measuring in the computational base returns the phase in the count register with high probability:\n",
    "\n",
    "$$\n",
    "| \\psi \\rangle = | 2^t \\theta \\rangle \\otimes | \\psi \\rangle\n",
    "$$\n",
    "\n",
    "In case $2^t\\theta$ is not an integer, it can be proved that the expression is still aroung $x=2^t$ with a probability higher than 40%."
   ]
  },
  {
   "cell_type": "markdown",
   "id": "77cf56a1",
   "metadata": {},
   "source": [
    "<a id=\"Shor-Algorithm\"></a>\n",
    "\n",
    "<table width=\"100%\">\n",
    "    <td style=\"font-size:25px;font-family:Helvetica;text-align:left;background-color:rgba(12, 43, 337, 0.3);\">\n",
    "<b>4 - Shor Algorithm </b>\n",
    "</table>"
   ]
  },
  {
   "cell_type": "markdown",
   "id": "2068fa7d",
   "metadata": {},
   "source": [
    "Shor's algorithm is based on the **Quantum Phase Estimation** algorithm, which in turn uses the **Quantum Fourier Transform**. Shor's algorithm converts the problem of factoring a number into a problem of **finding the period of a function**, which can be implemented in polynomial time in a quantum computer.\n",
    "\n",
    "To factorize a number $N$ Shor's algorithm calculates the period of a (periodic) function of the form\n",
    "\n",
    "\\begin{equation}\n",
    "f(x) = a^x \\text{mod} N\n",
    "\\end{equation}\n",
    "\n",
    "where $a$ and $N$ are positive integers greater than 1, with $a$ < $N$ and not having common factors ($\\gcd(a, N) =1$). The operation ($z$ mod$N$) refers to keep the **remainder** of the division of $z$ by $N$. The period $r$ of this function is calculated using the quantum phase estimation algorithm. Once we have the period $r$, if it is even (otherwise we have to try with another value of $a$) we can calculate the factors of $N$ since there is a high probability that the greatest common divisor of $N$ and $a^{\\,r/2}-1$ or $a^{\\,r/2}+1$ is an nontrivial factor of $N$."
   ]
  },
  {
   "cell_type": "markdown",
   "id": "78f15345",
   "metadata": {},
   "source": [
    "<a id=\"Period-Finding\"></a>\n",
    "## 4.1 - Period Finding of a function"
   ]
  },
  {
   "cell_type": "markdown",
   "id": "057aaebf",
   "metadata": {},
   "source": [
    "<a id=\"The-function\"></a>\n",
    "### 4.1.1 - The function"
   ]
  },
  {
   "cell_type": "markdown",
   "id": "7a6cda13",
   "metadata": {},
   "source": [
    "As mentioned in the introduction, the objective is finding the period of the function\n",
    "\n",
    "$$\n",
    "f(x) = a^x \\text{mod } N\n",
    "$$\n",
    "\n",
    "where $a$ and $N$ are positive integers greater than 1, being also $a$ < $N$ and not having common factors. The operation ($z$ mod$N$) what it refers to is to keep the **result** of dividing the number $z$ by $N$. This type of functions is called **modular exponentiation**."
   ]
  },
  {
   "cell_type": "markdown",
   "id": "0178f17c",
   "metadata": {},
   "source": [
    "Denominaremos $r$ al valor del periodo de la función $f(x)$, es decir, $r$ es el mínimo valor entero para que se cumple:\n",
    "    \n",
    "$$\n",
    "f(x+r) = f(x)\n",
    "$$\n",
    "\n",
    "Let us denote $r$ by the value of the period of the function $f(x)$, that is, $r$ is the smaller integer such that the following is satisfied:\n",
    "    \n",
    "$$\n",
    "f(x+r) = f(x)\n",
    "$$\n",
    "\n",
    "In the following figure we see an example of this type of functions with $a = 3$ and $N=35$. We see that for this case the period is $r = 12$. (Note that dotted lines which join the crosses are only for aesthetics)."
   ]
  },
  {
   "cell_type": "code",
   "execution_count": 2,
   "id": "b21c463d",
   "metadata": {
    "scrolled": false
   },
   "outputs": [
    {
     "name": "stdout",
     "output_type": "stream",
     "text": [
      "Value from f(0) to f(r):\n",
      "[1, 12, 4, 13, 16, 17, 29, 33, 11, 27, 9, 3, 1]\n"
     ]
    },
    {
     "data": {
      "image/png": "[encoded data removed]",
      "text/plain": [
       "<Figure size 640x480 with 1 Axes>"
      ]
     },
     "metadata": {},
     "output_type": "display_data"
    }
   ],
   "source": [
    "N = 35\n",
    "a = 12\n",
    "\n",
    "# Calculate the plotting data\n",
    "lenx = 35\n",
    "xvals = np.arange(lenx, dtype = int)\n",
    "yvals = [np.mod(np.power(a, xvals[0]), N)]\n",
    "\n",
    "leny = 1\n",
    "while leny < lenx:\n",
    "    yvals.append(np.mod(yvals[-1]*a, N))\n",
    "    leny += 1\n",
    "# yvals = np.mod(np.power(a, xvals), N)\n",
    "# yvals = [np.mod(a**x, N) for x in xvals]\n",
    "\n",
    "# Use matplotlib to display it nicely\n",
    "fig, ax = plt.subplots()\n",
    "ax.plot(xvals, yvals, linewidth=1, linestyle='dotted', marker='x')\n",
    "ax.set(xlabel='$x$', ylabel='$%i^x$ mod $%i$' % (a, N),\n",
    "       title=\"Example of Periodic Function in Shor's Algorithm\")\n",
    "try: # plot r on the graph\n",
    "    r = yvals[1:].index(1) +1 \n",
    "    plt.annotate('', xy=(0,1), xytext=(r,1), arrowprops=dict(arrowstyle='<->'))\n",
    "    plt.annotate('$r=%i$' % r, xy=(r/3,1.5))\n",
    "    print('Value from f(0) to f(r):')\n",
    "    print(yvals[:r+1])\n",
    "except ValueError:\n",
    "    print('Could not find period, check a < N and have no common factors.')"
   ]
  },
  {
   "cell_type": "markdown",
   "id": "f5d9f4a2",
   "metadata": {},
   "source": [
    "<a id=\"Solution\"></a>\n",
    "### 4.1.2 - Solution: Phase estimation of an operator U"
   ]
  },
  {
   "cell_type": "markdown",
   "id": "f2e10e0d",
   "metadata": {},
   "source": [
    "Shor's algorithm is based on implementing the phase estimation algorithm to the unitary operator:\n",
    "\n",
    "$$\n",
    "U |y \\rangle \\equiv | ay \\, \\text{mod} N \\rangle\n",
    "$$\n",
    "\n",
    "By successively applying the operator $U$ to the state $|1 \\rangle$ we obtain the values of $f(x)$ with $x \\in \\mathbb{N}$, that is,\n",
    "\n",
    "$$\n",
    "U^x |1 \\rangle = | f(x) \\rangle\n",
    "$$\n",
    "\n",
    "For instance, in the case of the figure ($a=3$ y $N=35$) we have:\n",
    "\n",
    "\\begin{align}\n",
    "U^0 |1\\rangle & = |1\\rangle \\\\\n",
    "U |1\\rangle & = |3\\rangle \\\\\n",
    "U^2 |1\\rangle & = |9\\rangle \\\\\n",
    "\\vdots \\\\\n",
    "U^{r-1} |1\\rangle & = |12\\rangle \\\\\n",
    "U^r |1\\rangle & = |1\\rangle\n",
    "\\end{align}"
   ]
  },
  {
   "cell_type": "markdown",
   "id": "69f4a7df",
   "metadata": {},
   "source": [
    "(Reminder: Given a state of $n$ qubits $\\left| x \\right\\rangle$ we have that $\\left| x \\right\\rangle = \\left| x_1 x_2 \\dots x_n \\right\\rangle$ where $x_1$ is the most significant bit.)"
   ]
  },
  {
   "cell_type": "markdown",
   "id": "43cefd95",
   "metadata": {},
   "source": [
    "As it can be noted, applying $U$ one more time is moving forward one element in the periodic list. Explicitly:\n",
    "\\begin{align}\n",
    "U(U^0 |1\\rangle) & = U(|1\\rangle) = |3\\rangle \\\\\n",
    "U(U |1\\rangle) & = U(|3\\rangle) = |9\\rangle \\\\\n",
    "U(U^2 |1\\rangle) & = U(|9\\rangle) = |27\\rangle\\\\\n",
    "\\vdots \\\\\n",
    "U(U^{r-1} |1\\rangle) & = U(|12\\rangle) =|1\\rangle \\\\\n",
    "U(U^r |1\\rangle) & = U(|1\\rangle) = |3\\rangle\n",
    "\\end{align}"
   ]
  },
  {
   "cell_type": "markdown",
   "id": "1b14920d",
   "metadata": {},
   "source": [
    "With this, it is easily understood that the equiprobable superposition of all states is an eigenstate of the operator $U$ with eigenvalue 1:\n",
    "$$\n",
    "| u_0 \\rangle = \\frac{1}{\\sqrt{r}} \\sum^{r-1}_{k=0} |a^k \\, \\text{mod} N \\rangle, \\qquad \\text{where} \\quad U|u_0 \\rangle = |u_0\\rangle\n",
    "$$"
   ]
  },
  {
   "cell_type": "markdown",
   "id": "4c1af9b8",
   "metadata": {},
   "source": [
    "<a id=\"Example:-case-with-a=3-and-N=35\"></a>\n",
    "<details><summary><b>Example: case with $a=3$ and $N=35$ (Click for expanding)</b></summary>\n",
    "<p>\n",
    "\n",
    "\\begin{align}\n",
    "U |u_0 \\rangle & = U \\left[ \\frac{1}{\\sqrt{12}} \\left( |1 \\rangle + |3\\rangle + |9 \\rangle + \\dots |4 \\rangle + |12 \\rangle \\right) \\right] = \\\\\n",
    "& = \\frac{1}{\\sqrt{12}} \\left( U|1 \\rangle + U|3\\rangle + U|9 \\rangle + \\dots U|4 \\rangle + U|12 \\rangle \\right) = \\\\\n",
    "& =\\frac{1}{\\sqrt{12}} \\left( |3 \\rangle + |9\\rangle + |27 \\rangle + \\dots |12 \\rangle + |1 \\rangle \\right) = \\\\\n",
    "& =  |u_0 \\rangle\n",
    "\\end{align}\n",
    "</p>\n",
    "</details>\n",
    "\n",
    "\n",
    "\n",
    "\n"
   ]
  },
  {
   "cell_type": "markdown",
   "id": "a7cec4fc",
   "metadata": {},
   "source": [
    "An eigenstate of eigenvalue 1 is not very interesting when applying the phase estimation algorithm. Another much more interesting set of eigenstates are those of the form:\n",
    "$$\n",
    "| u_s \\rangle = \\frac{1}{\\sqrt{r}} \\sum^{r-1}_{k=0} e^{- \\boldsymbol{2 \\pi i}k \\frac{s}{r}} |a^k \\, \\text{mod} N \\rangle, \\qquad \\text{donde} \\quad U|u_s \\rangle = e^{\\boldsymbol{2 \\pi i} \\frac{s}{r}}|u_s\\rangle\n",
    "$$"
   ]
  },
  {
   "cell_type": "markdown",
   "id": "9886449f",
   "metadata": {},
   "source": [
    "where $0 \\leq s \\leq r-1$. If we now apply the quantum phase estimation algorithm to one of these self states $|u_s \\rangle$, what we will get in the count register is $|2^n s/r \\rangle$. From here we can extract the value of $r$. However, in order to prepare the state $|u_s \\rangle$ we have to know $r$, i.e., what we want to calculate. \n",
    "\n",
    "An elegant and easy way to implement this solution is to realize that the sum of all these states $|u_s \\rangle$ gives us the state $|1\\rangle$, that is,\n",
    "$$\n",
    "\\frac{1}{r} \\sum_{s=0}^{r-1} |u_s \\rangle = \\frac{1}{r} \\left(|u_0 \\rangle + |u_1 \\rangle + \\dots +|u_{r-1} \\rangle \\right) = | 1 \\rangle.\n",
    "$$\n",
    "\n",
    "If we now apply the quantum phase estimation (QPS) algorithm to the $|1\\rangle$ state (an easily implementable state) we obtain an equiprobable superposition of states of the form $|2^n s/r \\rangle$, i.e:\n",
    "\n",
    "$$ \n",
    "|0 \\rangle|1 \\rangle \\xrightarrow{QPS} \\frac{1}{\\sqrt{r}} \\left( \\left|2^t \\frac{1}{r} \\right\\rangle + \\left|2^t \\frac{2}{r} \\right\\rangle + \\dots + \\left|2^t \\frac{r-1}{r} \\right\\rangle \\right) |1 \\rangle\n",
    "$$\n",
    "\n",
    "where $t$ is the number of qubits in the count register.\n",
    "Using the [continued fractions](https://en.wikipedia.org/wiki/Continued_fraction) we can calculate $r$ from the quotients $s/r$."
   ]
  },
  {
   "cell_type": "markdown",
   "id": "98a25fb6",
   "metadata": {},
   "source": [
    "Next circuit implements (using Qiskit's order for qubits) the Quantum Phase Estimation:\n",
    "\n",
    "<div style=\"text-align:center\">\n",
    "<img src=\"Figuras_Shor/Fig-3_QPE-Shor.png\" width=\"1000\"/>\n",
    "</div>\n",
    "\n"
   ]
  },
  {
   "cell_type": "markdown",
   "id": "f5830237",
   "metadata": {},
   "source": [
    "<div class=\"warning\" style='padding:0.1em; background-color:#E0FFFF; color:#69337A'>\n",
    "<span>\n",
    "<p style='margin-left:1em;'>\n",
    "\n",
    "<span style=\"color:red\"><b>Note<b></span>: Let us denote <span style=\"color:red\"> $n$ to the number of qubits needed to enconde the number $N$ </span>(the one to factorize) in a quantum register. To apply Shor's algorithm, <span style=\"color:red\"> $t=2n$ qubits are typically used in the count register</span>.\n",
    "    \n",
    "</p>\n",
    "</span>\n",
    "</div>"
   ]
  },
  {
   "cell_type": "markdown",
   "id": "b69c6ff1",
   "metadata": {},
   "source": [
    "<a id=\"Implementation-(ad-hoc)-in-Qiskit\"></a>\n",
    "## 4.2 - Implementation (ad hoc) in Qiskit for $N=15$"
   ]
  },
  {
   "cell_type": "markdown",
   "id": "ae7ef457",
   "metadata": {},
   "source": [
    "In this section we are going to see an *ad hoc* implementation of Shor's algorithm for factoring the number 15. By *ad hoc* we mean that the oracle representing the modulated exponential of the $U$ operator is built specifically for the case of factoring 15 and an explanation on that will not be provided. The goal of this section is to see how to treat the results of the circuit, applying the method of [continued fractions](https://en.wikipedia.org/wiki/Continued_fraction) to obtain $r$ and not so much to see how the oracle is constructed. \n",
    "\n",
    "Specifically, the case we are going to solve is the one with $a=7$ and $N=15$. It is easy to see that for this case we have a period of $r = 4$, where the four possible states are $| 1 \\rangle$, $| 7 \\rangle$, $| 4 \\rangle$ y $| 13 \\rangle$. "
   ]
  },
  {
   "cell_type": "markdown",
   "id": "845486f7",
   "metadata": {},
   "source": [
    "<div class=\"warning\" style='padding:0.1em; background-color:#E0FFFF; color:#69337A'>\n",
    "<span>\n",
    "<p style='margin-left:1em;'>\n",
    "\n",
    "<span style=\"color:red\"><b>Note<b></span>: An **oracle** is, so to speak, the form used in quantum computing to name the functions from which we want to extract information by making calls to them. The oracle is a function that you don't know how it is made, you only know what it does. Like the Greek oracles, you are only allowed to question them, but not to ask them how they know that this is the answer.\n",
    "In the end the oracles are represented as sections of the circuit that is dedicated to applying a $U$ operator. In our case, for example, we call the function that constructs the modulated exponential operator an oracle $U^{2^j} |y \\rangle = | a^{2^j}y \\, \\text{mod} N \\rangle$.\n",
    "    \n",
    "    \n",
    "    \n",
    "</p>\n",
    "</span>\n",
    "</div>"
   ]
  },
  {
   "cell_type": "markdown",
   "id": "322132ed",
   "metadata": {},
   "source": [
    "<a id=\"multishot\"></a>\n",
    "### 4.2.1 - Case with many shots (inefficient but didactic)"
   ]
  },
  {
   "cell_type": "markdown",
   "id": "5b51ea00",
   "metadata": {},
   "source": [
    "As the number chosen for the factorization is small (we need few qubits) we are going to throw several shots at the circuit to see all the possible results. We will see that this is actually a waste of time, since we don't need to have the whole distribution. It is simply a pedagogical case to understand how to deal with the results of the circuit."
   ]
  },
  {
   "cell_type": "markdown",
   "id": "6a86e5e0",
   "metadata": {},
   "source": [
    "Let us see the code (the code is taken from the [Qiskit textbook].(https://learn.qiskit.org/course/ch-algorithms/shors-algorithm)) :"
   ]
  },
  {
   "cell_type": "markdown",
   "id": "7533e8d8",
   "metadata": {},
   "source": [
    "Oracles:"
   ]
  },
  {
   "cell_type": "code",
   "execution_count": 3,
   "id": "0c3c89a1",
   "metadata": {},
   "outputs": [],
   "source": [
    "# Oracle: Modular Exponentiation U^{2^j} |y> = |a^{2^j}y mod N> \n",
    "def c_amod15(a, power): # It use 4 \n",
    "    \"\"\"Controlled multiplication by a mod 15\"\"\"\n",
    "    if a not in [2,4,7,8,11,13]:\n",
    "        raise ValueError(\"'a' must be 2,4,7,8,11 or 13\")\n",
    "    U = QuantumCircuit(4)        \n",
    "    for iteration in range(power):\n",
    "        if a in [2,13]:\n",
    "            U.swap(0,1)\n",
    "            U.swap(1,2)\n",
    "            U.swap(2,3)\n",
    "        if a in [7,8]:\n",
    "            U.swap(2,3)\n",
    "            U.swap(1,2)\n",
    "            U.swap(0,1)\n",
    "        if a in [4, 11]:\n",
    "            U.swap(1,3)\n",
    "            U.swap(0,2)\n",
    "        if a in [7,11,13]:\n",
    "            for q in range(4):\n",
    "                U.x(q)\n",
    "    U = U.to_gate()\n",
    "    U.name = \"%i^%i mod 15\" % (a, power)\n",
    "    c_U = U.control()\n",
    "    return c_U\n",
    "\n",
    "# Inverse Quantum Fourier Transformation of n qubits\n",
    "def qft_dagger(n):\n",
    "    \"\"\"n-qubit QFTdagger the first n qubits in circ\"\"\"\n",
    "    qc = QuantumCircuit(n)\n",
    "    # Don't forget the Swaps!\n",
    "    for qubit in range(n//2):\n",
    "        qc.swap(qubit, n-qubit-1)\n",
    "    for j in range(n):\n",
    "        for m in range(j):\n",
    "            qc.cp(-np.pi/float(2**(j-m)), m, j)\n",
    "        qc.h(j)\n",
    "    qc.name = \"QFT†\"\n",
    "    return qc"
   ]
  },
  {
   "cell_type": "markdown",
   "id": "b684d459",
   "metadata": {},
   "source": [
    "Circuit"
   ]
  },
  {
   "cell_type": "code",
   "execution_count": 4,
   "id": "5d0f9439",
   "metadata": {
    "scrolled": false
   },
   "outputs": [
    {
     "data": {
      "image/png": "[encoded data removed]",
      "text/plain": [
       "<Figure size 3064.69x1120.39 with 1 Axes>"
      ]
     },
     "execution_count": 4,
     "metadata": {},
     "output_type": "execute_result"
    }
   ],
   "source": [
    "# Specify variables\n",
    "n_count = 8  # number of counting qubits\n",
    "a = 7\n",
    "\n",
    "# Create QuantumCircuit with n_count counting qubits\n",
    "# plus 4 qubits for U to act on\n",
    "qc = QuantumCircuit(n_count + 4, n_count)\n",
    "\n",
    "# Initialize counting qubits\n",
    "# in state |+>\n",
    "for q in range(n_count):\n",
    "    qc.h(q)\n",
    "    \n",
    "# And auxiliary register in state |1>\n",
    "qc.x(3+n_count)\n",
    "\n",
    "# Do controlled-U operations\n",
    "for q in range(n_count):\n",
    "    qc.append(c_amod15(a, 2**q), \n",
    "             [q] + [i+n_count for i in range(4)])\n",
    "\n",
    "# Do inverse-QFT\n",
    "qc.append(qft_dagger(n_count), range(n_count))\n",
    "\n",
    "# Measure circuit\n",
    "qc.measure(range(n_count), range(n_count))\n",
    "qc.draw(output = 'mpl', fold=-1)  # -1 means 'do not fold'"
   ]
  },
  {
   "cell_type": "markdown",
   "id": "cd0f3630",
   "metadata": {},
   "source": [
    "Simulation"
   ]
  },
  {
   "cell_type": "code",
   "execution_count": 5,
   "id": "85a51ef7",
   "metadata": {
    "scrolled": false
   },
   "outputs": [
    {
     "data": {
      "image/png": "[encoded data removed]",
      "text/plain": [
       "<Figure size 700x500 with 1 Axes>"
      ]
     },
     "execution_count": 5,
     "metadata": {},
     "output_type": "execute_result"
    }
   ],
   "source": [
    "aer_sim = Aer.get_backend('aer_simulator')\n",
    "t_qc = transpile(qc, aer_sim)\n",
    "results = aer_sim.run(t_qc).result()\n",
    "counts = results.get_counts()\n",
    "plot_histogram(counts)"
   ]
  },
  {
   "cell_type": "markdown",
   "id": "d0506b6f",
   "metadata": {},
   "source": [
    "As we already commented, the period for the chosen case we know beforehand that it is $r = 4$. We can see that indeed, when throwing several shots to the circuit (running it several times) and seeing all the results we have 4 possibilities, corresponding to the 4 phases $s/r$ with $0 \\leq s \\leq r$. This is not usual when applying Shor's algorithm, because the larger the number we want to factorize, the more qubits we need, the more complex the circuit becomes and the more shots we need to reconstruct the probability distribution. \n",
    "\n",
    "The optimal is to launch a shot, see what value of $r$ we get with the result and try to find the divisors of $N$ with this $r$. If it does not work, we throw another shot and try to calculate $r$ again with the new result. We repeat the process until we find the factors. This will be what we will do in section [4.2.2](#shot-by-shot). "
   ]
  },
  {
   "cell_type": "markdown",
   "id": "e0fc1989",
   "metadata": {},
   "source": [
    "<div class=\"warning\" style='padding:0.1em; background-color:#E0FFFF; color:#69337A'>\n",
    "<span>\n",
    "<p style='margin-left:1em;'>\n",
    "\n",
    "<span style=\"color:red\"><b>Note<b></span>: This is an ideal simulation, without noise. In a real quantum computer, we would have more results with low probabilities and these four would stand out.\n",
    "    \n",
    "    \n",
    "</p>\n",
    "</span>\n",
    "</div>"
   ]
  },
  {
   "cell_type": "markdown",
   "id": "c47a1dfe",
   "metadata": {},
   "source": [
    "To obtain the four values of $r$ corresponding to the four results we just obtained, we must first remember that these results are the $2^n s/r$ values for $0 \\leq s \\leq r$, with $s$ being an integer. The first thing we must do is convert our results from binary to decimal, then divide by $2^n$. \n",
    "\n",
    "Once this is done we will have real numbers between 0 and 1. We must approximate these numbers by a fraction. To do this we can use the python [Fraction()](https://docs.python.org/3/library/fractions.html) python function. Since we know that the period of the function $a^x$ mod $N$ cannot be greater than $N$, we can use Fraction().limit_denominator(N) to limit the value of the denominator. We have then:"
   ]
  },
  {
   "cell_type": "code",
   "execution_count": 6,
   "id": "ed250ee8",
   "metadata": {},
   "outputs": [
    {
     "name": "stdout",
     "output_type": "stream",
     "text": [
      "            Register Output   Phase     Fraction    Guess for r\n",
      "0  00000000(bin) =   0(dec)      0.00          0/1            1\n",
      "1  10000000(bin) = 128(dec)      0.50          1/2            2\n",
      "2  11000000(bin) = 192(dec)      0.75          3/4            4\n",
      "3  01000000(bin) =  64(dec)      0.25          1/4            4\n"
     ]
    }
   ],
   "source": [
    "rows, measured_phases = [], []\n",
    "for output in counts:\n",
    "    decimal = int(output, 2)  # Convert (base 2) string to decimal\n",
    "    phase = decimal/(2**n_count)  # Find corresponding eigenvalue\n",
    "    frac = Fraction(phase).limit_denominator(15)\n",
    "    # Add these values to the rows in our table:\n",
    "    rows.append([f\"{output}(bin) = {decimal:>3}(dec)\", \n",
    "                 f\"{phase:.2f}\",\n",
    "                 f\"{frac.numerator}/{frac.denominator}\",\n",
    "                 frac.denominator])\n",
    "# Print the rows in a table\n",
    "headers=[\"Register Output\", \"  Phase  \", \"  Fraction  \", \"Guess for r\"]\n",
    "df = pd.DataFrame(rows, columns=headers)\n",
    "print(df)"
   ]
  },
  {
   "cell_type": "markdown",
   "id": "a98bd370",
   "metadata": {},
   "source": [
    "Several interesting things can be noticed in this result. First, we see that the predominant choice for the period is $r=4$, which as we know, is correct (it can be seen that for $a=7$ and $N=15$ the four possible choices are $| 1 \\rangle$, $| 7 \\rangle$, $| 4 \\rangle$ and $| 13 \\rangle$). We also see that Shor's algorithm can fail. In particular, it fails when we have the state phase with $s = 0$ and when $s$ and $r$ have a common factor (in this case we have that for $s = 2 \\rightarrow 2/4 \\rightarrow 1/2$).\n",
    "\n",
    "It can be seen that, besides obtaining erroneous values of $r$ by the noise (not present in our ideal simulation), Shor's algorithm can give us erroneous values of $r$. \n",
    "\n",
    "Now we only need to apply what is commented in section [1.4.2](#Factors-N) to calculate the factors."
   ]
  },
  {
   "cell_type": "markdown",
   "id": "3b5a9ff9",
   "metadata": {},
   "source": [
    "<a id=\"shot-by-shot\"></a>\n",
    "### 4.2.2 - Case shot by shot (optimal)"
   ]
  },
  {
   "cell_type": "markdown",
   "id": "0b7fe0c4",
   "metadata": {},
   "source": [
    "After the didactic explanation of the previous section, we are now going to see how to make a more useful implementation. For this, instead of throwing several shots at the circuit, taking all the results (or the most probable ones if we have noise) and calculating the values of $r$, what we are going to do is to go shot by shot, calculating $r$ with each result that the circuit gives us, until we find the factors of N. Generally we will need much less shots, so it will be faster."
   ]
  },
  {
   "cell_type": "code",
   "execution_count": 7,
   "id": "cad670ea",
   "metadata": {},
   "outputs": [],
   "source": [
    "# Number to be factored\n",
    "N=15"
   ]
  },
  {
   "cell_type": "markdown",
   "id": "7f841179",
   "metadata": {},
   "source": [
    "Choose a random number, $a$, between 1 and $N-1$"
   ]
  },
  {
   "cell_type": "code",
   "execution_count": 8,
   "id": "3c8eedb0",
   "metadata": {},
   "outputs": [
    {
     "name": "stdout",
     "output_type": "stream",
     "text": [
      "a =  7\n"
     ]
    }
   ],
   "source": [
    "# Choose a random number, a, between 1 and N-1\n",
    "np.random.seed(1) # This is to make sure we get reproduceable results\n",
    "a = randint(2, 15)\n",
    "print('a = ', a)"
   ]
  },
  {
   "cell_type": "markdown",
   "id": "459f4b76",
   "metadata": {},
   "source": [
    "Verify that $a$ is not a non-trivial factor of $N$."
   ]
  },
  {
   "cell_type": "code",
   "execution_count": 9,
   "id": "3106481b",
   "metadata": {},
   "outputs": [
    {
     "data": {
      "text/plain": [
       "1"
      ]
     },
     "execution_count": 9,
     "metadata": {},
     "output_type": "execute_result"
    }
   ],
   "source": [
    "#Next we quickly check it isn't already a non-trivial factor of N\n",
    "from math import gcd # greatest common divisor\n",
    "gcd(a, N)"
   ]
  },
  {
   "cell_type": "markdown",
   "id": "7ac4dfad",
   "metadata": {},
   "source": [
    "<div class=\"warning\" style='padding:0.1em; background-color:#E0FFFF; color:#69337A'>\n",
    "<span>\n",
    "<p style='margin-left:1em;'>\n",
    "\n",
    "<span style=\"color:red\"><b>Note<b></span>: Note that the greatest common divisor is calculated using the gcd() function of the [math](https://docs.python.org/3/library/math.html) python module. That is, it is computed classically (without any quantum circuitry) because, as previously commented, Euclid's algorithm is efficiently implemented in a classical order. \n",
    "    \n",
    "    \n",
    "</p>\n",
    "</span>\n",
    "</div>"
   ]
  },
  {
   "cell_type": "markdown",
   "id": "fc18cca5",
   "metadata": {},
   "source": [
    "We now define a function that applies the phase estimation algorithm for phase $s/r$ where\n",
    "\n",
    "$$\n",
    "a^r \\text{ mod} N = 1\n",
    "$$\n",
    "\n",
    "and $s$ is a random integer between 0 and $N-1$."
   ]
  },
  {
   "cell_type": "code",
   "execution_count": 10,
   "id": "e7206f0a",
   "metadata": {},
   "outputs": [],
   "source": [
    "def qpe_amod15(a):\n",
    "    n_count = 8\n",
    "    qc = QuantumCircuit(4+n_count, n_count)\n",
    "    for q in range(n_count):\n",
    "        qc.h(q)     # Initialize counting qubits in state |+>\n",
    "    qc.x(3+n_count) # And auxiliary register in state |1>\n",
    "    for q in range(n_count): # Do controlled-U operations\n",
    "        qc.append(c_amod15(a, 2**q), \n",
    "                 [q] + [i+n_count for i in range(4)])\n",
    "    qc.append(qft_dagger(n_count), range(n_count)) # Do inverse-QFT\n",
    "    qc.measure(range(n_count), range(n_count))\n",
    "    # Simulate Results\n",
    "    aer_sim = Aer.get_backend('aer_simulator')\n",
    "    # Setting memory=True below allows us to see a list of each sequential reading\n",
    "    t_qc = transpile(qc, aer_sim)\n",
    "    result = aer_sim.run(t_qc, shots=1, memory=True).result() # One shot\n",
    "    readings = result.get_memory()\n",
    "    print(\"Register Reading: \" + readings[0])\n",
    "    phase = int(readings[0],2)/(2**n_count)\n",
    "    print(\"Corresponding Phase: %f\" % phase)\n",
    "    return phase"
   ]
  },
  {
   "cell_type": "markdown",
   "id": "24683504",
   "metadata": {},
   "source": [
    "We execute this function until the factors are found (for example, with a while loop):"
   ]
  },
  {
   "cell_type": "code",
   "execution_count": 11,
   "id": "bdf05187",
   "metadata": {},
   "outputs": [
    {
     "name": "stdout",
     "output_type": "stream",
     "text": [
      "\n",
      "Attempt 1:\n",
      "Register Reading: 01000000\n",
      "Corresponding Phase: 0.250000\n",
      "Result: r = 4\n",
      "Guessed Factors: 3 and 5\n",
      "*** Non-trivial factor found: 3 ***\n",
      "*** Non-trivial factor found: 5 ***\n"
     ]
    }
   ],
   "source": [
    "factor_found = False\n",
    "attempt = 0\n",
    "while not factor_found:\n",
    "    attempt += 1\n",
    "    print(\"\\nAttempt %i:\" % attempt)\n",
    "    phase = qpe_amod15(a) # Phase = s/r\n",
    "    frac = Fraction(phase).limit_denominator(N) # Denominator should (hopefully!) tell us r\n",
    "    r = frac.denominator\n",
    "    print(\"Result: r = %i\" % r)\n",
    "    if phase != 0:\n",
    "        # Guesses for factors are gcd(x^{r/2} ±1 , 15)\n",
    "        guesses = [gcd(a**(r//2)-1, N), gcd(a**(r//2)+1, N)]\n",
    "        print(\"Guessed Factors: %i and %i\" % (guesses[0], guesses[1]))\n",
    "        for guess in guesses:\n",
    "            if guess not in [1,N] and (N % guess) == 0: # Check to see if guess is a factor\n",
    "                print(\"*** Non-trivial factor found: %i ***\" % guess)\n",
    "                factor_found = True"
   ]
  },
  {
   "cell_type": "markdown",
   "id": "128e1dc6",
   "metadata": {},
   "source": [
    "<a id=\"Implementation-2n+3\"></a>\n",
    "\n",
    "<table width=\"100%\">\n",
    "    <td style=\"font-size:25px;font-family:Helvetica;text-align:left;background-color:rgba(12, 43, 337, 0.3);\">\n",
    "<b>5 - Implementation with 2n+3 qubits </b>\n",
    "</table>"
   ]
  },
  {
   "cell_type": "markdown",
   "id": "e3085cb2",
   "metadata": {},
   "source": [
    "In this section we are going to see an efficient implementation of Shor's algorithm, following the paper [Circuit for Shor’s algorithm using 2n+3 qubits](https://arxiv.org/abs/quant-ph/0205095), where the aim is to minimize the number of qubits as much as possible. "
   ]
  },
  {
   "cell_type": "markdown",
   "id": "36425b03",
   "metadata": {},
   "source": [
    "We denote <span style=\"color:red\"> $n$ the number of qubits needed to encode the number $N$ </span>(number to factorize) in a quantum register. In order to apply Shor Algorithm <span style=\"color:red\"> $t=2n$ qubits are used in the counting register</span>."
   ]
  },
  {
   "cell_type": "markdown",
   "id": "700c0368",
   "metadata": {},
   "source": [
    "<a id=\"2n+3-Main-idea\"></a>\n",
    "## 5.1 - Main idea <span style=\"color:red\"> </span> "
   ]
  },
  {
   "cell_type": "markdown",
   "id": "0ab71409",
   "metadata": {},
   "source": [
    "This section may be a bit dry if this is the first time this implementation is looked, it is oriented to be re-read once a closer look has been taken.\n",
    "\n",
    "Let's take a step-by-step look at what this implementation looks like:"
   ]
  },
  {
   "cell_type": "markdown",
   "id": "9b4ee3df",
   "metadata": {},
   "source": [
    "1. **Quantum addition algorithm:** As we will see in the following sections, this implementation is based on **addition**. In particular, we start from the [implementation of Draper's quantum addition algorithm](https://arxiv.org/abs/quant-ph/0008033) (see section [5.2.1](#2n+3-Addition)).\n",
    "<div style=\"text-align:center\">\n",
    "<img src=\"Figuras_Shor/Fig-Addition-Transform.png\" width=\"500\"/>\n",
    "</div >\n",
    "This algorithms sums two quantum registers $a$ and $\\phi (b)$, where $|\\phi(x) \\rangle$ refers to the Fourier transform of the register $x$:\n",
    "$$\n",
    "|\\phi (x) \\rangle = QFT \\, |x \\rangle.\n",
    "$$\n",
    "\n",
    "What we are going to see is how, starting from this implementation of the addition algorithm, we can construct the modulatr exponentiation."
   ]
  },
  {
   "cell_type": "markdown",
   "id": "8fa46671",
   "metadata": {},
   "source": [
    "<div class=\"warning\" style='padding:0.1em; background-color:#E0FFFF; color:#69337A'>\n",
    "<span>\n",
    "<p style='margin-left:1em;'>\n",
    "\n",
    "<span style=\"color:red\"><b>Important note<b></span>: Notice that the gate that the \"Conditional Phase Shift\" gate in the previous image is the $CROT_k$ gate of the section [2.2](#QFT-Circuit).\n",
    "    \n",
    "    \n",
    "</p>\n",
    "</span>\n",
    "</div>"
   ]
  },
  {
   "cell_type": "markdown",
   "id": "f54bc491",
   "metadata": {},
   "source": [
    "2. **Classical value + quantum register (gate $\\boldsymbol{\\phi ADD(a)}$):**  The objective is to find the period of the function $f(x) = a^x \\text{ mod}N$, where $a$ is a value fixed at the beginning of the Shor algorithm. As this value is fixed, the first simplification to reduce the number of qubits is to get rid of the qubits that encode $a$ in the addition algorithm and take $a$ as a classical value. We define the gate $\\boldsymbol{\\phi ADD(a)}$, as the **addition of a classical value $a$ to a quantum register which encodes the value $b$** (see section [5.2.2](#2n+3-Gate-phiADD(a))):\n",
    "\\begin{equation}\n",
    "\\phi ADD(a) \\, |\\phi (b) \\rangle = |\\phi (a+b) \\rangle,\n",
    "\\end{equation}\n",
    "<div style=\"text-align:center\">\n",
    "<img src=\"Figuras_Shor/Fig-phiADD(a).png\" width=\"700\"/>\n",
    "</div>\n",
    "where $| \\phi(x) \\rangle$ refers to the QFT of the register $x$:\n",
    "$$\n",
    "|\\phi (x) \\rangle = QFT \\, |x \\rangle.\n",
    "$$\n",
    "We can also define the inverse of this gate, i.e. a subtraction gate (note the addition gate has the black bar on the right and the subtraction gate on the left).\n",
    "<div style=\"text-align:center\">\n",
    "<img src=\"Figuras_Shor/Fig-phiADD(a)^-1.png\" width=\"500\"/>\n",
    "</div>"
   ]
  },
  {
   "cell_type": "markdown",
   "id": "9aeac593",
   "metadata": {},
   "source": [
    "3. **Modular addition (gate $\\phi ADD(a)MOD(N)$):** Once defined this gate, it ca be used to construct a double-controlled gate of **modular addition** $\\phi ADD(a)MOD(N)$ (see section [5.2.3](#2n+3-Gate-phiADD(a)MOD(N)))\n",
    "$$\n",
    "\\phi ADD(a)MOD(N) |\\phi (b) \\rangle = |\\phi \\left( (a+b) \\text{ mod} N \\right)\\rangle  = \\,  QFT \\, | (a+b) \\text{ mod} N \\rangle\n",
    "$$\n",
    "\n",
    "<div style=\"text-align:center\">\n",
    "<img src=\"Figuras_Shor/Fig-phiADD(a)MOD(N)_original.png\" width=\"700\"/>\n",
    "</div>"
   ]
  },
  {
   "cell_type": "markdown",
   "id": "510ab314",
   "metadata": {},
   "source": [
    "4. **Modular multiplication (gate $CMULT(a)MOD(N)$)**: The double-controlled gate of modular addition can be used to build a controlled gate of **modular multiplication** $CMULT(a)MOD(N)$ (see section [5.2.4](#2n+3-Gate-CMULT(a)MOD(N)))\n",
    "$$\n",
    "CMULT(a)MOD(N) \\, |c \\rangle |x \\rangle |b \\rangle = |c \\rangle |x \\rangle | (b + a  x) \\text{ mod} N \\rangle, \\qquad \\text{si }  c = 1\n",
    "$$\n",
    "\n",
    "<div style=\"text-align:center\">\n",
    "<img src=\"Figuras_Shor/Fig-CMULT(a)MOD(N).png\" width=\"700\"/>\n",
    "</div>"
   ]
  },
  {
   "cell_type": "markdown",
   "id": "0a3a464f",
   "metadata": {},
   "source": [
    "5. **Controlled gate $C\\text{-}U_a$:** Combining the previous gate with a  **SWAP** gate (modular multiplication results in the register of $b$, not in $x$) and taking $b = 0$ (ancilla), we can finally construict a controlled gate $C\\text{-}U_a$ such that (see section [5.2.5](#2n+3-Gate-C-U_a)):\n",
    "$$\n",
    "C \\text{-} U_a \\, |c \\rangle |x \\rangle = |c \\rangle | (a \\cdot x) \\text{ mod} N \\rangle, \\qquad \\text{si }  c = 1\n",
    "$$\n",
    "\n",
    "<div style=\"text-align:center\">\n",
    "<img src=\"Figuras_Shor/Fig-C-U_a.png\" width=\"700\"/>\n",
    "</div>"
   ]
  },
  {
   "cell_type": "markdown",
   "id": "584d7268",
   "metadata": {},
   "source": [
    "6. **Modular exponentiation (gate $C\\text{-}U_{a^{s}}$)**: In order to implement Shor algorithm, we take $ |x \\rangle = | 1 \\rangle$ and implement gates $C\\text{-}U_{a^{s}}$, where $s$ = $2^0$, $2^1$, ..., $2^{2n-1}$, as the following holds (see section [5.2.6](#2n+3-Gate-C-U_a^s))\n",
    "$$\n",
    "C\\text{-}U_{a^{s}} = (C\\text{-}U_{a})^s\n",
    "$$ \n",
    "\n"
   ]
  },
  {
   "cell_type": "markdown",
   "id": "7c604cae",
   "metadata": {},
   "source": [
    "7. **Final circuit with $4n+2$ qubits (without simplification of the counting register)**: the circuit for the Shor algorithm implementation wouldb be (see section [5.2.7](#2n+3-Final-circuit-no-simplification))\n",
    "<div style=\"text-align:center\">\n",
    "<img src=\"Figuras_Shor/Fig-Circuito-paper.png\" width=\"500\"/>\n",
    "</div>"
   ]
  },
  {
   "cell_type": "markdown",
   "id": "d4037507",
   "metadata": {},
   "source": [
    "8. **Final circuit with $2n+3$. The trick of one control qubit**: It remains to implement the simplification of the counting register, where $2n$ qubits can be substituted by just $1$ qubit (see section [5.2.8](#2n+3-Simplified-final-circuit))\n",
    "\n",
    "<div style=\"text-align:center\">\n",
    "<img src=\"Figuras_Shor/Fig-Truco-qubit-control.png\" width=\"600\"/>\n",
    "</div>"
   ]
  },
  {
   "cell_type": "markdown",
   "id": "d0c2821b",
   "metadata": {},
   "source": [
    "<a id=\"2n+3-Explanation-in-detail\"></a>\n",
    "## 5.2 - Explanation in detail"
   ]
  },
  {
   "cell_type": "markdown",
   "id": "22697622",
   "metadata": {},
   "source": [
    "In the following subsections we will explain step by step the phases in the section [5.1](#2n+3-Main-idea)"
   ]
  },
  {
   "cell_type": "markdown",
   "id": "1ce80a2f",
   "metadata": {},
   "source": [
    "<a id=\"2n+3-Addition\"></a>\n",
    "### 5.2.1 - Quantum algorithm addition"
   ]
  },
  {
   "cell_type": "markdown",
   "id": "c7f8fabd",
   "metadata": {},
   "source": [
    "As we will see in the following sections, this implementation is based on **addition**. In particular, we start from the [implementation of Draper's quantum addition algorithm](https://arxiv.org/abs/quant-ph/0008033).\n",
    "\n",
    "<div style=\"text-align:center\">\n",
    "<img src=\"Figuras_Shor/Fig-Addition-Transform.png\" width=\"500\"/>\n",
    "</div>"
   ]
  },
  {
   "cell_type": "markdown",
   "id": "e5a5dce3",
   "metadata": {},
   "source": [
    "<div class=\"warning\" style='padding:0.1em; background-color:#E0FFFF; color:#69337A'>\n",
    "<span>\n",
    "<p style='margin-left:1em;'>\n",
    "\n",
    "<span style=\"color:red\"><b>Important note<b></span>: Notice that gate \"Conditional Phase Shift\" of the previous image is the gate $CROT_k$ from section [2.2](#QFT-Circuit).\n",
    "    \n",
    "    \n",
    "</p>\n",
    "</span>\n",
    "</div>"
   ]
  },
  {
   "cell_type": "markdown",
   "id": "c1a73ab0",
   "metadata": {},
   "source": [
    "This algorithm sums the values $a$ and $b$. The inputs to the addition circuit are the $boldsymbol{n}$ **qubits** representing the number $a$ and $boldsymbol{n}$ **qubits** containing the Fourier transform of another number $b$, denoted as $\\phi(b)$, i.e,\n",
    "\n",
    "$$\n",
    "|\\phi (b) \\rangle = QFT \\, |b \\rangle.\n",
    "$$ \n",
    "\n",
    "The register encoding the number $a$ does not change, while the register encoding $\\phi (b)$ becomes the sum of $a+b$ in Fourier space, $\\phi (a+b)$. By performing the inverse transform, the value $a+b$ can be recovered:\n",
    "\n",
    "$$\n",
    "QFT^{-1}| \\phi (a+b) \\rangle = | a+b \\rangle\n",
    "$$\n",
    "\n",
    "What we are going to see is how, starting from this implementation of the summation algorithm, we can construct the modular exponentiation."
   ]
  },
  {
   "cell_type": "markdown",
   "id": "d661a95f",
   "metadata": {},
   "source": [
    "<div class=\"warning\" style='padding:0.1em; background-color:#E0FFFF; color:#69337A'>\n",
    "<span>\n",
    "<p style='margin-left:1em;'>\n",
    "\n",
    "<span style=\"color:red\"><b>Nota<b></span>: Let us not lose sight of the objective. We want to calculate the period of the function $f(x) = a^x \\text{mod}N$, where $a<N$ (we also take $b<N$). Having a $\\text{mod}N$ we know that this function can not return values greater than $N$. We have then that the $\\boldsymbol{n}$ **qubits** used to encode $a$ and $b$ are **the number of qubits needed to encode $N$**.\n",
    "    \n",
    "    \n",
    "</p>\n",
    "</span>\n",
    "</div>"
   ]
  },
  {
   "cell_type": "markdown",
   "id": "1b82ce62",
   "metadata": {},
   "source": [
    "<a id=\"2n+3-Gate-phiADD(a)\"></a>\n",
    "### 5.2.2 - Classical value + quantum register (gate $\\phi ADD(a)$)"
   ]
  },
  {
   "cell_type": "markdown",
   "id": "52cc596f",
   "metadata": {},
   "source": [
    "We want to compute the period of the function $f(x) = a^x \\text{ mod}N$, where $a$ is a fixed value smaller than $N$. \n",
    "\n",
    "Since this value is fixed, we do not need to encode it using a quantum register, so the qubits encoding $a$ can be replaced by classical bits. The controlled gates then become classically controlled gates. Moreover, since we know in advance the value of $a$, we can precompute the product of the gates on each qubit, thus applying only one gate per qubit (we reduce the depth of the circuit).\n",
    "\n",
    "We thus define the $ ADD(a)$ gate, which **adds a classical value $a$ to the quantum register encoding the value $b$**. The input of this gate is the Fourier transform of the register $b$, i.e., $\\phi (b)$, and the output is the Fourier transform of the sum, $\\phi (b)$:\n",
    "\n",
    "\\begin{equation}\n",
    "\\phi ADD(a) \\, |\\phi (b) \\rangle = |\\phi (a+b) \\rangle,\n",
    "\\end{equation}\n",
    "<div style=\"text-align:center\">\n",
    "<img src=\"Figuras_Shor/Fig-phiADD(a).png\" width=\"700\"/>\n",
    "</div>\n",
    "\n",
    "As stated before, the number of qubits $n$ used to encode $a$ and $b$ is the number of qubits needed to encode $N$ (since $a$, $b$ < $N$). It may occur that when performing the addition, the result is a value greater than $N$, i.e., $a+b > N$. We could then have a number greater than the largest number we can encode with the $n$ qubits we start from. This is called **overflow**. To avoid this, an extra qubit is added to the register containing $\\phi (b)$. We thus have that **$\\phi(b)$ is effectively the Fourier transform of a register of $n+1$ qubits containing a number of $n$ bits**. We thus have that, before addition, **the most significant bit of the inverted QFT of the register $\\phi(b)$ is always $|0\\rangle$:\n",
    "\n",
    "$$\n",
    "\\text{the most significat bit of } \\, QFT^{-1}|\\phi(b) \\rangle = |b \\rangle \\, \\text{ is always } \\, |0 \\rangle\n",
    "$$\n",
    "\n",
    "We can also define the inverse of this gate, i.e. a subtraction gate (note that **the addition gate has the black bar on the right and the subtraction gate on the left**).\n",
    "\n",
    "<div style=\"text-align:center\">\n",
    "<img src=\"Figuras_Shor/Fig-phiADD(a)^-1.png\" width=\"500\"/>\n",
    "</div>\n",
    "\n",
    "where $p$ **is an $n$ bit** number and **$g$ is an $n+1$ bit** number. \n",
    "See that we have different results if $g \\geq p$ or $g < p$. Precisely, we can use this to find out which of the two numbers is larger.\n",
    "- If after subtraction the most significant bit is $|0 \\rangle$, we are in the case of $g \\geq p$ (**only if $g-p$ is an $n$ bit number**).\n",
    "- If after subtraction the most significant bit is $|1 \\rangle$, we are in the case of $p>g$."
   ]
  },
  {
   "cell_type": "markdown",
   "id": "f12b8216",
   "metadata": {},
   "source": [
    "<div class=\"warning\" style='padding:0.1em; background-color:#E0FFFF; color:#69337A'>\n",
    "<span>\n",
    "<p style='margin-left:1em;'>\n",
    "\n",
    "<span style=\"color:red\"><b>Note<b></span>: Apply this method with:\n",
    "\n",
    "- $p = N \\quad$ and $\\quad g = b, \\, a+b \\quad$ (part 1 of circuit in section [5.2.3](#2n+3-Gate-phiADD(a)MOD(N)))\n",
    "- $p = \\, a \\, \\quad$ and $\\quad g = b, \\, a+b, \\, a+b - N \\quad$   (part 2 of the circuit in section [5.2.3](#2n+3-Puerta-phiADD(a)MOD(N)))\n",
    "    \n",
    "    \n",
    "In both cases we have that $p$ is an $n$ bit number and if $g \\geq p$ we have $g-p < N$, so $g-p$ is $n$ bit. We can then apply the most significant bit criterion to find out which number is larger. \n",
    "</p>\n",
    "</span>\n",
    "</div>"
   ]
  },
  {
   "cell_type": "markdown",
   "id": "258f15e5",
   "metadata": {},
   "source": [
    "<div class=\"warning\" style='padding:0.1em; background-color:#E0FFFF; color:#69337A'>\n",
    "<span>\n",
    "<p style='margin-left:1em;'>\n",
    "\n",
    "<span style=\"color:red\"><b>Note<b></span>: If $g<p$ then:\n",
    "\n",
    "$$\n",
    "\\phi ADD^{-1}(p) \\, | \\phi(g) \\rangle = |\\phi (2^{n+1} - (p-g)) \\rangle\n",
    "$$\n",
    "\n",
    "If $p$ is added once again $p$ we obtain:\n",
    "    \n",
    "$$\n",
    "\\phi ADD(p) \\, |\\phi (2^{n+1} - (p-g)) \\rangle =  |\\phi (2^{n+1} - (p-g)) + p \\rangle =  |\\phi (2^{n+1} + g)) \\rangle\n",
    "$$\n",
    "\n",
    "As $2^{n+1} + g$ is greater than the maximum value possible value using $n+1$ qubits, overflow occurs:\n",
    "\n",
    "$$\n",
    "\\phi ADD(p) \\, |\\phi (2^{n+1} - (p-g)) \\rangle = |\\phi (2^{n+1} + g)) \\rangle = |\\phi (g) \\rangle\n",
    "$$\n",
    "\n",
    "Hence, \\phi ADD(p)$ and $\\phi ADD^{-1}(p)$ are the inverse of each other.\n",
    "    \n",
    "</p>\n",
    "</span>\n",
    "</div>"
   ]
  },
  {
   "cell_type": "markdown",
   "id": "83806507",
   "metadata": {},
   "source": [
    "<a id=\"2n+3-Gate-phiADD(a)MOD(N)\"></a>\n",
    "### 5.2.3 - Modular addition (puerta $\\phi ADD(a)MOD(N)$)"
   ]
  },
  {
   "cell_type": "markdown",
   "id": "60d3d352",
   "metadata": {},
   "source": [
    "Once the addition gate $\\phi ADD(a)$ is defined, we can use it to construct a **modular addition gate** $\\phi ADD(a)MOD(N)$. This gate performs $a+b$ and subtracts $N$ from it if $a+b \\geq N$. The inputs are $\\phi(b)$ with $b < N$ and a classical value $a < N$.\n",
    "\n",
    "$$\n",
    "\\phi ADD(a)MOD(N) |\\phi (b) \\rangle = |\\phi \\left( (a+b) \\text{ mod} N \\right)\\rangle  = \\,  QFT \\, | (a+b) \\text{ mod} N \\rangle\n",
    "$$\n",
    "\n",
    "<div style=\"text-align:center\">\n",
    "<img src=\"Figuras_Shor/Fig-phiADD(a)MOD(N)-English.png\" width=\"700\"/>\n",
    "</div>\n",
    "\n",
    "Two control qubits ($| c_1 \\rangle$, $| c_2 \\rangle$) have been added for future use. The gate is only activated if $c_1 = c_2 = 1$. The gates have been numbered (red boxes) for ease of explanation.\n",
    "\n"
   ]
  },
  {
   "cell_type": "markdown",
   "id": "05747cbe",
   "metadata": {},
   "source": [
    "<div class=\"warning\" style='padding:0.1em; background-color:#E0FFFF; color:#69337A'>\n",
    "<span>\n",
    "<p style='margin-left:1em;'>\n",
    "\n",
    "<span style=\"color:red\"><b>Important Note<b></span>: The [paper](https://arxiv.org/abs/quant-ph/0205095) from which the figures are taken mixes the two qubit ordering conventions in the circuits. The figure above uses **the same as the one used by Qiskit**, where the most significant bit is the bottom bit. For that reason the CNOTs that are applied in the bottom qubit are controlled by the last qubit, the $| \\phi (b) \\rangle$ register.\n",
    "\n",
    "</p>\n",
    "</span>\n",
    "</div>"
   ]
  },
  {
   "cell_type": "markdown",
   "id": "a27d5972",
   "metadata": {},
   "source": [
    "As it can be noticed in the image, the circuit implementing that gate consists of two parts:\n",
    "- Part 1: Computes $(a+b) \\text{ mod} N$\n",
    "- Part 2: Returns the ancilla qubit to the state $|0 \\rangle$ (qubit at the bottom of the image)."
   ]
  },
  {
   "cell_type": "markdown",
   "id": "87890136",
   "metadata": {},
   "source": [
    "<div class=\"warning\" style='padding:0.1em; background-color:#E0FFFF; color:#69337A'>\n",
    "<span>\n",
    "<p style='margin-left:1em;'>\n",
    "\n",
    "<span style=\"color:red\"><b>Note<b></span>: An **ancilla** qubit is an auxiliary qubit that is used to do an intermediate calculation but is not part of the solution. These qubits must be reset to the initial state. \n",
    "</p>\n",
    "</span>\n",
    "</div>"
   ]
  },
  {
   "cell_type": "markdown",
   "id": "3b5470cb",
   "metadata": {},
   "source": [
    "<div class=\"warning\" style='padding:0.1em; background-color:#E0FFFF; color:#69337A'>\n",
    "<span>\n",
    "<p style='margin-left:1em;'>\n",
    "\n",
    "<span style=\"color:red\"><b>Important note<b></span>: The ancila qubit **is not an extra register qubit** $| \\phi (b) \\rangle$. There are 2 control qubits, the $n+1$ of the input $| \\phi (b) \\rangle$ and the ancila qubit, hence $n+4$ qubits are used.\n",
    "    \n",
    "    \n",
    "</p>\n",
    "</span>\n",
    "</div>"
   ]
  },
  {
   "cell_type": "markdown",
   "id": "0a5ac78b",
   "metadata": {},
   "source": [
    "Let us look at all the possible cases we may encounter."
   ]
  },
  {
   "cell_type": "markdown",
   "id": "4ee2bfa1",
   "metadata": {},
   "source": [
    "#### 5.2.3.1 - Case $\\boldsymbol{c_1 = c_2 = 1}$"
   ]
  },
  {
   "cell_type": "markdown",
   "id": "913f9392",
   "metadata": {},
   "source": [
    "Start with state $| \\phi(b) \\rangle$.\n",
    "\n",
    "- **Gate 1**: After applying gate 1 (gate $\\phi ADD(a)$) the state is obtained $| \\phi(a+b) \\rangle$.\n",
    "\n",
    "- **Gates 2, 3, 4 y 5**: Check whether we are in the case $a+b \\geq N$ or $a+b <N$. To do so, apply the gate $\\phi ADD^{-1}(N)$ (gate 2), hence:\n",
    "\\begin{align}\n",
    "    & \\text{1) State $| \\phi(a+b - N) \\rangle$ if $a+b \\geq N$} \\\\\n",
    "    & \\text{2) State $| \\phi(2^{n+1} -(a+b - N)) \\rangle$ if $a+b < N$.}\n",
    "\\end{align} \n",
    "    Gates 3, 4 and 5 change ancilla qubit to 1 if most significant bit is 1, i.e, if we are in the second case. \n",
    "\n",
    "- **Gate 6**: This gate is only activated if the ancilla qubit is 1, i.e., if we are in the second case of the previous step ($a+b < N$). What this gate does is adding $N$, undoing the subtraction of gate 2 if we are in the case $a+b < N$, that is, if subtracting $N$ did not have to be done. After this gate we already have the result of the modular addition. It only remains to return ancilla qubit to state $|0\\rangle$.\n",
    "\n",
    "\n",
    "- **Gate 7**: Start with state $(a+b) \\text{ mod} N$. This gate sums $a$, hence we have two cases:\n",
    "\\begin{align}\n",
    "    & \\text{3) $(a+b) > N \\quad \\Rightarrow \\quad (a+b) \\text{ mod} N = a+b-N < a \\quad \\Rightarrow $} \\\\ \n",
    "    & \\qquad \\quad \\Rightarrow \\quad \\phi ADD^{-1}(a) \\, | \\phi ((a+b) \\text{ mod} N) \\rangle = | \\phi ( 2^{n+1} - (N - b) ) \\rangle  \\\\\n",
    "    & \\text{4) $(a+b) < N \\quad \\Rightarrow \\quad (a+b) \\text{ mod} N = a+b > a \\quad \\Rightarrow $} \\\\ \n",
    "    & \\qquad \\quad \\Rightarrow \\quad \\phi ADD^{-1}(a) \\, | \\phi ((a+b) \\text{ mod} N) \\rangle = | \\phi ( b ) \\rangle  \\\\\n",
    "\\end{align} \n",
    "\n",
    "- **Gates 8, 9, 10, 11, 12**: These gates change the old gate if the most significant bit is zero. We see that this is case 4 of the previous step, that is, when $(a+b) < N$. Notice that applying gates 2, 3, 4 and 5 corresponds to case 2, the one where just the ancilla is changed. That is, if we had changed the ancilla, we would now have set it back to zero.\n",
    "\n",
    "- **Gate 13**: Undoes the change produced by gate 7."
   ]
  },
  {
   "cell_type": "markdown",
   "id": "181f79a2",
   "metadata": {},
   "source": [
    "#### 5.2.3.2 - Case $\\boldsymbol{c_1 = 0}$ y/o $\\boldsymbol{c_2 = 0}$"
   ]
  },
  {
   "cell_type": "markdown",
   "id": "c8c54387",
   "metadata": {},
   "source": [
    "In these cases gate $\\phi ADD(a)MOD(N)$ remains the input invariant.\n",
    "\n",
    "Start with state $| \\phi(b) \\rangle$.\n",
    "\n",
    "- **Gate 1**: Not applying. \n",
    "\n",
    "- **Gate 2**: Substract $N$, hence the state in register is $\\phi \\left( 2^{n+1} - (N-b) \\right)$.\n",
    "\n",
    "- **Gates 2, 3, 4 y 5**: As the most significant bit in this case is always 1, these gates set the ancilla qubit to 1.\n",
    "\n",
    "- **Gate 6**: As ancilla qubit is 1, this gates activates and undoes the changes produced by gate 2. The initial state $| \\phi(b) \\rangle$ is again in the register but qubit ancilla set to 1.\n",
    "\n",
    "- **Gate 7**: Not applying.\n",
    "\n",
    "- **Gates 8, 9, 10, 11, 12**: As mentioned before, these gates change the ancilla if the incoming state has the most significant bit set to zero. As the state is $| \\phi(b) \\rangle$, this is the case so the ancilla is changed again. We go back to the initial state, without any change.\n",
    "\n",
    "- **Gate 13**: Not applying."
   ]
  },
  {
   "cell_type": "markdown",
   "id": "86c51027",
   "metadata": {},
   "source": [
    "<a id=\"2n+3-Gate-CMULT(a)MOD(N)\"></a>\n",
    "### 5.2.4 - Modular Multiplication (gate $CMULT(a)MOD(N)$)"
   ]
  },
  {
   "cell_type": "markdown",
   "id": "54284a76",
   "metadata": {},
   "source": [
    "Next step is using $\\phi ADD(a)MOD(N)$ to construct a controlled modular multiplication gate, denoted $CMULT(a)MOD(N)$. The entry of this gate will be three registers $|c \\rangle |x \\rangle |b  \\rangle$, where $|c \\rangle$ is a control qubit:\n",
    " - $CMULT(a)MOD(N) \\, |c \\rangle |x \\rangle |b \\rangle = |c \\rangle |x \\rangle | (b + a x) \\text{ mod} N \\rangle, \\qquad \\, \\text{if }  \n",
    " c = 1$\n",
    " \n",
    " - $CMULT(a)MOD(N) \\, |c \\rangle |x \\rangle |b \\rangle = |c \\rangle |x \\rangle | b \\rangle, \\qquad \\qquad \\qquad \\quad \\phantom{i} \\text{if }  c = 0$\n",
    " \n",
    "To implement this gate the gates from previous section $\\phi ADD(a)MOD(N)$ are used\n",
    "\n",
    "\\begin{align}\n",
    "(ax) \\text{ mod} N & = (2^0 a x_0 + 2^1 a x_1 + \\dots + 2^{n-1} a x_{n-1}) \\text{ mod} N \\\\\n",
    "& = \\{\\dots [(2^0 a x_0) \\text{mod} N + 2^1 a x_1] \\text{ mod} N + \\dots + 2^{n-1} a x_{n-1}\\} \\text{ mod} N\n",
    "\\end{align}\n",
    "\n",
    "It is easy to understand this identity: it is the same to add all the terms and finally take modulo of the complete sum as it is to take modulo of the first term, add it to the second term, take modulo again, and so on. We see that this can be implemented by first applying a $\\phi ADD(2^0 a) MOD(N)$ gate over $|b \\rangle$ controlled by $|c \\rangle$ and $|x_0 \\rangle$, then a $\\phi ADD(2^1 a) MOD(N)$ gate over the result of the previous one controlled by $|c \\rangle$ and $| x_1 \\rangle$, and so on. Whereupon, **we only need to apply $n$ doubly controlled gates $\\phi ADD (2^i a) MOD(N)$** with $0 \\leq i < N$. We can see this implementation in the following figure.\n",
    "\n",
    "<div style=\"text-align:center\">\n",
    "<img src=\"Figuras_Shor/Fig-CMULT(a)MOD(N).png\" width=\"700\"/>\n",
    "</div>\n",
    "\n",
    "\n",
    "\n"
   ]
  },
  {
   "cell_type": "markdown",
   "id": "34f358e7",
   "metadata": {},
   "source": [
    "<div class=\"warning\" style='padding:0.1em; background-color:#E0FFFF; color:#69337A'>\n",
    "<span>\n",
    "<p style='margin-left:1em;'>\n",
    "\n",
    "<span style=\"color:red\"><b>Important note<b></span>: The [paper](https://arxiv.org/abs/quant-ph/0205095) from which the figures are taken mixes the two qubit ordering conventions in the circuits. The figure above uses **the same as the one used by Qiskit**, where the most significant bit is the bottom bit. For that reason, the qubit of the register $|x \\rangle$ controlling the gate $\\phi ADD(2^0 a)MOD(N)$ is the first, the one controlling the gate $\\phi ADD(2^{n-1} a)MOD(N)$ is the last, ....\n",
    "\n",
    "</p>\n",
    "</span>\n",
    "</div>"
   ]
  },
  {
   "cell_type": "markdown",
   "id": "2bece1f1",
   "metadata": {},
   "source": [
    "<a id=\"2n+3-Gate-C-U_a\"></a>\n",
    "### 5.2.5 - Controlled gate $C\\text{-}U_a$"
   ]
  },
  {
   "cell_type": "markdown",
   "id": "0b0fe578",
   "metadata": {},
   "source": [
    "In the previous section we saw how to build a controlled gate applying the operation\n",
    "\n",
    "$$\n",
    "| x \\rangle | b \\rangle | b \\rangle | (b+ax) \\text{ mod}N \\rangle\n",
    "$$\n",
    "\n",
    "But this is not what we want, we want a controlled gate that transforms the state $|x \\rangle$ to the state $| (ax) \\text{ mod} \\rangle$. It can be solved as follows:\n",
    " - First apply a gate $CMULT(a)MOD(N)$ on the state $|c \\rangle |x \\rangle |0 \\rangle$, whereupon we obtain the state $|c \\rangle |x \\rangle | (ax) \\text{ mod} N \\rangle$. \n",
    " \n",
    " - Next, if $|c \\rangle = | 1 \\rangle$ we apply controlled SWAP gates to change the registers $|x \\rangle$ and $|(b + ax) \\text{ mod} N \\rangle$, whereupon we get the state $|c \\rangle |(ax) \\text{ mod} N \\rangle |x \\rangle$. We only need to apply SWAP controlled gates to $n$ qubits, not to $n+1$, since the most significant qubit of $(ax) \\text{ mod}N$ is always 0, as it is the extra qubit we include to avoid overflow in the $\\phi ADD (a)$ gates. \n",
    " \n",
    " - Finally, we apply the inverse of the controlled gate $CMULT(a^{-1}) MOD(N)$, where $a^{-1}$ is the inverse of $a$ modulo N. This value is classically computed in polynomial time using Euclid's algorithm and we are assured that it always exists since $gcd(a,N) =1$. In summary, if the input to this gate is the state $|c \\rangle | x \\rangle | b \\rangle$ with $|c \\rangle = |1 \\rangle$ we have:\n",
    " $$\n",
    " [CMULT(a^{-1}) MOD(N)]^{-1} |c \\rangle | x \\rangle | b \\rangle = |c \\rangle | x \\rangle | (b - a^{-1}x \\rangle\n",
    " $$\n",
    " In our case we have that the input state is $|c \\rangle |(ax) \\text{ mod} N \\rangle |x \\rangle $$, whereupon:\n",
    " \n",
    "$$\n",
    "[CMULT(a^{-1}) MOD(N)]^{-1} |c \\rangle |(ax) \\text{ mod} N \\rangle |x \\rangle = |c \\rangle |(ax) \\text{ mod} N \\rangle |(x - a^{-1} ax )\\text{ mod} N \\rangle = |c \\rangle |(ax) \\text{ mod} N \\rangle | 0 \\rangle\n",
    "$$"
   ]
  },
  {
   "cell_type": "markdown",
   "id": "62066df1",
   "metadata": {},
   "source": [
    "Denote the set of these three controlled gates as **controlled gate $U_a$**, i.e., $C\\text{-}U_a$. In sumarry, this gate transforms $| c \\rangle | x \\rangle |0 \\rangle$ into  $| c \\rangle | (ax) \\text{ mod} N  \\rangle |0 \\rangle$ if $c=1$:\n",
    "\n",
    "$$\n",
    "C\\text{-}U_a | c \\rangle | x \\rangle |0 \\rangle = | c \\rangle | (ax) \\text{ mod} N  \\rangle |0 \\rangle \\qquad \\text{ if } c = 1\n",
    "$$\n",
    "\n",
    "If $c=0$, identity is applied. "
   ]
  },
  {
   "cell_type": "markdown",
   "id": "67ff064a",
   "metadata": {},
   "source": [
    "In summary, the gate $C\\text{-}U_a$ realizes the following steps (if $|c \\rangle = | 1 \\rangle$)\n",
    "\n",
    "\\begin{align}\n",
    "& | x \\rangle | 0 \\rangle  \\quad \\rightarrow \\quad |x \\rangle | (ax) \\text{ mod}N \\rangle \\quad \\rightarrow \\quad  | (ax) \\text{ mod}N \\rangle |x \\rangle \\quad \\rightarrow \\\\\n",
    "&\\rightarrow \\quad | (ax) \\text{ mod}N \\rangle  | (x - a^{-1}ax) \\text{ mod}N \\rangle = | (ax) \\text{ mod}N \\rangle | 0\\rangle\n",
    "\\end{align}\n",
    "\n",
    "<div style=\"text-align:center\">\n",
    "<img src=\"Figuras_Shor/Fig-C-U_a.png\" width=\"700\"/>\n",
    "</div>\n",
    "\n",
    "Notice that, in the last register, as it is $|0 \\rangle$ at the beginning and at the end, it can be considered part of the gate $C\\text{-}U_{a}$ (ancila):\n",
    "\n",
    "$$\n",
    "C\\text{-}U_a | x \\rangle |0\\rangle = |(ax) \\text{ mod} N \\rangle |0 \\rangle \\quad \\Rightarrow \\quad C\\text{-}U_a | x \\rangle  = |(ax) \\text{ mod} N \\rangle\n",
    "$$"
   ]
  },
  {
   "cell_type": "markdown",
   "id": "c8bca3fe",
   "metadata": {},
   "source": [
    "<a id=\"2n+3-Gate-C-U_a^s\"></a>\n",
    "### 5.2.6 - Modular Exponentiation (gate $C\\text{-}U_{a^{s}}$)"
   ]
  },
  {
   "cell_type": "markdown",
   "id": "313aa3ef",
   "metadata": {},
   "source": [
    "Once the $C\\text{-}U_{a}$ gate has been constructed, one might think that to apply the modular exponentiation this gate has to be applied several times, that is:\n",
    "\n",
    "$$\n",
    "\\left( C\\text{-}U_a \\right)^s  | x \\rangle  = |(a^s x) \\text{ mod} N \\rangle\n",
    "$$\n",
    "\n",
    "Although this implementation is possible, we have the option to make a much more optimal one. For this we use the property \n",
    "\n",
    "$$\n",
    "(a^s x) \\text{ mod} N = \\underbrace{\\{ \\dots [a(ax) \\text{ mod}N] \\text{ mod}N \\dots \\}\\text{ mod}{N}}_{s \\text{ veces}} = [x (a^s)\\text{ mod}N ] \\text{ mod}N\n",
    "$$\n",
    "\n",
    "Instead of applying $s$ times the gate $C\\text{-}U_{a}$ we can apply only once the gate $C\\text{-}U_{a^s}$ where the subscript $a^s$ means that we pass to the gate the value $a^s \\text{ mod} N$ (this is classically calculated).\n",
    "\n",
    "$$\n",
    "C\\text{-}U_{a^{s}} = (C\\text{-}U_{a})^s\n",
    "$$ "
   ]
  },
  {
   "cell_type": "markdown",
   "id": "4d589ed3",
   "metadata": {},
   "source": [
    "<a id=\"2n+3-Final-circuit-no-simplification\"></a>\n",
    "### 5.2.7 - Final circuit with $4n+2$ qubits (without the simplification of the counting register)"
   ]
  },
  {
   "cell_type": "markdown",
   "id": "69865191",
   "metadata": {},
   "source": [
    "It only remains for us to see the circuit with the complete implementation of Shor's algorithm. (Recall that $n$ is the number of qubits we need to encode $N$ and that in the count register we need $2n$ qubits.)\n",
    "\n",
    "\n",
    "<div style=\"text-align:center\">\n",
    "<img src=\"Figuras_Shor/Fig-Circuito-paper.png\" width=\"500\"/>\n",
    "</div>\n",
    "\n",
    "This implementation uses $4n+2$ qubits:\n",
    "  - $2n$ qubits in the counting register.\n",
    "  - $n$ qubits for the state $|1\\rangle$ (i.e., the state $|x \\rangle$ of sections [5.2.4](#2n+3-Gate-CMULT(a)MOD(N)) to [5.2.6](#2n+3-Puerta-C-U_a)).\n",
    "  - $n+2$ qubits for ancillas:\n",
    "      - $n+1$ qubits for the state $|b \\rangle = | 0 \\rangle$ (see figures of sections [5.2.4](#2n+3-Gate-CMULT(a)MOD(N)) y [5.2.5](#2n+3-Puerta-C-U_a)).\n",
    "      - 1 qubit for the ancilla of the gate $\\phi ADD(a)MOD(N)$ (see figure of section [5.2.3](#2n+3-Gate-phiADD(a)MOD(N)))."
   ]
  },
  {
   "cell_type": "markdown",
   "id": "8d6dfb87",
   "metadata": {},
   "source": [
    "<div class=\"warning\" style='padding:0.1em; background-color:#E0FFFF; color:#69337A'>\n",
    "<span>\n",
    "<p style='margin-left:1em;'>\n",
    "\n",
    "<span style=\"color:red\"><b>Important note<b></span>: The [paper](https://arxiv.org/abs/quant-ph/0205095) from which the figures are taken mixes the two qubit ordering conventions in the circuits. The figure above uses **the same as the one used by Qiskit**, where the most significant bit is the bottom bit. For that reason, the qubit which controls gate $U_{a^0}$ is the last one, the one which controls gate $U_{a^{2n-1}}$ is the first one,...\n",
    "\n",
    "</p>\n",
    "</span>\n",
    "</div>"
   ]
  },
  {
   "cell_type": "markdown",
   "id": "e87149b3",
   "metadata": {},
   "source": [
    "<a id=\"2n+3-Simplified-final-circuit\"></a>\n",
    "### 5.2.8 - Final circuit with $2n+3$. The trick of one control qubit"
   ]
  },
  {
   "cell_type": "markdown",
   "id": "b0cb0f59",
   "metadata": {},
   "source": [
    "It remains to implement the simplification of the count register, where the number of qubits is reduced from $2n$ to 1.\n",
    "\n",
    "<div style=\"text-align:center\">\n",
    "<img src=\"Figuras_Shor/Fig-Truco-qubit-control.png\" width=\"600\"/>\n",
    "</div>\n",
    "\n",
    "Each measured bit dictates which unit transformation has to be applied after each U-controlled step before the next measurement.\n",
    "\n",
    "We will not go further into this simplification, we refer the reader to the papers [[9]](http://arxiv.org/abs/quant-ph/9903071), [[10]](https://arxiv.org/abs/quant-ph/9806084) y [[11]](https://arxiv.org/abs/quant-ph/0001066)."
   ]
  },
  {
   "cell_type": "markdown",
   "id": "e704732e",
   "metadata": {},
   "source": [
    "<a id=\"2n+3-QFT\"></a>\n",
    "## 5.3 - Aproximated implementation of QFT."
   ]
  },
  {
   "cell_type": "markdown",
   "id": "4433b265",
   "metadata": {},
   "source": [
    "We already saw in section [2.2](#QFT-Circuit) the implementation of the quantum Fourier transform. Here we present again the same implementation but with the gate notation that we have been using in this section:\n",
    "\n",
    "<div style=\"text-align:center\" >\n",
    "<img style=\"width:500\" src=\"Figuras_Shor/Fig-qft.png\"/>\n",
    "</div>"
   ]
  },
  {
   "cell_type": "markdown",
   "id": "25dda716",
   "metadata": {},
   "source": [
    "<div class=\"warning\" style='padding:0.1em; background-color:#E0FFFF; color:#69337A'>\n",
    "<span>\n",
    "<p style='margin-left:1em;'>\n",
    "\n",
    "<span style=\"color:red\"><b>Important note<b></span>: Notice that the differences between this picture and the one in section [2.2](#QFT-Circuit) are simply the change of notation of the $UROT_k$ gates and that the Swap gates at the end are missing. This is simply because in section [2.2](#QFT-Circuit) the Qiskit convention was used for the ordering of the qubits, while in this section the usual one is being used. \n",
    " \n",
    "</p>\n",
    "</span>\n",
    "</div>"
   ]
  },
  {
   "cell_type": "markdown",
   "id": "4150f44f",
   "metadata": {},
   "source": [
    "This is the exact implementation of QFT which, as we see the picture, when we apply it to $n$ qubits we need on the order of $\\mathcal{O} (n^2)$ operations (in particular, it is $\\frac{1}{2} n(n+1)$ operations). "
   ]
  },
  {
   "cell_type": "markdown",
   "id": "6a8fe90c",
   "metadata": {},
   "source": [
    "Remainder: The matrix expression of gates $CROT_k$\n",
    "\n",
    "$$\n",
    "CROT_k = \\left[ \\begin{matrix}\n",
    "1 & 0 & 0 & 0 \\\\\n",
    "0 & 1 & 0 & 0 \\\\\n",
    "0 & 0 & 1 & 0 \\\\\n",
    "0 & 0 & 0 & \\exp \\left( \\frac{2 \\pi i}{2^k} \\right)\n",
    "\\end{matrix} \\right]\n",
    "$$\n",
    "\n",
    "It can be seen that when $k$ grows very large, the $CROT_k$ gates approach the Identity. This makes that we can dispense with gates with $k$ value larger than a certain threshold $k_{max}$ and thus apply an **approximate** version (with fewer operations) of the Fourier transform. It can be shown (see [12](https://arxiv.org/abs/quant-ph/0201067)) that the error introduced by ignoring all gates with value $k > k_{max}$ is proportional to $n 2^{-k_{max}}$. We can thus take $k_{max}$ of order $\\mathcal{O} (\\log_2 n)$, going from having of order $\\mathcal{O} (n^2)$ operations (gates) to $\\mathcal{O} (n \\log_2(n))$ operations (in particular $\\frac{1}{2} (2n-\\log_2n)(\\log_2n-1)$ operations]).\n"
   ]
  },
  {
   "cell_type": "markdown",
   "id": "88764312",
   "metadata": {},
   "source": [
    "<a id=\"2n+3-SWAP\"></a>\n",
    "## 5.4 - Implementaction of controlled SWAP gates"
   ]
  },
  {
   "cell_type": "markdown",
   "id": "20026562",
   "metadata": {},
   "source": [
    "The controlled *SWAP* is a gate that supports three qubits (one for control and two for operation), and is constructed as follows:\n",
    "\n",
    "<div style=\"text-align:center\" >\n",
    "<img style=\"width:800\" src=\"Figuras_Shor/Fig-swap.png\"/>\n",
    "</div>\n",
    "\n",
    "Two *CNOT* gates surrounding a *Toffoli* gate. The role of this gate is to exchange the value of the two operating qubits if the control qubit is activated. As we can see, to swap two qubits we need 3 gates, so the gates needed to apply a controlled *SWAP* gate to $n$ qubits are $\\mathcal{O}(n)$ gates.\n",
    "\n",
    "We see that the controlled *SWAP* gate is not the same as the normal *SWAP* gate (three *CNOT* gates) where the central *CNOT* gate is controlled, making it a *Toffoli* gate."
   ]
  },
  {
   "cell_type": "markdown",
   "id": "2284609b",
   "metadata": {},
   "source": [
    "<a id=\"References\"></a>\n",
    "## References"
   ]
  },
  {
   "cell_type": "markdown",
   "id": "046d073f",
   "metadata": {},
   "source": [
    "1. Beauregard, S. (2002). Circuit for Shor's algorithm using 2n+ 3 qubits, [quant-ph/0205095](https://arxiv.org/abs/quant-ph/0205095).\n",
    "\n",
    "2. [Quantum Fourier Transform (textbook Qiskit)](https://learn.qiskit.org/course/ch-algorithms/quantum-fourier-transform)\n",
    "\n",
    "3. [Quantum Phase Estimation (textbook Qiskit)](https://learn.qiskit.org/course/ch-algorithms/quantum-phase-estimation)\n",
    "\n",
    "4. [Shor's Algorithm (textbook Qiskit)](https://learn.qiskit.org/course/ch-algorithms/shors-algorithm)\n",
    "\n",
    "5. [Continued fraction (Wikipedia)](https://en.wikipedia.org/wiki/Continued_fraction)\n",
    "\n",
    "6. [Algoritmo de Euclides](https://en.wikipedia.org/wiki/Euclidean_algorithm)\n",
    "\n",
    "7. Michael A. Nielsen and Isaac L. Chuang. 2011. Quantum Computation and Quantum Information: 10th Anniversary Edition (10th. ed.). Cambridge University Press, USA\n",
    "\n",
    "8. Draper, T. G. (2000). Addition on a quantum computer, [quant-ph/0008033](https://arxiv.org/abs/quant-ph/0008033).\n",
    "\n",
    "9. Mosca, M., & Ekert, A. (1998, February). The hidden subgroup problem and eigenvalue estimation on a quantum computer. In NASA International Conference on Quantum Computing and Quantum Communications (pp. 174-188). Springer, Berlin, Heidelberg. [quant-ph/9903071](http://arxiv.org/abs/quant-ph/9903071)\n",
    "\n",
    "10. Zalka, C. (1998). Fast versions of Shor's quantum factoring algorithm.  [quant-ph/9806084](https://arxiv.org/abs/quant-ph/9806084).\n",
    "\n",
    "11. Parker, S., & Plenio, M. B. (2000). Efficient factorization with a single pure qubit and log N mixed qubits. Physical Review Letters, 85(14), 3049. [quant-ph/0001066](https://arxiv.org/abs/quant-ph/0001066)\n",
    "\n",
    "12. Coppersmith, D. (2002). An approximate Fourier transform useful in quantum factoring. arXiv preprint [quant-ph/0201067](https://arxiv.org/abs/quant-ph/0201067)."
   ]
  },
  {
   "cell_type": "code",
   "execution_count": 3,
   "id": "26688255",
   "metadata": {
    "scrolled": false
   },
   "outputs": [
    {
     "data": {
      "text/html": [
       "<h3>Version Information</h3><table><tr><th>Qiskit Software</th><th>Version</th></tr><tr><td><code>qiskit-terra</code></td><td>0.22.3</td></tr><tr><td><code>qiskit-aer</code></td><td>0.11.1</td></tr><tr><td><code>qiskit-ibmq-provider</code></td><td>0.19.2</td></tr><tr><td><code>qiskit</code></td><td>0.39.3</td></tr><tr><th>System information</th></tr><tr><td>Python version</td><td>3.9.13</td></tr><tr><td>Python compiler</td><td>MSC v.1916 64 bit (AMD64)</td></tr><tr><td>Python build</td><td>main, Aug 25 2022 23:51:50</td></tr><tr><td>OS</td><td>Windows</td></tr><tr><td>CPUs</td><td>12</td></tr><tr><td>Memory (Gb)</td><td>15.652999877929688</td></tr><tr><td colspan='2'>Fri Dec 02 12:40:47 2022 Hora estándar Europa Occidental</td></tr></table>"
      ],
      "text/plain": [
       "<IPython.core.display.HTML object>"
      ]
     },
     "metadata": {},
     "output_type": "display_data"
    }
   ],
   "source": [
    "%qiskit_version_table"
   ]
  },
  {
   "cell_type": "markdown",
   "id": "b760fe99",
   "metadata": {},
   "source": [
    "This work has been financially supported by the Ministry of Economic Affairs and Digital Transformation of the Spanish Government through the QUANTUM ENIA project call - Quantum Spain project, and by the European Union through the Recovery, Transformation and Resilience Plan - NextGenerationEU within the framework of the Digital Spain 2025 Agenda.\n",
    "\n",
    "\n",
    "<img align=\"left\" src=\"https://quantumspain-project.es/wp-content/uploads/2022/11/LOGOS-GOB_QS.png\" width=\"1000px\" />"
   ]
  }
 ],
 "metadata": {
  "kernelspec": {
   "display_name": "Python 3 (ipykernel)",
   "language": "python",
   "name": "python3"
  },
  "language_info": {
   "codemirror_mode": {
    "name": "ipython",
    "version": 3
   },
   "file_extension": ".py",
   "mimetype": "text/x-python",
   "name": "python",
   "nbconvert_exporter": "python",
   "pygments_lexer": "ipython3",
   "version": "3.9.13"
  },
  "toc": {
   "base_numbering": 1,
   "nav_menu": {},
   "number_sections": false,
   "sideBar": true,
   "skip_h1_title": true,
   "title_cell": "Table of Contents",
   "title_sidebar": "Contents",
   "toc_cell": false,
   "toc_position": {
    "height": "calc(100% - 180px)",
    "left": "10px",
    "top": "150px",
    "width": "249.364px"
   },
   "toc_section_display": true,
   "toc_window_display": false
  },
  "vscode": {
   "interpreter": {
    "hash": "916dbcbb3f70747c44a77c7bcd40155683ae19c65e1c03b4aa3499c5328201f1"
   }
  }
 },
 "nbformat": 4,
 "nbformat_minor": 5
}
