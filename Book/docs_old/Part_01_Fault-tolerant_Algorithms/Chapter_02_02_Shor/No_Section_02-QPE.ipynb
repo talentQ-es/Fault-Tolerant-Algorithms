{
 "cells": [
  {
   "cell_type": "markdown",
   "id": "5d20c685",
   "metadata": {},
   "source": [
    "<img align=\"left\" src=\"https://quantumspain-project.es/wp-content/uploads/2022/11/Logo_QS_EspanaDigital.png\" width=\"1000px\"/><br><br><br><br>\n",
    "\n",
    "\n",
    "\n",
    "# Fault-tolerant Algorithms\n",
    "\n",
    "Created: 16/06/2023\n",
    "\n",
    "<a rel=\"license\" href=\"http://creativecommons.org/licenses/by-sa/4.0/\"><img aling=\"left\" alt=\"Licencia Creative Commons\" style=\"border-width:0\" src=\"https://i.creativecommons.org/l/by-sa/4.0/88x31.png\" /></a><br />License: <a rel=\"license\" href=\"http://creativecommons.org/licenses/by-sa/4.0/\">Licencia Creative Commons Atribución-CompartirIgual 4.0 Internacional</a>.\n",
    "\n",
    "Internal Reviewers: \n",
    "* Alba Cervera Lierta ([BSC-CNS](https://www.bsc.es/))\n",
    "* Andrés Gómez Tato ([CESGA](http://www.cesga.es))\n",
    "\n",
    "Authors:\n",
    "* David Castaño ([Scbi-UMA](https://www.scbi.uma.es/site/))\n",
    "* Alejandro Cano ([UNICAN](https://web.unican.es/))\n",
    "* Javier Sánchez ([Cénits](https://www.cenits.es/))\n",
    "* Raúl Fuentes ([BSC-CNS](https://www.bsc.es/))\n"
   ]
  },
  {
   "cell_type": "code",
   "execution_count": null,
   "id": "96035505",
   "metadata": {},
   "outputs": [],
   "source": [
    "import matplotlib.pyplot as plt\n",
    "import numpy as np\n",
    "from qiskit import QuantumCircuit, Aer, transpile, assemble\n",
    "from qiskit.visualization import plot_histogram\n",
    "import qiskit.tools.jupyter\n",
    "import math\n",
    "%matplotlib inline"
   ]
  },
  {
   "cell_type": "markdown",
   "id": "aec33f54",
   "metadata": {},
   "source": [
    "<table width=\"100%\">\n",
    "    <td style=\"font-size:40px;font-family:Helvetica;text-align:left;background-color:rgba(12, 43, 337, 0.3);\">\n",
    "<b>Título </b>\n",
    "</table>"
   ]
  },
  {
   "cell_type": "markdown",
   "id": "72d7e936",
   "metadata": {},
   "source": [
    "<table width=\"100%\">\n",
    "    <td style=\"font-size:30px;font-family:Helvetica;text-align:left;background-color:rgba(12, 43, 337, 0.3);\">\n",
    "<b>Tabla de Contenido</b>\n",
    "</table>  "
   ]
  },
  {
   "cell_type": "markdown",
   "id": "5ac22bb8",
   "metadata": {},
   "source": [
    "- **[1 - Seccion](#Seccion_1)**\n",
    "    - **[1.1 - Subsección](#Seccion_1.1)**\n",
    "        - **[1.1.1 - Subsubseccion](#Seccion_1.1.1)**\n",
    "- **[2 - Seccion](#Seccion_2)**\n",
    "- **[Bibliografía](#Bibliografía)**\n"
   ]
  },
  {
   "cell_type": "markdown",
   "id": "cbfbd0fc",
   "metadata": {},
   "source": [
    "<a id=\"Seccion_1\"></a>\n",
    "<table width=\"100%\">\n",
    "    <td style=\"font-size:25px;font-family:Helvetica;text-align:left;background-color:rgba(12, 43, 337, 0.3);\">\n",
    "<b>1 - Sección </b>\n",
    "</table>  "
   ]
  },
  {
   "cell_type": "markdown",
   "id": "add5d22b",
   "metadata": {},
   "source": [
    "<a id=\"Seccion_1.1\"></a>\n",
    "## 1.1 - Subsección"
   ]
  },
  {
   "cell_type": "markdown",
   "id": "7a5fce65",
   "metadata": {},
   "source": [
    "<a id=\"Seccion_1.1.1\"></a>\n",
    "### 1.1.1 - Subsubsección"
   ]
  },
  {
   "cell_type": "markdown",
   "id": "fd8f80f4",
   "metadata": {},
   "source": [
    "<a id=\"Seccion_2\"></a>\n",
    "<table width=\"100%\">\n",
    "    <td style=\"font-size:25px;font-family:Helvetica;text-align:left;background-color:rgba(12, 43, 337, 0.3);\">\n",
    "<b>2 - Seccion</b>\n",
    "</table>  "
   ]
  },
  {
   "cell_type": "markdown",
   "id": "e679edf6",
   "metadata": {},
   "source": [
    "<div class=\"warning\" style='padding:0.1em; background-color:#E0FFFF; color:#69337A'>\n",
    "<span>\n",
    "<p style='margin-left:1em;'>\n",
    "\n",
    "<span style=\"color:red\"><b>Nota<b></span>: Ejemplo de cuadro de notas\n",
    "    \n",
    "    \n",
    "</p>\n",
    "</span>\n",
    "</div>"
   ]
  },
  {
   "cell_type": "code",
   "execution_count": 1,
   "id": "8728f3b0",
   "metadata": {},
   "outputs": [],
   "source": [
    "# Esto sería para añadir figuras (como cuadro markdown, no python)\n",
    "\n",
    "# <div style=\"text-align:center\">\n",
    "# <img src=\"Figuras_Shor/Fig-QFT-1.png\" width=\"1000\"/>\n",
    "# </div>"
   ]
  },
  {
   "cell_type": "markdown",
   "id": "6671c86c",
   "metadata": {},
   "source": [
    "<a id=\"Bibliografía\"></a>\n",
    "## Bibliografía"
   ]
  },
  {
   "cell_type": "markdown",
   "id": "6d385dab",
   "metadata": {},
   "source": [
    "1. Beauregard, S. (2002). Circuit for Shor's algorithm using 2n+ 3 qubits, [quant-ph/0205095](https://arxiv.org/abs/quant-ph/0205095).\n",
    "\n",
    "2. [Quantum Fourier Transform (textbook Qiskit)](https://learn.qiskit.org/course/ch-algorithms/quantum-fourier-transform)"
   ]
  },
  {
   "cell_type": "code",
   "execution_count": null,
   "id": "f3b812e3",
   "metadata": {},
   "outputs": [],
   "source": [
    "%qiskit_version_table"
   ]
  },
  {
   "cell_type": "markdown",
   "id": "ae269433",
   "metadata": {},
   "source": [
    "This work has been financially supported by the Ministry of Economic Affairs and Digital Transformation of the Spanish Government through the QUANTUM ENIA project call - Quantum Spain project, and by the European Union through the Recovery, Transformation and Resilience Plan - NextGenerationEU within the framework of the Digital Spain 2025 Agenda.\n",
    "\n",
    "\n",
    "<img align=\"left\" src=\"https://quantumspain-project.es/wp-content/uploads/2022/11/LOGOS-GOB_QS.png\" width=\"1000px\" />"
   ]
  }
 ],
 "metadata": {
  "kernelspec": {
   "display_name": "Python 3 (ipykernel)",
   "language": "python",
   "name": "python3"
  },
  "language_info": {
   "codemirror_mode": {
    "name": "ipython",
    "version": 3
   },
   "file_extension": ".py",
   "mimetype": "text/x-python",
   "name": "python",
   "nbconvert_exporter": "python",
   "pygments_lexer": "ipython3",
   "version": "3.9.13"
  },
  "toc": {
   "base_numbering": 1,
   "nav_menu": {},
   "number_sections": false,
   "sideBar": true,
   "skip_h1_title": false,
   "title_cell": "Table of Contents",
   "title_sidebar": "Contents",
   "toc_cell": false,
   "toc_position": {},
   "toc_section_display": true,
   "toc_window_display": false
  }
 },
 "nbformat": 4,
 "nbformat_minor": 5
}
