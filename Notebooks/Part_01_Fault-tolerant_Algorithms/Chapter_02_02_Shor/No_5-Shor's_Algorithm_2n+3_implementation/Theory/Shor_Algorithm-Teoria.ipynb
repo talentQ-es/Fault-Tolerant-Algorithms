{
 "cells": [
  {
   "cell_type": "markdown",
   "id": "168c0c1b",
   "metadata": {},
   "source": [
    "<img align=\"left\" src=\"https://quantumspain-project.es/wp-content/uploads/2022/11/Logo_QS_EspanaDigital.png\" width=\"1000px\"/><br><br><br><br>\n",
    "\n",
    "\n",
    "\n",
    "# Fault-tolerant Algorithms\n",
    "\n",
    "Created: 16/06/2023\n",
    "\n",
    "<a rel=\"license\" href=\"http://creativecommons.org/licenses/by-sa/4.0/\"><img aling=\"left\" alt=\"Licencia Creative Commons\" style=\"border-width:0\" src=\"https://i.creativecommons.org/l/by-sa/4.0/88x31.png\" /></a><br />License: <a rel=\"license\" href=\"http://creativecommons.org/licenses/by-sa/4.0/\">Licencia Creative Commons Atribución-CompartirIgual 4.0 Internacional</a>.\n",
    "\n",
    "Internal Reviewers: \n",
    "* Alba Cervera ([BSC-CNS](https://www.bsc.es/))\n",
    "* Andrés Gómez ([CESGA](http://www.cesga.es))\n",
    "\n",
    "Authors:\n",
    "* David Castaño ([Scbi-UMA](https://www.scbi.uma.es/site/))\n",
    "* Alejandro Cano ([UNICAN](https://web.unican.es/))\n",
    "* Javier Sánchez ([Cénits](https://www.cenits.es/))\n",
    "* Raúl Fuentes ([BSC-CNS](https://www.bsc.es/))\n"
   ]
  },
  {
   "cell_type": "code",
   "execution_count": 1,
   "id": "d65ac7ad",
   "metadata": {},
   "outputs": [],
   "source": [
    "import matplotlib.pyplot as plt\n",
    "import numpy as np\n",
    "from qiskit import QuantumCircuit, Aer, transpile, assemble\n",
    "from qiskit.visualization import plot_histogram\n",
    "import qiskit.tools.jupyter\n",
    "import math\n",
    "from math import gcd\n",
    "from numpy.random import randint\n",
    "import pandas as pd\n",
    "from fractions import Fraction\n",
    "%matplotlib inline"
   ]
  },
  {
   "cell_type": "markdown",
   "id": "d43ec867",
   "metadata": {},
   "source": [
    "<table width=\"100%\">\n",
    "    <td style=\"font-size:40px;font-family:Helvetica;text-align:left;background-color:rgba(12, 43, 337, 0.3);\">\n",
    "<b>Algoritmo de Shor (en Qiskit) </b>\n",
    "</table>  "
   ]
  },
  {
   "cell_type": "markdown",
   "id": "1918f55f",
   "metadata": {},
   "source": [
    "<table width=\"100%\">\n",
    "    <td style=\"font-size:30px;font-family:Helvetica;text-align:left;background-color:rgba(12, 43, 337, 0.3);\">\n",
    "<b>Tabla de Contenido</b>\n",
    "</table>  "
   ]
  },
  {
   "cell_type": "markdown",
   "id": "3783a820",
   "metadata": {},
   "source": [
    "- **[1 - Introducción](#Introduccion)**\n",
    "    - **[1.1 - Criptografía y factorización](#Criptografía-y-factorización)**\n",
    "    - **[1.2 - Algoritmo de factorización](#Algoritmo-de-factorización)**\n",
    "    - **[1.3 - Explicación cualitativa.](#Explicación-cualitativa)**\n",
    "    - **[1.4 - Formalismo matemático.](#Formalismo)**\n",
    "        - **[1.4.1 - Periodicidad de $f(x)$.](#Periodicidad)**\n",
    "        - **[1.4.2 - Factores de $N$ a partir del periodo $r$.](#Factores-N)**\n",
    "    - **[1.5 - Hallar el periodo en un ordenador cuántico.](#Hallar-el-periódo-en-un-ordenador-cuánticor)**\n"
   ]
  },
  {
   "cell_type": "markdown",
   "id": "ce48485d",
   "metadata": {},
   "source": [
    "- **[2 - Transformada de Fourier Cuántica (Quantum Fourier Transform - QFT)](#Transformada-de-Fourier-Cuantica)**\n",
    "    - **[2.1 - Fórmula.](#QFT-Formula)**\n",
    "    - **[2.2 - Circuito.](#QFT-Circuito)**"
   ]
  },
  {
   "cell_type": "markdown",
   "id": "54f92931",
   "metadata": {},
   "source": [
    "- **[3 - Estimación de fase cuántica (Quantum Phase Estimation)](#Estimación-de-fase-cuántica)**\n",
    "    - **[3.1 - Circuito](#Circuito)**\n",
    "    - **[3.2 - Formulación matemática](#Formulación-matemática-QPE)**"
   ]
  },
  {
   "cell_type": "markdown",
   "id": "7e8d5675",
   "metadata": {},
   "source": [
    "- **[4 - Algoritmo de Shor](#Algoritmo-de-Shor)**\n",
    "    - **[4.1 - Hallar del periodo de una función (Period Finding)](#Period-Finding)**\n",
    "        - **[4.1.1 - La función](#La-función)**\n",
    "        - **[4.1.2 - Solución: Estimación de fase de un operador U](#Solución)**\n",
    "    - **[4.2 - Implementación (ad hoc) en Qiskit para $N=15$](#Implementación-(ad-hoc)-en-Qiskit)**\n",
    "       - **[4.2.1 - Caso con muchos shots (ineficiente pero didáctico)](#multishot)**\n",
    "\n",
    "       - **[4.2.2 - Caso shot a shot (óptimo)](#shot-a-shot)**\n",
    "\n"
   ]
  },
  {
   "cell_type": "markdown",
   "id": "98f17166",
   "metadata": {},
   "source": [
    "- **[5 - Implementación con 2n+3 qubit](#Implementacion-2n+3)**\n",
    "    - **[5.1 - La idea](#2n+3-La-idea)**\n",
    "    - **[5.2 - Explicación desgranada](#2n+3-Explicación-desgranada)**\n",
    "        - **[5.2.1 - Algoritmo cuántico de suma](#2n+3-Suma)**\n",
    "        - **[5.2.2 - Valor clásico + registro cuántico (puerta $\\phi ADD(a)$)](#2n+3-Puerta-phiADD(a))**\n",
    "        - **[5.2.3 - Suma modulada (puerta $\\phi ADD(a)MOD(N)$)](#2n+3-Puerta-phiADD(a)MOD(N))**\n",
    "        - **[5.2.4 - Multiplicación modulada (puerta $CMULT(a)MOD(N)$)](#2n+3-Puerta-CMULT(a)MOD(N))**\n",
    "        - **[5.2.5 - Puerta controlada $C\\text{-}U_a$](#2n+3-Puerta-C-U_a)**\n",
    "        - **[5.2.6 - Exponencial modulada (puerta $C\\text{-}U_{a^{s}}$)](#2n+3-Puerta-C-U_a^s)**\n",
    "        - **[5.2.7 - Circuito final con $4n+2$ qubits (sin la simplificación del registro de conteo)](#2n+3-Circuito-final-no-simplificacion)**\n",
    "        - **[5.2.8 - Circuito final con $2n+3$. El truco de un qubit de control)](#2n+3-Circuito-final-simplificado)**\n",
    "    - **[5.3 - Implementación aproximada de la QFT.](#2n+3-QFT)**\n",
    "    - **[5.4 - Implementación de las SWAP controladas](#2n+3-SWAP)**"
   ]
  },
  {
   "cell_type": "markdown",
   "id": "d8ed7ca7",
   "metadata": {},
   "source": [
    "- **[Bibliografía](#Bibliografía)**"
   ]
  },
  {
   "cell_type": "markdown",
   "id": "213e2606",
   "metadata": {},
   "source": [
    "<a id=\"Introduccion\"></a>\n",
    "<table width=\"100%\">\n",
    "    <td style=\"font-size:25px;font-family:Helvetica;text-align:left;background-color:rgba(12, 43, 337, 0.3);\">\n",
    "<b>1 - Introducción </b>\n",
    "</table>  "
   ]
  },
  {
   "cell_type": "markdown",
   "id": "dcdc7aa6",
   "metadata": {},
   "source": [
    "<a id=\"Criptografía-y-factorización\"></a>\n",
    "## 1.1 - Criptografía y factorización"
   ]
  },
  {
   "cell_type": "markdown",
   "id": "4fab6606",
   "metadata": {},
   "source": [
    "El algoritmo de Shor es uno de los algoritmos de computación cuántica más conocidos debido a que es mejor en su tarea que cualquier algoritmo de computación clásica conocido hasta la fecha. Además, resuelve un problema que tiene una aplicación práctica directa: factorizar un número \n",
    "\n",
    "Para entender porque este algoritmo es tan importante debemos hablar primero de criptografía, en concreto, del encriptado de transmisiones a través de Internet mediante el método de clave pública y clave privada (**criptografía asimétrica**). La explicación conceptual de esta forma de encriptar es simple. Cuando quieres, por ejemplo, acceder a la aplicación de tú banco tienes que ingresar las claves de acceso (DNI y pin), estas se mandan por Internet hasta la sede de tu banco, el cual verifica que son correctas y te da acceso. El problema radica precisamente en que la conexión se hace mediante Internet, con lo cual el mensaje con las claves de acceso puede ser interceptado. La solución a este problema es que el mensaje que el cliente envía esté encriptado y que solo tu banco pueda desencriptar el mensaje. \n",
    "\n",
    "El método de encriptación más usado en Internet es la ya mencionada criptografía asimétrica. En este tipo de encriptado el receptor del mensaje (en nuestro ejemplo, el banco) genera dos claves dependientes entre sí, una la publicará al exterior (clave pública) y otra solo la conocerá él (clave privada). Si un receptor quisiera recibir un mensaje encriptado, bastaría con que publicase su clave pública de forma que cualquiera que quiera mandarle un mensaje, pueda usarla para encriptar el mismo. Sin embargo, la clave privada solo es conocida por el receptor del mensaje, y se usa para desencriptar. Puede decirse que la clave pública es como un candado y la clave privada es la llave. Cualquiera puede cerrar el candado, pero solo el que tiene la llave puede abrirlo. (Aquí podemos poner un poco más como se encripta/desencripta de forma sencilla...)\n",
    "\n",
    "El punto importante aquí es que, la clave privada son dos números primos (de gran tamaño, cientos de cifras), y la clave pública es la multiplicación de estos dos números. La solidez de este método de cifrado (RSA) radica en el hecho de que si tenemos dos números primos multiplicarlos es muy fácil, pero si tenemos la multiplicación de los mismos (la clave pública) hallar cuales son los dos números con los que se construyó (factorizar el número en sus elementos primos) es extremadamente difícil. Como es esperable, cuanto más larga es la clave, más tiempo se tarda en factorizarla. El problema radica específicamente en que el tiempo que se requiere crece **exponencialmente** con el número de bits. Para las longitudes de clave que se manejan actualmente, incluso con los mejores superordenadores se tardarían cientos o miles de años en hallar los factores.\n",
    "\n",
    "La tremenda potencia y aplicabilidad del algoritmo de Shor es que convierte este problema de complejidad exponencial en el número de bits para un computador clásico, en un problema de complejidad polinómica para un computador cuántico. Es decir, con el algoritmo de Shor el tiempo requerido para factorizar un número crece **polinómicamente** con el número de cifras del número. De esta forma, si se llega a tener un ordenador cuántico con suficientes qubits como para aplicar este algoritmo a números de la longitud de clave que se usa actualmente, se podrían factorizar y hallar la clave privada en un tiempo razonable para la escala humana. El algoritmo de Shor tiene el potencial de romper la criptografía asimétrica y hacer vulnerables las comunicaciones a través de la red, pero estamos muy lejos de tener un ordenador cuántico capar de implementarlo a la escala requerida. Se estima que se necesitarían del orden del millón de qubits, mientras que actualmente (año 2022) los ordenadores cuánticos más grandes andan por el orden de cientos de qubits."
   ]
  },
  {
   "cell_type": "markdown",
   "id": "3c8e2f0b",
   "metadata": {},
   "source": [
    "<a id=\"Algoritmo-de-factorización\"></a>\n",
    "## 1.2 - Algoritmo de factorización"
   ]
  },
  {
   "cell_type": "markdown",
   "id": "7fc949b5",
   "metadata": {},
   "source": [
    "El algoritmo de Shor se basa en el hecho de poder reducir un problema de factorización a uno de **period (o order) finding (hallar el periodo -orden- de una función)**. Antes de hablar de nada cuántico, vamos a ver como sería la estructura general de un algoritmo de factorización de esta forma, tal y como se describe en el [Nielsen-Chuang](#Bibliografía), comentando en que punto entra la computación cuántica para acelerarlo.\n",
    "\n",
    "Lo primero es introducir la noción de **números coprimos**: dos números $a$ y $b$ son coprimos si su máximo común divisor es 1, esto es, gcd$(a,b) = 1$. Es decir, dos números coprimos solo comparten como divisor común el 1. \n",
    "\n",
    "Los pasos reducir un problema de factorización en uno de period finding son los siguientes. Sea $N$ el número que queremos factorizas\n",
    "\n",
    "- 1. Si $N$ es par, devolver el factor 2.\n",
    "\n",
    "- 2. Determinar si $N=p^b$ para los enteros $p \\geq 1$ y $b \\geq 2$, y si es así, devolver el factor $p$ (puede hacerse en un tiempo polinómico).\n",
    "\n",
    "- 3. Elegir un número entero aleatorio $a$ tal que $1 < a \\leq N-1$. Usando el algoritmo de Euclides, determinar si gcd$(a,N) > 1$. Si lo es, devolver el factor gcd$(a,N)$.\n",
    "\n",
    "- 4. Si gcd$(a,N) = 1$, calculamos el periodo $r$ de la función $f(x) = a^x \\text{ mod} N$.\n",
    "\n",
    "- 5. Si $r$ es impar o $r$ es par pero $a^{r/2} \\text{ mod} N =-1$, volvemos al paso 3. Sino, calculamos gcd$(a^{r/2}-1,N)$ y gcd$(a^{r/2}+1,N)$. Probamos a ver si uno de estos dos es un factor no-trivial de $N$, y devolvemos el mismo si lo es.\n",
    "\n",
    "Todos los pasos de este algoritmo, excepto el **paso 4**, se pueden implementar en un ordenador clásico y resolverse en un tiempo polinómico. Esto es debido a que para calcular el máximo común divisor puede usar el [Algoritmo de Euclides](https://en.wikipedia.org/wiki/Euclidean_algorithm#Algorithmic_efficiency), el cual resuelve el problema en un **tiempo polinómico** (se puede calcular en un tiempo razonable).\n",
    "\n",
    "El paso complicado y que, por lo menos hasta la fecha, no hay ninguna forma de implementarlo en un tiempo polinómico (se implementa en un **tiempo exponencial**) en un ordenador clásico es el **paso 4**, hallar el periodo de la función. Sin embargo, este paso puede implementarse un ordenador cuántico en un tiempo polinómico. Tenemos pues que la forma óptima de factorizar un número consiste en implementar los pasos 1, 2, 3 y 5 en un ordenador clásico, y el paso 4 en un ordenador cuántico. "
   ]
  },
  {
   "cell_type": "markdown",
   "id": "332c3fbe",
   "metadata": {},
   "source": [
    "No vamos a comentar nada en este documento sobre los tres primeros pasos, pues no revisten mucha complejidad. Vamos a centrarnos en entender un poco el formalismos matemático detrás de los pasos 4 y 5, y en ver como podemos implementar el paso 4 en un ordenador cuántico. "
   ]
  },
  {
   "cell_type": "markdown",
   "id": "cdaecb58",
   "metadata": {},
   "source": [
    "<a id=\"Explicación-cualitativa\"></a>\n",
    "## 1.3 - Explicación cualitativa."
   ]
  },
  {
   "cell_type": "markdown",
   "id": "5c9e27ac",
   "metadata": {},
   "source": [
    "Vamos a intentar entender de forma cualitativa porqué calculando el periodo de una función se pueden hallar los factores de un número. En la sección [1.4 - Formalismo matemático.](#Formalismo) veremos un poco más en detalle las afirmaciones que se hacen en esta sección.\n",
    "\n",
    "La función que nos interesa es la siguiente\n",
    "\n",
    "\\begin{equation}\n",
    "f(x) = a^x \\text{ mod} N\n",
    "\\end{equation}\n",
    "\n",
    "donde $a$ y $N$ son enteros positivos mayores que 1, siendo además $a$ < $N$ y no teniendo factores comunes (es decir, cumpliéndose gcd$(a,N) = 1$). La operación ($z$ mod$N$) a lo que se refiere es a quedarnos con el **resto** de dividir el número que $z$ por $N$. Esta función se denomina  **exponenciales moduladas**, se encaja dentro de la **aritmética modular** y si se cumplen las condiciones anteriores esta función es periódica. Denominaremos $r$ al valor del periodo de la función $f(x)$, es decir, $r$ es el mínimo valor entero para que se cumple:\n",
    "    \n",
    "$$\n",
    "f(x+r) = f(x).\n",
    "$$  \n",
    "\n",
    "Este se puede calcular mediante un circuito cuántico."
   ]
  },
  {
   "cell_type": "markdown",
   "id": "69d62b08",
   "metadata": {},
   "source": [
    "Una vez se tiene el periodo $r$, si este es par (sino hay que probar con otro valor de $a$) se pueden calcular los factores de $N$. Esto es debido a que \n",
    "$$\n",
    "a^r \\text{ mod} N = 1\n",
    "$$\n",
    "con lo cual\n",
    "$$\n",
    "(a^r-1) \\text{ mod} N = 0\n",
    "$$\n",
    "Con lo cual, $N$ debe ser un divisor de $a^r-1$. Si $r$ es par (sino hay que probar con otro valor de $a$), podemos escribir:\n",
    "$$\n",
    "a^r-1 = (a^{r/2}-1)(a^{r/2}+1)\n",
    "$$\n",
    "Entonces tenemos una alta probabilidad de que el **máximo común divisor** de $N$ y $a^{\\,r/2}-1$ o $a^{\\,r/2}+1$ sea un factor propio de $N$."
   ]
  },
  {
   "cell_type": "markdown",
   "id": "25b67f69",
   "metadata": {},
   "source": [
    "<a id=\"Formalismo\"></a>\n",
    "## 1.4 - Formalismo matemático."
   ]
  },
  {
   "cell_type": "markdown",
   "id": "64e4ddef",
   "metadata": {},
   "source": [
    "Veamos un poco el formalismo matemático detrás de las afirmaciones de la sección anterior."
   ]
  },
  {
   "cell_type": "markdown",
   "id": "e3fff741",
   "metadata": {},
   "source": [
    "<a id=\"Periodicidad\"></a>\n",
    "### 1.4.1 - Periodicidad de $f(x)$."
   ]
  },
  {
   "cell_type": "markdown",
   "id": "66ce8287",
   "metadata": {},
   "source": [
    "Demostrar que, dada la condición gcd$(a,N) = 1$, la función $f(x) = a^x \\text{mod} N$ es periódica no es fácil, pues se necesitan plantear varios teoremas y la explicación se hace árida (puede verse el Appendix 4 del [Nielsen-Chuang](#Bibliografía)). Aquí vamos a ver una explicación más simple partiendo del siguiente resultado (sin demostrarlos): \n",
    "\n",
    " - Dada la función $f(x) = a^x \\text{mod} N$, si se cumple que gcd$(a,N) = 1$, tenemos que para algún valor entero $z>0$ se cumple $f(z) = a^z \\text{mod} N = 1$. \n",
    "\n",
    "Vemos a ver ahora que este el menor valor $z>0$ para el cual se cumple $f(z) = a^z \\text{mod} N = 1$ será el periodo de la función. Denominaremos a este valor $r$, es decir, $r$ será el primer valor (mayor que cero) para el cual se cumple $f(r) = 1$. Tenemos que \n",
    "\n",
    "$$\n",
    "a^0 =1 \\rightarrow f(0) = a^0 \\text{ mod} N = 1 = f(r).\n",
    "$$ \n",
    "\n",
    "En el momento en el que llegamos a un exponente $r$ tal que $a^r \\text{ mod} N = 1$ podemos pues escribir\n",
    "$$\n",
    "a^r = \\alpha N + 1\n",
    "$$\n",
    "con lo cual\n",
    "\\begin{align}\n",
    "f(r+z) & = a^{r+z} \\text{ mod} N   = a^r a^z \\text{ mod} N = (\\alpha N + 1)a^z \\text{ mod} N = \\\\ \n",
    "& = \\alpha N a^z \\text{ mod} N + a^z \\text{ mod} N  = a^z \\text{ mod} N = f(z)\n",
    "\\end{align}\n",
    "\n",
    "Hemos visto pues que $f(x)$ es periódica.\n",
    "\n",
    "\n"
   ]
  },
  {
   "cell_type": "markdown",
   "id": "d74b7d95",
   "metadata": {},
   "source": [
    "<a id=\"Factores-N\"></a>\n",
    "### 1.4.2 - Factores de $N$ a partir del periodo $r$."
   ]
  },
  {
   "cell_type": "markdown",
   "id": "ea1c1262",
   "metadata": {},
   "source": [
    "Para entender como pasar del periodo $r$ de nuestra función a tener los factores de $N$ nos hace falta conocer un par de teoremas, ambos presentes en el [Nielsen-Chuang](#Bibliografía).\n",
    "\n",
    "**Teorema 5.2 del Nielsen-Chuang**: Supongamos que $N$ es un número compuesto de $L$ bits, y $x$ es una solución no trivial de la ecuación $a^2 \\text{ mod} N$ en el rango $1 \\leq a \\leq N$, esto es, ni $x \\text{ mod} N = 1$ ni $x \\text{ mod} N = N-1 \\text{ mod} N = -1 \\text{ mod} N$. Entonces, uno de gcd$(x-1,N)$ y gcd$(x+1,N)$ es un factor no trivial de $N$ que se puede calcular usando $\\mathcal{O}(L^3)$ operaciones. \n",
    "\n",
    "- Demostración: Ya que $x^2 \\text{ mod} N = 1 \\rightarrow (x^2 -1) \\text{ mod} N = 0$, debe de cumplirse que $N$ divida a $(x^2-1) = (x+1)(x-1)$, con lo cual $N$ debe de tener un factor común con $(x+1)$ o con $(x-1)$. Como por suposición tenemos que $1 <  x < N-1$, con lo cual $x-1 < x+1 < N$, de lo cual podemos ver que el factor común no puede ser el propio $N$. Usando el [Algoritmo de Euclides](https://en.wikipedia.org/wiki/Euclidean_algorithm#Algorithmic_efficiency) podemos calcular gcd$(x-1)$ y gcd$(x+1)$, y con lo cual obtener un factor no trivial de $N$, usando $\\mathcal{O}$ operaciones.\n",
    "  \n",
    "**Teorema 5.3 del Nielsen-Chuang**: Supongamos $N = p^{\\alpha_1}_1 \\dots p^{\\alpha_m}_m $ es la descomposición en factores primos de un entero impar positivo. Sea $x$ un número entero elegido uniformemente al azar, sujeto a la restricción $1 \\leq x \\leq N-1$ y $x$ coprimo de $N$. Sea $r$ el periodo de $x \\text{ mod} N$. Entonces\n",
    "\n",
    "$$\n",
    "p(r \\text{ es impar y }x^{r/2} \\text{ mod} N = − 1) \\geq 1 − \\frac{1}{2^m}\n",
    "$$\n",
    "\n",
    "esto es, la probabilidad de hallar un $r$ impar y que cumpla $x^{r/2} \\text{ mod} N = − 1) \\geq 1$ es mayor que 1 − 1/$2^m$.\n"
   ]
  },
  {
   "cell_type": "markdown",
   "id": "63a0e5fb",
   "metadata": {},
   "source": [
    "<div class=\"warning\" style='padding:0.1em; background-color:#E0FFFF; color:#69337A'>\n",
    "<span>\n",
    "<p style='margin-left:1em;'>\n",
    "\n",
    "<span style=\"color:red\"><b>Nota<b></span>: En nuestro caso el teorema 5.2 se aplica con $x = a^r$ y el teorema 5.3 con $x = a$.\n",
    "    \n",
    "    \n",
    "</p>\n",
    "</span>\n",
    "</div>"
   ]
  },
  {
   "cell_type": "markdown",
   "id": "6cafbd86",
   "metadata": {},
   "source": [
    "Los teoremas 5.2 y 5.3 pueden combinarse para dar un algoritmo que, con alta probabilidad, devuelve un factor no trivial de cualquier compuesto $N$ . Todos los pasos del algoritmo pueden realizarse de forma eficiente en un ordenador clásico, excepto (por lo que se sabe hoy en día) una \"subrutina\" de búsqueda de periodo que utiliza el algoritmo. Repitiendo el procedimiento podemos encontrar una factorización prima completa de $N$.\n"
   ]
  },
  {
   "cell_type": "markdown",
   "id": "8b392176",
   "metadata": {},
   "source": [
    "<a id=\"Hallar-el-periódo-en-un-ordenador-cuánticor\"></a>\n",
    "## 1.5 - Hallar el periodo en un ordenador cuántico."
   ]
  },
  {
   "cell_type": "markdown",
   "id": "711b0258",
   "metadata": {},
   "source": [
    "Como hemos comentado, el paso 4 descrito en la sección [1.2](#Algoritmo-de-factorización) (buscar el periodo de $f(x)$) se puede implementar en un ordenador cuántico. Para ello lo que se hace es reducir el problema de la búsqueda de periodo a un problema de **Estimación de Fase Cuántica (Quantum Phase Estimation)**, que a su vez usa la **Transformada de Fourier Cuántica (Quantum Fourier Transform)**.\n",
    "\n",
    "En la sección [2](#Transformada-de-Fourier-Cuantica) hablaremos de la transformada de Fourier Cuántica, el la sección [3](#Estimación-de-fase-cuántica) del algoritmo de estimación de fase cuántica para pasar a ver en las siguientes secciones implementaciones del algoritmo de Shor.\n"
   ]
  },
  {
   "cell_type": "markdown",
   "id": "867134cf",
   "metadata": {},
   "source": [
    "<a id=\"Transformada-de-Fourier-Cuantica\"></a>\n",
    "\n",
    "\n",
    "<table width=\"100%\">\n",
    "    <td style=\"font-size:25px;font-family:Helvetica;text-align:left;background-color:rgba(12, 43, 337, 0.3);\">\n",
    "<b>2 - Transformada de Fourier Cuántica (Quantum Fourier Transform - QFT) </b>\n",
    "</table>"
   ]
  },
  {
   "cell_type": "markdown",
   "id": "833f21fc",
   "metadata": {},
   "source": [
    "Veremos aquí simplemente la fórmula general de la QFT aplicada a un conjunto de qubits (pues es lo único que necesitaremos para entender la Estimación de Fases Cuántica) y el circuito que la implementa. Para más información sobre la QFT, puede verse, por ejemplo, la explicación del [textbook de Qiskit](https://learn.qiskit.org/course/ch-algorithms/quantum-fourier-transform)."
   ]
  },
  {
   "cell_type": "markdown",
   "id": "dac26fe4",
   "metadata": {},
   "source": [
    "<a id=\"QFT-Formula\"></a>\n",
    "## 2.1 - Fórmula."
   ]
  },
  {
   "cell_type": "markdown",
   "id": "f3146b8b",
   "metadata": {},
   "source": [
    "Dado un estado de $n$ qubits $\\left| x \\right\\rangle = \\left| x_1 x_2 \\dots x_n \\right\\rangle$ donde $x_1$ es el bit más significativo, la transformada de Fourier cuántica $QFT$ a n quibits es de la forma: "
   ]
  },
  {
   "cell_type": "markdown",
   "id": "f3c0beeb",
   "metadata": {},
   "source": [
    "\\begin{align}\n",
    "QFT \\left| x \\right\\rangle & = \\frac{1}{2^{n/2}} \\sum_{y=0}^{2^n-1} e^{2 \\pi i xy /2^n} \\left| y \\right\\rangle \\qquad \\text{donde} \\left|y \\right\\rangle = \\left| y_1 y_2 \\dots \\right\\rangle, \\, \\, y/2^n = \\sum_{k=1}^n y_k/2^k \n",
    "\\\\ \n",
    "& = \\frac{1}{2^{n/2}} \\left( \\left| 0 \\right\\rangle + e^{\\frac{2\\pi i}{2}x} \\left| 1 \\right\\rangle \\right) \\otimes \\left( \\left| 0 \\right\\rangle + e^{\\frac{2\\pi i}{2^2}x} \\left| 1 \\right\\rangle \\right) \\otimes \\dots \\otimes \\left( \\left| 0 \\right\\rangle + e^{\\frac{2\\pi i}{2^{n-1}}x} \\left| 1 \\right\\rangle \\right) \\otimes \\left( \\left| 0 \\right\\rangle + e^{\\frac{2\\pi i}{2^n}x} \\left| 1 \\right\\rangle \\right) \n",
    "\\end{align}"
   ]
  },
  {
   "cell_type": "markdown",
   "id": "8e877377",
   "metadata": {},
   "source": [
    "La transformada de Fourier cuántica inversa de un estado de n-qubit $|y\\rangle $ solo difiere de la transformada directa en el signo de la exponencial:\n",
    "$$\n",
    "QFT^{-1} \\left| y \\right\\rangle  = \\frac{1}{2^{n/2}} \\sum_{x=0}^{2^n-1} e^{-2 \\pi i yx /2^n} \\left| x \\right\\rangle \n",
    "$$"
   ]
  },
  {
   "cell_type": "markdown",
   "id": "1ff356df",
   "metadata": {},
   "source": [
    "<a id=\"QFT-Circuito\"></a>\n",
    "## 2.2 - Circuito."
   ]
  },
  {
   "cell_type": "markdown",
   "id": "03f80ebb",
   "metadata": {},
   "source": [
    "En la siguiente figura se ve el circuito que implementa la trasformada de Fourier cuántica"
   ]
  },
  {
   "cell_type": "markdown",
   "id": "7675a15b",
   "metadata": {},
   "source": [
    "\n",
    "\n",
    "<div style=\"text-align:center\">\n",
    "<img src=\"Figuras_Shor/Fig-QFT-1.png\" width=\"1000\"/>\n",
    "</div>"
   ]
  },
  {
   "cell_type": "markdown",
   "id": "f2ff8748",
   "metadata": {},
   "source": [
    "Vemos que se aplican dos tipos de puertas, las puertas de Hadamard y unas puertas $UROT_k$. Vamos llamar a la versiones controladas de estas últimas como $CROT_k$, es decir\n",
    "\n",
    "$$\n",
    "CROT_k = \\left[ \\begin{matrix}\n",
    "I & 0 \\\\\n",
    "0 & UROT_k\n",
    "\\end{matrix} \\right]\n",
    "$$\n",
    "\n",
    "Esta puerta $UROT_k$ es una puerta de rotación de la forma\n",
    "\n",
    "$$\n",
    "UROT_k = \\left[ \\begin{matrix}\n",
    "1 & 0 \\\\\n",
    "0 & \\exp \\left( \\frac{2 \\pi i}{2^k} \\right)\n",
    "\\end{matrix} \\right]\n",
    "$$\n",
    "\n",
    "Es decir, la expresión completa de la puerta $CROT_k$ es\n",
    "\n",
    "$$\n",
    "CROT_k = \\left[ \\begin{matrix}\n",
    "1 & 0 & 0 & 0 \\\\\n",
    "0 & 1 & 0 & 0 \\\\\n",
    "0 & 0 & 1 & 0 \\\\\n",
    "0 & 0 & 0 & \\exp \\left( \\frac{2 \\pi i}{2^k} \\right)\n",
    "\\end{matrix} \\right]\n",
    "$$"
   ]
  },
  {
   "cell_type": "markdown",
   "id": "91dcc6a8",
   "metadata": {},
   "source": [
    "<div class=\"warning\" style='padding:0.1em; background-color:#E0FFFF; color:#69337A'>\n",
    "<span>\n",
    "<p style='margin-left:1em;'>\n",
    "\n",
    "<span style=\"color:red\">**Nota importante**: Véase que este circuito sigue el convenio más extendido en la literatura, es decir, aquel en el que el **bit más significativo es el de más arriba** y el bit menos significativo el de más abajo. **Qiskit sigue el convenio contrario**.</span> Esto es, dado un estado\n",
    "\n",
    "$$\n",
    "\\left| x \\right\\rangle = \\left| a_{n-1} a_{n-2} \\dots a_1 a_0 \\right\\rangle\n",
    "$$\n",
    "\n",
    "que podemos escribirlo en la base decimal como\n",
    "\n",
    "$$\n",
    "x = a_{n-1} 2^{n-1} + a_{n-2} 2^{n-2} + \\dots + a_0 2^{0}\n",
    "$$\n",
    "    \n",
    "tenemos que al escribir los circuitos\n",
    "    \n",
    "<div style=\"text-align:center\">\n",
    "<img src=\"Figuras_Shor/Fig-2_convenios.png\" width=\"300\"/>\n",
    "</div>\n",
    "    \n",
    "\n",
    "En este caso, para escribir el circuito en el convenio de qiskit lo que habría que hacer es invertir los qubits que controlan las puertas $U$, es decir, aplicar $U^{2^{t-1}}$ controlada por el último qubit, $U^{2^{t-2}}$ controlada el penúltimo qubit, ... y $U^{2^{0}}$ controlada por el primer qubit. \n",
    "    \n",
    "    \n",
    "</p>\n",
    "</span>\n",
    "</div>"
   ]
  },
  {
   "cell_type": "markdown",
   "id": "fc16e6b9",
   "metadata": {},
   "source": [
    "<a id=\"Estimación-de-fase-cuántica\"></a>\n",
    "\n",
    "<table width=\"100%\">\n",
    "    <td style=\"font-size:25px;font-family:Helvetica;text-align:left;background-color:rgba(12, 43, 337, 0.3);\">\n",
    "<b>3 - Estimación de fase cuántica (Quantum Phase Estimation) </b>\n",
    "</table>"
   ]
  },
  {
   "cell_type": "markdown",
   "id": "d52f5062",
   "metadata": {},
   "source": [
    "La estimación de fase cuántica es una pieza fundamental de algoritmos más complejos (como es el caso que estamos viendo del algoritmo de Shor). \n",
    "\n",
    "Este algoritmo sirve para calcular los autovalores de un **operador unitario**. Como sabemos, los operadores unitarios son los únicos que podemos aplicar a un estado cuántico (son las puertas en los circuitos), pues son los únicos que preservan la normalización de los estados cuánticos, es decir, que las probabilidades sumen la unidad. Esto se manifiesta en que los autovalores de los operadores unitarios tiene módulo 1, es decir, son **fases**. Dado un operador unitario $U$ y un autovector $\\left| \\psi \\right\\rangle$ del mismo, tenemos:\n",
    "\n",
    "$$\n",
    "U \\left| \\psi \\right\\rangle = e^{2 \\pi i \\theta} \\left| \\psi \\right\\rangle\n",
    "$$\n",
    "\n",
    "El algoritmo lo que hace es estimar el valor de $\\theta$"
   ]
  },
  {
   "cell_type": "markdown",
   "id": "b15f2605",
   "metadata": {},
   "source": [
    "<a id=\"Circuito\"></a>\n",
    "## 3.1 - Circuito"
   ]
  },
  {
   "cell_type": "markdown",
   "id": "d3f7b6fe",
   "metadata": {},
   "source": [
    "En la siguiente figura podemos ver el circuito que implementa el algoritmo de estimación de fases. Podemos ver que el circuito consta de tres parte: "
   ]
  },
  {
   "cell_type": "markdown",
   "id": "bb6020cd",
   "metadata": {},
   "source": [
    "<div style=\"text-align:center\">\n",
    "<img src=\"Figuras_Shor/Fig-1-QPE.png\" width=\"800\"/>\n",
    "</div>"
   ]
  },
  {
   "cell_type": "markdown",
   "id": "a618ef3e",
   "metadata": {},
   "source": [
    "<a id=\"Formulación-matemática-QPE\"></a>\n",
    "## 3.2 - Formulación matemática"
   ]
  },
  {
   "cell_type": "markdown",
   "id": "e7edd485",
   "metadata": {},
   "source": [
    "Veamos paso a paso que hace el circuito anterior para estimar la fase $\\theta$"
   ]
  },
  {
   "cell_type": "markdown",
   "id": "cf54ff12",
   "metadata": {},
   "source": [
    "1- **Inicialización**: Por un lado tenemos un registro de qubits que forman un autoestado $\\left| \\psi \\right\\rangle$ del operador $U$. Por otro lado tenemos un conjunto de **$t$** **qubits** que forman un **registro de conteo** donde al final del circuito tendremos almacenado el valor $2^t \\theta$:\n",
    "\n",
    "$$\n",
    "\\left| \\psi_0 \\right\\rangle = \\left| 0 \\right\\rangle^{\\otimes t} \\left| \\psi \\right\\rangle\n",
    "$$"
   ]
  },
  {
   "cell_type": "markdown",
   "id": "33eeef8c",
   "metadata": {},
   "source": [
    "2- **Superposición**: Aplicamos una operación de puerta de Hadamard n-bit al registro de conteo:\n",
    "\n",
    "$$\n",
    "\\left| \\psi_1 \\right\\rangle = \\frac{1}{2^{t/2}}  \\left( \\left| 0 \\right\\rangle + \\left| 1 \\right\\rangle \\right)^{\\otimes t} \\left| \\psi \\right\\rangle\n",
    "$$"
   ]
  },
  {
   "cell_type": "markdown",
   "id": "04d5e507",
   "metadata": {},
   "source": [
    "3- **Operaciones unitarias controladas**: Aplicamos sucesivas veces el operador controlado $CU$, es decir, aplicar $U$ en el registro objetivo solo si el qubit controlador está en el estado $\\left| 1 \\right\\rangle$. En concreto, aplicamos $2^{j}$ veces $U$ en el registro $\\left| \\psi \\right\\rangle$ controlado por los qubits del registro de conteo. El número de veces $2^{j}$ que aplicamos $U$ depende de que qubit es el controlador (si es el bit más significativo tenemos $j = t-1$, para el siguiente $j = t-2$, ..., hasta llegar al bit menos significativo en el cual $j=0$). \n",
    "\n",
    "Como $U$ es unitaria y $\\left| \\psi \\right\\rangle$ es autovector de $U$, aplicar $2^{j}$ veces $U$ se traduce en:\n",
    "\n",
    "$$\n",
    "U^{2^{j}} \\left| \\psi \\right\\rangle = U^{2^{j}-1} U \\left| \\psi \\right\\rangle = U^{2^{j}-1} e^{2 \\pi i \\theta} \\left| \\psi \\right\\rangle = \\dots = e^{2 \\pi i 2^j \\theta} \\left| \\psi \\right\\rangle\n",
    "$$\n",
    "\n",
    "Usando la relación \n",
    "\n",
    "$$\n",
    "CU \\left[ \\left( \\left| 0 \\right\\rangle + \\left| 1 \\right\\rangle \\right) \\otimes \\left| \\psi \\right\\rangle \\right] = \n",
    "\\left| 0 \\right\\rangle \\otimes \\left | \\psi \\right\\rangle + \\left| 1 \\right\\rangle \\otimes e^{2 \\pi i \\theta} \\left | \\psi \\right\\rangle =\n",
    "\\left( \\left| 0 \\right\\rangle + e^{2 \\pi i \\theta} \\left| 1 \\right\\rangle \\right) \\otimes \\left| \\psi \\right\\rangle\n",
    "$$ \n",
    "\n",
    "Llegamos a\n",
    "\n",
    "\\begin{aligned} \n",
    "|\\psi_{2}\\rangle & =\\frac {1}{2^{t/2}} \\left(|0\\rangle+{e^{\\boldsymbol{2\\pi i} \\theta 2^{t-1}}}|1\\rangle \\right) \\otimes \\cdots \\otimes \\left(|0\\rangle+{e^{\\boldsymbol{2\\pi i} \\theta 2^{1}}}\\vert1\\rangle \\right) \\otimes \\left(|0\\rangle+{e^{\\boldsymbol{2\\pi i} \\theta 2^{0}}}\\vert1\\rangle \\right) \\otimes |\\psi\\rangle \\\\ \n",
    "& = \\frac{1}{2^{n/2}}\\sum_{y=0}^{2^{t}-1}e^{\\boldsymbol{2\\pi i} \\theta y}|y\\rangle \\otimes \\vert\\psi\\rangle \n",
    "\\end{aligned}"
   ]
  },
  {
   "cell_type": "markdown",
   "id": "9d45788d",
   "metadata": {},
   "source": [
    "<div class=\"warning\" style='padding:0.1em; background-color:#E0FFFF; color:#69337A'>\n",
    "<span>\n",
    "<p style='margin-left:1em;'>\n",
    "\n",
    "<span style=\"color:red\"><b>Nota<b></span>: Podemos ver que si por el registro de conteo entra un estado $|z \\rangle = | z_{n-1}, z_{n-2}, \\dots, z_0 \\rangle$, la salida antes de aplicar la QFT$^{-1}$ es de la forma\n",
    "\n",
    "$$\n",
    "|z \\rangle |\\psi \\rangle \\rightarrow |z \\rangle U^{z_{t-1} 2^{t-1}} U^{z_{t-2}2^{t-2}} \\dots U^{z_0 2^0} |\\psi \\rangle = | z \\rangle U^{z}  |\\psi \\rangle\n",
    "$$\n",
    "\n",
    "Es decir, lo que se hace es aplicar $z$ veces el operador $U$ sobre el estado $|\\psi \\rangle$.\n",
    "    \n",
    "    \n",
    "</p>\n",
    "</span>\n",
    "</div>"
   ]
  },
  {
   "cell_type": "markdown",
   "id": "2b7561ce",
   "metadata": {},
   "source": [
    "4- **Transformada de Fourier inversa**: Se nos fijamos en detalle vemos que la expresión anterior es igual al resultado de aplicar la transformada de Fourier cuántica (vista anteriormente) un estado de t bits |x> \n",
    "\n",
    "$$\n",
    "\\left( QFT \\left| x \\right\\rangle \\right) \\otimes \\left| \\psi \\right\\rangle = \\frac{1}{2^{t/2}} \\sum_{y=0}^{2^t-1} e^{2 \\pi i xy /2^t} \\left| y \\right\\rangle \\otimes \\left| \\psi \\right\\rangle \n",
    "$$\n",
    "\n",
    "si tomamos $x = 2^t \\theta$. \n",
    "\n",
    "Lo que podemos hacer es aplicar la transformada de Fourier inversa en el registro de conteo para obtener el valor $2^t \\theta$\n",
    "\n",
    "$$\n",
    "|\\psi_{2}\\rangle  = \\frac{1}{2^{t/2}}\\sum_{y=0}^{2^{t}-1}e^{\\boldsymbol{2\\pi i} \\theta y}|y\\rangle \\otimes \\vert\\psi\\rangle  \\xrightarrow{QFT^{-1}_t} \\frac{1}{2^{t/2}}\\sum_{y=0}^{2^{t}-1}e^{\\boldsymbol{2\\pi i} \\theta y} \\left( QFT^{-1}|y\\rangle \\right) \\otimes \\vert\\psi\\rangle \\Rightarrow\n",
    "$$\n",
    "\n",
    "$$\n",
    "|\\psi_{3}\\rangle = \\frac{1}{2^{t}} \\sum_{x=0}^{2^t-1} \\sum_{y=0}^{2^{t}-1}e^{-\\frac{2 \\pi i k}{2^t} (x-2^t \\theta)} |x\\rangle  \\otimes \\vert\\psi\\rangle\n",
    "$$"
   ]
  },
  {
   "cell_type": "markdown",
   "id": "6c5b3eb6",
   "metadata": {},
   "source": [
    "5- **Medida**. Vemos que la expresión anterior está picada entorno a $x = 2^t \\theta$. Para el caso en que $2^t \\theta$ es un número entero, medir en la base computacional nos da la fase en el registro de conteo con alta probabilidad:\n",
    "\n",
    "$$\n",
    "| \\psi \\rangle = | 2^t \\theta \\rangle \\otimes | \\psi \\rangle\n",
    "$$\n",
    "\n",
    "Para el caso en el que $2^t \\theta$ no sea un entero, puede mostrarse que la expresión anterior sigue picada cerca de $x = 2^t \\theta$ con una probabilidad mayor del 40%."
   ]
  },
  {
   "cell_type": "markdown",
   "id": "77cf56a1",
   "metadata": {},
   "source": [
    "<a id=\"Algoritmo-de-Shor\"></a>\n",
    "\n",
    "<table width=\"100%\">\n",
    "    <td style=\"font-size:25px;font-family:Helvetica;text-align:left;background-color:rgba(12, 43, 337, 0.3);\">\n",
    "<b>4 - Algoritmo de Shor </b>\n",
    "</table>"
   ]
  },
  {
   "cell_type": "markdown",
   "id": "2068fa7d",
   "metadata": {},
   "source": [
    "El algoritmo de Shor se basa en el algoritmo de **Estimación de Fase Cuántica (Quantum Phase Estimation)**, que a su vez usa la **Transformada de Fourier Cuántica (Quantum Fourier Transform)**. El algoritmo de Shor lo que hace es convertir el problema de la factorización  de un número en un problema de **encontrar el periodo de una función**, el cual puede ser implementado en un tiempo polinómico. \n",
    "\n",
    "Para factorizar un número $N$ básicamente el algoritmo de Shor lo que hace calcular el periodo de una función (periódica) de la forma\n",
    "\n",
    "\\begin{equation}\n",
    "f(x) = a^x \\text{mod} N\n",
    "\\end{equation}\n",
    "\n",
    "donde $a$ y $N$ son enteros positivos mayores que 1, siendo además $a$ < $N$ y no teniendo factores comunes. La operación ($z$ mod$N$) a lo que se refiere es a quedarnos con el **resto** de dividir el número que $z$ por $N$. El periodo $r$ de esta función se calcula mediante el algoritmo de estimación de fase cuántica. Una vez se tiene el periodo $r$, si este es par (sino hay que probar con otro valor de $a$) se pueden calcular los factores de $N$ ya que existe una alta probabilidad de que el máximo común divisor de $N$ y $a^{\\,r/2}-1$ o $a^{\\,r/2}+1$ sea un factor propio de $N$."
   ]
  },
  {
   "cell_type": "markdown",
   "id": "78f15345",
   "metadata": {},
   "source": [
    "<a id=\"Period-Finding\"></a>\n",
    "## 4.1 - Hallar del periodo de una función (Period Finding)"
   ]
  },
  {
   "cell_type": "markdown",
   "id": "057aaebf",
   "metadata": {},
   "source": [
    "<a id=\"La-función\"></a>\n",
    "### 4.1.1 - La función"
   ]
  },
  {
   "cell_type": "markdown",
   "id": "7a6cda13",
   "metadata": {},
   "source": [
    "Como comentamos en la introducción, lo que queremos es hallar el periodo de la función \n",
    "\n",
    "$$\n",
    "f(x) = a^x \\text{mod } N\n",
    "$$\n",
    "\n",
    "donde $a$ y $N$ son enteros positivos mayores que 1, siendo además $a$ < $N$ y no teniendo factores comunes. La operación ($z$ mod$N$) a lo que se refiere es a quedarnos con el **resto** de dividir el número que $z$ por $N$. A este tipo de funciones se las denomina **exponenciales moduladas**."
   ]
  },
  {
   "cell_type": "markdown",
   "id": "0178f17c",
   "metadata": {},
   "source": [
    "Denominaremos $r$ al valor del periodo de la función $f(x)$, es decir, $r$ es el mínimo valor entero para que se cumple:\n",
    "    \n",
    "$$\n",
    "f(x+r) = f(x)\n",
    "$$\n",
    "\n",
    "En la siguiente figura vemos un ejemplo de este tipo de funciones con $a = 3$ y $N=35$. Vemos que para este caso el periodo es $r = 12$. (Véase que las lineas puntuadas que unen las cruces son solo por estética)."
   ]
  },
  {
   "cell_type": "code",
   "execution_count": 2,
   "id": "b21c463d",
   "metadata": {
    "scrolled": false
   },
   "outputs": [
    {
     "name": "stdout",
     "output_type": "stream",
     "text": [
      "Value from f(0) to f(r):\n",
      "[1.0, 3.0, 9.0, 27.0, 11.0, 33.0, 29.0, 17.0, 16.0, 13.0, 4.0, 12.0, 1.0]\n"
     ]
    },
    {
     "data": {
      "image/png": "[encoded data removed]",
      "text/plain": [
       "<Figure size 640x480 with 1 Axes>"
      ]
     },
     "metadata": {},
     "output_type": "display_data"
    }
   ],
   "source": [
    "N = 35\n",
    "a = 3\n",
    "\n",
    "# Calculate the plotting data\n",
    "xvals = np.arange(35, dtype = float)\n",
    "yvals = [np.mod(a**x, N) for x in xvals]\n",
    "\n",
    "# Use matplotlib to display it nicely\n",
    "fig, ax = plt.subplots()\n",
    "ax.plot(xvals, yvals, linewidth=1, linestyle='dotted', marker='x')\n",
    "ax.set(xlabel='$x$', ylabel='$%i^x$ mod $%i$' % (a, N),\n",
    "       title=\"Example of Periodic Function in Shor's Algorithm\")\n",
    "try: # plot r on the graph\n",
    "    r = yvals[1:].index(1) +1 \n",
    "    plt.annotate('', xy=(0,1), xytext=(r,1), arrowprops=dict(arrowstyle='<->'))\n",
    "    plt.annotate('$r=%i$' % r, xy=(r/3,1.5))\n",
    "    print('Value from f(0) to f(r):')\n",
    "    print(yvals[:r+1])\n",
    "except ValueError:\n",
    "    print('Could not find period, check a < N and have no common factors.')"
   ]
  },
  {
   "cell_type": "markdown",
   "id": "f5d9f4a2",
   "metadata": {},
   "source": [
    "<a id=\"Solución\"></a>\n",
    "### 4.1.2 - Solución: Estimación de fase de un operador U"
   ]
  },
  {
   "cell_type": "markdown",
   "id": "f2e10e0d",
   "metadata": {},
   "source": [
    "El algoritmo de Shor se basa en implementar el algoritmo de estimación de fases al operador unitario\n",
    "\n",
    "$$\n",
    "U |y \\rangle \\equiv | ay \\, \\text{mod} N \\rangle\n",
    "$$\n",
    "\n",
    "Al aplicar sucesivas veces el operador $U$ sobre el estado $|1 \\rangle$ vamos obteniendo los valores de $f(x)$ con $x \\in \\mathbb{N}$, esto es,\n",
    "\n",
    "$$\n",
    "U^x |1 \\rangle = | f(x) \\rangle\n",
    "$$\n",
    "\n",
    "Por ejemplo, para el caso que vimos en la gráfica anterior ($a=3$ y $N=35$) tenemos\n",
    "\n",
    "\\begin{align}\n",
    "U^0 |1\\rangle & = |1\\rangle \\\\\n",
    "U |1\\rangle & = |3\\rangle \\\\\n",
    "U^2 |1\\rangle & = |9\\rangle \\\\\n",
    "\\vdots \\\\\n",
    "U^{r-1} |1\\rangle & = |12\\rangle \\\\\n",
    "U^r |1\\rangle & = |1\\rangle\n",
    "\\end{align}"
   ]
  },
  {
   "cell_type": "markdown",
   "id": "69f4a7df",
   "metadata": {},
   "source": [
    "(Recordemos que dado un estado de $n$ qubits $\\left| x \\right\\rangle$ tenemos que $\\left| x \\right\\rangle = \\left| x_1 x_2 \\dots x_n \\right\\rangle$ donde $x_1$ es el bit más significativo.)"
   ]
  },
  {
   "cell_type": "markdown",
   "id": "43cefd95",
   "metadata": {},
   "source": [
    "Como podemos ver, aplicar una vez más el operador $U$ significa pasar de un número al siguiente de la lista periódica. Veámoslo explícitamente:\n",
    "\\begin{align}\n",
    "U(U^0 |1\\rangle) & = U(|1\\rangle) = |3\\rangle \\\\\n",
    "U(U |1\\rangle) & = U(|3\\rangle) = |9\\rangle \\\\\n",
    "U(U^2 |1\\rangle) & = U(|9\\rangle) = |27\\rangle\\\\\n",
    "\\vdots \\\\\n",
    "U(U^{r-1} |1\\rangle) & = U(|12\\rangle) =|1\\rangle \\\\\n",
    "U(U^r |1\\rangle) & = U(|1\\rangle) = |3\\rangle\n",
    "\\end{align}"
   ]
  },
  {
   "cell_type": "markdown",
   "id": "1b14920d",
   "metadata": {},
   "source": [
    "Con esto se entiende fácilmente que la superposición equiprobable de todos los estados es un autoestado del operador $U$ con autovalor 1:\n",
    "$$\n",
    "| u_0 \\rangle = \\frac{1}{\\sqrt{r}} \\sum^{r-1}_{k=0} |a^k \\, \\text{mod} N \\rangle, \\qquad \\text{donde} \\quad U|u_0 \\rangle = |u_0\\rangle\n",
    "$$"
   ]
  },
  {
   "cell_type": "markdown",
   "id": "4c1af9b8",
   "metadata": {},
   "source": [
    "<a id=\"Ejemplo:-caso-con-a=3-y-N=35\"></a>\n",
    "<details><summary><b>Ejemplo: caso con $a=3$ y $N=35$ (Haz clic para expandir)</b></summary>\n",
    "<p>\n",
    "\n",
    "\\begin{align}\n",
    "U |u_0 \\rangle & = U \\left[ \\frac{1}{\\sqrt{12}} \\left( |1 \\rangle + |3\\rangle + |9 \\rangle + \\dots |4 \\rangle + |12 \\rangle \\right) \\right] = \\\\\n",
    "& = \\frac{1}{\\sqrt{12}} \\left( U|1 \\rangle + U|3\\rangle + U|9 \\rangle + \\dots U|4 \\rangle + U|12 \\rangle \\right) = \\\\\n",
    "& =\\frac{1}{\\sqrt{12}} \\left( |3 \\rangle + |9\\rangle + |27 \\rangle + \\dots |12 \\rangle + |1 \\rangle \\right) = \\\\\n",
    "& =  |u_0 \\rangle\n",
    "\\end{align}\n",
    "</p>\n",
    "</details>\n",
    "\n",
    "\n",
    "\n",
    "\n"
   ]
  },
  {
   "cell_type": "markdown",
   "id": "a7cec4fc",
   "metadata": {},
   "source": [
    "Un autoestado de autovalor 1 no nos es muy interesante a la hora de aplicar el algoritmo de estimación fase. Otro conjunto de autoestados mucho más interesantes son aquellos de la forma:\n",
    "$$\n",
    "| u_s \\rangle = \\frac{1}{\\sqrt{r}} \\sum^{r-1}_{k=0} e^{- \\boldsymbol{2 \\pi i}k \\frac{s}{r}} |a^k \\, \\text{mod} N \\rangle, \\qquad \\text{donde} \\quad U|u_s \\rangle = e^{\\boldsymbol{2 \\pi i} \\frac{s}{r}}|u_s\\rangle\n",
    "$$"
   ]
  },
  {
   "cell_type": "markdown",
   "id": "0e7e97f1",
   "metadata": {},
   "source": [
    "donde $0 \\leq s \\leq r-1$. Si ahora aplicamos el algoritmo de estimación de fase cuántica a uno de estos autoestados $|u_s \\rangle$, lo que obtendremos en el registro de conteo es $|2^n s/r \\rangle$. De aquí podemos extraer el valor de $r$. Sin embargo, para preparar el estado $|u_s \\rangle$ tenemos que conocer $r$, es decir, lo que queremos calcular. \n",
    "\n",
    "Un solución elegante y fácil de implementar es darnos cuenta de que la suma de todos estos estados $|u_s \\rangle$ nos da el estado $|1\\rangle$, esto es,\n",
    "$$\n",
    "\\frac{1}{r} \\sum_{s=0}^{r-1} |u_s \\rangle = \\frac{1}{r} \\left(|u_0 \\rangle + |u_1 \\rangle + \\dots +|u_{r-1} \\rangle \\right)  = | 1 \\rangle\n",
    "$$\n",
    "\n",
    "Si ahora aplicamos el algoritmo de estimación de fase cuántico (QPS) al estado |1> (un estado fácilmente implementable) obtenemos una superposición equiprobable de estados de la forma $|2^n s/r \\rangle$, es decir:\n",
    "\n",
    "$$ \n",
    "|0 \\rangle|1 \\rangle \\xrightarrow{QPS} \\frac{1}{\\sqrt{r}} \\left( \\left|2^t \\frac{1}{r} \\right\\rangle + \\left|2^t \\frac{2}{r} \\right\\rangle + \\dots + \\left|2^t \\frac{r-1}{r} \\right\\rangle \\right) |1 \\rangle\n",
    "$$\n",
    "\n",
    "donde $t$ es el número de qubits del registro de conteo.\n",
    "Usando el las [fracciones continuas](https://es.wikipedia.org/wiki/Fracci%C3%B3n_continua) podemos calcular $r$ a partir de los cocientes $s/r$."
   ]
  },
  {
   "cell_type": "markdown",
   "id": "98a25fb6",
   "metadata": {},
   "source": [
    "En la siguiente imagen podemos ver el circuito (en el orden de Qiskit para los qubits) que implementa la estimación de fase cuántica\n",
    "\n",
    "<div style=\"text-align:center\">\n",
    "<img src=\"Figuras_Shor/Fig-3_QPE-Shor.png\" width=\"1000\"/>\n",
    "</div>\n",
    "\n"
   ]
  },
  {
   "cell_type": "markdown",
   "id": "a8b2a60b",
   "metadata": {},
   "source": [
    "<div class=\"warning\" style='padding:0.1em; background-color:#E0FFFF; color:#69337A'>\n",
    "<span>\n",
    "<p style='margin-left:1em;'>\n",
    "\n",
    "<span style=\"color:red\"><b>Nota<b></span>: Denominamos <span style=\"color:red\"> $n$ al número de qubits que necesitamos para codificar el número $N$ </span>(que queremos factorizar) en un registro cuántico. Para aplicar el algoritmo de Shor se suelen usar <span style=\"color:red\"> $t=2n$ qubits en el registro de conteo</span>.\n",
    "    \n",
    "</p>\n",
    "</span>\n",
    "</div>"
   ]
  },
  {
   "cell_type": "markdown",
   "id": "b69c6ff1",
   "metadata": {},
   "source": [
    "<a id=\"Implementación-(ad-hoc)-en-Qiskit\"></a>\n",
    "## 4.2 - Implementación (ad hoc) en Qiskit para $N=15$"
   ]
  },
  {
   "cell_type": "markdown",
   "id": "ae7ef457",
   "metadata": {},
   "source": [
    "En esta sección vamos a ver una implementación un poco *ad hoc* del algoritmo de Shor para factorizar el número 15. Con lo de *ad hoc* a lo que nos referimos es a que el oráculo que representa la exponencial modulada del operador $U$ está construido específicamente para el caso de factorizar 15 y no se va a explicar como funciona. El objetivo de esta sección es ver como tratamos los resultados del circuito, aplicando el método de las [fracciones continuas](https://es.wikipedia.org/wiki/Fracci%C3%B3n_continua) para obtener $r$ y no tanto ver como se construye el oráculo. \n",
    "\n",
    "En concreto, el caso que vamos a resolver es el de $a=7$ y $N=15$. Es fácil ver que para este caso tenemos un periodo de $r = 4$, donde los cuatro posibles estados son $| 1 \\rangle$, $| 7 \\rangle$, $| 4 \\rangle$ y $| 13 \\rangle$. "
   ]
  },
  {
   "cell_type": "markdown",
   "id": "0bb4ae09",
   "metadata": {},
   "source": [
    "<div class=\"warning\" style='padding:0.1em; background-color:#E0FFFF; color:#69337A'>\n",
    "<span>\n",
    "<p style='margin-left:1em;'>\n",
    "\n",
    "<span style=\"color:red\"><b>Nota<b></span>: Un **oráculo** es, por decirlo así, la forma que se usa en computación cuántica para denominar a las funciones de las cuales queremos extraer información haciendo llamadas a las mismas. El oráculo es una función que desconoces cómo está hecha, sólo sabes lo que hace. Como a los oráculos griegos, sólo te está permitido interrogarles, pero no preguntarles cómo saben que esa es la respuesta.\n",
    "Al final los oráculos se representan como secciones del circuito que se dedica a aplicar un operador $U$. En nuestro caso, por ejemplo, llamamos oráculo a la función que construye el operador de la exponencial modulada $U^{2^j} |y \\rangle = | a^{2^j}y \\, \\text{mod} N \\rangle$.\n",
    "    \n",
    "    \n",
    "    \n",
    "</p>\n",
    "</span>\n",
    "</div>"
   ]
  },
  {
   "cell_type": "markdown",
   "id": "322132ed",
   "metadata": {},
   "source": [
    "<a id=\"multishot\"></a>\n",
    "### 4.2.1 - Caso con muchos shots (ineficiente pero didáctico)"
   ]
  },
  {
   "cell_type": "markdown",
   "id": "5b51ea00",
   "metadata": {},
   "source": [
    "Como el número elegido para la factorización es pequeño (necesitamos pocos qubits) vamos a lanzar varios shots al circuito para ver todos los posibles resultado. Veremos que esto es en realidad una perdida de tiempo, pues no nos hace falta tener toda la distribución. Es simplemente un caso pedagógico para entender como lidiar con los resultados del circuito."
   ]
  },
  {
   "cell_type": "markdown",
   "id": "6a86e5e0",
   "metadata": {},
   "source": [
    "Veamos pues el código (el código se he tomado del [textbook de Qiskit](https://learn.qiskit.org/course/ch-algorithms/shors-algorithm)) :"
   ]
  },
  {
   "cell_type": "markdown",
   "id": "7533e8d8",
   "metadata": {},
   "source": [
    "Oráculos:"
   ]
  },
  {
   "cell_type": "code",
   "execution_count": 3,
   "id": "0c3c89a1",
   "metadata": {},
   "outputs": [],
   "source": [
    "# Oracle: Modular Exponentiation U^{2^j} |y> = |a^{2^j}y mod N> \n",
    "def c_amod15(a, power): # It use 4 \n",
    "    \"\"\"Controlled multiplication by a mod 15\"\"\"\n",
    "    if a not in [2,4,7,8,11,13]:\n",
    "        raise ValueError(\"'a' must be 2,4,7,8,11 or 13\")\n",
    "    U = QuantumCircuit(4)        \n",
    "    for iteration in range(power):\n",
    "        if a in [2,13]:\n",
    "            U.swap(0,1)\n",
    "            U.swap(1,2)\n",
    "            U.swap(2,3)\n",
    "        if a in [7,8]:\n",
    "            U.swap(2,3)\n",
    "            U.swap(1,2)\n",
    "            U.swap(0,1)\n",
    "        if a in [4, 11]:\n",
    "            U.swap(1,3)\n",
    "            U.swap(0,2)\n",
    "        if a in [7,11,13]:\n",
    "            for q in range(4):\n",
    "                U.x(q)\n",
    "    U = U.to_gate()\n",
    "    U.name = \"%i^%i mod 15\" % (a, power)\n",
    "    c_U = U.control()\n",
    "    return c_U\n",
    "\n",
    "# Inverse Quantum Fourier Transformation of n qubits\n",
    "def qft_dagger(n):\n",
    "    \"\"\"n-qubit QFTdagger the first n qubits in circ\"\"\"\n",
    "    qc = QuantumCircuit(n)\n",
    "    # Don't forget the Swaps!\n",
    "    for qubit in range(n//2):\n",
    "        qc.swap(qubit, n-qubit-1)\n",
    "    for j in range(n):\n",
    "        for m in range(j):\n",
    "            qc.cp(-np.pi/float(2**(j-m)), m, j)\n",
    "        qc.h(j)\n",
    "    qc.name = \"QFT†\"\n",
    "    return qc"
   ]
  },
  {
   "cell_type": "markdown",
   "id": "b684d459",
   "metadata": {},
   "source": [
    "Circuito"
   ]
  },
  {
   "cell_type": "code",
   "execution_count": 17,
   "id": "5d0f9439",
   "metadata": {
    "scrolled": false
   },
   "outputs": [
    {
     "data": {
      "image/png": "[encoded data removed]",
      "text/plain": [
       "<Figure size 3064.69x1120.39 with 1 Axes>"
      ]
     },
     "execution_count": 17,
     "metadata": {},
     "output_type": "execute_result"
    }
   ],
   "source": [
    "# Specify variables\n",
    "n_count = 8  # number of counting qubits\n",
    "a = 7\n",
    "\n",
    "# Create QuantumCircuit with n_count counting qubits\n",
    "# plus 4 qubits for U to act on\n",
    "qc = QuantumCircuit(n_count + 4, n_count)\n",
    "\n",
    "# Initialize counting qubits\n",
    "# in state |+>\n",
    "for q in range(n_count):\n",
    "    qc.h(q)\n",
    "    \n",
    "# And auxiliary register in state |1>\n",
    "qc.x(3+n_count)\n",
    "\n",
    "# Do controlled-U operations\n",
    "for q in range(n_count):\n",
    "    qc.append(c_amod15(a, 2**q), \n",
    "             [q] + [i+n_count for i in range(4)])\n",
    "\n",
    "# Do inverse-QFT\n",
    "qc.append(qft_dagger(n_count), range(n_count))\n",
    "\n",
    "# Measure circuit\n",
    "qc.measure(range(n_count), range(n_count))\n",
    "qc.draw(output = 'mpl', fold=-1)  # -1 means 'do not fold'"
   ]
  },
  {
   "cell_type": "markdown",
   "id": "cd0f3630",
   "metadata": {},
   "source": [
    "Simulación"
   ]
  },
  {
   "cell_type": "code",
   "execution_count": 8,
   "id": "85a51ef7",
   "metadata": {
    "scrolled": false
   },
   "outputs": [
    {
     "data": {
      "image/png": "[encoded data removed]",
      "text/plain": [
       "<Figure size 700x500 with 1 Axes>"
      ]
     },
     "execution_count": 8,
     "metadata": {},
     "output_type": "execute_result"
    }
   ],
   "source": [
    "aer_sim = Aer.get_backend('aer_simulator')\n",
    "t_qc = transpile(qc, aer_sim)\n",
    "results = aer_sim.run(t_qc).result()\n",
    "counts = results.get_counts()\n",
    "plot_histogram(counts)"
   ]
  },
  {
   "cell_type": "markdown",
   "id": "d8a86c75",
   "metadata": {},
   "source": [
    "Como ya comentamos, el periodo para el caso elegido sabemos de antemano que es $r = 4$. Podemos ver que efectivamente, al lanzar varios shots al circuito (ejecutarlo varias veces) y ver todos los resultados tenemos 4 posibilidades, correspondientes a las 4 fases $s/r$ con $0 \\leq s \\leq r$. Esto no es lo habitual al aplicar el algoritmo de Shor, pues cuantos más grande es el número que queremos factorizar, más qubits necesitamos, más complejo se vuelve el circuito y más shots necesitamos para reconstruir la distribución de probabilidad. \n",
    "\n",
    "Lo óptimo es lanzar un shot, ver que valor de $r$ obtenemos con el resultado y intentar hallar los divisores de $N$ con este $r$. Si no funciona, lanzamos otro shot y probamos a calcular otra vez $r$ con el nuevo resultado. Repetimos el proceso hasta encontrar los factores. Esto será lo que haremos en la sección [4.2.2](#shot-a-shot). "
   ]
  },
  {
   "cell_type": "markdown",
   "id": "c5bc9fd8",
   "metadata": {},
   "source": [
    "<div class=\"warning\" style='padding:0.1em; background-color:#E0FFFF; color:#69337A'>\n",
    "<span>\n",
    "<p style='margin-left:1em;'>\n",
    "\n",
    "<span style=\"color:red\"><b>Nota<b></span>: se trata de una simulación ideal, sin ruido. En un ordenador cuántico de verdad tendríamos más resultados con probabilidades bajas y estos 4 sobresaliendo.\n",
    "    \n",
    "    \n",
    "</p>\n",
    "</span>\n",
    "</div>"
   ]
  },
  {
   "cell_type": "markdown",
   "id": "64e61a4a",
   "metadata": {},
   "source": [
    "Para obtener los 4 valores de $r$ correspondientes a los 4 resultados que acabamos de obtener, primero debemos recordar que estos resultados son los valores $2^n s/r$ para $0 \\leq s \\leq r$, con $s$ siendo un número entero. Lo primero que debemos hacer es pasar nuestros resultados de binario a decimal, después dividir por $2^n$. \n",
    "\n",
    "Una vez hecho esto tendremos números reales entre 0 y 1. Debemos aproximar estos números por una fracción. Para ello podemos usar la función de python [Fraction()](https://docs.python.org/3/library/fractions.html) de python. Como sabemos que el periodo de la función $a^x$ mod $N$ no puede mayor que $N$, podemos usar Fraction().limit_denominator(N) para limitar el valor del denominador. Tenemos pues:\n"
   ]
  },
  {
   "cell_type": "code",
   "execution_count": 16,
   "id": "ed250ee8",
   "metadata": {},
   "outputs": [
    {
     "name": "stdout",
     "output_type": "stream",
     "text": [
      "            Register Output   Phase     Fraction    Guess for r\n",
      "0  01000000(bin) =  64(dec)      0.25          1/4            4\n",
      "1  10000000(bin) = 128(dec)      0.50          1/2            2\n",
      "2  11000000(bin) = 192(dec)      0.75          3/4            4\n",
      "3  00000000(bin) =   0(dec)      0.00          0/1            1\n"
     ]
    }
   ],
   "source": [
    "rows, measured_phases = [], []\n",
    "for output in counts:\n",
    "    decimal = int(output, 2)  # Convert (base 2) string to decimal\n",
    "    phase = decimal/(2**n_count)  # Find corresponding eigenvalue\n",
    "    frac = Fraction(phase).limit_denominator(15)\n",
    "    # Add these values to the rows in our table:\n",
    "    rows.append([f\"{output}(bin) = {decimal:>3}(dec)\", \n",
    "                 f\"{phase:.2f}\",\n",
    "                 f\"{frac.numerator}/{frac.denominator}\",\n",
    "                 frac.denominator])\n",
    "# Print the rows in a table\n",
    "headers=[\"Register Output\", \"  Phase  \", \"  Fraction  \", \"Guess for r\"]\n",
    "df = pd.DataFrame(rows, columns=headers)\n",
    "print(df)"
   ]
  },
  {
   "cell_type": "markdown",
   "id": "ddcc5dd8",
   "metadata": {},
   "source": [
    "Vemos varías cosas interesantes en este resultado. Primero, vemos que la opción predominante para el periodo es $r=4$, que como sabemos, es correcta (puede verse que para $a=7$ y $N=15$ las cuatro opciones posibles son $| 1 \\rangle$, $| 7 \\rangle$, $| 4 \\rangle$ y $| 13 \\rangle$). Vemos también que el algoritmo de Shor puede fallar. En concreto, falla cuando tenemos la fase del estado con $s = 0$ y cuando $s$ y $r$ tienen un factor común (en este caso tenemos que para $s = 2 \\rightarrow 2/4 \\rightarrow 1/2$).\n",
    "\n",
    "Tenemos pues, que a parte de obtener valores erróneos de $r$ por el ruido (no presente en nuestra simulación ideal), el propio algoritmo de Shor nos puede dar valores de $r$ erróneos. \n",
    "\n",
    "Ahora solo faltaría aplicar lo comentado en la sección [1.4.2](#Factores-N) para calcular los factores."
   ]
  },
  {
   "cell_type": "markdown",
   "id": "3b5a9ff9",
   "metadata": {},
   "source": [
    "<a id=\"shot-a-shot\"></a>\n",
    "### 4.2.2 - Caso shot a shot (óptimo)"
   ]
  },
  {
   "cell_type": "markdown",
   "id": "8ad48ad3",
   "metadata": {},
   "source": [
    "Después de la explicación didáctica de la sección anterior, vamos ahora a ver como hacer una implementación más útil. Para ello, en vez de lanzar varios shot al circuito, coger todos los resultados (o los más probables si tenemos ruido) y calcular los valores de $r$, lo que vamos hacer es ir shot a shot, calculando $r$ con cada resultado que nos de el circuito, hasta hallar los factores de N. Generalmente necesitaremos muchos menos shots, así que será más rápido."
   ]
  },
  {
   "cell_type": "code",
   "execution_count": 28,
   "id": "cad670ea",
   "metadata": {},
   "outputs": [],
   "source": [
    "# Number to be factored\n",
    "N=15"
   ]
  },
  {
   "cell_type": "markdown",
   "id": "7f841179",
   "metadata": {},
   "source": [
    "Elegimos un número aleatorio, $a$, entre 1 y $N-1$"
   ]
  },
  {
   "cell_type": "code",
   "execution_count": 27,
   "id": "3c8eedb0",
   "metadata": {},
   "outputs": [
    {
     "name": "stdout",
     "output_type": "stream",
     "text": [
      "a =  7\n"
     ]
    }
   ],
   "source": [
    "# Choose a random number, a, between 1 and N-1\n",
    "np.random.seed(1) # This is to make sure we get reproduceable results\n",
    "a = randint(2, 15)\n",
    "print('a = ', a)"
   ]
  },
  {
   "cell_type": "markdown",
   "id": "459f4b76",
   "metadata": {},
   "source": [
    "Verificamos que $a$ no es un factor de no trivial de $N$"
   ]
  },
  {
   "cell_type": "code",
   "execution_count": 29,
   "id": "3106481b",
   "metadata": {},
   "outputs": [
    {
     "data": {
      "text/plain": [
       "1"
      ]
     },
     "execution_count": 29,
     "metadata": {},
     "output_type": "execute_result"
    }
   ],
   "source": [
    "#Next we quickly check it isn't already a non-trivial factor of N\n",
    "from math import gcd # greatest common divisor\n",
    "gcd(a, N)"
   ]
  },
  {
   "cell_type": "markdown",
   "id": "d14f6f80",
   "metadata": {},
   "source": [
    "<div class=\"warning\" style='padding:0.1em; background-color:#E0FFFF; color:#69337A'>\n",
    "<span>\n",
    "<p style='margin-left:1em;'>\n",
    "\n",
    "<span style=\"color:red\"><b>Nota<b></span>: Véase que el máximo común divisor se calcula usando la función gcd() del módulo [math](https://docs.python.org/3/library/math.html) de python. Esto es, se calcula clásicamente (sin ningún circuito cuántico), pues como ya comentamos, el algoritmo de Euclides se implementa de forma eficiente en un ordenado clásico. \n",
    "    \n",
    "    \n",
    "</p>\n",
    "</span>\n",
    "</div>"
   ]
  },
  {
   "cell_type": "markdown",
   "id": "fc18cca5",
   "metadata": {},
   "source": [
    "Ahora definimos una función que aplique el algoritmo de estimación de fases para fase $s/r$ donde \n",
    "\n",
    "$$\n",
    "a^r \\text{ mod} N = 1\n",
    "$$\n",
    "\n",
    "donde $s$ es un entero aleatorio entre 0 y $N-1$."
   ]
  },
  {
   "cell_type": "code",
   "execution_count": 30,
   "id": "e7206f0a",
   "metadata": {},
   "outputs": [],
   "source": [
    "def qpe_amod15(a):\n",
    "    n_count = 8\n",
    "    qc = QuantumCircuit(4+n_count, n_count)\n",
    "    for q in range(n_count):\n",
    "        qc.h(q)     # Initialize counting qubits in state |+>\n",
    "    qc.x(3+n_count) # And auxiliary register in state |1>\n",
    "    for q in range(n_count): # Do controlled-U operations\n",
    "        qc.append(c_amod15(a, 2**q), \n",
    "                 [q] + [i+n_count for i in range(4)])\n",
    "    qc.append(qft_dagger(n_count), range(n_count)) # Do inverse-QFT\n",
    "    qc.measure(range(n_count), range(n_count))\n",
    "    # Simulate Results\n",
    "    aer_sim = Aer.get_backend('aer_simulator')\n",
    "    # Setting memory=True below allows us to see a list of each sequential reading\n",
    "    t_qc = transpile(qc, aer_sim)\n",
    "    result = aer_sim.run(t_qc, shots=1, memory=True).result() # One shot\n",
    "    readings = result.get_memory()\n",
    "    print(\"Register Reading: \" + readings[0])\n",
    "    phase = int(readings[0],2)/(2**n_count)\n",
    "    print(\"Corresponding Phase: %f\" % phase)\n",
    "    return phase"
   ]
  },
  {
   "cell_type": "markdown",
   "id": "24683504",
   "metadata": {},
   "source": [
    "Ejecutamos esta función hasta hallar los factores (por ejemplo, con un bucle while):"
   ]
  },
  {
   "cell_type": "code",
   "execution_count": 35,
   "id": "bdf05187",
   "metadata": {},
   "outputs": [
    {
     "name": "stdout",
     "output_type": "stream",
     "text": [
      "\n",
      "Attempt 1:\n",
      "Register Reading: 01000000\n",
      "Corresponding Phase: 0.250000\n",
      "Result: r = 4\n",
      "Guessed Factors: 3 and 5\n",
      "*** Non-trivial factor found: 3 ***\n",
      "*** Non-trivial factor found: 5 ***\n"
     ]
    }
   ],
   "source": [
    "factor_found = False\n",
    "attempt = 0\n",
    "while not factor_found:\n",
    "    attempt += 1\n",
    "    print(\"\\nAttempt %i:\" % attempt)\n",
    "    phase = qpe_amod15(a) # Phase = s/r\n",
    "    frac = Fraction(phase).limit_denominator(N) # Denominator should (hopefully!) tell us r\n",
    "    r = frac.denominator\n",
    "    print(\"Result: r = %i\" % r)\n",
    "    if phase != 0:\n",
    "        # Guesses for factors are gcd(x^{r/2} ±1 , 15)\n",
    "        guesses = [gcd(a**(r//2)-1, N), gcd(a**(r//2)+1, N)]\n",
    "        print(\"Guessed Factors: %i and %i\" % (guesses[0], guesses[1]))\n",
    "        for guess in guesses:\n",
    "            if guess not in [1,N] and (N % guess) == 0: # Check to see if guess is a factor\n",
    "                print(\"*** Non-trivial factor found: %i ***\" % guess)\n",
    "                factor_found = True"
   ]
  },
  {
   "cell_type": "markdown",
   "id": "128e1dc6",
   "metadata": {},
   "source": [
    "<a id=\"Implementacion-2n+3\"></a>\n",
    "\n",
    "<table width=\"100%\">\n",
    "    <td style=\"font-size:25px;font-family:Helvetica;text-align:left;background-color:rgba(12, 43, 337, 0.3);\">\n",
    "<b>5 - Implementación con 2n+3 qubits </b>\n",
    "</table>"
   ]
  },
  {
   "cell_type": "markdown",
   "id": "e3085cb2",
   "metadata": {},
   "source": [
    "En esta sección vamos a ver una implementación eficiente del algoritmo de Shor, siguiendo el paper [Circuit for Shor’s algorithm using 2n+3 qubits](https://arxiv.org/abs/quant-ph/0205095), donde lo que se intenta es minimizar el número de qubits lo máximo posible. "
   ]
  },
  {
   "cell_type": "markdown",
   "id": "36425b03",
   "metadata": {},
   "source": [
    "Denominamos <span style=\"color:red\"> $n$ al número de qubits que necesitamos para codificar el número $N$ </span>(que queremos factorizar) en un registro cuántico. Para aplicar el algoritmo de Shor se suelen usar <span style=\"color:red\"> $t=2n$ qubits en el registro de conteo</span>."
   ]
  },
  {
   "cell_type": "markdown",
   "id": "700c0368",
   "metadata": {},
   "source": [
    "<a id=\"2n+3-La-idea\"></a>\n",
    "## 5.1 - La idea <span style=\"color:red\"> </span> "
   ]
  },
  {
   "cell_type": "markdown",
   "id": "8bac3f95",
   "metadata": {},
   "source": [
    "Esta sección puede ser un poco árida si es la primera vez que se ve esta implementación, pues está enfocada para ser re-leída una vez se ha mirado más a fondo la implementación. \n",
    "\n",
    "Veamos paso a paso como es esta implementación:"
   ]
  },
  {
   "cell_type": "markdown",
   "id": "9b4ee3df",
   "metadata": {},
   "source": [
    "1. **Algoritmo cuántico de suma:** Como vamos a ir viendo en las siguientes secciones, esta implementación se basa en **sumar**. En concreto, se parte de la [implementación del algoritmo cuántico de suma de Draper](https://arxiv.org/abs/quant-ph/0008033) (ver sección [5.2.1](#2n+3-Suma))\n",
    "<div style=\"text-align:center\">\n",
    "<img src=\"Figuras_Shor/Fig-Addition-Transform.png\" width=\"500\"/>\n",
    "</div >\n",
    "Este algoritmo suma dos registros cuánticos $a$ y $\\phi (b)$, donde $| \\phi(x) \\rangle$ hace referencia a la transformada de Fourier del registro $x$:\n",
    "$$\n",
    "|\\phi (x) \\rangle = QFT \\, |x \\rangle.\n",
    "$$ Lo que vamos a ver es como, partiendo de esta implementación del algoritmo de suma podemos construir la exponencial modulada."
   ]
  },
  {
   "cell_type": "markdown",
   "id": "ad75409a",
   "metadata": {},
   "source": [
    "<div class=\"warning\" style='padding:0.1em; background-color:#E0FFFF; color:#69337A'>\n",
    "<span>\n",
    "<p style='margin-left:1em;'>\n",
    "\n",
    "<span style=\"color:red\"><b>Nota importante<b></span>: Véase que la puerta que la puerta \"Conditional Phase Shift\" de la imagen anterior es la puerta $CROT_k$ de la sección [2.2](#QFT-Circuito).\n",
    "    \n",
    "    \n",
    "</p>\n",
    "</span>\n",
    "</div>"
   ]
  },
  {
   "cell_type": "markdown",
   "id": "f54bc491",
   "metadata": {},
   "source": [
    "2. **Valor clásico + registro cuántico (puerta $\\phi ADD(a)$):**  Nosotros queremos llegar a calcular el periodo de la función $f(x) = a^x \\text{ mod}N$, donde $a$ es un valor que fijamos al principio del algoritmo de Shor. Como precisamente este valor es fijo, la primera simplificación para reducir el número de qubits es prescindir de los qubits que codifican $a$ en el algoritmo de suma y tomar $a$ como un valor clásico. Definimos así la puerta **$\\phi ADD(a)$**, que **suma un valor clásico $a$ a la un registro cuántico que codifica el valor $b$** (ver sección [5.2.2](#2n+3-Puerta-phiADD(a))):\n",
    "\\begin{equation}\n",
    "\\phi ADD(a) \\, |\\phi (b) \\rangle = |\\phi (a+b) \\rangle,\n",
    "\\end{equation}\n",
    "<div style=\"text-align:center\">\n",
    "<img src=\"Figuras_Shor/Fig-phiADD(a).png\" width=\"700\"/>\n",
    "</div>\n",
    "donde $| \\phi(x) \\rangle$ hace referencia a la transformada de Fourier del registro $x$:\n",
    "$$\n",
    "|\\phi (x) \\rangle = QFT \\, |x \\rangle.\n",
    "$$\n",
    "Podemos además, definir la inversa de esta puerta, es decir, una puerta de resta (véase que la puerta de suma tiene la barra negra a la derecha y la de resta a la izquierda)\n",
    "<div style=\"text-align:center\">\n",
    "<img src=\"Figuras_Shor/Fig-phiADD(a)^-1.png\" width=\"500\"/>\n",
    "</div>"
   ]
  },
  {
   "cell_type": "markdown",
   "id": "9aeac593",
   "metadata": {},
   "source": [
    "3. **Suma modulada (puerta $\\phi ADD(a)MOD(N)$):** Un vez definida esta puerta, podemos usarla para construir una puerta doble controlada de **suma modulada** **$\\phi ADD(a)MOD(N)$** (ver sección [5.2.3](#2n+3-Puerta-phiADD(a)MOD(N)))\n",
    "$$\n",
    "\\phi ADD(a)MOD(N) |\\phi (b) \\rangle = |\\phi \\left( (a+b) \\text{ mod} N \\right)\\rangle  = \\,  QFT \\, | (a+b) \\text{ mod} N \\rangle\n",
    "$$\n",
    "\n",
    "<div style=\"text-align:center\">\n",
    "<img src=\"Figuras_Shor/Fig-phiADD(a)MOD(N)_original.png\" width=\"700\"/>\n",
    "</div>"
   ]
  },
  {
   "cell_type": "markdown",
   "id": "510ab314",
   "metadata": {},
   "source": [
    "4. **Multiplicación modulada (puerta $CMULT(a)MOD(N)$)**: Ahora, podemos usar esta puerta doble controlada de suma modulada para construir una puerta controlada de **multiplicación modulada** **$CMULT(a)MOD(N)$** (ver sección [5.2.4](#2n+3-Puerta-CMULT(a)MOD(N)))\n",
    "$$\n",
    "CMULT(a)MOD(N) \\, |c \\rangle |x \\rangle |b \\rangle = |c \\rangle |x \\rangle | (b + a  x) \\text{ mod} N \\rangle, \\qquad \\text{si }  c = 1\n",
    "$$\n",
    "\n",
    "<div style=\"text-align:center\">\n",
    "<img src=\"Figuras_Shor/Fig-CMULT(a)MOD(N).png\" width=\"700\"/>\n",
    "</div>"
   ]
  },
  {
   "cell_type": "markdown",
   "id": "0a3a464f",
   "metadata": {},
   "source": [
    "5. **Puerta controlada $C\\text{-}U_a$:** Juntando la puerta anterior con una puerta **SWAP** (pues la multiplicación modulada nos sale en el registro de $b$, no el de $x$) y tomando $b = 0$ (una ancilla), podemos finalmente construir una puerta controlada $C\\text{-}U_a$ tal que (ver sección [5.2.5](#2n+3-Puerta-C-U_a)):\n",
    "$$\n",
    "C \\text{-} U_a \\, |c \\rangle |x \\rangle = |c \\rangle | (a \\cdot x) \\text{ mod} N \\rangle, \\qquad \\text{si }  c = 1\n",
    "$$\n",
    "\n",
    "<div style=\"text-align:center\">\n",
    "<img src=\"Figuras_Shor/Fig-C-U_a.png\" width=\"700\"/>\n",
    "</div>"
   ]
  },
  {
   "cell_type": "markdown",
   "id": "584d7268",
   "metadata": {},
   "source": [
    "6. **Exponencial modulada (puerta $C\\text{-}U_{a^{s}}$)**: Ahora, para implementar el algoritmo de Shor lo que se hace es tomar $ |x \\rangle = | 1 \\rangle$ y implementar puertas $C\\text{-}U_{a^{s}}$, donde $s$ = $2^0$, $2^1$, ..., $2^{2n-1}$, pues puede verse que (ver sección [5.2.6](#2n+3-Puerta-C-U_a^s))\n",
    "$$\n",
    "C\\text{-}U_{a^{s}} = (C\\text{-}U_{a})^s\n",
    "$$ \n",
    "\n"
   ]
  },
  {
   "cell_type": "markdown",
   "id": "7c604cae",
   "metadata": {},
   "source": [
    "7. **Circuito final con $4n+2$ qubits (sin la simplificación del registro de conteo)**: El circuito para la implementación del algoritmo de Shor sería (ver sección [5.2.7](#2n+3-Circuito-final-no-simplificacion))\n",
    "<div style=\"text-align:center\">\n",
    "<img src=\"Figuras_Shor/Fig-Circuito-paper.png\" width=\"500\"/>\n",
    "</div>"
   ]
  },
  {
   "cell_type": "markdown",
   "id": "d4037507",
   "metadata": {},
   "source": [
    "8. **Circuito final con $2n+3$. El truco de un qubit de control**: Nos faltaría implementar la simplificación del registro de conteo, donde se pasa de $2n$ qubits en el mismo a 1 (ver sección [5.2.8](#2n+3-Circuito-final-simplificado))\n",
    "\n",
    "<div style=\"text-align:center\">\n",
    "<img src=\"Figuras_Shor/Fig-Truco-qubit-control.png\" width=\"600\"/>\n",
    "</div>"
   ]
  },
  {
   "cell_type": "markdown",
   "id": "8570e1e7",
   "metadata": {},
   "source": [
    "<a id=\"2n+3-Explicación-desgranada\"></a>\n",
    "## 5.2 - Explicación desgranada"
   ]
  },
  {
   "cell_type": "markdown",
   "id": "22697622",
   "metadata": {},
   "source": [
    "En las siguientes subsecciones vamos ir explicando poco a poco los pasos mencionado en la sección [5.1](#2n+3-La-idea)"
   ]
  },
  {
   "cell_type": "markdown",
   "id": "1ce80a2f",
   "metadata": {},
   "source": [
    "<a id=\"2n+3-Suma\"></a>\n",
    "### 5.2.1 - Algoritmo cuántico de suma"
   ]
  },
  {
   "cell_type": "markdown",
   "id": "c7f8fabd",
   "metadata": {},
   "source": [
    "Como vamos a ir viendo en las siguientes secciones, esta implementación se basa en **sumar**. En concreto, se parte de la [implementación del algoritmo cuántico de suma de Draper](https://arxiv.org/abs/quant-ph/0008033).\n",
    "\n",
    "<div style=\"text-align:center\">\n",
    "<img src=\"Figuras_Shor/Fig-Addition-Transform.png\" width=\"500\"/>\n",
    "</div>"
   ]
  },
  {
   "cell_type": "markdown",
   "id": "e5a5dce3",
   "metadata": {},
   "source": [
    "<div class=\"warning\" style='padding:0.1em; background-color:#E0FFFF; color:#69337A'>\n",
    "<span>\n",
    "<p style='margin-left:1em;'>\n",
    "\n",
    "<span style=\"color:red\"><b>Nota importante<b></span>: Véase que la puerta que la puerta \"Conditional Phase Shift\" de la imagen anterior es la puerta $CROT_k$ de la sección [2.2](#QFT-Circuito).\n",
    "    \n",
    "    \n",
    "</p>\n",
    "</span>\n",
    "</div>"
   ]
  },
  {
   "cell_type": "markdown",
   "id": "c1a73ab0",
   "metadata": {},
   "source": [
    "Este algoritmo suma los valores $a$ y $b$. Las entradas del circuito de suma son el $\\boldsymbol{n}$ **qubits** representando el número $a$ y $\\boldsymbol{n}$ **qubits** que contienen la transformada de Fourier de otro número $b$, denotada como $\\phi(b)$, es decir,\n",
    "\n",
    "$$\n",
    "|\\phi (b) \\rangle = QFT \\, |b \\rangle.\n",
    "$$ \n",
    "\n",
    "El registro que codifica el número $a$ no cambia, mientras que registro que codifica $\\phi (b)$ pasa a albergar la suma de $a+b$ en el espacio de Fourier, $\\phi (a+b)$. Haciendo la transformada inversa se puede recuperar el valor $a+b$:\n",
    "\n",
    "$$\n",
    "QFT^{-1}| \\phi (a+b) \\rangle = | a+b \\rangle\n",
    "$$\n",
    "\n",
    "Lo que vamos a ver es como, partiendo de esta implementación del algoritmo de suma podemos construir la exponencial modulada."
   ]
  },
  {
   "cell_type": "markdown",
   "id": "d661a95f",
   "metadata": {},
   "source": [
    "<div class=\"warning\" style='padding:0.1em; background-color:#E0FFFF; color:#69337A'>\n",
    "<span>\n",
    "<p style='margin-left:1em;'>\n",
    "\n",
    "<span style=\"color:red\"><b>Nota<b></span>: No perdamos el objetivo de vista. Nosotros queremos calcular el periodo de la función $f(x) = a^x \\text{mod}N$, donde $a<N$ (tomamos además $b<N$). Al tener un $\\text{ mod}N$ sabemos que el esta función puede devolver valores mayores que $N$. Tenemos pues que los $\\boldsymbol{n}$ **qubits** que dijimos que usamos para codificar $a$ y $b$ son **el número de qubits que nos hace falta para codificar $N$**.\n",
    "    \n",
    "    \n",
    "</p>\n",
    "</span>\n",
    "</div>"
   ]
  },
  {
   "cell_type": "markdown",
   "id": "1b82ce62",
   "metadata": {},
   "source": [
    "<a id=\"2n+3-Puerta-phiADD(a)\"></a>\n",
    "### 5.2.2 - Valor clásico + registro cuántico (puerta $\\phi ADD(a)$)"
   ]
  },
  {
   "cell_type": "markdown",
   "id": "4339a70d",
   "metadata": {},
   "source": [
    "Nosotros queremos llegar a calcular el periodo de la función $f(x) = a^x \\text{ mod}N$, donde $a$ es un valor fijo menor que $N$. \n",
    "\n",
    "Como precisamente este valor es fijo, no nos vemos en la necesidad de codificarlo usando un registro cuántico.Podemos pues sustituir los qubits que codifican $a$ por bits clásicos. Las puertas controladas pasan entonces a ser puertas controladas clásicamente. Además, como sabemos de antemano el valor de $a$, podemos precalcular el producto de las puertas sobre cada qubit, aplicando así solo una puerta por qubit (reducimos la profundidad del circuito).\n",
    "\n",
    "Definimos así la puerta **$\\phi ADD(a)$**, que **suma un valor clásico $a$ a la un registro cuántico que codifica el valor $b$**. La entrada de esta puerta es la transformada de Fourier del registro $b$, es decir, $\\phi (b)$, y la salida es la transformada de Fourier de la suma, $\\phi (b)$:\n",
    "\n",
    "\\begin{equation}\n",
    "\\phi ADD(a) \\, |\\phi (b) \\rangle = |\\phi (a+b) \\rangle,\n",
    "\\end{equation}\n",
    "<div style=\"text-align:center\">\n",
    "<img src=\"Figuras_Shor/Fig-phiADD(a).png\" width=\"700\"/>\n",
    "</div>\n",
    "\n",
    "Comentamos antes que el número de qubits $n$ que usamos para codificar $a$ y $b$ es número de qubits que nos hacen falta para codificar $N$ (ya que $a$, $b$ < $N$). Puede darse el caso de que al hacer la suma tengamos un valor mayor que $N$, es decir, $a+b > N$. Podríamos tener entonces un número mayor que el número más grande que podemos codificar con los $n$ qubits de los que partimos. Esto se denomina **overflow**. Para evitar esto, lo que podemos hacer es añadir un qubit extra al registro que contiene $\\phi (b)$. Tenemos pues que **$\\phi(b)$ es de forma efectiva la transformada de Fourier de un registro de $n+1$ qubits que contiene un número de $n$ bits**. Tenemos pues que, antes de la suma, **el bit más significativos de la transformada de Fourier inversa del registro $\\phi(b)$ es siempre** $|0 \\rangle$:\n",
    "\n",
    "$$\n",
    "\\text{el bit más significativo de } \\, QFT^{-1}|\\phi(b) \\rangle = |b \\rangle \\, \\text{ es siempre } \\, |0 \\rangle\n",
    "$$\n",
    "\n",
    "Podemos además, definir la inversa de esta puerta, es decir, una puerta de resta (véase que **la puerta de suma tiene la barra negra a la derecha y la de resta a la izquierda**)\n",
    "<div style=\"text-align:center\">\n",
    "<img src=\"Figuras_Shor/Fig-phiADD(a)^-1.png\" width=\"500\"/>\n",
    "</div>\n",
    "\n",
    "donde $p$ **es un número $n$ bit** y **$g$ un número $n+1$ bit**. \n",
    "Véase que tenemos resultados diferentes si $g \\geq p $ o $g < p$. Precisamente, podemos usar esto para saber cual de los dos números es mayor\n",
    "- Si después de la resta el bit más significativo es $|0 \\rangle$, estamos en el caso de $g \\geq p$ (**solo si $g-p$ es un número $n$ bit**).\n",
    "- Si después de la resta el bit más significativo es $|1 \\rangle$, estamos en el caso de $p>g$."
   ]
  },
  {
   "cell_type": "markdown",
   "id": "f12b8216",
   "metadata": {},
   "source": [
    "<div class=\"warning\" style='padding:0.1em; background-color:#E0FFFF; color:#69337A'>\n",
    "<span>\n",
    "<p style='margin-left:1em;'>\n",
    "\n",
    "<span style=\"color:red\"><b>Nota<b></span>: Aplicaremos este método con:\n",
    "\n",
    "- $p = N \\quad$ y $\\quad g = b, \\, a+b \\quad$ (parte 1 del circuito de la sección [5.2.3](#2n+3-Puerta-phiADD(a)MOD(N)))\n",
    "- $p = \\, a \\, \\quad$ y $\\quad g = b, \\, a+b, \\, a+b - N \\quad$   (parte 2 del circuito de la sección [5.2.3](#2n+3-Puerta-phiADD(a)MOD(N)))\n",
    "    \n",
    "    \n",
    "En ambos casos tenemos que $p$ es un número $n$ bit y si $g \\geq p$ tenemos $g-p < N$, así que $g-p$ es $n$ bit. Podemos pues aplicar el criterio del bit más significativo para saber que número es más grande. \n",
    "</p>\n",
    "</span>\n",
    "</div>"
   ]
  },
  {
   "cell_type": "markdown",
   "id": "258f15e5",
   "metadata": {},
   "source": [
    "<div class=\"warning\" style='padding:0.1em; background-color:#E0FFFF; color:#69337A'>\n",
    "<span>\n",
    "<p style='margin-left:1em;'>\n",
    "\n",
    "<span style=\"color:red\"><b>Nota<b></span>: Si estamos en el caso $g<p$ tenemos \n",
    "\n",
    "$$\n",
    "\\phi ADD^{-1}(p) \\, | \\phi(g) \\rangle = |\\phi (2^{n+1} - (p-g)) \\rangle\n",
    "$$\n",
    "\n",
    "Si ahora sumamos otra vez $p$ tenemos:\n",
    "    \n",
    "$$\n",
    "\\phi ADD(p) \\, |\\phi (2^{n+1} - (p-g)) \\rangle =  |\\phi (2^{n+1} - (p-g)) + p \\rangle =  |\\phi (2^{n+1} + g)) \\rangle\n",
    "$$\n",
    "\n",
    "Como $2^{n+1} + g$ es mayor que el valor máximo que podemos almacenar con $n+1$ qubits, tenemos overflow:\n",
    "\n",
    "$$\n",
    "\\phi ADD(p) \\, |\\phi (2^{n+1} - (p-g)) \\rangle = |\\phi (2^{n+1} + g)) \\rangle = |\\phi (g) \\rangle\n",
    "$$\n",
    "    \n",
    "Con lo cual, efectivamente, $\\phi ADD(p)$ y $\\phi ADD^{-1}(p)$ son una la inversa de la otra.\n",
    "    \n",
    "</p>\n",
    "</span>\n",
    "</div>"
   ]
  },
  {
   "cell_type": "markdown",
   "id": "83806507",
   "metadata": {},
   "source": [
    "<a id=\"2n+3-Puerta-phiADD(a)MOD(N)\"></a>\n",
    "### 5.2.3 - Suma modulada (puerta $\\phi ADD(a)MOD(N)$)"
   ]
  },
  {
   "cell_type": "markdown",
   "id": "60d3d352",
   "metadata": {},
   "source": [
    "Un vez definida la puerta de suma $\\phi ADD(a)$, podemos usarla para construir una puerta de **suma modulada** $\\phi ADD(a)MOD(N)$. Esta puerta suma $a+b$ y le resta $N$ si $a+b \\geq N$. Las entradas de la misma son $\\phi(b)$ con $b < N$ y un valor clásico $a < N$.\n",
    "\n",
    "$$\n",
    "\\phi ADD(a)MOD(N) |\\phi (b) \\rangle = |\\phi \\left( (a+b) \\text{ mod} N \\right)\\rangle  = \\,  QFT \\, | (a+b) \\text{ mod} N \\rangle\n",
    "$$\n",
    "\n",
    "<div style=\"text-align:center\">\n",
    "<img src=\"Figuras_Shor/Fig-phiADD(a)MOD(N).png\" width=\"700\"/>\n",
    "</div>\n",
    "\n",
    "Se han añadido dos qubits de control ($| c_1 \\rangle$, $| c_2 \\rangle$) para futuros usos. La puerta solo se activa si $c_1 = c_2 = 1$. Se han numerado las puertas (cuadros rojos) para facilitar la explicación.\n",
    "\n"
   ]
  },
  {
   "cell_type": "markdown",
   "id": "05747cbe",
   "metadata": {},
   "source": [
    "<div class=\"warning\" style='padding:0.1em; background-color:#E0FFFF; color:#69337A'>\n",
    "<span>\n",
    "<p style='margin-left:1em;'>\n",
    "\n",
    "<span style=\"color:red\"><b>Nota importante<b></span>: El [paper](https://rxiv.org/abs/quant-ph/0205095) del que se han sacado las figuras mezcla los dos convenios de ordenación de los qubits en los circuitos. En la figura anterior se usa **el mismo que usa Qiskit**, donde el bit más significativo es el de abajo. Por ese motivo las CNOT que se aplican en el qubit de abajo del todo son controladas por el último qubit el registro $| \\phi (b) \\rangle$.\n",
    "\n",
    "</p>\n",
    "</span>\n",
    "</div>"
   ]
  },
  {
   "cell_type": "markdown",
   "id": "a27d5972",
   "metadata": {},
   "source": [
    "Como podemos ver en la imagen, el circuito que implementa esta puerta tiene dos parte:\n",
    "- Parte 1: Calcula $(a+b) \\text{ mod} N$\n",
    "- Parte 2: Vuelve a poner en el estado $|0 \\rangle$ el qubit ancila (el qubit de abajo del todo en la imagen)."
   ]
  },
  {
   "cell_type": "markdown",
   "id": "87890136",
   "metadata": {},
   "source": [
    "<div class=\"warning\" style='padding:0.1em; background-color:#E0FFFF; color:#69337A'>\n",
    "<span>\n",
    "<p style='margin-left:1em;'>\n",
    "\n",
    "<span style=\"color:red\"><b>Nota<b></span>: Un qubit **ancila** es un qubit auxiliar que se usa para hacer un calculo intermedio pero que no forma parte de la solución. Estos qubit hay que volver a ponerlos en el estado inicial. \n",
    "</p>\n",
    "</span>\n",
    "</div>"
   ]
  },
  {
   "cell_type": "markdown",
   "id": "3b5470cb",
   "metadata": {},
   "source": [
    "<div class=\"warning\" style='padding:0.1em; background-color:#E0FFFF; color:#69337A'>\n",
    "<span>\n",
    "<p style='margin-left:1em;'>\n",
    "\n",
    "<span style=\"color:red\"><b>Nota importante<b></span>: El qubit ancila **no es qubit extra del registro** $| \\phi (b) \\rangle$. Tenemos pues los 2 qubits de control, los $n+1$ de la entrada $| \\phi (b) \\rangle$ y el qubit de la ancila, con lo cual usamos $n+4$ qubits.\n",
    "    \n",
    "    \n",
    "</p>\n",
    "</span>\n",
    "</div>"
   ]
  },
  {
   "cell_type": "markdown",
   "id": "0a5ac78b",
   "metadata": {},
   "source": [
    "Veamos todos los posibles casos que nos podemos encontrar."
   ]
  },
  {
   "cell_type": "markdown",
   "id": "4ee2bfa1",
   "metadata": {},
   "source": [
    "#### 5.2.3.1 - Caso con $\\boldsymbol{c_1 = c_2 = 1}$"
   ]
  },
  {
   "cell_type": "markdown",
   "id": "913f9392",
   "metadata": {},
   "source": [
    "Partimos del estado $| \\phi(b) \\rangle$.\n",
    "\n",
    "- **Puerta 1**: Después de aplicar la puerta 1 (puerta $\\phi ADD(a)$) tenemos el estado $| \\phi(a+b) \\rangle$.\n",
    "\n",
    "- **Puertas 2, 3, 4 y 5**: Lo que vamos a hacer con estas puestas es ver si estamos en el caso de $a+b \\geq N$ o $a+b <N$. Para ello, aplicamos una puerta $\\phi ADD^{-1}(N)$ (puerta 2), con lo cual tenemos:\n",
    "\\begin{align}\n",
    "    & \\text{1) El estado $| \\phi(a+b - N) \\rangle$ si $a+b \\geq N$} \\\\\n",
    "    & \\text{2) El estado $| \\phi(2^{n+1} -(a+b - N)) \\rangle$ si $a+b < N$.}\n",
    "\\end{align} \n",
    "    Las puertas 3, 4 y 5 lo que hacen es poner el qubit ancila a 1 si el bit más significativo es 1, es decir, si estamos en el segundo caso. \n",
    "\n",
    "- **Puerta 6**: Esta puerta solo se activa si la ancila es 1, es decir, si estamos en el segundo caso del paso anterior ($a+b < N$). Esta puerta lo que hace es sumar $N$, deshaciendo la resta de la puerta 2 si estamos en el caso $a+b < N$, es decir, si no teníamos que haber restado $N$. Después de esta puerta ya tenemos el resultado de la suma modulada. Solo nos queda limpiar la ancila.\n",
    "\n",
    "- **Puerta 7**: Partimos del valor $(a+b) \\text{ mod} N$. Con esta puerta sumamos $a$, con lo cual tenemos dos casos:\n",
    "\\begin{align}\n",
    "    & \\text{3) $(a+b) > N \\quad \\Rightarrow \\quad (a+b) \\text{ mod} N = a+b-N < a \\quad \\Rightarrow $} \\\\ \n",
    "    & \\qquad \\quad \\Rightarrow \\quad \\phi ADD^{-1}(a) \\, | \\phi ((a+b) \\text{ mod} N) \\rangle = | \\phi ( 2^{n+1} - (N - b) ) \\rangle  \\\\\n",
    "    & \\text{4) $(a+b) < N \\quad \\Rightarrow \\quad (a+b) \\text{ mod} N = a+b > a \\quad \\Rightarrow $} \\\\ \n",
    "    & \\qquad \\quad \\Rightarrow \\quad \\phi ADD^{-1}(a) \\, | \\phi ((a+b) \\text{ mod} N) \\rangle = | \\phi ( b ) \\rangle  \\\\\n",
    "\\end{align} \n",
    "\n",
    "- **Puertas 8, 9, 10, 11, 12**: Estas puertas lo que hacen es cambiar la ancila si el bit más significativo es cero. Vemos que este es el caso 4 del paso anterior, es decir, cuando $(a+b) < N$. Si nos fijamos en cuando aplicamos las puertas 2, 3, 4 y 5, esto corresponde al caso 2, justo aquel en el que cambiamos la ancila. Es decir, si hubiéramos cambiado la ancila, ahora la habríamos vuelto a poner a cero.\n",
    "\n",
    "- **Puerta 13**: Deshace el cambio producido por la puerta 7."
   ]
  },
  {
   "cell_type": "markdown",
   "id": "181f79a2",
   "metadata": {},
   "source": [
    "#### 5.2.3.2 - Caso con $\\boldsymbol{c_1 = 0}$ y/o $\\boldsymbol{c_2 = 0}$."
   ]
  },
  {
   "cell_type": "markdown",
   "id": "c8c54387",
   "metadata": {},
   "source": [
    "En estos casos la puerta $\\phi ADD(a)MOD(N)$ deja invariante la entrada.\n",
    "\n",
    "Partimos del estado $| \\phi(b) \\rangle$.\n",
    "\n",
    "- **Puerta 1**: No se aplica. \n",
    "\n",
    "- **Puerta 2**: Restamos $N$, con lo cual pasamos a tener $\\phi \\left( 2^{n+1} - (N-b) \\right)$.\n",
    "\n",
    "- **Puertas 2, 3, 4 y 5**: Como El bit más significativo en este caso es siempre 1, estas puertas ponen la ancila a 1.\n",
    "\n",
    "- **Puerta 6**: Como la ancila es 1, esta puerta se activa y deshace los cambios de la puerta 2. Pasamos pues a tener el estado inicial $| \\phi(b) \\rangle$ pero con la ancila a 1.\n",
    "\n",
    "- **Puerta 7**: No se aplica.\n",
    "\n",
    "- **Puertas 8, 9, 10, 11, 12**: Como comentamos antes, estas puertas cambian la ancila si el estado que entra tiene el bit más significativo a cero. Como tenemos el estado $| \\phi(b) \\rangle$, este es nuestro caso así que se vuelve a cambiar la ancila. Pasamos pues a tener el estado inicial, sin ningún cambio.\n",
    "\n",
    "- **Puerta 13**: No se aplica."
   ]
  },
  {
   "cell_type": "markdown",
   "id": "86c51027",
   "metadata": {},
   "source": [
    "<a id=\"2n+3-Puerta-CMULT(a)MOD(N)\"></a>\n",
    "### 5.2.4 - Multiplicación modulada (puerta $CMULT(a)MOD(N)$)"
   ]
  },
  {
   "cell_type": "markdown",
   "id": "54284a76",
   "metadata": {},
   "source": [
    "El siguiente paso es usar la puerta $\\phi ADD(a)MOD(N)$ para construir una \n",
    "puerta controlada de multiplicación modulada que denominaremos como $CMULT(a)MOD(N)$. La entrada de esta puerta serán tres registros $|c \\rangle |x \\rangle |b  \\rangle$, donde $|c \\rangle$ es un qubit controlador:\n",
    " - $CMULT(a)MOD(N) \\, |c \\rangle |x \\rangle |b \\rangle = |c \\rangle |x \\rangle | (b + a x) \\text{ mod} N \\rangle, \\qquad \\, \\text{si }  \n",
    " c = 1$\n",
    " \n",
    " - $CMULT(a)MOD(N) \\, |c \\rangle |x \\rangle |b \\rangle = |c \\rangle |x \\rangle | b \\rangle, \\qquad \\qquad \\qquad \\qquad \\text{si }  c = 0$\n",
    " \n",
    "Para implementar esta puerta recurrimos a las puertas $\\phi ADD(a)MOD(N)$ de la sección anterior y a la identidad\n",
    "\n",
    "\\begin{align}\n",
    "(ax) \\text{mod} N & = (2^0 a x_0 + 2^1 a x_1 + \\dots + 2^{n-1} a x_{n-1}) \\text{mod} N \\\\\n",
    "& = \\{\\dots [(2^0 a x_0) \\text{mod} N + 2^1 a x_1] \\text{mod} N + \\dots + 2^{n-1} a x_{n-1}\\} \\text{mod} N\n",
    "\\end{align}\n",
    "\n",
    "Es fácil entender esta identidad: es lo mismo sumar todos los términos y finalmente tomar el módulo de la suma completa que tomar el módulo del primer termino, sumárselo al segundo término, volver a tomar el módulo, etc. Vemos que esto se puede implementar aplicando aplicando primero una puerta $\\phi ADD(2^0 a) MOD(N)$ sobre $|b \\rangle$ controlada por $|c \\rangle$ y $| x_0 \\rangle $, después una puerta $\\phi ADD(2^1 a) MOD(N)$ sobre el resultado de la anterior controlada por $|c \\rangle$ y $| x_1 \\rangle$, etc. Con lo cual, **solo necesitamos aplicar $n$ puertas doblemente controladas $\\phi ADD (2^i a) MOD(N)$** con $0 \\leq i < N$. Podemos ver esta implementación en la siguiente figura.\n",
    "\n",
    "<div style=\"text-align:center\">\n",
    "<img src=\"Figuras_Shor/Fig-CMULT(a)MOD(N).png\" width=\"700\"/>\n",
    "</div>\n",
    "\n",
    "\n",
    "\n"
   ]
  },
  {
   "cell_type": "markdown",
   "id": "34f358e7",
   "metadata": {},
   "source": [
    "<div class=\"warning\" style='padding:0.1em; background-color:#E0FFFF; color:#69337A'>\n",
    "<span>\n",
    "<p style='margin-left:1em;'>\n",
    "\n",
    "<span style=\"color:red\"><b>Nota importante<b></span>: El [paper](https://rxiv.org/abs/quant-ph/0205095) del que se han sacado las figuras mezcla los dos convenios de ordenación de los qubits en los circuitos. En la figura anterior se usa **el mismo que usa Qiskit**, donde el bit más significativo es el de abajo. Por ese motivo, el qubit del registro $|x \\rangle$ que controla la puerta $\\phi ADD(2^0 a)MOD(N)$ es el primero, la que controla la puerta $\\phi ADD(2^{n-1} a)MOD(N)$ es el último, ...\n",
    "\n",
    "</p>\n",
    "</span>\n",
    "</div>"
   ]
  },
  {
   "cell_type": "markdown",
   "id": "2bece1f1",
   "metadata": {},
   "source": [
    "<a id=\"2n+3-Puerta-C-U_a\"></a>\n",
    "### 5.2.5 - Puerta controlada $C\\text{-}U_a$"
   ]
  },
  {
   "cell_type": "markdown",
   "id": "9fc26b19",
   "metadata": {},
   "source": [
    "En la sección anterior vimos como construir una puerta controlada que aplica la operación\n",
    "\n",
    "$$\n",
    "| x \\rangle | b \\rangle \\quad \\rightarrow \\quad |x \\rangle | (b+ax) \\text{ mod}N \\rangle\n",
    "$$\n",
    "\n",
    "Pero esto no es lo que queremos, nosotros queremos una puerta controlada que nos lleve el estado $|x \\rangle$ al estado $| (ax) \\text{ mod} \\rangle$. Lo que podemos hacer para solventar esto es lo siguiente:\n",
    " - Aplicar primero una puerta $CMULT(a)MOD(N)$ sobre el estado $|c\\rangle |x \\rangle |0 \\rangle$, con lo cual obtenemos el estado $|c \\rangle |x \\rangle | (ax) \\text{ mod} N \\rangle$. \n",
    " \n",
    " - A continuación, si $|c \\rangle = | 1 \\rangle$ aplicamos puertas SWAP controladas  para cambiar los registros $|x \\rangle$ y $|(b + ax) \\text{ mod} N \\rangle$, con lo cual pasamos a tener el estado $|c \\rangle |(ax) \\text{ mod} N \\rangle |x \\rangle $. Solo necesitamos aplicar puertas controladas SWAP a $n$ qubits, no a $n+1$, ya que el qubit más significativo de $(ax) \\text{ mod}N$ es siempre 0, ya que es el qubit extra que incluimos para evitar overflow en las puertas $\\phi ADD (a)$. \n",
    " \n",
    " - Finalmente, aplicamos la inversa de la puerta controlada $CMULT(a^{-1}) MOD(N)$, donde $a^{-1}$ es el inverso de $a$ modulo N. Este valor se calcula clásicamente en tiempo polinómico usando el algoritmo de Euclides y tenemos asegurado que siempre existe ya que $gcd(a,N) =1$. En resumen, si la entrada de esta puerta es el estado $|c \\rangle | x \\rangle | b \\rangle$ con $|c \\rangle = |1 \\rangle$ tenemos:\n",
    " $$\n",
    " [CMULT(a^{-1}) MOD(N)]^{-1} |c \\rangle | x \\rangle | b \\rangle = |c \\rangle | x \\rangle | (b - a^{-1}x \\rangle\n",
    " $$\n",
    " En nuestro caso tenemos que el estado de entrada es $|c \\rangle |(ax) \\text{ mod} N \\rangle |x \\rangle $, con lo cual:\n",
    " \n",
    " $$\n",
    " [CMULT(a^{-1}) MOD(N)]^{-1} |c \\rangle |(ax) \\text{ mod} N \\rangle |x \\rangle = |c \\rangle |(ax) \\text{ mod} N \\rangle |(x - a^{-1} ax )\\text{ mod} N \\rangle = |c \\rangle |(ax) \\text{ mod} N \\rangle | 0 \\rangle\n",
    " $$\n",
    " "
   ]
  },
  {
   "cell_type": "markdown",
   "id": "62066df1",
   "metadata": {},
   "source": [
    "Denominaremos al conjunto de aplicar estas tres puertas controladas la **puerta controlada $U_a$**, es decir, $C\\text{-}U_a$. En resumen, esta puerta lo que hace es tomar como entrada $| c \\rangle | x \\rangle |0 \\rangle$ y devolver  $| c \\rangle | (ax) \\text{ mod} N  \\rangle |0 \\rangle$ si $c=1$:\n",
    "\n",
    "$$\n",
    "C\\text{-}U_a | c \\rangle | x \\rangle |0 \\rangle = | c \\rangle | (ax) \\text{ mod} N  \\rangle |0 \\rangle \\qquad \\text{ si } c = 1\n",
    "$$\n",
    "\n",
    "Si $c=0$, aplica la identidad. "
   ]
  },
  {
   "cell_type": "markdown",
   "id": "67ff064a",
   "metadata": {},
   "source": [
    "Para resumir, los pasos que hace la puerta $C\\text{-}U_a$ son los siguientes (si $|c \\rangle = | 1 \\rangle$)\n",
    "\n",
    "\\begin{align}\n",
    "& | x \\rangle | 0 \\rangle  \\quad \\rightarrow \\quad |x \\rangle | (ax) \\text{ mod}N \\rangle \\quad \\rightarrow \\quad  | (ax) \\text{ mod}N \\rangle |x \\rangle \\quad \\rightarrow \\\\\n",
    "&\\rightarrow \\quad | (ax) \\text{ mod}N \\rangle  | (x - a^{-1}ax) \\text{ mod}N \\rangle = | (ax) \\text{ mod}N \\rangle | 0\\rangle\n",
    "\\end{align}\n",
    "\n",
    "<div style=\"text-align:center\">\n",
    "<img src=\"Figuras_Shor/Fig-C-U_a.png\" width=\"700\"/>\n",
    "</div>\n",
    "\n",
    "Si nos fijamos, el último registro, al estar a $|0 \\rangle$ al inicio y al final, podemos considerarlo parte de la puerta $C\\text{-}U_{a}$ (una ancila):\n",
    "\n",
    "$$\n",
    "C\\text{-}U_a | x \\rangle |0\\rangle = |(ax) \\text{ mod} N \\rangle |0 \\rangle \\quad \\Rightarrow \\quad C\\text{-}U_a | x \\rangle  = |(ax) \\text{ mod} N \\rangle\n",
    "$$"
   ]
  },
  {
   "cell_type": "markdown",
   "id": "c8bca3fe",
   "metadata": {},
   "source": [
    "<a id=\"2n+3-Puerta-C-U_a^s\"></a>\n",
    "### 5.2.6 - Exponencial modulada (puerta $C\\text{-}U_{a^{s}}$)"
   ]
  },
  {
   "cell_type": "markdown",
   "id": "313aa3ef",
   "metadata": {},
   "source": [
    "Una vez construida la puerta $C\\text{-}U_{a}$ uno podría pensar que para aplicar la exponencial modulada lo que hay que hacer es aplicar varias veces esta puerta, es decir:\n",
    "\n",
    "$$\n",
    "\\left( C\\text{-}U_a \\right)^s  | x \\rangle  = |(a^s x) \\text{ mod} N \\rangle\n",
    "$$\n",
    "\n",
    "Aunque esta implementación es posible, tenemos la opción de hacer una mucho más optima. Para ello nos servimos de la propiedad \n",
    "\n",
    "$$\n",
    "(a^s x) \\text{ mod} N = \\underbrace{\\{ \\dots [a(ax) \\text{ mod}N] \\text{ mod}N \\dots \\}\\text{ mod}{N}}_{s \\text{ veces}} = [x (a^s)\\text{ mod}N ] \\text{ mod}N\n",
    "$$\n",
    "\n",
    "En vez de aplicar $s$ veces la puerta $C\\text{-}U_{a}$ podemos aplicar una sola vez la puerta $C\\text{-}U_{a^s}$ donde el subíndice $a^s$ hace referencia que le pasamos a la puerta el valor $a^s \\text{ mod} N$ (este se calcula clásicamente)\n",
    "\n",
    "$$\n",
    "C\\text{-}U_{a^{s}} = (C\\text{-}U_{a})^s\n",
    "$$ "
   ]
  },
  {
   "cell_type": "markdown",
   "id": "4d589ed3",
   "metadata": {},
   "source": [
    "<a id=\"2n+3-Circuito-final-no-simplificacion\"></a>\n",
    "### 5.2.7 - Circuito final con $4n+2$ qubits (sin la simplificación del registro de conteo)."
   ]
  },
  {
   "cell_type": "markdown",
   "id": "69865191",
   "metadata": {},
   "source": [
    "Solo nos queda ver el circuito con la implementación completa del algoritmo de Shor. (Recordemos que $n$ es el número de qubits que necesitamos para codificar $n$ y que en el registro de conteo necesitamos $2n$ qubits.)\n",
    "\n",
    "\n",
    "<div style=\"text-align:center\">\n",
    "<img src=\"Figuras_Shor/Fig-Circuito-paper.png\" width=\"500\"/>\n",
    "</div>\n",
    "\n",
    "Esta implementación usa $4n+2$ qubits:\n",
    "  - $2n$ qubits en el registro de conteo.\n",
    "  - $n$ qubits para el estado $|1\\rangle$ (este es, el estado $|x \\rangle$ de las secciones [5.2.4](#2n+3-Puerta-CMULT(a)MOD(N)) a la [5.2.6](#2n+3-Puerta-C-U_a)).\n",
    "  - $n+2$ qubits para las ancilas:\n",
    "      - $n+1$ qubits para el estado $|b \\rangle = | 0 \\rangle$ (ver figuras de las secciones [5.2.4](#2n+3-Puerta-CMULT(a)MOD(N)) y [5.2.5](#2n+3-Puerta-C-U_a)).\n",
    "      - 1 qubit para la ancila de la puerta $\\phi ADD(a)MOD(N)$ (ver figura de la sección [5.2.3](#2n+3-Puerta-phiADD(a)MOD(N)))."
   ]
  },
  {
   "cell_type": "markdown",
   "id": "ee291dd3",
   "metadata": {},
   "source": [
    "<div class=\"warning\" style='padding:0.1em; background-color:#E0FFFF; color:#69337A'>\n",
    "<span>\n",
    "<p style='margin-left:1em;'>\n",
    "\n",
    "<span style=\"color:red\"><b>Nota importante<b></span>: El [paper](https://rxiv.org/abs/quant-ph/0205095) del que se han sacado las figuras mezcla los dos convenios de ordenación de los qubits en los circuitos. En la figura anterior se usa el **convenio estándar**, donde el bit más significativo es el de arriba. Por ese motivo, el qubit  que controla la puerta $U_{a^0}$ es el último, la que controla la puerta $U_{a^{2n-1}}$ es el primero, ...\n",
    "\n",
    "</p>\n",
    "</span>\n",
    "</div>"
   ]
  },
  {
   "cell_type": "markdown",
   "id": "e87149b3",
   "metadata": {},
   "source": [
    "<a id=\"2n+3-Circuito-final-simplificado\"></a>\n",
    "### 5.2.8 - Circuito final con $2n+3$. El truco de un qubit de control"
   ]
  },
  {
   "cell_type": "markdown",
   "id": "b0603f7b",
   "metadata": {},
   "source": [
    "Nos faltaría implementar la simplificación del registro de conteo, donde se pasa de $2n$ qubits en el mismo a 1. Esta simplificación consiste en usar una versión mejorada del Algoritmo de Estimación de Fases Cuántico (QPE) denominado **Algoritmo de Estimación Iterativa de Fase** o Iterative Phase Estimation (IPE) Algorithm. Vamos a explicar como pasar del QPE al IPE en nuestro circuito. Para ello, vamos a ejemplificar el desarrollo con el circuito de 4 qubits en el registro de conteo. \n",
    "\n",
    "<div style=\"text-align:center\">\n",
    "<img src=\"Figuras_Shor/Fig_IPE_1.png\" width=1000/>\n",
    "</div>\n",
    "\n",
    "\n",
    "\n",
    "Las puertas de colores del final no son más que la transformada de Fourier inversa. Vemos que al ser la inversa lo que hay que hacer es invertir el orden de las puertas del QFT normal (ver sección [2.2](#QFT-Circuito))."
   ]
  },
  {
   "cell_type": "markdown",
   "id": "86d9fbc9",
   "metadata": {},
   "source": [
    "<div class=\"warning\" style='padding:0.1em; background-color:#E0FFFF; color:#69337A'>\n",
    "<span>\n",
    "<p style='margin-left:1em;'>\n",
    "\n",
    "<span style=\"color:red\"><b>Nota importante<b></span>: Véase que la puerta que la puerta ``Conditional Phase Shif'' de la sección [5.2.1](#2n+3-Suma)  es la puerta $CROT_k$ de la sección [2.2](#QFT-Circuito). Véase también que estas puertas no son más que puertas $P(\\phi)$ (o $P_\\phi$) controladas con $\\phi_k =  2\\pi i/2^k$.\n",
    "</p>\n",
    "</span>\n",
    "</div>"
   ]
  },
  {
   "cell_type": "markdown",
   "id": "2eef9c4d",
   "metadata": {},
   "source": [
    "Si nos fijamos, vemos que una vez que un qubit controla su respectiva puerta $U_{a^{2^k}}$ sobre este ya no aplican (ni controla) más puertas hasta llegar a las de la $QFT^{-1}$.  Podemos pues llevar a cabo sin ningún problema la reordenación de las puertas de color de la . \n",
    "\n",
    "<div style=\"text-align:center\">\n",
    "<img src=\"Figuras_Shor/Fig_IPE_3.png\" width=1000/>\n",
    "</div>\n",
    "\n",
    "Vemos sin embargo que hay otros dos cambios significativos:\n",
    "\n",
    " - En vez de poner los 4 bit clásicos (en los que se almacenan las medidas) en una linea a parte, se han puesto a continuación del medidor. Esto es simplemente para no añadir 4 lineas más al circuito.\n",
    " - El gran cambio que introducimos en este circuito es el hecho de controlar puertas con bits clásicos. \n",
    "\n",
    "\n",
    "En el circuito de la figura anterior ya se han colocado las puertas para que se vea bien que estas se pueden aplicar de forma secuencial qubit por qubit. Es decir, primero se aplican las puertas sobre el qubit de abajo del todo (en el registro de conteo) y se mide. Después se va a por siguiente qubit y se mide, y así sucesivamente. La gracia es que, una vez que se mide un qubit, el valor de esta medida se va usar para controlar puertas que se aplican en los siguientes qubit. La gracia aquí es que, como ya comentamos, estas medidas se almacenan en bits clásicos, con lo cual, una vez que se ha medido un qubit, este deja de ser necesario. De la misma forma, al ir aplicando las puertas de forma secuencial qubit por qubit, mientras se aplican las puertas a los qubits anteriores, lo qubits siguientes también son \"inútiles\". \n"
   ]
  },
  {
   "cell_type": "markdown",
   "id": "57bb3fde",
   "metadata": {},
   "source": [
    "Siguiendo estos argumentos, podemos ver que en realidad, solo nos hace falta un qubit en el registro de conteo. Esto es lo que podemos ver en siguiente figura\n",
    "\n",
    "\n",
    "<div style=\"text-align:center\">\n",
    "<img src=\"Figuras_Shor/Fig_IPE_4.png\" width=700/>\n",
    "</div>\n",
    "\n",
    "Como vemos, tenemos solo un qubit en el registro de conteo. Lo que se hace es primero aplicar sobre este qubit las puertas que aplicaríamos sobre el último qubit del registro de conteo y después medir. Almacenamos esta medida en un bit clásico. Una vez medido, podemos usar el valor del bit clásico para controlar una puerta $X$. De esta forma, lo que hacemos es devolver el qubit al estado inicial (el estado $| 0 \\rangle$). Una ver que volvemos a tener el qubit en su estado de partida y la media del mismo a buen recaudo, podemos pasar a aplicar sobre este qubit las puertas que aplicariamos sobre el siguiente qubit del registro de conteo (una de ellas controlada por el bit clásico anterior) y medirlo, almacenando su valor en un segundo bit clásico. Nuevamente, usamos una puerta $X$ controlada por este segundo bit clásico para devolver el qubit al estado inicial. Y así, sucesivamente. Para más detalles, pueden verse las referencias [9](https://doi.org/10.48550/arxiv.quant-ph/9903071), [10](https://doi.org/10.48550/arxiv.quant-ph/9806084) y [11](https://arxiv.org/abs/quant-ph/0001066)\n"
   ]
  },
  {
   "cell_type": "markdown",
   "id": "7ac5cd5c",
   "metadata": {},
   "source": [
    "Extrapolando al caso de $2n$ qubits en el registro de conteo (el caso del algoritmo de Shor), nuestro circuito final sería el de la siguiente figura\n",
    "\n",
    "<div style=\"text-align:center\">\n",
    "<img src=\"Figuras_Shor/Fig-Truco-qubit-control.png\" width=\"600\"/>\n",
    "</div>\n",
    "\n",
    "donde las $m_k$ se refiere a medidas, las $X^{m_k}$ se refiere a aplicar la puerta $X$ controlada por las medida anterior y las $R_k$ se refiere a aplicar las puertas $P_\\phi$ de la QFT controladas por las medias anteriores. \n",
    "\n"
   ]
  },
  {
   "cell_type": "markdown",
   "id": "e704732e",
   "metadata": {},
   "source": [
    "<a id=\"2n+3-QFT\"></a>\n",
    "## 5.3 - Implementación aproximada de la QFT."
   ]
  },
  {
   "cell_type": "markdown",
   "id": "4433b265",
   "metadata": {},
   "source": [
    "Ya vimos en la sección [2.2](#QFT-Circuito) la implementación de la trasformada de Fourier cuántica. A continuación presentamos otra vez la misma implementación pero con la notación de puertas que estuvimos usando en esta sección:\n",
    "\n",
    "<div style=\"text-align:center\" >\n",
    "<img style=\"width:500\" src=\"Figuras_Shor/Fig-qft.png\"/>\n",
    "</div>"
   ]
  },
  {
   "cell_type": "markdown",
   "id": "25dda716",
   "metadata": {},
   "source": [
    "<div class=\"warning\" style='padding:0.1em; background-color:#E0FFFF; color:#69337A'>\n",
    "<span>\n",
    "<p style='margin-left:1em;'>\n",
    "\n",
    "<span style=\"color:red\"><b>Nota importante<b></span>: Véase que las diferencias entre esta imagen y la de la sección  [2.2](#QFT-Circuito) son simplemente el cambio de notación de las puertas $UROT_k$ y que faltan las puertas Swap del final. Esto es simplemente porque en la sección [2.2](#QFT-Circuito) se usaba el convenio de Qiskit para la ordenación de los qubits, mientras que en esta sección se está usando el habitual. \n",
    " \n",
    "</p>\n",
    "</span>\n",
    "</div>"
   ]
  },
  {
   "cell_type": "markdown",
   "id": "4150f44f",
   "metadata": {},
   "source": [
    "Esta es la implementación exacta de la QFT que, como vemos la imagen, cuando la aplicamos a $n$ qubits necesitamos del orden de $\\mathcal{O} (n^2)$ operaciones (en concreto, son $\\frac{1}{2} n(n+1)$ operaciones). "
   ]
  },
  {
   "cell_type": "markdown",
   "id": "6a8fe90c",
   "metadata": {},
   "source": [
    "Recordemos la expresión matricial de las puertas $CROT_k$\n",
    "\n",
    "$$\n",
    "CROT_k = \\left[ \\begin{matrix}\n",
    "1 & 0 & 0 & 0 \\\\\n",
    "0 & 1 & 0 & 0 \\\\\n",
    "0 & 0 & 1 & 0 \\\\\n",
    "0 & 0 & 0 & \\exp \\left( \\frac{2 \\pi i}{2^k} \\right)\n",
    "\\end{matrix} \\right]\n",
    "$$\n",
    "\n",
    "Se puede apreciar que cuando $k$ crece mucho, las puertas $CROT_k$ se aproximan a la Identidad. Esto hace que podamos prescindir de las puertas con un valor $k$ mayor que un cierto umbral $k_{max}$ y aplicar así una versión **aproximada** (con menos operaciones) de la trasformada de Fourier. Puede demostrarse (ver [12](https://arxiv.org/abs/quant-ph/0201067)) que el error introducido por ignorar todas las puertas con un valor $k > k_{max}$ es proporcional a $n 2^{-k_{max}}$. Podemos pues tomar $k_{max}$ del orden de $\\mathcal{O} (\\log_2 n)$, pasando de tener del orden de $\\mathcal{O} (n^2)$ operaciones (puertas) a $\\mathcal{O} (n \\log_2(n))$ operaciones [en concreto $\\frac{1}{2} (2n-\\log_2n)(\\log_2n-1)$ operaciones].   \n",
    "\n",
    "\n"
   ]
  },
  {
   "cell_type": "markdown",
   "id": "88764312",
   "metadata": {},
   "source": [
    "<a id=\"2n+3-SWAP\"></a>\n",
    "## 5.4 - Implementación de las SWAP controladas"
   ]
  },
  {
   "cell_type": "markdown",
   "id": "20026562",
   "metadata": {},
   "source": [
    "La *SWAP* controlada es una puerta que admite tres qubits (uno de control y dos de operación), y está construida de la siguiente manera:\n",
    "\n",
    "<div style=\"text-align:center\" >\n",
    "<img style=\"width:800\" src=\"Figuras_Shor/Fig-swap.png\"/>\n",
    "</div>\n",
    "\n",
    "Dos puertas *CNOT* que rodean a una puerta *Toffoli*. La función de esta puerta es intercambiar el valor de los dos qubits de operación si el qubit de control está activado. Como vemos, para intercambiar dos qubits necesitamos 3 puertas, con lo cual las puertas necesarias para aplicar una puerta *SWAP* controlada a $n$ qubit necesitamos $\\mathcal{O}(n)$ puertas.\n",
    "\n",
    "Vemos que la puertas *SWAP* controlada no es las que la puerta *SWAP* normal (tres puertas *CNOT*) donde la puerta *CNOT* central se controla, convirtiéndola en una puerta *Toffoli*. "
   ]
  },
  {
   "cell_type": "markdown",
   "id": "2284609b",
   "metadata": {},
   "source": [
    "<a id=\"Bibliografía\"></a>\n",
    "## Bibliografía"
   ]
  },
  {
   "cell_type": "markdown",
   "id": "046d073f",
   "metadata": {},
   "source": [
    "1. Beauregard, S. (2002). Circuit for Shor's algorithm using 2n+ 3 qubits, [quant-ph/0205095](https://arxiv.org/abs/quant-ph/0205095).\n",
    "\n",
    "2. [Quantum Fourier Transform (textbook Qiskit)](https://learn.qiskit.org/course/ch-algorithms/quantum-fourier-transform)\n",
    "\n",
    "3. [Quantum Phase Estimation (textbook Qiskit)](https://learn.qiskit.org/course/ch-algorithms/quantum-phase-estimation)\n",
    "\n",
    "4. [Shor's Algorithm (textbook Qiskit)](https://learn.qiskit.org/course/ch-algorithms/shors-algorithm)\n",
    "\n",
    "5. [Continued fraction (Wikipedia)](https://en.wikipedia.org/wiki/Continued_fraction)\n",
    "\n",
    "6. [Algoritmo de Euclides](https://en.wikipedia.org/wiki/Euclidean_algorithm)\n",
    "\n",
    "7. Michael A. Nielsen and Isaac L. Chuang. 2011. Quantum Computation and Quantum Information: 10th Anniversary Edition (10th. ed.). Cambridge University Press, USA\n",
    "\n",
    "8. Draper, T. G. (2000). Addition on a quantum computer, [quant-ph/0008033](https://arxiv.org/abs/quant-ph/0008033).\n",
    "\n",
    "9. Mosca, M., & Ekert, A. (1998, February). The hidden subgroup problem and eigenvalue estimation on a quantum computer. In NASA International Conference on Quantum Computing and Quantum Communications (pp. 174-188). Springer, Berlin, Heidelberg. [quant-ph/9903071](http://arxiv.org/abs/quant-ph/9903071)\n",
    "\n",
    "10. Zalka, C. (1998). Fast versions of Shor's quantum factoring algorithm.  [quant-ph/9806084](https://arxiv.org/abs/quant-ph/9806084).\n",
    "\n",
    "11. Parker, S., & Plenio, M. B. (2000). Efficient factorization with a single pure qubit and log N mixed qubits. Physical Review Letters, 85(14), 3049. [quant-ph/0001066](https://arxiv.org/abs/quant-ph/0001066)\n",
    "\n",
    "12. Coppersmith, D. (2002). An approximate Fourier transform useful in quantum factoring. arXiv preprint [quant-ph/0201067](https://arxiv.org/abs/quant-ph/0201067)."
   ]
  },
  {
   "cell_type": "code",
   "execution_count": 2,
   "id": "26688255",
   "metadata": {
    "scrolled": false
   },
   "outputs": [
    {
     "data": {
      "text/html": [
       "<h3>Version Information</h3><table><tr><th>Qiskit Software</th><th>Version</th></tr><tr><td><code>qiskit-terra</code></td><td>0.24.0</td></tr><tr><td><code>qiskit-aer</code></td><td>0.11.1</td></tr><tr><td><code>qiskit-ibmq-provider</code></td><td>0.19.2</td></tr><tr><td><code>qiskit</code></td><td>0.39.3</td></tr><tr><td><code>qiskit-optimization</code></td><td>0.5.0</td></tr><tr><td><code>qiskit-machine-learning</code></td><td>0.6.1</td></tr><tr><th>System information</th></tr><tr><td>Python version</td><td>3.9.13</td></tr><tr><td>Python compiler</td><td>MSC v.1916 64 bit (AMD64)</td></tr><tr><td>Python build</td><td>main, Aug 25 2022 23:51:50</td></tr><tr><td>OS</td><td>Windows</td></tr><tr><td>CPUs</td><td>12</td></tr><tr><td>Memory (Gb)</td><td>31.652992248535156</td></tr><tr><td colspan='2'>Fri Jun 16 15:57:48 2023 Hora de ver. Europa Occidental</td></tr></table>"
      ],
      "text/plain": [
       "<IPython.core.display.HTML object>"
      ]
     },
     "metadata": {},
     "output_type": "display_data"
    }
   ],
   "source": [
    "%qiskit_version_table"
   ]
  },
  {
   "cell_type": "markdown",
   "id": "b760fe99",
   "metadata": {},
   "source": [
    "This work has been financially supported by the Ministry of Economic Affairs and Digital Transformation of the Spanish Government through the QUANTUM ENIA project call - Quantum Spain project, and by the European Union through the Recovery, Transformation and Resilience Plan - NextGenerationEU within the framework of the Digital Spain 2025 Agenda.\n",
    "\n",
    "\n",
    "<img align=\"left\" src=\"https://quantumspain-project.es/wp-content/uploads/2022/11/LOGOS-GOB_QS.png\" width=\"1000px\" />"
   ]
  }
 ],
 "metadata": {
  "kernelspec": {
   "display_name": "Python 3 (ipykernel)",
   "language": "python",
   "name": "python3"
  },
  "language_info": {
   "codemirror_mode": {
    "name": "ipython",
    "version": 3
   },
   "file_extension": ".py",
   "mimetype": "text/x-python",
   "name": "python",
   "nbconvert_exporter": "python",
   "pygments_lexer": "ipython3",
   "version": "3.11.7"
  },
  "toc": {
   "base_numbering": 1,
   "nav_menu": {},
   "number_sections": false,
   "sideBar": true,
   "skip_h1_title": true,
   "title_cell": "Table of Contents",
   "title_sidebar": "Contents",
   "toc_cell": false,
   "toc_position": {
    "height": "calc(100% - 180px)",
    "left": "10px",
    "top": "150px",
    "width": "249.364px"
   },
   "toc_section_display": true,
   "toc_window_display": false
  },
  "vscode": {
   "interpreter": {
    "hash": "916dbcbb3f70747c44a77c7bcd40155683ae19c65e1c03b4aa3499c5328201f1"
   }
  }
 },
 "nbformat": 4,
 "nbformat_minor": 5
}
