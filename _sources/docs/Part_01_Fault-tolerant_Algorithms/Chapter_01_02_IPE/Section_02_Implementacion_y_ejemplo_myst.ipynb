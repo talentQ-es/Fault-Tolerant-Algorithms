{
 "cells": [
  {
   "cell_type": "markdown",
   "id": "0a0110f8",
   "metadata": {},
   "source": [
    "> Apr 09, 2024 | {sub-ref}`wordcount-minutes` min read\n",
    "\n",
    "\n",
    "$ \\newcommand{\\bra}[1]{\\langle #1|} $\n",
    "$ \\newcommand{\\ket}[1]{|#1\\rangle} $\n",
    "$ \\newcommand{\\braket}[2]{\\langle #1|#2\\rangle} $\n",
    "$ \\newcommand{\\i}{{\\color{blue} i}} $ \n",
    "$ \\newcommand{\\Hil}{{\\cal H}} $\n",
    "$ \\newcommand{\\cg}[1]{{\\rm C}#1} $\n",
    "$ \\newcommand{\\lp}{\\left(} $\n",
    "$ \\newcommand{\\rp}{\\right)} $\n",
    "$ \\newcommand{\\lc}{\\left[} $\n",
    "$ \\newcommand{\\rc}{\\right]} $\n",
    "$ \\newcommand{\\lch}{\\left\\{} $\n",
    "$ \\newcommand{\\rch}{\\right\\}} $\n",
    "$ \\newcommand{\\Lp}{\\Bigl(} $\n",
    "$ \\newcommand{\\Rp}{\\Bigr)} $\n",
    "$ \\newcommand{\\Lc}{\\Bigl[} $\n",
    "$ \\newcommand{\\Rc}{\\Bigr]} $\n",
    "$ \\newcommand{\\Lch}{\\Bigl\\{} $\n",
    "$ \\newcommand{\\Rch}{\\Bigr\\}} $\n",
    "$ \\newcommand{\\rqa}{\\quad \\Rightarrow \\quad} $"
   ]
  },
  {
   "cell_type": "markdown",
   "id": "ed7a2cda",
   "metadata": {},
   "source": [
    "# 2. Implementación y ejemplos"
   ]
  },
  {
   "cell_type": "code",
   "execution_count": 1,
   "id": "43e5e93e",
   "metadata": {},
   "outputs": [],
   "source": [
    "from qiskit import ClassicalRegister, QuantumCircuit, QuantumRegister\n",
    "import numpy as np\n",
    "from qiskit_aer import AerSimulator"
   ]
  },
  {
   "cell_type": "markdown",
   "id": "6187ccc4",
   "metadata": {},
   "source": [
    "Para esta implementación se ha seguido la referencia {cite}`bib_FTA_IPE_QSS_Spring_2023_lab3`. Para más información sobre la QPE, ver {cite}`bib_FTA_IPE_QSS_CICC_QPE`"
   ]
  },
  {
   "cell_type": "markdown",
   "id": "63413d3a",
   "metadata": {},
   "source": [
    "## Fase con expansión binaria exacta"
   ]
  },
  {
   "cell_type": "markdown",
   "id": "a7a92e9c",
   "metadata": {},
   "source": [
    "Vamos a ver un par de ejemplo donde la fase que queremos calcular podemos expandirla de forma exacta en forma binaria usando la **notación del punto decimal**. Veremos los dos siguientes casos:\n",
    "\n",
    "$$\n",
    "\\theta = \\frac{1/4} = 0.01 \\\\\n",
    "\\theta = \\frac{1/8} = 0.001\n",
    "$$\n",
    "\n",
    "En la sección {ref}`sec_FTA_IPE_fase_no_exacta` vemos el ejemplo con la fase\n",
    "\n",
    "$$\n",
    "1/3 = 0.010101\\ldots\n",
    "$$"
   ]
  },
  {
   "cell_type": "markdown",
   "id": "d6498169",
   "metadata": {},
   "source": [
    "::::::{admonition} Nota (Notación del punto decimal) \n",
    ":class: note\n",
    "\n",
    "\n",
    "\n",
    "Véase que estamos usando la <b>notación del punto decimal</b>:\n",
    " \n",
    "$$\n",
    "\\frac{1}{4} = 0\\cdot2^0 + 0\\cdot2^{-1} + 1\\cdot2^{-2} = 0.01\n",
    "$$\n",
    "\n",
    "Veamos otro ejemplo:\n",
    "\n",
    "$$\n",
    "10.101 = 1 \\cdot 2^1 + 0 \\cdot 2^0 + 1 \\cdot 2^{-1} + 0 \\cdot 2^{-2} + 1 \\cdot 2^{-3} = 2 + \\frac{1}{2}+\\frac{1}{8}\n",
    "$$\n",
    "\n",
    "Debemos tener el cuenta también que multiplicar por 2 implica mover la coma un ligar a la izquierda:\n",
    " \n",
    "$$\n",
    "2 \\cdot 10.101 = 101.01 \\\\\n",
    "2^2 \\cdot 10.101 = 1010.1\n",
    "$$\n",
    "::::::\n"
   ]
  },
  {
   "cell_type": "markdown",
   "id": "67c5a4ca",
   "metadata": {},
   "source": [
    "### Ejemplo 1: con la puerta S"
   ]
  },
  {
   "cell_type": "markdown",
   "id": "3de5c00b",
   "metadata": {},
   "source": [
    "A modo de ejemplo vamos a realizar la IPE en la compuerta $S$ de un solo qubit. La compuerta $S$ viene dada por la matriz\n",
    "\n",
    "$$ S =\n",
    "\\begin{pmatrix}\n",
    "1 & 0\\\\\n",
    "0 & e^{i\\pi / 2}\n",
    "\\end{pmatrix}$$"
   ]
  },
  {
   "cell_type": "markdown",
   "id": "d79af165",
   "metadata": {},
   "source": [
    "Usaremos el estado propio $|\\psi\\rangle = |1\\rangle$, que tiene un valor propio $e^{i\\pi / 2}= e^{i2\\pi \\cdot 1/4}$. Entonces tenemos $\\theta = 1/4 = 0.01 = 0.\\theta_1 \\theta_2$. Dado que $\\theta$ se puede representar exactamente con 2 bits, nuestra implementación de circuito cuántico utilizará un registro clásico con dos bits para almacenar el resultado."
   ]
  },
  {
   "cell_type": "markdown",
   "id": "672d277c",
   "metadata": {},
   "source": [
    "#### Paso 1"
   ]
  },
  {
   "cell_type": "markdown",
   "id": "6ae99a08",
   "metadata": {},
   "source": [
    "En el primer paso del algoritmo, medimos el bit menos significativo de $\\theta$."
   ]
  },
  {
   "cell_type": "markdown",
   "metadata": {},
   "source": [
    ":::::{tab-set}\n",
    "::::{tab-item} Qiskit\n",
    "```python\n",
    "",
    "\n",
    "def step_1_circuit(qr: QuantumRegister, cr: ClassicalRegister) -> QuantumCircuit:\n",
    "    # qr is a quantum register with 2 qubits\n",
    "    # cr is a classical register with 2 bits\n",
    "\n",
    "    qc = QuantumCircuit(qr, cr)\n",
    "   \n",
    "    # Inicializacion\n",
    "    qc.h(qr[0])\n",
    "    qc.x(qr[1])\n",
    "    \n",
    "    qc.cp(np.pi/2, qr[0], qr[1])\n",
    "    qc.cp(np.pi/2, qr[0], qr[1])    \n",
    "    \n",
    "    qc.h(qr[0])\n",
    "    \n",
    "    qc.measure(qr[0], cr[0])\n",
    "\n",
    "    return qc\n",
    "\n",
    "\n",
    "qr_qk = QuantumRegister(2, \"q\")\n",
    "cr_qk = ClassicalRegister(2, \"c\")\n",
    "\n",
    "qc_qk = step_1_circuit(qr_qk, cr_qk)\n",
    "qc_qk.draw(\"mpl\")\n",
    "```\n",
    "::::\n",
    "::::{tab-item} Qibo\n",
    "```python\n",
    "\n",
    "```\n",
    "::::\n",
    ":::::\n"
   ]
  },
  {
   "cell_type": "code",
   "execution_count": 2,
   "id": "079f4c92",
   "metadata": {},
   "outputs": [
    {
     "name": "stderr",
     "output_type": "stream",
     "text": [
      "/home/dcb/Programs/miniconda/miniconda3/envs/qiskit_qibo_penny/lib/python3.11/site-packages/qiskit/visualization/circuit/matplotlib.py:266: FutureWarning: The default matplotlib drawer scheme will be changed to \"iqp\" in a following release. To silence this warning, specify the current default explicitly as style=\"clifford\", or the new default as style=\"iqp\".\n",
      "  self._style, def_font_ratio = load_style(self._style)\n"
     ]
    },
    {
     "data": {
      "image/png": "[encoded data removed]",
      "text/plain": [
       "<Figure size 705.35x284.278 with 1 Axes>"
      ]
     },
     "execution_count": 2,
     "metadata": {},
     "output_type": "execute_result"
    }
   ],
   "metadata": {
    "tags": [
     "remove_input"
    ]
   },
   "source": [
    "'''Qiskit_code_cell'''\n",
    "\n",
    "def step_1_circuit(qr: QuantumRegister, cr: ClassicalRegister) -> QuantumCircuit:\n",
    "    # qr is a quantum register with 2 qubits\n",
    "    # cr is a classical register with 2 bits\n",
    "\n",
    "    qc = QuantumCircuit(qr, cr)\n",
    "   \n",
    "    # Inicializacion\n",
    "    qc.h(qr[0])\n",
    "    qc.x(qr[1])\n",
    "    \n",
    "    qc.cp(np.pi/2, qr[0], qr[1])\n",
    "    qc.cp(np.pi/2, qr[0], qr[1])    \n",
    "    \n",
    "    qc.h(qr[0])\n",
    "    \n",
    "    qc.measure(qr[0], cr[0])\n",
    "\n",
    "    return qc\n",
    "\n",
    "\n",
    "qr_qk = QuantumRegister(2, \"q\")\n",
    "cr_qk = ClassicalRegister(2, \"c\")\n",
    "\n",
    "qc_qk = step_1_circuit(qr_qk, cr_qk)\n",
    "qc_qk.draw(\"mpl\")"
   ]
  },
  {
   "cell_type": "markdown",
   "id": "639b3b73",
   "metadata": {},
   "source": [
    "#### Paso 2"
   ]
  },
  {
   "cell_type": "markdown",
   "id": "cd851a8a",
   "metadata": {},
   "source": [
    "En el primer paso, medimos el bit menos significativo $\\theta_2$. En el segundo (y último) paso, extraemos el siguiente bit $\\theta_1$, que implicará aplicar una corrección de fase para cancelar la contribución de fase de $\\theta_2$. La corrección de fase depende del valor del registro clásico que contiene $\\theta_2$."
   ]
  },
  {
   "cell_type": "markdown",
   "metadata": {},
   "source": [
    ":::::{tab-set}\n",
    "::::{tab-item} Qiskit\n",
    "```python\n",
    "",
    "# En Qiskit necesitamos los Dinamic Circuits para realizar esta retroalimentación clásica\n",
    "\n",
    "def step_2_circuit(qr: QuantumRegister, cr: ClassicalRegister) -> QuantumCircuit:\n",
    "    # qr is a quantum register with 2 qubits\n",
    "    # cr is a classical register with 2 bits\n",
    "\n",
    "    # begin with the circuit from Step 1\n",
    "    qc = step_1_circuit(qr, cr)\n",
    "    \n",
    "    qc.reset(qr[0])\n",
    "    \n",
    "    qc.h(qr[0])\n",
    "    \n",
    "    with qc.if_test((cr[0],1)):\n",
    "        qc.p(-2*np.pi/4, qr[0])\n",
    "    \n",
    "    \n",
    "    qc.cp(np.pi/2, qr[0], qr[1])    \n",
    "    \n",
    "    qc.h(qr[0])\n",
    "    \n",
    "    qc.measure(qr[0], cr[1])\n",
    "    \n",
    "\n",
    "    return qc\n",
    "\n",
    "\n",
    "qr_qk = QuantumRegister(2, \"q\")\n",
    "cr_qk = ClassicalRegister(2, \"c\")\n",
    "\n",
    "qc_qk = step_2_circuit(qr_qk, cr_qk)\n",
    "qc_qk.draw(\"mpl\")\n",
    "```\n",
    "::::\n",
    "::::{tab-item} Qibo\n",
    "```python\n",
    "\n",
    "```\n",
    "::::\n",
    ":::::\n"
   ]
  },
  {
   "cell_type": "code",
   "execution_count": 4,
   "id": "51c2ca73",
   "metadata": {},
   "outputs": [
    {
     "data": {
      "image/png": "[encoded data removed]",
      "text/plain": [
       "<Figure size 1374.24x284.278 with 1 Axes>"
      ]
     },
     "execution_count": 4,
     "metadata": {},
     "output_type": "execute_result"
    }
   ],
   "metadata": {
    "tags": [
     "remove_input"
    ]
   },
   "source": [
    "'''Qiskit_code_cell'''\n",
    "# En Qiskit necesitamos los Dinamic Circuits para realizar esta retroalimentación clásica\n",
    "\n",
    "def step_2_circuit(qr: QuantumRegister, cr: ClassicalRegister) -> QuantumCircuit:\n",
    "    # qr is a quantum register with 2 qubits\n",
    "    # cr is a classical register with 2 bits\n",
    "\n",
    "    # begin with the circuit from Step 1\n",
    "    qc = step_1_circuit(qr, cr)\n",
    "    \n",
    "    qc.reset(qr[0])\n",
    "    \n",
    "    qc.h(qr[0])\n",
    "    \n",
    "    with qc.if_test((cr[0],1)):\n",
    "        qc.p(-2*np.pi/4, qr[0])\n",
    "    \n",
    "    \n",
    "    qc.cp(np.pi/2, qr[0], qr[1])    \n",
    "    \n",
    "    qc.h(qr[0])\n",
    "    \n",
    "    qc.measure(qr[0], cr[1])\n",
    "    \n",
    "\n",
    "    return qc\n",
    "\n",
    "\n",
    "qr_qk = QuantumRegister(2, \"q\")\n",
    "cr_qk = ClassicalRegister(2, \"c\")\n",
    "\n",
    "qc_qk = step_2_circuit(qr_qk, cr_qk)\n",
    "qc_qk.draw(\"mpl\")"
   ]
  },
  {
   "cell_type": "markdown",
   "id": "a89aee12",
   "metadata": {},
   "source": [
    "#### Ejecutar la simulación"
   ]
  },
  {
   "cell_type": "markdown",
   "id": "5d345a60",
   "metadata": {},
   "source": [
    "Vamos a ejecutarlo en un simulador local."
   ]
  },
  {
   "cell_type": "markdown",
   "metadata": {},
   "source": [
    ":::::{tab-set}\n",
    "::::{tab-item} Qiskit\n",
    "```python\n",
    "",
    "sim_qk = AerSimulator()\n",
    "job_qk = sim_qk.run(qc_qk, shots=1000)\n",
    "result_qk = job_qk.result()\n",
    "counts_qk = result_qk.get_counts()\n",
    "counts_qk\n",
    "```\n",
    "::::\n",
    "::::{tab-item} Qibo\n",
    "```python\n",
    "\n",
    "```\n",
    "::::\n",
    ":::::\n"
   ]
  },
  {
   "cell_type": "code",
   "execution_count": 5,
   "id": "ae770ae6",
   "metadata": {},
   "outputs": [
    {
     "data": {
      "text/plain": [
       "{'01': 1000}"
      ]
     },
     "execution_count": 5,
     "metadata": {},
     "output_type": "execute_result"
    }
   ],
   "metadata": {
    "tags": [
     "remove_input"
    ]
   },
   "source": [
    "'''Qiskit_code_cell'''\n",
    "sim_qk = AerSimulator()\n",
    "job_qk = sim_qk.run(qc_qk, shots=1000)\n",
    "result_qk = job_qk.result()\n",
    "counts_qk = result_qk.get_counts()\n",
    "counts_qk"
   ]
  },
  {
   "cell_type": "markdown",
   "id": "917f9ba0",
   "metadata": {},
   "source": [
    "### Ejemplo 2: con la puerta T"
   ]
  },
  {
   "cell_type": "markdown",
   "id": "1e9fb594",
   "metadata": {},
   "source": [
    "Vamos ahora a contruir el circuito para implementar la IPE para $U=T$:\n",
    "\n",
    "$$ T =\n",
    "\\begin{pmatrix}\n",
    "1 & 0\\\\\n",
    "0 & e^{i\\pi / 4}\n",
    "\\end{pmatrix}$$"
   ]
  },
  {
   "cell_type": "markdown",
   "metadata": {},
   "source": [
    ":::::{tab-set}\n",
    "::::{tab-item} Qiskit\n",
    "```python\n",
    "",
    "def t_gate_ipe_circuit(qr: QuantumRegister, cr: ClassicalRegister) -> QuantumCircuit:\n",
    "    # qr is a quantum register with 2 qubits\n",
    "    # cr is a classical register with 3 bits\n",
    "    \n",
    "    qc = QuantumCircuit(qr, cr)\n",
    "    \n",
    "    qc.x(qr[1])\n",
    "\n",
    "    for i in range(3):\n",
    "    \n",
    "        if i > 0:\n",
    "            qc.reset(qr[0])\n",
    "            \n",
    "        qc.h(qr[0])\n",
    "        for j in range(i):\n",
    "            with qc.if_test((cr[j],1)):\n",
    "                qc.p(-2**(j)*np.pi/2**(i), qr[0])\n",
    "\n",
    "        for j in range(2**(3-1-i)):\n",
    "            qc.cp(np.pi/4, qr[0], qr[1]) \n",
    "        qc.h(qr[0])\n",
    "        qc.measure(qr[0], cr[i])\n",
    "    \n",
    "\n",
    "    return qc\n",
    "\n",
    "\n",
    "qr_qk = QuantumRegister(2, \"q\")\n",
    "cr_qk = ClassicalRegister(3, \"c\")\n",
    "\n",
    "qc_qk = t_gate_ipe_circuit(qr_qk, cr_qk)\n",
    "qc_qk.draw(\"mpl\")\n",
    "```\n",
    "::::\n",
    "::::{tab-item} Qibo\n",
    "```python\n",
    "\n",
    "```\n",
    "::::\n",
    ":::::\n"
   ]
  },
  {
   "cell_type": "code",
   "execution_count": 6,
   "id": "b3c50656",
   "metadata": {},
   "outputs": [
    {
     "name": "stderr",
     "output_type": "stream",
     "text": [
      "/home/dcb/Programs/miniconda/miniconda3/envs/qiskit_qibo_penny/lib/python3.11/site-packages/qiskit/visualization/circuit/matplotlib.py:266: FutureWarning: The default matplotlib drawer scheme will be changed to \"iqp\" in a following release. To silence this warning, specify the current default explicitly as style=\"clifford\", or the new default as style=\"iqp\".\n",
      "  self._style, def_font_ratio = load_style(self._style)\n"
     ]
    },
    {
     "data": {
      "image/png": "[encoded data removed]",
      "text/plain": [
       "<Figure size 2210.35x618.722 with 1 Axes>"
      ]
     },
     "execution_count": 6,
     "metadata": {},
     "output_type": "execute_result"
    }
   ],
   "metadata": {
    "tags": [
     "remove_input"
    ]
   },
   "source": [
    "'''Qiskit_code_cell'''\n",
    "def t_gate_ipe_circuit(qr: QuantumRegister, cr: ClassicalRegister) -> QuantumCircuit:\n",
    "    # qr is a quantum register with 2 qubits\n",
    "    # cr is a classical register with 3 bits\n",
    "    \n",
    "    qc = QuantumCircuit(qr, cr)\n",
    "    \n",
    "    qc.x(qr[1])\n",
    "\n",
    "    for i in range(3):\n",
    "    \n",
    "        if i > 0:\n",
    "            qc.reset(qr[0])\n",
    "            \n",
    "        qc.h(qr[0])\n",
    "        for j in range(i):\n",
    "            with qc.if_test((cr[j],1)):\n",
    "                qc.p(-2**(j)*np.pi/2**(i), qr[0])\n",
    "\n",
    "        for j in range(2**(3-1-i)):\n",
    "            qc.cp(np.pi/4, qr[0], qr[1]) \n",
    "        qc.h(qr[0])\n",
    "        qc.measure(qr[0], cr[i])\n",
    "    \n",
    "\n",
    "    return qc\n",
    "\n",
    "\n",
    "qr_qk = QuantumRegister(2, \"q\")\n",
    "cr_qk = ClassicalRegister(3, \"c\")\n",
    "\n",
    "qc_qk = t_gate_ipe_circuit(qr_qk, cr_qk)\n",
    "qc_qk.draw(\"mpl\")"
   ]
  },
  {
   "cell_type": "markdown",
   "id": "53f0a499",
   "metadata": {},
   "source": [
    "Hacemos la simulación:"
   ]
  },
  {
   "cell_type": "markdown",
   "metadata": {},
   "source": [
    ":::::{tab-set}\n",
    "::::{tab-item} Qiskit\n",
    "```python\n",
    "",
    "sim_qk = AerSimulator()\n",
    "job_qk = sim_qk.run(qc_qk, shots=1000)\n",
    "result_qk = job_qk.result()\n",
    "counts_qk = result_qk.get_counts()\n",
    "counts_qk\n",
    "```\n",
    "::::\n",
    "::::{tab-item} Qibo\n",
    "```python\n",
    "\n",
    "```\n",
    "::::\n",
    ":::::\n"
   ]
  },
  {
   "cell_type": "code",
   "execution_count": 7,
   "id": "570c42da",
   "metadata": {},
   "outputs": [
    {
     "data": {
      "text/plain": [
       "{'001': 1000}"
      ]
     },
     "execution_count": 7,
     "metadata": {},
     "output_type": "execute_result"
    }
   ],
   "metadata": {
    "tags": [
     "remove_input"
    ]
   },
   "source": [
    "'''Qiskit_code_cell'''\n",
    "sim_qk = AerSimulator()\n",
    "job_qk = sim_qk.run(qc_qk, shots=1000)\n",
    "result_qk = job_qk.result()\n",
    "counts_qk = result_qk.get_counts()\n",
    "counts_qk"
   ]
  },
  {
   "cell_type": "markdown",
   "id": "85984fd1",
   "metadata": {},
   "source": [
    "(sec_FTA_IPE_fase_no_exacta)= \n",
    "## Fase con expansión binaria no exacta"
   ]
  },
  {
   "cell_type": "markdown",
   "id": "b6bf3893",
   "metadata": {},
   "source": [
    "Consideremos el caso cuando la fase no tiene una expansión binaria exacta, por ejemplo, $\\varphi = 1/3$.\n",
    "En este caso, la compuerta de un solo qubit tiene la matriz unitaria\n",
    "\n",
    "$$ U =\n",
    "\\begin{pmatrix}\n",
    "1 & 0\\\\\n",
    "0 & e^{i2\\pi / 3}\n",
    "\\end{pmatrix}\n",
    "$$\n",
    "\n",
    "El ángulo $\\varphi = 1/3$ no tiene una expansión binaria finita exacta. Por el contrario, tiene la expansión binaria infinita\n",
    "\n",
    "$$\n",
    "1/3 = 0.010101\\ldots\n",
    "$$\n",
    "\n",
    "En la práctica trabajamos con un número fijo de bits de precisión, por lo que nuestro objetivo es obtener el valor más cercano que se pueda representar con esos bits. En el siguiente ejemplo, usaremos dos bits de precisión. En este caso, el valor más cercano es $0.01 = 1/4$. Debido a que este valor no representa la fase exacta, existe cierta probabilidad de que obtengamos un resultado diferente y menos preciso."
   ]
  },
  {
   "cell_type": "markdown",
   "metadata": {},
   "source": [
    ":::::{tab-set}\n",
    "::::{tab-item} Qiskit\n",
    "```python\n",
    "",
    "def u_circuit(qr: QuantumRegister, cr: ClassicalRegister) -> QuantumCircuit:\n",
    "    # qr is a quantum register with 2 qubits\n",
    "    # cr is a classical register with 2 bits\n",
    "\n",
    "    qc = QuantumCircuit(qr, cr)\n",
    "\n",
    "    # Initialization\n",
    "    q0, q1 = qr\n",
    "    qc.h(q0)\n",
    "    qc.x(q1)\n",
    "\n",
    "    # Apply control-U operator as many times as needed to get the least significant phase bit\n",
    "    u_angle = np.pi / 3\n",
    "    k = 1\n",
    "    cphase_angle = u_angle * 2**k\n",
    "    qc.cp(cphase_angle, q0, q1)\n",
    "\n",
    "    # Measure the auxiliary qubit in x-basis into the first classical bit\n",
    "    qc.h(q0)\n",
    "    c0, c1 = cr\n",
    "    qc.measure(q0, c0)\n",
    "\n",
    "    # Reset and re-initialize the auxiliary qubit\n",
    "    qc.reset(q0)\n",
    "    qc.h(q0)\n",
    "\n",
    "    # Apply phase correction conditioned on the first classical bit\n",
    "    with qc.if_test((c0, 1)):\n",
    "        qc.p(-np.pi / 2, q0)\n",
    "\n",
    "    # Apply control-U operator as many times as needed to get the next phase bit\n",
    "    k = 0\n",
    "    cphase_angle = u_angle * 2**k\n",
    "    qc.cp(cphase_angle, q0, q1)\n",
    "\n",
    "    # Measure the auxiliary qubit in x-basis into the second classical bit\n",
    "    qc.h(q0)\n",
    "    qc.measure(q0, c1)\n",
    "\n",
    "    return qc\n",
    "\n",
    "\n",
    "qr_qk = QuantumRegister(2, \"q\")\n",
    "cr_qk = ClassicalRegister(2, \"c\")\n",
    "qc_qk = QuantumCircuit(qr_qk, cr_qk)\n",
    "qc_qk = u_circuit(qr_qk, cr_qk)\n",
    "qc_qk.draw(\"mpl\")\n",
    "```\n",
    "::::\n",
    "::::{tab-item} Qibo\n",
    "```python\n",
    "\n",
    "```\n",
    "::::\n",
    ":::::\n"
   ]
  },
  {
   "cell_type": "code",
   "execution_count": 8,
   "id": "1682ee0a",
   "metadata": {},
   "outputs": [
    {
     "data": {
      "image/png": "[encoded data removed]",
      "text/plain": [
       "<Figure size 1207.02x284.278 with 1 Axes>"
      ]
     },
     "execution_count": 8,
     "metadata": {},
     "output_type": "execute_result"
    }
   ],
   "metadata": {
    "tags": [
     "remove_input"
    ]
   },
   "source": [
    "'''Qiskit_code_cell'''\n",
    "def u_circuit(qr: QuantumRegister, cr: ClassicalRegister) -> QuantumCircuit:\n",
    "    # qr is a quantum register with 2 qubits\n",
    "    # cr is a classical register with 2 bits\n",
    "\n",
    "    qc = QuantumCircuit(qr, cr)\n",
    "\n",
    "    # Initialization\n",
    "    q0, q1 = qr\n",
    "    qc.h(q0)\n",
    "    qc.x(q1)\n",
    "\n",
    "    # Apply control-U operator as many times as needed to get the least significant phase bit\n",
    "    u_angle = np.pi / 3\n",
    "    k = 1\n",
    "    cphase_angle = u_angle * 2**k\n",
    "    qc.cp(cphase_angle, q0, q1)\n",
    "\n",
    "    # Measure the auxiliary qubit in x-basis into the first classical bit\n",
    "    qc.h(q0)\n",
    "    c0, c1 = cr\n",
    "    qc.measure(q0, c0)\n",
    "\n",
    "    # Reset and re-initialize the auxiliary qubit\n",
    "    qc.reset(q0)\n",
    "    qc.h(q0)\n",
    "\n",
    "    # Apply phase correction conditioned on the first classical bit\n",
    "    with qc.if_test((c0, 1)):\n",
    "        qc.p(-np.pi / 2, q0)\n",
    "\n",
    "    # Apply control-U operator as many times as needed to get the next phase bit\n",
    "    k = 0\n",
    "    cphase_angle = u_angle * 2**k\n",
    "    qc.cp(cphase_angle, q0, q1)\n",
    "\n",
    "    # Measure the auxiliary qubit in x-basis into the second classical bit\n",
    "    qc.h(q0)\n",
    "    qc.measure(q0, c1)\n",
    "\n",
    "    return qc\n",
    "\n",
    "\n",
    "qr_qk = QuantumRegister(2, \"q\")\n",
    "cr_qk = ClassicalRegister(2, \"c\")\n",
    "qc_qk = QuantumCircuit(qr_qk, cr_qk)\n",
    "qc_qk = u_circuit(qr_qk, cr_qk)\n",
    "qc_qk.draw(\"mpl\")"
   ]
  },
  {
   "cell_type": "markdown",
   "id": "9b74837c",
   "metadata": {},
   "source": [
    "Simulemos"
   ]
  },
  {
   "cell_type": "markdown",
   "metadata": {},
   "source": [
    ":::::{tab-set}\n",
    "::::{tab-item} Qiskit\n",
    "```python\n",
    "",
    "from qiskit_aer import AerSimulator\n",
    "\n",
    "sim_qk = AerSimulator()\n",
    "job_qk = sim_qk.run(qc_qk, shots=1000)\n",
    "result_qk = job_qk.result()\n",
    "counts_qk = result_qk.get_counts()\n",
    "print(counts_qk)\n",
    "success_probability_qk = counts_qk[\"01\"] / counts_qk.shots()\n",
    "print(f\"Success probability: {success_probability_qk}\")\n",
    "```\n",
    "::::\n",
    "::::{tab-item} Qibo\n",
    "```python\n",
    "\n",
    "```\n",
    "::::\n",
    ":::::\n"
   ]
  },
  {
   "cell_type": "code",
   "execution_count": 10,
   "id": "2dbf4710",
   "metadata": {},
   "outputs": [
    {
     "name": "stdout",
     "output_type": "stream",
     "text": [
      "{'11': 60, '10': 59, '00': 196, '01': 685}\n",
      "Success probability: 0.685\n"
     ]
    }
   ],
   "metadata": {
    "tags": [
     "remove_input"
    ]
   },
   "source": [
    "'''Qiskit_code_cell'''\n",
    "from qiskit_aer import AerSimulator\n",
    "\n",
    "sim_qk = AerSimulator()\n",
    "job_qk = sim_qk.run(qc_qk, shots=1000)\n",
    "result_qk = job_qk.result()\n",
    "counts_qk = result_qk.get_counts()\n",
    "print(counts_qk)\n",
    "success_probability_qk = counts_qk[\"01\"] / counts_qk.shots()\n",
    "print(f\"Success probability: {success_probability_qk}\")"
   ]
  },
  {
   "cell_type": "markdown",
   "id": "04a934a2",
   "metadata": {},
   "source": [
    "Como puedes ver, esta vez, no tenemos garatía de obtener el resultado deseado. Una pregunta natural es: ¿Cómo podemos aumentar la probabilidad de éxito?\n",
    "\n",
    "Una forma en que el algoritmo falla es que el primer bit medido es incorrecto. En este caso, la corrección de fase aplicada antes de medir el segundo bit también es incorrecta, lo que hace que el resto de los bits también sean incorrectos. Una forma sencilla de mitigar este problema es repetir la medición de los primeros bits varias veces y obtener un voto mayoritario para aumentar la probabilidad de que midamos el bit correctamente. La implementación de este procedimiento dentro de un solo circuito requiere realizar aritmética en los resultados medidos. Debido a una limitación temporal en Qiskit, actualmente no es posible realizar operaciones aritméticas en bits medidos y condicionar futuras operaciones de circuito en los resultados. Entonces, aquí mediremos cada bit usando circuitos separados.\n",
    "\n",
    "Las siguientes celdas de código construyen y simulan un circuito IPE para medir solo el primer bit de la fase."
   ]
  },
  {
   "cell_type": "markdown",
   "metadata": {},
   "source": [
    ":::::{tab-set}\n",
    "::::{tab-item} Qiskit\n",
    "```python\n",
    "",
    "def u_circuit(qr: QuantumRegister, cr: ClassicalRegister) -> QuantumCircuit:\n",
    "    # qr is a quantum register with 2 qubits\n",
    "    # cr is a classical register with 1 bits\n",
    "\n",
    "    qc = QuantumCircuit(qr, cr)\n",
    "\n",
    "    # Initialization\n",
    "    q0, q1 = qr\n",
    "    qc.h(q0)\n",
    "    qc.x(q1)\n",
    "\n",
    "    # Apply control-U operator as many times as needed to get the least significant phase bit\n",
    "    u_angle = np.pi / 3\n",
    "    k = 1\n",
    "    cphase_angle = u_angle * 2**k\n",
    "    qc.cp(cphase_angle, q0, q1)\n",
    "\n",
    "    # Measure the auxiliary qubit in x-basis\n",
    "    qc.h(q0)\n",
    "    (c0,) = cr\n",
    "    qc.measure(q0, c0)\n",
    "\n",
    "    return qc\n",
    "\n",
    "\n",
    "qr_qk = QuantumRegister(2, \"q\")\n",
    "cr_qk = ClassicalRegister(1, \"c\")\n",
    "\n",
    "qc_qk = u_circuit(qr_qk, cr_qk)\n",
    "qc_qk.draw(\"mpl\")\n",
    "```\n",
    "::::\n",
    "::::{tab-item} Qibo\n",
    "```python\n",
    "\n",
    "```\n",
    "::::\n",
    ":::::\n"
   ]
  },
  {
   "cell_type": "code",
   "execution_count": 11,
   "id": "9b40572b",
   "metadata": {},
   "outputs": [
    {
     "data": {
      "image/png": "[encoded data removed]",
      "text/plain": [
       "<Figure size 538.128x284.278 with 1 Axes>"
      ]
     },
     "execution_count": 11,
     "metadata": {},
     "output_type": "execute_result"
    }
   ],
   "metadata": {
    "tags": [
     "remove_input"
    ]
   },
   "source": [
    "'''Qiskit_code_cell'''\n",
    "def u_circuit(qr: QuantumRegister, cr: ClassicalRegister) -> QuantumCircuit:\n",
    "    # qr is a quantum register with 2 qubits\n",
    "    # cr is a classical register with 1 bits\n",
    "\n",
    "    qc = QuantumCircuit(qr, cr)\n",
    "\n",
    "    # Initialization\n",
    "    q0, q1 = qr\n",
    "    qc.h(q0)\n",
    "    qc.x(q1)\n",
    "\n",
    "    # Apply control-U operator as many times as needed to get the least significant phase bit\n",
    "    u_angle = np.pi / 3\n",
    "    k = 1\n",
    "    cphase_angle = u_angle * 2**k\n",
    "    qc.cp(cphase_angle, q0, q1)\n",
    "\n",
    "    # Measure the auxiliary qubit in x-basis\n",
    "    qc.h(q0)\n",
    "    (c0,) = cr\n",
    "    qc.measure(q0, c0)\n",
    "\n",
    "    return qc\n",
    "\n",
    "\n",
    "qr_qk = QuantumRegister(2, \"q\")\n",
    "cr_qk = ClassicalRegister(1, \"c\")\n",
    "\n",
    "qc_qk = u_circuit(qr_qk, cr_qk)\n",
    "qc_qk.draw(\"mpl\")"
   ]
  },
  {
   "cell_type": "markdown",
   "id": "9d7fded8",
   "metadata": {},
   "source": [
    "Simulemos"
   ]
  },
  {
   "cell_type": "markdown",
   "metadata": {},
   "source": [
    ":::::{tab-set}\n",
    "::::{tab-item} Qiskit\n",
    "```python\n",
    "",
    "job_qk = sim_qk.run(qc_qk, shots=1000)\n",
    "result_qk = job_qk.result()\n",
    "counts_qk = result_qk.get_counts()\n",
    "print(counts_qk)\n",
    "```\n",
    "::::\n",
    "::::{tab-item} Qibo\n",
    "```python\n",
    "\n",
    "```\n",
    "::::\n",
    ":::::\n"
   ]
  },
  {
   "cell_type": "code",
   "execution_count": 13,
   "id": "9f08efbe",
   "metadata": {},
   "outputs": [
    {
     "name": "stdout",
     "output_type": "stream",
     "text": [
      "{'0': 243, '1': 757}\n"
     ]
    }
   ],
   "metadata": {
    "tags": [
     "remove_input"
    ]
   },
   "source": [
    "'''Qiskit_code_cell'''\n",
    "job_qk = sim_qk.run(qc_qk, shots=1000)\n",
    "result_qk = job_qk.result()\n",
    "counts_qk = result_qk.get_counts()\n",
    "print(counts_qk)"
   ]
  },
  {
   "cell_type": "markdown",
   "id": "0e3533d2",
   "metadata": {},
   "source": [
    "Con suerte, el bit correcto se midió la mayoría de las veces. Veamos cual fue el más medido:"
   ]
  },
  {
   "cell_type": "markdown",
   "metadata": {},
   "source": [
    ":::::{tab-set}\n",
    "::::{tab-item} Qiskit\n",
    "```python\n",
    "",
    "\n",
    "keys_qk   = counts_qk.keys()\n",
    "values_qk = counts_qk.values()\n",
    "\n",
    "zip_list_qk = zip(keys_qk, values_qk)\n",
    "zip_sorted_qk = list(sorted(zip_list_qk, key = lambda x: -x[1]))\n",
    "keys_qk, values_qk = zip(*list(zip_sorted_qk))\n",
    "\n",
    "step1_bit_qk = eval(keys_qk[0])\n",
    "\n",
    "print(step1_bit_qk)\n",
    "```\n",
    "::::\n",
    "::::{tab-item} Qibo\n",
    "```python\n",
    "\n",
    "```\n",
    "::::\n",
    ":::::\n"
   ]
  },
  {
   "cell_type": "code",
   "execution_count": 15,
   "id": "6dc398f0",
   "metadata": {},
   "outputs": [
    {
     "name": "stdout",
     "output_type": "stream",
     "text": [
      "1\n"
     ]
    }
   ],
   "metadata": {
    "tags": [
     "remove_input"
    ]
   },
   "source": [
    "'''Qiskit_code_cell'''\n",
    "\n",
    "keys_qk   = counts_qk.keys()\n",
    "values_qk = counts_qk.values()\n",
    "\n",
    "zip_list_qk = zip(keys_qk, values_qk)\n",
    "zip_sorted_qk = list(sorted(zip_list_qk, key = lambda x: -x[1]))\n",
    "keys_qk, values_qk = zip(*list(zip_sorted_qk))\n",
    "\n",
    "step1_bit_qk = eval(keys_qk[0])\n",
    "\n",
    "print(step1_bit_qk)"
   ]
  },
  {
   "cell_type": "markdown",
   "id": "5c5f9c55",
   "metadata": {},
   "source": [
    "Ahora construyamos el circuito para medir el segundo bit de la fase. Reemplazemos la primera etapa del circuito con una que simplemente establezca el bit auxiliar en el valor que medimos anteriormente, de modo que siempre midamos el valor correcto para el primer bit de la fase."
   ]
  },
  {
   "cell_type": "markdown",
   "metadata": {},
   "source": [
    ":::::{tab-set}\n",
    "::::{tab-item} Qiskit\n",
    "```python\n",
    "",
    "def u_circuit(qr: QuantumRegister, cr: ClassicalRegister, step1_bit : int) -> QuantumCircuit:\n",
    "    # qr is a quantum register with 2 qubits\n",
    "    # cr is a classical register with 2 bits\n",
    "\n",
    "    qc = QuantumCircuit(qr, cr)\n",
    "    \n",
    "    if step1_bit == 1:\n",
    "        qc.x(qr[0])\n",
    "        qc.measure(qr[0], cr[0])\n",
    "        qc.x(qr[0])\n",
    "    else:\n",
    "        qc.measure(qr[0], cr[0])\n",
    "\n",
    "    \n",
    "    qc.h(qr[0])\n",
    "    qc.x(qr[1])\n",
    "\n",
    "    with qc.if_test((cr[0], 1)):\n",
    "        qc.p(-np.pi/2, qr[0])\n",
    "        \n",
    "    # Apply control-U operator as many times as needed to get the least significant phase bit\n",
    "    u_angle = np.pi / 3\n",
    "    k = 0\n",
    "    cphase_angle = u_angle * 2**k\n",
    "    qc.cp(cphase_angle, qr[0], qr[1])\n",
    "\n",
    "    # Measure the auxiliary qubit in x-basis\n",
    "    qc.h(qr[0])\n",
    "    qc.measure(qr[0], cr[1])\n",
    "\n",
    "    return qc\n",
    "\n",
    "\n",
    "qr_qk = QuantumRegister(2, \"q\")\n",
    "cr_qk = ClassicalRegister(2, \"c\")\n",
    "\n",
    "qc_qk = u_circuit(qr_qk, cr_qk, step1_bit_qk)\n",
    "qc_qk.draw(\"mpl\")\n",
    "```\n",
    "::::\n",
    "::::{tab-item} Qibo\n",
    "```python\n",
    "\n",
    "```\n",
    "::::\n",
    ":::::\n"
   ]
  },
  {
   "cell_type": "code",
   "execution_count": 17,
   "id": "07c97237",
   "metadata": {},
   "outputs": [
    {
     "data": {
      "image/png": "[encoded data removed]",
      "text/plain": [
       "<Figure size 956.183x284.278 with 1 Axes>"
      ]
     },
     "execution_count": 17,
     "metadata": {},
     "output_type": "execute_result"
    }
   ],
   "metadata": {
    "tags": [
     "remove_input"
    ]
   },
   "source": [
    "'''Qiskit_code_cell'''\n",
    "def u_circuit(qr: QuantumRegister, cr: ClassicalRegister, step1_bit : int) -> QuantumCircuit:\n",
    "    # qr is a quantum register with 2 qubits\n",
    "    # cr is a classical register with 2 bits\n",
    "\n",
    "    qc = QuantumCircuit(qr, cr)\n",
    "    \n",
    "    if step1_bit == 1:\n",
    "        qc.x(qr[0])\n",
    "        qc.measure(qr[0], cr[0])\n",
    "        qc.x(qr[0])\n",
    "    else:\n",
    "        qc.measure(qr[0], cr[0])\n",
    "\n",
    "    \n",
    "    qc.h(qr[0])\n",
    "    qc.x(qr[1])\n",
    "\n",
    "    with qc.if_test((cr[0], 1)):\n",
    "        qc.p(-np.pi/2, qr[0])\n",
    "        \n",
    "    # Apply control-U operator as many times as needed to get the least significant phase bit\n",
    "    u_angle = np.pi / 3\n",
    "    k = 0\n",
    "    cphase_angle = u_angle * 2**k\n",
    "    qc.cp(cphase_angle, qr[0], qr[1])\n",
    "\n",
    "    # Measure the auxiliary qubit in x-basis\n",
    "    qc.h(qr[0])\n",
    "    qc.measure(qr[0], cr[1])\n",
    "\n",
    "    return qc\n",
    "\n",
    "\n",
    "qr_qk = QuantumRegister(2, \"q\")\n",
    "cr_qk = ClassicalRegister(2, \"c\")\n",
    "\n",
    "qc_qk = u_circuit(qr_qk, cr_qk, step1_bit_qk)\n",
    "qc_qk.draw(\"mpl\")"
   ]
  },
  {
   "cell_type": "markdown",
   "id": "15da2ff8",
   "metadata": {},
   "source": [
    "Simulemos"
   ]
  },
  {
   "cell_type": "markdown",
   "metadata": {},
   "source": [
    ":::::{tab-set}\n",
    "::::{tab-item} Qiskit\n",
    "```python\n",
    "",
    "sim_qk = AerSimulator()\n",
    "job_qk = sim_qk.run(qc_qk, shots=1000)\n",
    "result_qk = job_qk.result()\n",
    "counts_qk = result_qk.get_counts()\n",
    "print(counts_qk)\n",
    "success_probability_qk = counts_qk[\"01\"] / counts_qk.shots()\n",
    "print(f\"Success probability: {success_probability_qk}\")\n",
    "```\n",
    "::::\n",
    "::::{tab-item} Qibo\n",
    "```python\n",
    "\n",
    "```\n",
    "::::\n",
    ":::::\n"
   ]
  },
  {
   "cell_type": "code",
   "execution_count": 18,
   "id": "7254e8a0",
   "metadata": {},
   "outputs": [
    {
     "name": "stdout",
     "output_type": "stream",
     "text": [
      "{'11': 58, '01': 942}\n",
      "Success probability: 0.942\n"
     ]
    }
   ],
   "metadata": {
    "tags": [
     "remove_input"
    ]
   },
   "source": [
    "'''Qiskit_code_cell'''\n",
    "sim_qk = AerSimulator()\n",
    "job_qk = sim_qk.run(qc_qk, shots=1000)\n",
    "result_qk = job_qk.result()\n",
    "counts_qk = result_qk.get_counts()\n",
    "print(counts_qk)\n",
    "success_probability_qk = counts_qk[\"01\"] / counts_qk.shots()\n",
    "print(f\"Success probability: {success_probability_qk}\")"
   ]
  },
  {
   "cell_type": "markdown",
   "id": "2486ed99",
   "metadata": {},
   "source": [
    "::::::{admonition} Nota (Precisión) \n",
    ":class: note\n",
    "\n",
    "\n",
    "\n",
    "Vemos que el resultado sigue sin ser muy bueno, pero es el que esperabamos $1/4$. Podemos mejorar la precisión de este valor aumentando el número de qúbit que usamos, de dos a tres, cuatro,...\n",
    "::::::\n"
   ]
  },
  {
   "cell_type": "markdown",
   "id": "ebeb3d51",
   "metadata": {},
   "source": [
    "---\n",
    "## Bibliografía \n",
    "```{bibliography} \n",
    ":style: plain\n",
    ":filter: docname in docnames\n",
    "```",
    "",
    "",
    "",
    "",
    "",
    ""
   ]
  },
  {
   "cell_type": "markdown",
   "id": "76cdb4b2",
   "metadata": {},
   "source": [
    "---\n",
    "Autores:\n",
    "\n",
    "David Castaño ([UMA-SCBI](https://www.scbi.uma.es/site/)), Raul Fuentes ([BSC-CNS](https://www.bsc.es/es)), Daniel Talaván  ([Cenits](https://www.cenits.es/)), Francisco Matanza ([UNICAN](https://web.unican.es/))\n",
    "\n",
    "<img src=\"images/Logo_UMA.jpeg\"  width=\"180px\"> \n",
    "<img src=\"images/BSC-blue-medium.png\" width=\"180px\">\n",
    "<img src=\"images/xaniversario_rectangle.jpg\" width=\"180px\">\n",
    "<img src=\"images/Logo_UNICAM.jpg\" width=\"180px\">\n",
    "\n",
    "---\n",
    "::::{figure} https://quantumspain-project.es/wp-content/uploads/2022/11/Logo_QS_EspanaDigital.png\n",
    ":width: 2000px\n",
    ":align: center\n",
    "::::\n",
    "\n",
    "<center>\n",
    "<a rel=\"license\" href=\"http://creativecommons.org/licenses/by-sa/4.0/\">\n",
    "<img aling=\"left\" alt=\"Licencia Creative Commons\" style=\"border-width:0\" src=\"https://i.creativecommons.org/l/by-sa/4.0/88x31.png\" /></a>\n",
    "</center>\n",
    "\n",
    "License: <a rel=\"license\" href=\"http://creativecommons.org/licenses/by-sa/4.0/\">Licencia Creative Commons Atribución-CompartirIgual 4.0 Internacional</a>.\n",
    "\n",
    "This work has been financially supported by the Ministry for Digital Transformation and of Civil Service of the Spanish Government through the QUANTUM ENIA project call - Quantum Spain project, and by the European Union through the Recovery, Transformation and Resilience Plan - NextGenerationEU within the framework of the Digital Spain 2026 Agenda.\n",
    "\n",
    "<center>\n",
    "<img align=\"left\" src=\"https://quantumspain-project.es/wp-content/uploads/2024/02/Banner-QS_GOB_v2.png\" width=\"1000px\" />\n",
    "</center>"
   ]
  }
 ],
 "metadata": {
  "celltoolbar": "Tags",
  "kernelspec": {
   "display_name": "Python 3 (ipykernel)",
   "language": "python",
   "name": "python3"
  },
  "language_info": {
   "codemirror_mode": {
    "name": "ipython",
    "version": 3
   },
   "file_extension": ".py",
   "mimetype": "text/x-python",
   "name": "python",
   "nbconvert_exporter": "python",
   "pygments_lexer": "ipython3",
   "version": "3.11.7"
  },
  "toc": {
   "base_numbering": 1,
   "nav_menu": {},
   "number_sections": false,
   "sideBar": true,
   "skip_h1_title": true,
   "title_cell": "Table of Contents",
   "title_sidebar": "Contents",
   "toc_cell": false,
   "toc_position": {},
   "toc_section_display": true,
   "toc_window_display": false
  }
 },
 "nbformat": 4,
 "nbformat_minor": 5
}
